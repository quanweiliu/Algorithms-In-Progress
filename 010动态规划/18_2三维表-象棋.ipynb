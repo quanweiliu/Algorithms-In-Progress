{
 "cells": [
  {
   "cell_type": "markdown",
   "metadata": {},
   "source": [
    "# 暴力递归\n",
    "- The 35th minutes  \n",
    "\n",
    "问：中国象棋马走棋盘，从（0，0）位置开始，k步走到（a, b）的方法数。"
   ]
  },
  {
   "cell_type": "code",
   "execution_count": 1,
   "metadata": {},
   "outputs": [],
   "source": [
    "class HorseJump():\n",
    "    def getWays(self, x, y, k):\n",
    "        return self.process(x, y, k)\n",
    "\n",
    "    # 隐含从 （0，0）位置出发的假设\n",
    "    def process(self, x, y, step):\n",
    "        # 越界了\n",
    "        if x < 0 or x > 8 or  y < 0 or y > 9:\n",
    "            return 0\n",
    "\n",
    "        # # 跳完了，不能动了\n",
    "        # if step == 0:\n",
    "        #     # 如果目的地是 0，0，就有一种方法\n",
    "        #     if x == 0 and y == 0:\n",
    "        #         return 1\n",
    "        #     else:\n",
    "        #         return 0\n",
    "        if step == 0 and x == 0 and y == 0:\n",
    "            return 1\n",
    "        elif step == 0:\n",
    "            return 0\n",
    "\n",
    "        # 不越界，又可以跳\n",
    "        return (self.process(x - 1, y + 2, step - 1) \n",
    "                + self.process(x + 1, y + 2, step - 1)\n",
    "                + self.process(x + 2, y + 1, step - 1)\n",
    "                + self.process(x + 2, y - 1, step - 1)\n",
    "                + self.process(x + 1, y - 2, step - 1)\n",
    "                + self.process(x - 1, y - 2, step - 1)\n",
    "                + self.process(x - 2, y - 1, step - 1)\n",
    "                + self.process(x - 2, y + 1, step - 1))"
   ]
  },
  {
   "cell_type": "code",
   "execution_count": 2,
   "metadata": {},
   "outputs": [
    {
     "data": {
      "text/plain": [
       "861098"
      ]
     },
     "execution_count": 2,
     "metadata": {},
     "output_type": "execute_result"
    }
   ],
   "source": [
    "s = HorseJump()\n",
    "# s.getWays(7,7,10)\n",
    "s.getWays(6,6,10)"
   ]
  },
  {
   "cell_type": "markdown",
   "metadata": {},
   "source": [
    "# 动态规划"
   ]
  },
  {
   "cell_type": "code",
   "execution_count": 3,
   "metadata": {},
   "outputs": [],
   "source": [
    "class HorseJump():\n",
    "    # 隐含从 （0，0）位置出发的假设\n",
    "    def process(self, x, y, step):\n",
    "        # 越界了\n",
    "        if x < 0 or x > 8 or  y < 0 or y > 9:\n",
    "            return 0\n",
    "\n",
    "        dp = [[[0 for k in range(step+1)] for i in range(10)] for j in range(9)]\n",
    "        dp[0][0][0] = 1\n",
    "\n",
    "        # 从 1 层开始\n",
    "        for h in range(step+1):\n",
    "            for r in range(9):\n",
    "                for c in range(10):\n",
    "                    dp[r][c][h] += self.getValue(dp, r - 1, c + 2, h - 1) \n",
    "                    dp[r][c][h] += self.getValue(dp, r + 1, c + 2, h - 1)\n",
    "                    dp[r][c][h] += self.getValue(dp, r + 2, c + 1, h - 1)\n",
    "                    dp[r][c][h] += self.getValue(dp, r + 2, c - 1, h - 1)\n",
    "                    dp[r][c][h] += self.getValue(dp, r + 1, c - 2, h - 1)\n",
    "                    dp[r][c][h] += self.getValue(dp, r - 1, c - 2, h - 1)\n",
    "                    dp[r][c][h] += self.getValue(dp, r - 2, c - 1, h - 1)\n",
    "                    dp[r][c][h] += self.getValue(dp, r - 2, c + 1, h - 1)\n",
    "        return dp[x][y][step]\n",
    "\n",
    "    def getValue(self, dp, row, col, step):\n",
    "        if row < 0 or row > 8 or col < 0 or col > 9:\n",
    "            return 0\n",
    "        return dp[row][col][step]"
   ]
  },
  {
   "cell_type": "code",
   "execution_count": 4,
   "metadata": {},
   "outputs": [
    {
     "data": {
      "text/plain": [
       "861098"
      ]
     },
     "execution_count": 4,
     "metadata": {},
     "output_type": "execute_result"
    }
   ],
   "source": [
    "s = HorseJump()\n",
    "# s.process(7,7,10)\n",
    "s.process(6,6,10)"
   ]
  },
  {
   "cell_type": "code",
   "execution_count": null,
   "metadata": {},
   "outputs": [],
   "source": []
  },
  {
   "cell_type": "code",
   "execution_count": null,
   "metadata": {},
   "outputs": [],
   "source": []
  }
 ],
 "metadata": {
  "kernelspec": {
   "display_name": "Python 3.8.6 ('tensorflow2')",
   "language": "python",
   "name": "python3"
  },
  "language_info": {
   "codemirror_mode": {
    "name": "ipython",
    "version": 3
   },
   "file_extension": ".py",
   "mimetype": "text/x-python",
   "name": "python",
   "nbconvert_exporter": "python",
   "pygments_lexer": "ipython3",
   "version": "3.8.6"
  },
  "orig_nbformat": 4,
  "vscode": {
   "interpreter": {
    "hash": "85c51a4259275393737ca8d3e0cd6fa489554cf4913552085d5553b62ac22de5"
   }
  }
 },
 "nbformat": 4,
 "nbformat_minor": 2
}
