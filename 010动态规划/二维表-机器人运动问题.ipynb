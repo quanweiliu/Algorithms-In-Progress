{
 "cells": [
  {
   "cell_type": "markdown",
   "metadata": {},
   "source": [
    "# 出自阿里巴巴面试\n",
    "- 机器人随机运动\n",
    "- 总长度 N, \n",
    "- 起点 S, 终点 E, \n",
    "- 中间过程数 k\n",
    "- 问：走k步,不能停，从 s 到 e 有多少种走法？\n",
    "\n",
    "- https://www.bilibili.com/video/BV13g41157hK?p=17&share_source=copy_web"
   ]
  },
  {
   "cell_type": "markdown",
   "metadata": {},
   "source": [
    "# 暴力递归"
   ]
  },
  {
   "cell_type": "code",
   "execution_count": 5,
   "metadata": {},
   "outputs": [],
   "source": [
    "# 时间复杂度 O(2*k)\n",
    "class RobotMove():\n",
    "    \n",
    "    # 前两个固定参数，后面两个是可变参数\n",
    "    def walkWays(self, N, E, S, K):\n",
    "        return self.f(N, E, K, S)\n",
    "\n",
    "    # 尝试的方法，暴力递归\n",
    "    # 总的位置数 N， 目标 E， 剩余步数 rest，当前位置cur\n",
    "    def f(self, N, E, rest, cur):\n",
    "        # base case\n",
    "        if rest == 0:\n",
    "            if cur == E:\n",
    "                return 1\n",
    "            else:\n",
    "                return 0\n",
    "\n",
    "        # 第一个位置\n",
    "        if cur == 1:     # 只能从 1 -> 2\n",
    "            return self.f(N, E, rest-1, 2)\n",
    "\n",
    "        # 最后一个位置\n",
    "        if cur == N:\n",
    "            return self.f(N, E, rest-1, N-1)\n",
    "        \n",
    "        # 中间位置\n",
    "        return self.f(N, E, rest-1, cur-1,) + self.f(N, E, rest - 1, cur+1)"
   ]
  },
  {
   "cell_type": "code",
   "execution_count": 7,
   "metadata": {},
   "outputs": [
    {
     "data": {
      "text/plain": [
       "4"
      ]
     },
     "execution_count": 7,
     "metadata": {},
     "output_type": "execute_result"
    }
   ],
   "source": [
    "s = RobotMove()\n",
    "# s.walkWays(10, 5, 1, 10)\n",
    "# 1,2,3,4,5, 从 2 到 4 走 4 步，多少走法？\n",
    "s.walkWays(5, 4, 2, 4)"
   ]
  },
  {
   "cell_type": "markdown",
   "metadata": {},
   "source": [
    "# 分析\n",
    "```\n",
    "f(4,2)\n",
    "\n",
    "f(3,1)       f(3,3)\n",
    "f(2,2)     f(2,2)f(2,4)      # f(2,2) 重复计算了，这是暴力递归不好的地方\n",
    "......\n",
    "```"
   ]
  },
  {
   "cell_type": "markdown",
   "metadata": {},
   "source": [
    "# 记忆化搜素"
   ]
  },
  {
   "cell_type": "code",
   "execution_count": 21,
   "metadata": {},
   "outputs": [],
   "source": [
    "# class RobotMove():\n",
    "    \n",
    "#     # 前两个固定参数，后面两个是可变参数\n",
    "#     def walkWays(self, N, E, S, K):\n",
    "\n",
    "#         # 准备一个二维表\n",
    "#         dp = [[-1 for i in range(N+1)] for j in range(K+1)]\n",
    "\n",
    "#         return self.f(N, E, K, S, dp)\n",
    "\n",
    "#     # 尝试的方法，暴力递归\n",
    "#     # 总的位置数 N， 目标 E， 剩余步数 rest，当前位置cur\n",
    "#     # 带上一个缓存结构\n",
    "#     def f(self, N, E, rest, cur, dp):\n",
    "#         # 如果算过\n",
    "#         if dp[rest][cur] != -1:\n",
    "#             return dp[rest][cur]\n",
    "\n",
    "#         # 没有算过\n",
    "#         if rest == 0:\n",
    "#             if cur == E:\n",
    "#                 dp[rest][cur] = 1\n",
    "#                 return dp[rest][cur]\n",
    "#             else:\n",
    "#                 dp[rest][cur] = 0\n",
    "#                 return dp[rest][cur]\n",
    "\n",
    "#         # 第一个位置\n",
    "#         if cur == 1:     # 只能从 1 -> 2\n",
    "#             dp[rest][cur] = self.f(N, E, rest-1, 2, dp)\n",
    "#             return dp[rest][cur]\n",
    "\n",
    "#         # 最后一个位置\n",
    "#         if cur == N:\n",
    "#             dp[rest][cur] = self.f(N, E, rest-1, N-1, dp)\n",
    "#             return dp[rest][cur]\n",
    "        \n",
    "#         # 中间位置\n",
    "#         dp[rest][cur] = self.f(N, E, rest-1, cur-1, dp) + self.f(N, E, rest - 1, cur+1, dp)\n",
    "#         return dp[rest][cur]"
   ]
  },
  {
   "cell_type": "code",
   "execution_count": 30,
   "metadata": {},
   "outputs": [],
   "source": [
    "# 代码优化， 时间复杂度 O(k*n)\n",
    "class RobotMove():\n",
    "    \n",
    "    # 前两个固定参数，后面两个是可变参数\n",
    "    def walkWays(self, N, E, S, K):\n",
    "\n",
    "        # 准备一个二维表\n",
    "        dp = [[-1 for i in range(N+1)] for j in range(K+1)]\n",
    "        # print(dp)\n",
    "        return self.f(N, E, K, S, dp)\n",
    "\n",
    "    # 尝试的方法，暴力递归\n",
    "    def f(self, N, E, rest, cur, dp):\n",
    "        # 如果算过\n",
    "        if dp[rest][cur] != -1:\n",
    "            return dp[rest][cur]\n",
    "\n",
    "        # 没有算过\n",
    "        if rest == 0:\n",
    "            if cur == E:\n",
    "                dp[rest][cur] = 1\n",
    "                return dp[rest][cur]\n",
    "            else:\n",
    "                dp[rest][cur] = 0\n",
    "                return dp[rest][cur]\n",
    "                \n",
    "        # 各个位置的判别\n",
    "        if cur == 1:     # 只能从 1 -> 2\n",
    "            dp[rest][cur] = self.f(N, E, rest-1, 2, dp)\n",
    "        elif cur == N:\n",
    "            dp[rest][cur] = self.f(N, E, rest-1, N-1, dp)\n",
    "        else:\n",
    "            dp[rest][cur] = self.f(N, E, rest-1, cur-1, dp) + self.f(N, E, rest - 1, cur+1, dp)\n",
    "        return dp[rest][cur]"
   ]
  },
  {
   "cell_type": "code",
   "execution_count": 31,
   "metadata": {},
   "outputs": [
    {
     "name": "stdout",
     "output_type": "stream",
     "text": [
      "[[-1, -1, -1, -1, -1, -1], [-1, -1, -1, -1, -1, -1], [-1, -1, -1, -1, -1, -1], [-1, -1, -1, -1, -1, -1], [-1, -1, -1, -1, -1, -1]]\n"
     ]
    },
    {
     "data": {
      "text/plain": [
       "4"
      ]
     },
     "execution_count": 31,
     "metadata": {},
     "output_type": "execute_result"
    }
   ],
   "source": [
    "s = RobotMove()\n",
    "# s.walkWays(10, 5, 1, 10)\n",
    "# 1,2,3,4,5, 从2到4走4步，多少走法？\n",
    "s.walkWays(5, 4, 2, 4)"
   ]
  },
  {
   "cell_type": "markdown",
   "metadata": {},
   "source": [
    "# 严格二维表\n",
    "|#|0    |1|2|3|4|5|\n",
    "|-|-    |-|-|-|-|-|\n",
    "|rest=0可以直接得到答案|×|0|0|0|1|0|\n",
    "|1|×|第一列依赖右上角的值|#|#|#|最后一个列依赖左上角的值|\n",
    "|2|×|第一列依赖右上角的值|#|#|#|最后一个列依赖左上角的值|\n",
    "|3|×|第一列依赖右上角的值|#|#|#|最后一个列依赖左上角的值|\n",
    "|4|×|第一列依赖右上角的值|目标|中间依赖左右上角|#|最后一个列依赖左上角的值|\n",
    "\n",
    "- 填数字\n",
    "\n",
    "|#|0|1|2|3|4|5|\n",
    "|-|-|-|-|-|-|-|\n",
    "|0|×|0|0|0|1|0|\n",
    "|1|×|0|0|1|0|1|\n",
    "|2|×|0|1|0|2|0|\n",
    "|3|×|1|0|3|0|2|\n",
    "|4|×|0|4| | | |\n"
   ]
  },
  {
   "cell_type": "code",
   "execution_count": null,
   "metadata": {},
   "outputs": [],
   "source": []
  },
  {
   "cell_type": "code",
   "execution_count": null,
   "metadata": {},
   "outputs": [],
   "source": []
  },
  {
   "cell_type": "code",
   "execution_count": null,
   "metadata": {},
   "outputs": [],
   "source": []
  }
 ],
 "metadata": {
  "kernelspec": {
   "display_name": "Python 3.8.6 ('tensorflow2')",
   "language": "python",
   "name": "python3"
  },
  "language_info": {
   "codemirror_mode": {
    "name": "ipython",
    "version": 3
   },
   "file_extension": ".py",
   "mimetype": "text/x-python",
   "name": "python",
   "nbconvert_exporter": "python",
   "pygments_lexer": "ipython3",
   "version": "3.8.6"
  },
  "orig_nbformat": 4,
  "vscode": {
   "interpreter": {
    "hash": "85c51a4259275393737ca8d3e0cd6fa489554cf4913552085d5553b62ac22de5"
   }
  }
 },
 "nbformat": 4,
 "nbformat_minor": 2
}
