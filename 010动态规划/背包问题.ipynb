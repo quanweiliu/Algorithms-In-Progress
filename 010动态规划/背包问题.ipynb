{
 "cells": [
  {
   "cell_type": "markdown",
   "metadata": {},
   "source": [
    "# 递归算法、动态规划算法比较实验\n",
    "https://blog.csdn.net/weixin_44015117/article/details/110671646"
   ]
  },
  {
   "cell_type": "code",
   "execution_count": 1,
   "metadata": {},
   "outputs": [],
   "source": [
    "import time\n",
    "import random\n",
    "from matplotlib.font_manager import FontProperties\n",
    "# import matplotlib\n",
    "# matplotlib.use('TkAgg')\n",
    "import matplotlib.lines as mlines\n",
    "import matplotlib.pyplot as plt"
   ]
  },
  {
   "cell_type": "code",
   "execution_count": 2,
   "metadata": {},
   "outputs": [],
   "source": [
    "# sum: 选择前 i 件物品的价值之和\n",
    "# now_wight: 第 i 件物品的重量\n",
    "# 递归算法的 01 背包问题\n",
    "def rec_bag(sum, now_wight, i, j = 0):\n",
    "    global maxValue         # 初始值为 0\n",
    "    if now_wight > c:       # 超出重量则回退\n",
    "        return\n",
    "    if i == n:              # 已经完成 n 件物品的选择\n",
    "        if sum > maxValue:  # 更新最大价值\n",
    "            maxValue = sum\n",
    "        return\n",
    "    rec_bag(sum + v[i], now_wight + w[i], i + 1, j = 0) # 选这件物品\n",
    "    rec_bag(sum, now_wight, i+1, j = 0)           # 不选这件物品"
   ]
  },
  {
   "cell_type": "code",
   "execution_count": 3,
   "metadata": {},
   "outputs": [
    {
     "name": "stdout",
     "output_type": "stream",
     "text": [
      "背包的容量为: 10\n",
      "物品的体积分别为: [2, 2, 6, 5, 4]\n",
      "物品的价值分别为: [6, 3, 5, 8, 3]\n",
      "递归算法解决01背包问题得到的最大价值： 17\n"
     ]
    }
   ],
   "source": [
    "#算法测试\n",
    "maxValue = 0\n",
    "n=5\n",
    "c=10\n",
    "w=[2,2,6,5,4]\n",
    "v=[6,3,5,8,3]\n",
    "print(\"背包的容量为:\",c)\n",
    "print(\"物品的体积分别为:\",w)\n",
    "print(\"物品的价值分别为:\",v)\n",
    "\n",
    "# 总价值，重量，价值\n",
    "rec_bag(0, 0, 0)\n",
    "print(\"递归算法解决 01 背包问题得到的最大价值：\", maxValue)"
   ]
  },
  {
   "cell_type": "code",
   "execution_count": null,
   "metadata": {},
   "outputs": [],
   "source": [
    "# n: 物品的数量\n",
    "# c: 书包能承受的重量\n",
    "# w: 每个物品的重量\n",
    "# v: 每个物品的价值\n",
    "def bag(n, c, w, v):\n",
    "    # 置零，表示初始状态\n",
    "    value = [[0 for j in range(c + 1)] for i in range(n + 1)]\n",
    "    for j in range(c+1):\n",
    "        value[0][j]=0\n",
    "    for i in range(1,n+1):\n",
    "        for j in range(1,c+1):\n",
    "            value[i][j]=value[i-1][j]\n",
    "            # 背包总容量够放当前物体，遍历前一个状态考虑是否置换\n",
    "            if j>=w[i-1] and value[i][j]<value[i-1][j-w[i-1]]+v[i-1]:\n",
    "                value[i][j]=value[i-1][j-w[i-1]]+v[i-1]\n",
    "    return value"
   ]
  },
  {
   "cell_type": "code",
   "execution_count": null,
   "metadata": {},
   "outputs": [],
   "source": [
    "#函数运算时间\n",
    "def time_Counter(func,n,c,w,v):\n",
    "    time_start = time.time()\n",
    "    func(n,c,w,v)\n",
    "    time_end = time.time()\n",
    "    return time_end-time_start"
   ]
  },
  {
   "cell_type": "code",
   "execution_count": null,
   "metadata": {},
   "outputs": [],
   "source": [
    "def ShowTimes(N,time1, time2):\n",
    "    #设置汉字格式\n",
    "    font = FontProperties(fname=r\"c:\\windows\\fonts\\simsun.ttc\", size=14)\n",
    "    plt.figure(\"Lab6\")\n",
    "    plt.title(u'递归与动态规划解决01背包问题所耗费的时间',FontProperties=font)\n",
    "    plt.xlabel(u'物品个数',FontProperties=font)\n",
    "    plt.ylabel(u'所需时间(s)',FontProperties=font)\n",
    "\n",
    "    plt.scatter(x=N, y=time1, color='black',s=10)\n",
    "    plt.scatter(x=N, y=time2, color='red',s=10)\n",
    "\n",
    "    plt.plot(N,time1,color='black')\n",
    "    plt.plot(N,time2,color='red')\n",
    "\n",
    "    rec_bag = mlines.Line2D([], [], color='black', marker='.',\n",
    "                      markersize=10, label='rec_bag')\n",
    "    bag = mlines.Line2D([], [], color='red', marker='.',\n",
    "                      markersize=10, label='bag')\n",
    "    plt.legend(handles=[rec_bag,bag])\n",
    "    plt.show()"
   ]
  },
  {
   "cell_type": "code",
   "execution_count": null,
   "metadata": {},
   "outputs": [],
   "source": [
    "def show(n, c, w, value):\n",
    "    x = [False for i in range(n)]\n",
    "    j = c\n",
    "    for i in range(n, 0, -1):\n",
    "        if value[i][j] > value[i - 1][j]:\n",
    "            x[i - 1] = True\n",
    "            j -= w[i - 1]\n",
    "    print('背包中所装物品为:')\n",
    "    for i in range(n):\n",
    "        if x[i]:\n",
    "            print('第', i+1, '个 ', end='')"
   ]
  },
  {
   "cell_type": "code",
   "execution_count": null,
   "metadata": {},
   "outputs": [],
   "source": [
    "if __name__=='__main__':\n",
    "    #算法测试\n",
    "    maxValue = 0\n",
    "    n=5\n",
    "    c=10\n",
    "    w=[2,2,6,5,4]\n",
    "    v=[6,3,5,8,3]\n",
    "    print(\"背包的容量为:\",c)\n",
    "    print(\"物品的体积分别为:\",w)\n",
    "    print(\"物品的价值分别为:\",v)\n",
    "\n",
    "    value=bag(n,c,w,v)\n",
    "    print(\"动态规划算法解决01背包问题得到的最大价值：\",value[n][c])\n",
    "    rec_bag(0,0,0)\n",
    "    print(\"递归算法解决01背包问题得到的最大价值：\",maxValue)\n",
    "    show(n,c,w,value)\n",
    "\n",
    "    N = []\n",
    "    time1 = []\n",
    "    time2 = []\n",
    "    for i in range(1,25):\n",
    "        n = i\n",
    "        c = 0\n",
    "        w = []\n",
    "        v = []\n",
    "        for j in range(0,i):\n",
    "            w.append(random.randint(0,10))\n",
    "            c+=w[j]\n",
    "            v.append(random.randint(5,20))\n",
    "        c = int(c*4/5)\n",
    "        time1.append(time_Counter(rec_bag,0,0,0,0))\n",
    "        time2.append(time_Counter(bag,n,c,w,v))\n",
    "\n",
    "        N.append(i)\n",
    "    ShowTimes(N,time1,time2)\n",
    "    print('\\n递归解决01背包问题所耗时间：',time1)\n",
    "    print('动态规划决01背包问题所耗时间：',time2)"
   ]
  }
 ],
 "metadata": {
  "kernelspec": {
   "display_name": "Python 3.8.6 ('tensorflow2')",
   "language": "python",
   "name": "python3"
  },
  "language_info": {
   "codemirror_mode": {
    "name": "ipython",
    "version": 3
   },
   "file_extension": ".py",
   "mimetype": "text/x-python",
   "name": "python",
   "nbconvert_exporter": "python",
   "pygments_lexer": "ipython3",
   "version": "3.8.6"
  },
  "orig_nbformat": 4,
  "vscode": {
   "interpreter": {
    "hash": "85c51a4259275393737ca8d3e0cd6fa489554cf4913552085d5553b62ac22de5"
   }
  }
 },
 "nbformat": 4,
 "nbformat_minor": 2
}
