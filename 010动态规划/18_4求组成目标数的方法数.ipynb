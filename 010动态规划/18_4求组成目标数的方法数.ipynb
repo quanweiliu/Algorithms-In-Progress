{
 "cells": [
  {
   "cell_type": "markdown",
   "metadata": {},
   "source": [
    "# 枚举的方式如何改动态规划"
   ]
  },
  {
   "cell_type": "code",
   "execution_count": 1,
   "metadata": {},
   "outputs": [],
   "source": [
    "class CoinWay():\n",
    "\n",
    "    # arr里都是正数，没有重复值，每一个值代表一种货币，每一种都可以用无限张\n",
    "    # 最终要找零钱数是 aim\n",
    "    # 找零方法数返回\n",
    "    def way1(self, arr, aim):\n",
    "        return self.process(arr, 0, aim)\n",
    "\n",
    "    # 可以自由使用 arr[index.. .] 所有的面值\n",
    "    # 需要搞定的钱数是 rest\n",
    "    # 返回找零的方法数\n",
    "    def process(self, arr, index, rest):\n",
    "        if index == len(arr):\n",
    "            if rest == 0:\n",
    "                return 1\n",
    "            else:\n",
    "                return 0\n",
    "    \n",
    "        ways = 0\n",
    "        zhang = 0\n",
    "        while arr[index] * zhang <= rest:\n",
    "            ways += self.process(arr, index + 1, rest - arr[index] * zhang )\n",
    "            zhang += 1\n",
    "        return ways"
   ]
  },
  {
   "cell_type": "code",
   "execution_count": 2,
   "metadata": {},
   "outputs": [
    {
     "data": {
      "text/plain": [
       "192"
      ]
     },
     "execution_count": 2,
     "metadata": {},
     "output_type": "execute_result"
    }
   ],
   "source": [
    "# arr = [1,2,3,4]\n",
    "arr = [3,5,1,2,4]\n",
    "aim = 20\n",
    "s = CoinWay()\n",
    "s.way1(arr, aim)"
   ]
  },
  {
   "cell_type": "markdown",
   "metadata": {},
   "source": [
    "f(0，1000)\n",
    "3:0        f(1,1000)\n",
    "3:1        f(1,997)\n",
    "3:2        f(1,994)\n",
    "...\n",
    "3:333      f(1, 1)\n",
    "3:333, 1,1 f(2,0)\n",
    "\n",
    "- -> aim\n",
    "- ⬇ index\n",
    "- 递归调用了 self.process(arr, 0, aim)，所以目标是 0 aim\n",
    "\n",
    "||0|1|2|3|4|5|6|7|8|9|10|\n",
    "|--|--|--|--|--|--|--|--|--|--|--|--|\n",
    "|0|||||||||||※|\n",
    "|1||||||||||||\n",
    "|2||||||？||||||\n",
    "|3||||||||||||\n",
    "|4|1|0|0|0|0|0|0|0|0|0|0|\n"
   ]
  },
  {
   "cell_type": "markdown",
   "metadata": {},
   "source": [
    "# 不优化枚举行为\n",
    "- O(N*aim**2)"
   ]
  },
  {
   "cell_type": "code",
   "execution_count": 3,
   "metadata": {},
   "outputs": [],
   "source": [
    "class CoinWay():\n",
    "\n",
    "    # arr里都是正数，没有重复值，每一个值代表一种货币，每一种都可以用无限张\n",
    "    # 最终要找零钱数是 aim，\n",
    "    # 找零方法数返回\n",
    "    def way2(self, arr, aim):\n",
    "        if arr == None or len(arr)==0:\n",
    "            return 0\n",
    "        \n",
    "        N = len(arr)\n",
    "        dp  = [[0 for j in range(aim+1)] for i in range(N+1)]\n",
    "        dp[N][0] = 1\n",
    "        # print(dp)\n",
    "\n",
    "        index = N -1\n",
    "        while index >= 0:\n",
    "            # print(dp)\n",
    "            for rest in range(aim+1):\n",
    "                ways = 0\n",
    "                zhang = 0\n",
    "                while arr[index] * zhang <= rest:\n",
    "                    ways += dp[index + 1][rest - arr[index] * zhang]\n",
    "                    zhang += 1\n",
    "                dp[index][rest] = ways\n",
    "\n",
    "            index -= 1\n",
    "                \n",
    "        return dp[0][aim]"
   ]
  },
  {
   "cell_type": "code",
   "execution_count": 4,
   "metadata": {},
   "outputs": [
    {
     "data": {
      "text/plain": [
       "192"
      ]
     },
     "execution_count": 4,
     "metadata": {},
     "output_type": "execute_result"
    }
   ],
   "source": [
    "# arr = [3,5,1,2]\n",
    "# aim = 100\n",
    "s = CoinWay()\n",
    "s.way2(arr, aim)"
   ]
  },
  {
   "cell_type": "markdown",
   "metadata": {},
   "source": [
    "# 优化枚举行为\n",
    "- 斜率优化，只和观察有关，不和原题有关"
   ]
  },
  {
   "cell_type": "code",
   "execution_count": 5,
   "metadata": {},
   "outputs": [],
   "source": [
    "class CoinWay():\n",
    "\n",
    "    # arr里都是正数，没有重复值，每一个值代表一种货币，每一种都可以用无限张\n",
    "    # 最终要找零钱数是 aim，\n",
    "    # 找零方法数返回\n",
    "    def way3(self, arr, aim):\n",
    "        if arr == None or len(arr)==0:\n",
    "            return 0\n",
    "        \n",
    "        N = len(arr)\n",
    "        dp  = [[0 for j in range(aim+1)] for i in range(N+1)]\n",
    "        dp[N][0] = 1\n",
    "        # print(dp)\n",
    "\n",
    "        index = N -1\n",
    "        while index >= 0:\n",
    "            # print(dp)\n",
    "            for rest in range(aim+1):\n",
    "                # 一个位置的格子，总是需要自己下方的格子\n",
    "                dp[index][rest] = dp[index + 1][rest]\n",
    "                if rest - arr[index] >= 0:\n",
    "                    # 自己本行上一个格子\n",
    "                    dp[index][rest] += dp[index][rest-arr[index]]\n",
    "\n",
    "            index -= 1\n",
    "        return dp[0][aim]"
   ]
  },
  {
   "cell_type": "code",
   "execution_count": 6,
   "metadata": {},
   "outputs": [
    {
     "data": {
      "text/plain": [
       "192"
      ]
     },
     "execution_count": 6,
     "metadata": {},
     "output_type": "execute_result"
    }
   ],
   "source": [
    "# arr = [3,5,1,2]\n",
    "# aim = 100\n",
    "s = CoinWay()\n",
    "s.way3(arr, aim)"
   ]
  },
  {
   "cell_type": "markdown",
   "metadata": {},
   "source": [
    "# 不要羡慕别人炫技式的理解（理由）\n",
    "\n",
    "- 很多方法来源于尝试，然后观察，然后找到一种合适的理解（捷径）\n",
    "- 但是很多人为了炫技，体现自己聪明，或者不想让别人明白优雅的过程，把尝试，观察抛弃掉，给这条捷径赋予新的内涵。\n",
    "- 然后就造成，我们很羡慕他们怎么想到的，而苦恼我们怎么想不到。\n",
    "- 所以，有些尝试出来的东西，就要知道尝试即可，不要为难自己，困惑他人找那么多冠冕堂皇的理解，当然，小白写论文除外。"
   ]
  },
  {
   "cell_type": "code",
   "execution_count": null,
   "metadata": {},
   "outputs": [],
   "source": []
  }
 ],
 "metadata": {
  "kernelspec": {
   "display_name": "Python 3.8.6 ('tensorflow2')",
   "language": "python",
   "name": "python3"
  },
  "language_info": {
   "codemirror_mode": {
    "name": "ipython",
    "version": 3
   },
   "file_extension": ".py",
   "mimetype": "text/x-python",
   "name": "python",
   "nbconvert_exporter": "python",
   "pygments_lexer": "ipython3",
   "version": "3.8.6"
  },
  "orig_nbformat": 4,
  "vscode": {
   "interpreter": {
    "hash": "85c51a4259275393737ca8d3e0cd6fa489554cf4913552085d5553b62ac22de5"
   }
  }
 },
 "nbformat": 4,
 "nbformat_minor": 2
}
