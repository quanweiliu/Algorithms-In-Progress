{
 "cells": [
  {
   "cell_type": "markdown",
   "metadata": {},
   "source": [
    "# 出自阿里巴巴面试\n",
    "- 机器人随机运动\n",
    "- 总长度 N, \n",
    "- 起点 S, 终点 E, \n",
    "- 中间过程数 k\n",
    "- 问：走k步,不能停，从 s 到 e 有多少种走法？"
   ]
  },
  {
   "cell_type": "code",
   "execution_count": 5,
   "metadata": {},
   "outputs": [],
   "source": [
    "class RobotMove():\n",
    "    \n",
    "    # 前两个固定参数，后面两个是可变参数\n",
    "    def walkWays(self, N, E, S, K):\n",
    "        return self.f(N, E, K, S)\n",
    "\n",
    "    # 尝试的方法，暴力递归\n",
    "    # 总的位置数 N， 目标 E， 剩余步数 rest，当前位置cur\n",
    "    def f(self, N, E, rest, cur):\n",
    "        # base case\n",
    "        if rest == 0:\n",
    "            if cur == E:\n",
    "                return 1\n",
    "            else:\n",
    "                return 0\n",
    "\n",
    "        # 第一个位置\n",
    "        if cur == 1:     # 只能从 1 -> 2\n",
    "            return self.f(N, E, rest-1, 2)\n",
    "\n",
    "        # 最后一个位置\n",
    "        if cur == N:\n",
    "            return self.f(N, E, rest-1, N-1)\n",
    "        \n",
    "        # 中间位置\n",
    "        return self.f(N, E, rest-1, cur-1,) + self.f(N, E, rest - 1, cur+1)"
   ]
  },
  {
   "cell_type": "code",
   "execution_count": 7,
   "metadata": {},
   "outputs": [
    {
     "data": {
      "text/plain": [
       "4"
      ]
     },
     "execution_count": 7,
     "metadata": {},
     "output_type": "execute_result"
    }
   ],
   "source": [
    "s = RobotMove()\n",
    "# s.walkWays(10, 5, 1, 10)\n",
    "# 1,2,3,4,5, 从2到4走4步，多少走法？\n",
    "s.walkWays(5, 4, 2, 4)"
   ]
  },
  {
   "cell_type": "markdown",
   "metadata": {},
   "source": [
    "# 分析\n",
    "```\n",
    "f(4,2)\n",
    "\n",
    "f(4,2)       f(4,2)\n",
    "f(4,2)     f(4,2)f(4,2)\n",
    "```"
   ]
  },
  {
   "cell_type": "code",
   "execution_count": null,
   "metadata": {},
   "outputs": [],
   "source": []
  },
  {
   "cell_type": "code",
   "execution_count": null,
   "metadata": {},
   "outputs": [],
   "source": []
  },
  {
   "cell_type": "code",
   "execution_count": null,
   "metadata": {},
   "outputs": [],
   "source": []
  },
  {
   "cell_type": "code",
   "execution_count": null,
   "metadata": {},
   "outputs": [],
   "source": []
  }
 ],
 "metadata": {
  "kernelspec": {
   "display_name": "Python 3.8.6 ('tensorflow2')",
   "language": "python",
   "name": "python3"
  },
  "language_info": {
   "codemirror_mode": {
    "name": "ipython",
    "version": 3
   },
   "file_extension": ".py",
   "mimetype": "text/x-python",
   "name": "python",
   "nbconvert_exporter": "python",
   "pygments_lexer": "ipython3",
   "version": "3.8.6"
  },
  "orig_nbformat": 4,
  "vscode": {
   "interpreter": {
    "hash": "85c51a4259275393737ca8d3e0cd6fa489554cf4913552085d5553b62ac22de5"
   }
  }
 },
 "nbformat": 4,
 "nbformat_minor": 2
}
