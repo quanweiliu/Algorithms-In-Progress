{
 "cells": [
  {
   "cell_type": "markdown",
   "metadata": {},
   "source": [
    "# labuladuo\n",
    "- 动态规划\n",
    "- 凑零钱的问题，展示了如何流程化确定「状态转移方程」，只要通过状态转移方程写出暴力递归解，剩下的也就是优化递归树，消除重叠子问题而已。"
   ]
  },
  {
   "cell_type": "markdown",
   "metadata": {},
   "source": [
    "# 1.暴力递归\n",
    "- PS：这里 coinChange 和 dp 函数的签名完全一样，所以理论上不需要额外写一个 dp 函数。但为了后文讲解方便，这里还是另写一个 dp 函数来实现主要逻辑。"
   ]
  },
  {
   "cell_type": "code",
   "execution_count": 23,
   "metadata": {},
   "outputs": [],
   "source": [
    "def coinChange(coins, amount):\n",
    "    return dp(coins, amount)\n",
    "\n",
    "# 定义：要凑出金额 n，至少要 dp(coins, n) 个硬币\n",
    "def dp(conis, amount):\n",
    "    # base case\n",
    "\n",
    "    if amount == 0:\n",
    "        return 0\n",
    "    if amount < 0:\n",
    "        return -1\n",
    "\n",
    "    res = float('inf')\n",
    "    \n",
    "    # 这个稳定应该更难一点，因为这里还有 循环，而机器人运动问题只有判断？我说的对不？\n",
    "    for coin in conis:\n",
    "        # subProblem 指硬币数，子问题\n",
    "        subProblem = dp(conis, amount-coin)\n",
    "        # 子问题无解则跳过\n",
    "        if subProblem == -1:\n",
    "            continue\n",
    "        # 在子问题中选择最优解，然后加一\n",
    "        res = min(res, subProblem + 1)\n",
    "\n",
    "    # print(res)\n",
    "    if res == float('inf'):\n",
    "        return -1\n",
    "    else:\n",
    "        return res"
   ]
  },
  {
   "cell_type": "code",
   "execution_count": 24,
   "metadata": {},
   "outputs": [
    {
     "data": {
      "text/plain": [
       "-1"
      ]
     },
     "execution_count": 24,
     "metadata": {},
     "output_type": "execute_result"
    }
   ],
   "source": [
    "coins = [1, 2, 5]\n",
    "coins = [4, 5]\n",
    "amount = 11\n",
    "dp(coins, amount)"
   ]
  },
  {
   "cell_type": "markdown",
   "metadata": {},
   "source": [
    "- 复杂度分析\n",
    "```\n",
    "              11\n",
    "    10        9        6\n",
    " 9   8   5          5   4   1\n",
    "       4 3 0          3 2 -1\n",
    "\n",
    "```\n",
    "    - 假设目标金额为 n，给定的硬币个数为 k，那么递归树最坏情况下高度为 n（全用面额为 1 的硬币），然后再假设这是一棵满 k 叉树，则节点的总数在 k^n 这个数量级。\n",
    "    - 接下来看每个子问题的复杂度，由于每次递归包含一个 for 循环，复杂度为 O(k)，相乘得到总时间复杂度为 O(k^n)，指数级别。"
   ]
  },
  {
   "cell_type": "markdown",
   "metadata": {},
   "source": [
    "# 2.带备忘录的递归\n",
    "- 搞清楚备忘录的机理\n",
    "- 存入的是当前花销需要的**最少硬币数**"
   ]
  },
  {
   "cell_type": "code",
   "execution_count": 15,
   "metadata": {},
   "outputs": [],
   "source": [
    "# class Solution():\n",
    "#     def __init__(self):\n",
    "#        self.memo = []\n",
    "\n",
    "#     #                   硬币种类，总金额\n",
    "#     def coinChange(self, coins, amount):\n",
    "#         # 备忘录初始化为一个不会被取到的特殊值，代表还未被计算\n",
    "#         self.memo = [-666]*(amount + 1)\n",
    "#         return self.dp(coins, amount)\n",
    "\n",
    "\n",
    "#     # 定义：要凑出金额 n，至少要 dp(coins, n) 个硬币\n",
    "#     def dp(self, conis, amount):\n",
    "#         # base case\n",
    "#         if amount == 0:\n",
    "#             return 0\n",
    "#         if amount < 0:\n",
    "#             return -1\n",
    "\n",
    "#         # 查备忘录，防止重复计算\n",
    "#         # 最后的结果：[-666, 1, 1, 2, 2, 1, 2, 2, 3, 3, 2, -666] 6\n",
    "#         print(self.memo, amount)\n",
    "#         if self.memo[amount] != -666:\n",
    "#             return self.memo[amount]\n",
    "\n",
    "#         res = float('inf')\n",
    "        \n",
    "#         for coin in conis:\n",
    "#             # print(\"coin\", coin)\n",
    "#             # subProblem 指硬币数，子问题\n",
    "#             subProblem = self.dp(conis, amount-coin)\n",
    "#             # 子问题无解则跳过\n",
    "#             if subProblem == -1:\n",
    "#                 continue\n",
    "#             # 在子问题中选择最优解，然后加一\n",
    "#             res = min(res, subProblem + 1)\n",
    "\n",
    "#         # print(res)\n",
    "#         # 把计算结果存入备忘录，存入的是当前花销需要的最少硬币数\n",
    "#         if res == float('inf'):\n",
    "#             self.memo[amount] = -1\n",
    "#         else:\n",
    "#             self.memo[amount] = res\n",
    "#         return self.memo[amount]"
   ]
  },
  {
   "cell_type": "code",
   "execution_count": 31,
   "metadata": {},
   "outputs": [],
   "source": [
    "# 代码优化\n",
    "class Solution():\n",
    "    #                  硬币种类，剩余的金额\n",
    "    def coinChange(self, coins, rest):\n",
    "        # 备忘录初始化为一个不会被取到的特殊值，代表还未被计算\n",
    "        # 备忘录代表剩余的金额，如果剩余已经被计算了，那么就会被记录，防止重复计算\n",
    "        memo = [-666]*(rest + 1)\n",
    "        return self.dp(coins, rest, memo)\n",
    "\n",
    "    # 定义：要凑出金额 n，至少要 dp(coins, n) 个硬币\n",
    "    def dp(self, conis, rest, memo):\n",
    "        # base case\n",
    "        if rest == 0:\n",
    "            return 0\n",
    "        if rest < 0:\n",
    "            return -1\n",
    "\n",
    "        # 查备忘录，防止重复计算\n",
    "        print(memo, rest)\n",
    "        if memo[rest] != -666:\n",
    "            return memo[rest]\n",
    "\n",
    "        res = float('inf')\n",
    "        \n",
    "        for coin in conis:\n",
    "            # print(\"coin\", coin)\n",
    "            # subProblem 指硬币数，子问题\n",
    "            subProblem = self.dp(conis, rest-coin, memo)\n",
    "            # 子问题无解则跳过\n",
    "            if subProblem == -1:\n",
    "                continue\n",
    "            # 在子问题中选择最优解，然后加一\n",
    "            res = min(res, subProblem + 1)\n",
    "            \n",
    "        # 把计算结果存入备忘录，存入的是当前花销需要的最少硬币数\n",
    "        if res == float('inf'):\n",
    "            memo[rest] = -1\n",
    "        else:\n",
    "            memo[rest] = res\n",
    "\n",
    "        return memo[rest]"
   ]
  },
  {
   "cell_type": "code",
   "execution_count": 32,
   "metadata": {},
   "outputs": [
    {
     "name": "stdout",
     "output_type": "stream",
     "text": [
      "[-666, -666, -666, -666, -666, -666, -666, -666, -666, -666, -666, -666] 11\n",
      "[-666, -666, -666, -666, -666, -666, -666, -666, -666, -666, -666, -666] 9\n",
      "[-666, -666, -666, -666, -666, -666, -666, -666, -666, -666, -666, -666] 7\n",
      "[-666, -666, -666, -666, -666, -666, -666, -666, -666, -666, -666, -666] 5\n",
      "[-666, -666, -666, -666, -666, -666, -666, -666, -666, -666, -666, -666] 3\n",
      "[-666, -666, -666, -666, -666, -666, -666, -666, -666, -666, -666, -666] 1\n",
      "[-666, -1, -666, -1, -666, 1, -666, -666, -666, -666, -666, -666] 2\n",
      "[-666, -1, 1, -1, -666, 1, -666, 2, -666, -666, -666, -666] 4\n",
      "[-666, -1, 1, -1, -666, 1, -666, 2, -666, -666, -666, -666] 2\n",
      "[-666, -1, 1, -1, 2, 1, -666, 2, -666, 3, -666, -666] 6\n",
      "[-666, -1, 1, -1, 2, 1, -666, 2, -666, 3, -666, -666] 4\n",
      "[-666, -1, 1, -1, 2, 1, -666, 2, -666, 3, -666, -666] 1\n"
     ]
    },
    {
     "data": {
      "text/plain": [
       "4"
      ]
     },
     "execution_count": 32,
     "metadata": {},
     "output_type": "execute_result"
    }
   ],
   "source": [
    "coins = [1, 2, 5]\n",
    "# coins = [2, 5]\n",
    "amount = 11\n",
    "s = Solution()\n",
    "\n",
    "s.coinChange(coins, amount)"
   ]
  },
  {
   "cell_type": "markdown",
   "metadata": {},
   "source": [
    "# 严格一维表\n",
    "\n",
    "- 填数字\n",
    "- 横着是 rest， 竖着是 conis \n",
    "- 利用规则从已有的数字出发，得到最终的结果\n",
    "\n",
    "|#|0|1|2|3|4|5|6|7|8|9|10|11|\n",
    "|-|-|-|-|-|-|-|-|-|-|-|-|-|\n",
    "|1|0|1|0|1|0|0|1|0|1|0|0|1|\n",
    "|2|0|0|1|1|2|0|0|1|1|2|0|0|\n",
    "|5|0|0|0|0|0|1|1|1|1|1|2|2|\n",
    "|total|0|1|1|2|2|1|2|2|3|3|2|3|\n"
   ]
  },
  {
   "cell_type": "markdown",
   "metadata": {},
   "source": [
    "# 3.dp 数组的迭代（递推）解法\n",
    "- 有了上一步「备忘录」的启发，我们可以把这个「备忘录」独立出来成为一张表，通常叫做 DP table，在这张表上完成「自底向上」的推算岂不美哉！\n",
    "\n",
    "状态转移方程\n",
    "```\n",
    "dp(n) = 0, n = 0\n",
    "dp(n) = -1, n < 0\n",
    "dp(n) = min{dp(n-coin) + 1| coin belong to conis}, n > 0\n",
    "```\n",
    "\n",
    "看是看懂了，面对新问题，我又不会了怎么办？"
   ]
  },
  {
   "cell_type": "code",
   "execution_count": 25,
   "metadata": {},
   "outputs": [],
   "source": [
    "class Solution():\n",
    "    \"\"\"\n",
    "    dp table 要凑出金额 n, 至少要 dp(coins, n) 个硬币\n",
    "    \"\"\"\n",
    "    def coinChange(self, coins, amount):\n",
    "        # 数组大小为 amount + 1，初始值也为 amount + 1\n",
    "        dp = [amount + 1]*(amount + 1)\n",
    "        # print(dp)\n",
    "        # dp 数组的定义：当目标金额为 i 时，至少需要 dp[i] 枚硬币凑出。\n",
    "        dp[0] = 0\n",
    "        # 外层 for 循环在遍历所有状态的所有取值\n",
    "        for i in range(len(dp)):\n",
    "            # 内层 for 循环在求所有选择的最小值\n",
    "            for coin in coins:\n",
    "                # 子问题无解，跳过\n",
    "                if i-coin<0:\n",
    "                    continue\n",
    "                # dp[i-coin] 这个地方相当于备忘录\n",
    "                dp[i] = min(dp[i], 1 + dp[i-coin])\n",
    "\n",
    "        if dp[amount] == amount + 1:\n",
    "            return -1                 # 需要这个？\n",
    "        else:\n",
    "            return dp[amount]"
   ]
  },
  {
   "cell_type": "code",
   "execution_count": 26,
   "metadata": {},
   "outputs": [
    {
     "data": {
      "text/plain": [
       "-1"
      ]
     },
     "execution_count": 26,
     "metadata": {},
     "output_type": "execute_result"
    }
   ],
   "source": [
    "coins = [1, 2, 5]\n",
    "coins = [4, 5]\n",
    "amount = 11\n",
    "s = Solution()\n",
    "s.coinChange(coins, amount)"
   ]
  },
  {
   "cell_type": "code",
   "execution_count": 17,
   "metadata": {},
   "outputs": [],
   "source": []
  },
  {
   "cell_type": "code",
   "execution_count": 18,
   "metadata": {},
   "outputs": [
    {
     "data": {
      "text/plain": [
       "2"
      ]
     },
     "execution_count": 18,
     "metadata": {},
     "output_type": "execute_result"
    }
   ],
   "source": []
  },
  {
   "cell_type": "code",
   "execution_count": null,
   "metadata": {},
   "outputs": [],
   "source": []
  },
  {
   "cell_type": "code",
   "execution_count": null,
   "metadata": {},
   "outputs": [],
   "source": []
  },
  {
   "cell_type": "code",
   "execution_count": null,
   "metadata": {},
   "outputs": [],
   "source": []
  }
 ],
 "metadata": {
  "kernelspec": {
   "display_name": "Python 3.8.6 ('tensorflow2')",
   "language": "python",
   "name": "python3"
  },
  "language_info": {
   "codemirror_mode": {
    "name": "ipython",
    "version": 3
   },
   "file_extension": ".py",
   "mimetype": "text/x-python",
   "name": "python",
   "nbconvert_exporter": "python",
   "pygments_lexer": "ipython3",
   "version": "3.8.6"
  },
  "orig_nbformat": 4,
  "vscode": {
   "interpreter": {
    "hash": "85c51a4259275393737ca8d3e0cd6fa489554cf4913552085d5553b62ac22de5"
   }
  }
 },
 "nbformat": 4,
 "nbformat_minor": 2
}
