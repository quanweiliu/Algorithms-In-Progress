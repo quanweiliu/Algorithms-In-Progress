{
 "cells": [
  {
   "cell_type": "markdown",
   "metadata": {},
   "source": [
    "# 左程云\n",
    "- 还是按照如何尝试的套路来\n",
    "\n",
    "- 硬币列表中组成目标硬币数最少硬币个数，每个硬币只能用一次"
   ]
  },
  {
   "cell_type": "code",
   "execution_count": 1,
   "metadata": {},
   "outputs": [],
   "source": [
    "# 定义：要凑出金额 n，至少要 dp(coins, n) 个硬币\n",
    "\n",
    "class CoinMin():\n",
    "\n",
    "    # arr硬币：固定参数\n",
    "    # aim目标：固定参数\n",
    "    def minCoins(self, arr, aim):\n",
    "        return self.f(arr, 0, aim)\n",
    "\n",
    "    # 选择 arr[index...] 这些硬币，组成 aim 这么多的钱\n",
    "    # 返回组成 aim 的硬币数\n",
    "    def f(self, arr, index, rest):\n",
    "\n",
    "        # base case，终止位置\n",
    "        if rest < 0:\n",
    "            return -1\n",
    "\n",
    "        if rest == 0:\n",
    "            return 0\n",
    "\n",
    "        if index == len(arr):\n",
    "            return -1\n",
    "        \n",
    "        # 防止 -1 干扰\n",
    "        p1 = self.f(arr, index+1, rest)\n",
    "        p2Next = self.f(arr, index+1, rest-arr[index])\n",
    "        if p1 == -1 and p2Next == -1:\n",
    "            return -1\n",
    "        else:\n",
    "            if p1 == -1:\n",
    "                return p2Next +1\n",
    "            if p2Next == -1:\n",
    "                return p1\n",
    "        return min(p1, p2Next+1)"
   ]
  },
  {
   "cell_type": "code",
   "execution_count": 2,
   "metadata": {},
   "outputs": [
    {
     "data": {
      "text/plain": [
       "1"
      ]
     },
     "execution_count": 2,
     "metadata": {},
     "output_type": "execute_result"
    }
   ],
   "source": [
    "s = CoinMin()\n",
    "coins = [2, 3, 5, 7,]\n",
    "# coins = [2, 10,10, 5, 3, 10, 100]\n",
    "# amount = 30\n",
    "amount = 5\n",
    "s.minCoins(coins, amount)"
   ]
  },
  {
   "cell_type": "markdown",
   "metadata": {},
   "source": [
    "# 分析\n",
    "```\n",
    "            f(0,5)\n",
    "    f(1,5)         f(1,3)\n",
    "f(2,5)  f(2,2)  f(2,3) f(2,0)  # f(2,0) return 0\n",
    "......\n",
    "```"
   ]
  },
  {
   "cell_type": "markdown",
   "metadata": {},
   "source": [
    "# 记忆化搜素\n",
    "\n",
    "- 确实不优雅"
   ]
  },
  {
   "cell_type": "code",
   "execution_count": 3,
   "metadata": {},
   "outputs": [],
   "source": [
    "# 定义：要凑出金额 n，至少要 dp(coins, n) 个硬币\n",
    "# TODO : 检查 这个代码和左成云的代码的区别\n",
    "class CoinMin():\n",
    "\n",
    "    # arr硬币：固定参数\n",
    "    # aim目标：固定参数\n",
    "    def minCoins(self, arr, aim):\n",
    "        dp = [[-2 for i in range(aim+1)] for j in range(len(arr)+1)]\n",
    "        # print(dp)\n",
    "        return self.f(arr, 0, aim, dp)\n",
    "\n",
    "    # 选择 arr[index...] 这些硬币，组成 aim 这么多的钱\n",
    "    # 返回组成 aim 的硬币数\n",
    "    def f(self, arr, index, rest, dp):\n",
    "\n",
    "        # base case，终止位置\n",
    "        if rest < 0:\n",
    "            return -1\n",
    "\n",
    "        if dp[index][rest] != -2:\n",
    "            return dp[index][rest]\n",
    "        \n",
    "        if rest == 0:\n",
    "            dp[index][rest] = 0\n",
    "        elif index == len(arr):\n",
    "            dp[index][rest] == -1\n",
    "        else:\n",
    "            # 防止 -1 干扰\n",
    "            p1 = self.f(arr, index+1, rest, dp)\n",
    "            p2Next = self.f(arr, index+1, rest-arr[index], dp)\n",
    "            if p1 <= -1 and p2Next <= -1:\n",
    "                dp[index][rest] = -1\n",
    "            else:\n",
    "                if p1 <= -1:\n",
    "                    dp[index][rest] = p2Next +1\n",
    "                elif p2Next <= -1:\n",
    "                    dp[index][rest] = p1\n",
    "                else:\n",
    "                    dp[index][rest] = min(p1, p2Next+1)\n",
    "        return dp[index][rest]"
   ]
  },
  {
   "cell_type": "code",
   "execution_count": 4,
   "metadata": {},
   "outputs": [
    {
     "data": {
      "text/plain": [
       "2"
      ]
     },
     "execution_count": 4,
     "metadata": {},
     "output_type": "execute_result"
    }
   ],
   "source": [
    "s = CoinMin()\n",
    "# coins = [2, 5, 3]\n",
    "# amount = 5\n",
    "coins = [2, 3, 5, 7, 2]\n",
    "amount = 10\n",
    "s.minCoins(coins, amount)"
   ]
  },
  {
   "cell_type": "markdown",
   "metadata": {},
   "source": [
    "# 严格二维表\n",
    "\n",
    "- 填数字\n",
    "- 横着是 rest， 竖着是 index \n",
    "- 利用规则从已有的数字出发，得到最终的结果\n",
    "\n",
    "|#|0|1|2|3|4|5|6|7|8|9|10|\n",
    "|-|-|-|-|-|-|-|-|-|-|-|-|\n",
    "|0|0| | | | | | | | | |※|\n",
    "|1|0| | | | | | | | | ||\n",
    "|2|0| | | | | | | | | ||\n",
    "|3|0| | | | | | | | | ||\n",
    "|4|0| | | | | | | | | ||\n",
    "|5|0|-1|1-|-1|-1|-1|-1|-1|-1|-1|-1|1-|\n"
   ]
  },
  {
   "cell_type": "code",
   "execution_count": 5,
   "metadata": {},
   "outputs": [],
   "source": [
    "# - 2 版本\n",
    "class CoinMin():\n",
    "    # arr硬币：固定参数\n",
    "    # aim目标：固定参数\n",
    "    def minCoins(self, arr, aim):\n",
    "        N = len(arr)\n",
    "        dp = [[-2 for i in range(aim+1)] for j in range(N+1)]\n",
    "\n",
    "        # print(dp)\n",
    "        for row in range(N):\n",
    "            dp[row][0] = 0\n",
    "        for col in range(aim):\n",
    "            dp[N][col] = -1\n",
    "        \n",
    "        index = N -1\n",
    "        while index >= 0:\n",
    "            for rest in range(1, aim+1):\n",
    "                \n",
    "                p1 = dp[index+1][rest]\n",
    "                p2Next = - 1\n",
    "\n",
    "                # 边界条件的控制\n",
    "                if rest - arr[index] >= 0:\n",
    "                    p2Next = dp[index+1][rest-arr[index]]\n",
    "\n",
    "                if p1 <= -1 and p2Next <= -1:\n",
    "                    dp[index][rest] = -1\n",
    "                else:\n",
    "                    if p1 <= -1:\n",
    "                        dp[index][rest] = p2Next +1\n",
    "                    elif p2Next <= -1:\n",
    "                        dp[index][rest] = p1\n",
    "                    else:\n",
    "                        dp[index][rest] = min(p1, p2Next+1)\n",
    "            index -= 1\n",
    "        return dp[0][aim]"
   ]
  },
  {
   "cell_type": "code",
   "execution_count": 6,
   "metadata": {},
   "outputs": [],
   "source": [
    "# - 1 版本\n",
    "class CoinMin():\n",
    "    # arr硬币：固定参数\n",
    "    # aim目标：固定参数\n",
    "    def minCoins(self, arr, aim):\n",
    "        N = len(arr)\n",
    "        dp = [[-1 for i in range(aim+1)] for j in range(N+1)]\n",
    "\n",
    "        # print(dp)\n",
    "        for row in range(N):\n",
    "            dp[row][0] = 0\n",
    "        for col in range(aim):\n",
    "            dp[N][col] = -1\n",
    "        \n",
    "        index = N -1\n",
    "        while index >= 0:\n",
    "            for rest in range(1, aim+1):\n",
    "                \n",
    "                p1 = dp[index+1][rest]\n",
    "                p2Next = - 1\n",
    "\n",
    "                # 边界条件的控制\n",
    "                if rest - arr[index] >= 0:\n",
    "                    p2Next = dp[index+1][rest-arr[index]]\n",
    "\n",
    "                if p1 == -1 and p2Next == -1:\n",
    "                    dp[index][rest] = -1\n",
    "                else:\n",
    "                    # 不同点\n",
    "                    if p1 == -1:\n",
    "                        dp[index][rest] = p2Next +1\n",
    "                    elif p2Next == -1:\n",
    "                        dp[index][rest] = p1\n",
    "                    else:\n",
    "                        dp[index][rest] = min(p1, p2Next+1)\n",
    "            index -= 1\n",
    "        return dp[0][aim]"
   ]
  },
  {
   "cell_type": "code",
   "execution_count": 7,
   "metadata": {},
   "outputs": [
    {
     "data": {
      "text/plain": [
       "2"
      ]
     },
     "execution_count": 7,
     "metadata": {},
     "output_type": "execute_result"
    }
   ],
   "source": [
    "s = CoinMin()\n",
    "coins = [2, 3, 5, 7, 2]\n",
    "amount = 10\n",
    "s.minCoins(coins, amount)"
   ]
  },
  {
   "cell_type": "code",
   "execution_count": null,
   "metadata": {},
   "outputs": [],
   "source": []
  },
  {
   "cell_type": "code",
   "execution_count": null,
   "metadata": {},
   "outputs": [],
   "source": []
  },
  {
   "cell_type": "code",
   "execution_count": null,
   "metadata": {},
   "outputs": [],
   "source": []
  }
 ],
 "metadata": {
  "kernelspec": {
   "display_name": "Python 3.8.6 ('tensorflow2')",
   "language": "python",
   "name": "python3"
  },
  "language_info": {
   "codemirror_mode": {
    "name": "ipython",
    "version": 3
   },
   "file_extension": ".py",
   "mimetype": "text/x-python",
   "name": "python",
   "nbconvert_exporter": "python",
   "pygments_lexer": "ipython3",
   "version": "3.8.6"
  },
  "orig_nbformat": 4,
  "vscode": {
   "interpreter": {
    "hash": "85c51a4259275393737ca8d3e0cd6fa489554cf4913552085d5553b62ac22de5"
   }
  }
 },
 "nbformat": 4,
 "nbformat_minor": 2
}
