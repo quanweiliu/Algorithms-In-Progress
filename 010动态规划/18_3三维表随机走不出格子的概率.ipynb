{
 "cells": [
  {
   "cell_type": "markdown",
   "metadata": {},
   "source": [
    "# Bob 生存概率\n",
    "- 1 hour 05 minutes"
   ]
  },
  {
   "cell_type": "code",
   "execution_count": 22,
   "metadata": {},
   "outputs": [],
   "source": [
    "class BobLive():\n",
    "    def livePossibile(self, M, N, i, j, k):\n",
    "\n",
    "        # Bob 总步数\n",
    "        all = pow(4, k)\n",
    "        live = self.process(M, N, i, j, k)\n",
    "        # return str(live), str(all), live/all       \n",
    "        #\n",
    "        gcd = self.gcd(all, live)\n",
    "\n",
    "        # 计算概率\n",
    "        return str(int(live / gcd)) + '/' + str(int(all / gcd))  \n",
    "    \n",
    "    # 求  Bob 存活的方法数\n",
    "    def process(self, M, N, rol, col, rest):\n",
    "        # 越界了\n",
    "        if rol == M or col == M or rol < 0 or col < 0:\n",
    "            return 0\n",
    "\n",
    "        # 没越界\n",
    "        if rest == 0:\n",
    "            return 1\n",
    "\n",
    "        # 继续走，活下去的方法数, 这里怎么表现随机的，还是这种方式天然带有随机？\n",
    "        live = self.process(M, N, rol - 1, col, rest - 1)\n",
    "        live += self.process(M, N, rol + 1, col, rest - 1)\n",
    "        live += self.process(M, N, rol, col - 1, rest - 1)\n",
    "        live += self.process(M, N, rol, col + 1, rest - 1)\n",
    "\n",
    "        return live\n",
    "\n",
    "    # 求最大公约数\n",
    "    def gcd(self, p, q):\n",
    "        if q == 0:\n",
    "            return p\n",
    "        return self.gcd(q, p % q)"
   ]
  },
  {
   "cell_type": "code",
   "execution_count": 23,
   "metadata": {},
   "outputs": [
    {
     "data": {
      "text/plain": [
       "'567/2048'"
      ]
     },
     "execution_count": 23,
     "metadata": {},
     "output_type": "execute_result"
    }
   ],
   "source": [
    "s = BobLive()\n",
    "M, N = 5, 5\n",
    "a, b = 3, 3\n",
    "k = 10\n",
    "s.livePossibile(M, N, a, b, k)"
   ]
  },
  {
   "cell_type": "markdown",
   "metadata": {},
   "source": [
    "# 动态规划"
   ]
  },
  {
   "cell_type": "code",
   "execution_count": null,
   "metadata": {},
   "outputs": [],
   "source": [
    "class BobLive():\n",
    "    def process(self, M, N, rol, col, K):\n",
    "        pass\n"
   ]
  },
  {
   "cell_type": "code",
   "execution_count": null,
   "metadata": {},
   "outputs": [],
   "source": []
  },
  {
   "cell_type": "code",
   "execution_count": null,
   "metadata": {},
   "outputs": [],
   "source": []
  },
  {
   "cell_type": "code",
   "execution_count": null,
   "metadata": {},
   "outputs": [],
   "source": []
  },
  {
   "cell_type": "code",
   "execution_count": null,
   "metadata": {},
   "outputs": [],
   "source": []
  },
  {
   "cell_type": "code",
   "execution_count": null,
   "metadata": {},
   "outputs": [],
   "source": []
  }
 ],
 "metadata": {
  "kernelspec": {
   "display_name": "Python 3.8.6 ('tensorflow2')",
   "language": "python",
   "name": "python3"
  },
  "language_info": {
   "codemirror_mode": {
    "name": "ipython",
    "version": 3
   },
   "file_extension": ".py",
   "mimetype": "text/x-python",
   "name": "python",
   "nbconvert_exporter": "python",
   "pygments_lexer": "ipython3",
   "version": "3.8.6"
  },
  "orig_nbformat": 4,
  "vscode": {
   "interpreter": {
    "hash": "85c51a4259275393737ca8d3e0cd6fa489554cf4913552085d5553b62ac22de5"
   }
  }
 },
 "nbformat": 4,
 "nbformat_minor": 2
}
