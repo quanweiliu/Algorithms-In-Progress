{
 "cells": [
  {
   "cell_type": "markdown",
   "metadata": {},
   "source": [
    "# 问题描述\n",
    "- 一只青蛙一次可以跳上1级台阶，也可以跳上2级。求该青蛙跳上一个 n 级的台阶总共有多少种跳法（先后次序不同算不同的结果）。"
   ]
  },
  {
   "cell_type": "markdown",
   "metadata": {},
   "source": [
    "# 暴力递归"
   ]
  },
  {
   "cell_type": "code",
   "execution_count": 42,
   "metadata": {},
   "outputs": [],
   "source": [
    "class Solution:\n",
    "    def jumpFloor(self , number: int) -> int:\n",
    "        # write code here\n",
    "        if number <= 1:\n",
    "            return 1\n",
    "        return self.jumpFloor(number - 2) + self.jumpFloor(number - 1)"
   ]
  },
  {
   "cell_type": "code",
   "execution_count": 43,
   "metadata": {},
   "outputs": [
    {
     "data": {
      "text/plain": [
       "89"
      ]
     },
     "execution_count": 43,
     "metadata": {},
     "output_type": "execute_result"
    }
   ],
   "source": [
    "s = Solution()\n",
    "s.jumpFloor(10)"
   ]
  },
  {
   "cell_type": "markdown",
   "metadata": {},
   "source": [
    "# 备忘录"
   ]
  },
  {
   "cell_type": "code",
   "execution_count": 44,
   "metadata": {},
   "outputs": [],
   "source": [
    "class Solution:\n",
    "    def jumpFloor(self , number: int) -> int:\n",
    "        # write code here\n",
    "        memo = [0]*(number+1)\n",
    "\n",
    "        return self.process(number, memo)\n",
    "\n",
    "    def process(self, number, memo):\n",
    "        if number <= 1:\n",
    "            return 1\n",
    "\n",
    "        if (memo[number] !=0):\n",
    "            return memo[number]\n",
    "\n",
    "        memo[number] = self.jumpFloor(number - 2) + self.jumpFloor(number - 1)\n",
    "        print(memo)\n",
    "\n",
    "        return memo[number]"
   ]
  },
  {
   "cell_type": "code",
   "execution_count": 45,
   "metadata": {},
   "outputs": [
    {
     "name": "stdout",
     "output_type": "stream",
     "text": [
      "[0, 0, 2]\n",
      "[0, 0, 0, 3]\n",
      "[0, 0, 2]\n",
      "[0, 0, 2]\n",
      "[0, 0, 0, 3]\n",
      "[0, 0, 0, 0, 5]\n",
      "[0, 0, 0, 0, 0, 8]\n",
      "[0, 0, 2]\n",
      "[0, 0, 2]\n",
      "[0, 0, 0, 3]\n",
      "[0, 0, 0, 0, 5]\n",
      "[0, 0, 2]\n",
      "[0, 0, 0, 3]\n",
      "[0, 0, 2]\n",
      "[0, 0, 2]\n",
      "[0, 0, 0, 3]\n",
      "[0, 0, 0, 0, 5]\n",
      "[0, 0, 0, 0, 0, 8]\n",
      "[0, 0, 0, 0, 0, 0, 13]\n",
      "[0, 0, 0, 0, 0, 0, 0, 21]\n"
     ]
    },
    {
     "data": {
      "text/plain": [
       "21"
      ]
     },
     "execution_count": 45,
     "metadata": {},
     "output_type": "execute_result"
    }
   ],
   "source": [
    "s = Solution()\n",
    "s.jumpFloor(7)"
   ]
  },
  {
   "cell_type": "markdown",
   "metadata": {},
   "source": [
    "# 动态规划"
   ]
  },
  {
   "cell_type": "code",
   "execution_count": 46,
   "metadata": {},
   "outputs": [],
   "source": [
    "class Solution:\n",
    "    def jumpFloor(self , number: int) -> int:\n",
    "        # write code here\n",
    "        if number == 1:\n",
    "            return 1\n",
    "        if number == 2:\n",
    "            return 2\n",
    "        if number == 3:\n",
    "            return 3\n",
    "        \n",
    "        temp1 = 2\n",
    "        temp2 = 3\n",
    "        for i in range(4, number+1):\n",
    "            total = temp1 + temp2\n",
    "            temp1 = temp2\n",
    "            temp2 = total\n",
    "            # print(total, temp1, temp2)\n",
    "\n",
    "        return total"
   ]
  },
  {
   "cell_type": "code",
   "execution_count": 47,
   "metadata": {},
   "outputs": [
    {
     "data": {
      "text/plain": [
       "89"
      ]
     },
     "execution_count": 47,
     "metadata": {},
     "output_type": "execute_result"
    }
   ],
   "source": [
    "s = Solution()\n",
    "s.jumpFloor(10)"
   ]
  },
  {
   "cell_type": "code",
   "execution_count": null,
   "metadata": {},
   "outputs": [],
   "source": []
  }
 ],
 "metadata": {
  "kernelspec": {
   "display_name": "Python 3.8.6 ('tensorflow2')",
   "language": "python",
   "name": "python3"
  },
  "language_info": {
   "codemirror_mode": {
    "name": "ipython",
    "version": 3
   },
   "file_extension": ".py",
   "mimetype": "text/x-python",
   "name": "python",
   "nbconvert_exporter": "python",
   "pygments_lexer": "ipython3",
   "version": "3.8.6"
  },
  "orig_nbformat": 4,
  "vscode": {
   "interpreter": {
    "hash": "85c51a4259275393737ca8d3e0cd6fa489554cf4913552085d5553b62ac22de5"
   }
  }
 },
 "nbformat": 4,
 "nbformat_minor": 2
}
