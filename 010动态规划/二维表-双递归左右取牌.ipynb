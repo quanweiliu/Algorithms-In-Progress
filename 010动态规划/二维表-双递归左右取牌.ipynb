{
 "cells": [
  {
   "cell_type": "markdown",
   "metadata": {},
   "source": [
    "# 左右取牌，得最大"
   ]
  },
  {
   "cell_type": "code",
   "execution_count": 1,
   "metadata": {},
   "outputs": [],
   "source": [
    "class CardsInLine():\n",
    "    def win(self, arr):\n",
    "        if arr == None or len(arr) == 0:\n",
    "            return 0\n",
    "        #              玩家A，                       玩家B\n",
    "        return max(self.f(arr, 0, len(arr)-1 ), self.s(arr, 0, len(arr)-1))\n",
    "\n",
    "    # 先手函数\n",
    "    # 在 i, j 范围内，得到的最好分数\n",
    "    def f(self, arr, i, j):\n",
    "        # i 等于 j 说明只有一个数字了，先手的把这个数字拿走\n",
    "        if i==j:\n",
    "            return arr[i]\n",
    "        \n",
    "        # 如果 i，j之间不止有一个数字，两种选择\n",
    "        return max(arr[i], self.s(arr, i+1, j), \n",
    "                    arr[j] + self.s(arr, i, j-1))\n",
    "\n",
    "    # 后手函数\n",
    "    # 后手最好的到的分数\n",
    "    def s(self, arr, i, j):\n",
    "        # i 等于 j 说明只有一个数字了，先手的把这个数字拿走,后手没有数可选择\n",
    "        if i==j:\n",
    "            return 0\n",
    "        \n",
    "        # 如果 i，j之间不止有一个数字，两种选择\n",
    "        return min(self.f(arr, i+1, j), \n",
    "                    self.f(arr, i, j-1))"
   ]
  },
  {
   "cell_type": "code",
   "execution_count": 2,
   "metadata": {},
   "outputs": [
    {
     "data": {
      "text/plain": [
       "39"
      ]
     },
     "execution_count": 2,
     "metadata": {},
     "output_type": "execute_result"
    }
   ],
   "source": [
    "s = CardsInLine()\n",
    "s.win([1,2,3])\n",
    "\n",
    "# 怎么取牌得到的分数最高\n",
    "s.win([1,2,3,10,5,8,20,6,9,15])"
   ]
  },
  {
   "cell_type": "markdown",
   "metadata": {},
   "source": [
    "# 记忆化搜索"
   ]
  },
  {
   "cell_type": "code",
   "execution_count": null,
   "metadata": {},
   "outputs": [],
   "source": []
  },
  {
   "cell_type": "markdown",
   "metadata": {},
   "source": [
    "# 动态规划"
   ]
  },
  {
   "cell_type": "code",
   "execution_count": 9,
   "metadata": {},
   "outputs": [],
   "source": [
    "class CardsInLine():\n",
    "\n",
    "    def dp(self, arr):\n",
    "        if arr == None or len(arr) == 0:\n",
    "            return 0\n",
    "\n",
    "        f = [[0 for i in range(len(arr))] for j in range(len(arr))]\n",
    "        s = [[0 for i in range(len(arr))] for j in range(len(arr))]\n",
    "\n",
    "        for i in range(len(arr)):\n",
    "            f[i][i] = arr[i]\n",
    "\n",
    "        row = 0\n",
    "        col = 1\n",
    "        while col < len(arr):\n",
    "            i = row\n",
    "            j = col\n",
    "            while i < len(arr) and j < len(arr):\n",
    "                # 如果 i，j之间不止有一个数字，两种选择\n",
    "                f[i][j] = max(arr[i] + s[i+1][j], arr[j] + s[i][j-1])\n",
    "                \n",
    "                # 如果 i，j之间不止有一个数字，两种选择\n",
    "                s[i][j] = min(f[i+1][j], f[i][j-1])\n",
    "\n",
    "                i += 1\n",
    "                j += 1\n",
    "            col += 1 \n",
    "        return max(f[0][len(arr)-1], s[0][len(arr)-1])"
   ]
  },
  {
   "cell_type": "code",
   "execution_count": 10,
   "metadata": {},
   "outputs": [
    {
     "data": {
      "text/plain": [
       "150"
      ]
     },
     "execution_count": 10,
     "metadata": {},
     "output_type": "execute_result"
    }
   ],
   "source": [
    "s = CardsInLine()\n",
    "s.dp([3,100,4,50])"
   ]
  },
  {
   "cell_type": "markdown",
   "metadata": {},
   "source": [
    "# 分析\n",
    "\n",
    "[3,100,4,50]\n",
    "\n",
    "i,j 的变化范围：因为 i，j 都是arr 中的位置，所以 i,j 的变化范围为（0，n-1）\n",
    "\n",
    "1. 递归（尝试）确定之后 -> 记忆化搜索就是加缓存 -> 严格表结构就是：1分析可变参数变化范围；2标出要计算的终止位置；3标出base case；\n",
    "\n",
    "- 2标出要计算的终止位置；\n",
    "```\n",
    "max(self.f(arr, 0, len(arr)-1 ), self.s(arr, 0, len(arr)-1))\n",
    "```\n",
    "\n",
    "- 3标出base case 用到的代码\n",
    "```\n",
    "if i==j:\n",
    "    return arr[i]\n",
    "if i==j:\n",
    "    return 0\n",
    "```\n",
    "\n",
    "f 函数\n",
    "|#|0|1|2|3|\n",
    "|-|-|-|-|-|\n",
    "|0| | | |※|\n",
    "|1|3| | | |\n",
    "|2|×|100| | |\n",
    "|3|×|×|4| |\n",
    "|4|×|×|×|50|\n",
    "\n",
    "s 函数\n",
    "|#|0|1|2|3|\n",
    "|-|-|-|-|-|\n",
    "|0| | | |※|\n",
    "|1|0| | | |\n",
    "|2|×|0| | |\n",
    "|3|×|×|0| |\n",
    "|4|×|×|×|0|\n",
    "\n",
    "\n",
    "\n",
    "\n",
    "2. 4推普遍位置是如何依赖其它位置的(从编程中找)；5定出计算顺序；6最后把递归的东西复制过来\n",
    "\n",
    "- 4推出依赖用到的代码\n",
    "\n",
    "```\n",
    "max(arr[i], self.s(arr, i+1, j), \n",
    "    arr[j] + self.s(arr, i, j-1))\n",
    "```\n",
    "\n",
    "f 函数\n",
    "|#|0|1|2|3|\n",
    "|-|-|-|-|-|\n",
    "|0| | | |※|\n",
    "|1|3| | | |\n",
    "|2|×|100| | |\n",
    "|3|×|×|4| |\n",
    "|4|×|×|×|50|\n",
    "\n",
    "s 函数\n",
    "|#|0|1|2|3|\n",
    "|-|-|-|-|-|\n",
    "|0| | | |※|\n",
    "|1|0| | | |\n",
    "|2|×|0| | |\n",
    "|3|×|×|0| |\n",
    "|4|×|×|×|0|"
   ]
  },
  {
   "cell_type": "code",
   "execution_count": null,
   "metadata": {},
   "outputs": [],
   "source": []
  },
  {
   "cell_type": "code",
   "execution_count": null,
   "metadata": {},
   "outputs": [],
   "source": []
  }
 ],
 "metadata": {
  "kernelspec": {
   "display_name": "Python 3.8.6 ('tensorflow2')",
   "language": "python",
   "name": "python3"
  },
  "language_info": {
   "codemirror_mode": {
    "name": "ipython",
    "version": 3
   },
   "file_extension": ".py",
   "mimetype": "text/x-python",
   "name": "python",
   "nbconvert_exporter": "python",
   "pygments_lexer": "ipython3",
   "version": "3.8.6"
  },
  "orig_nbformat": 4,
  "vscode": {
   "interpreter": {
    "hash": "85c51a4259275393737ca8d3e0cd6fa489554cf4913552085d5553b62ac22de5"
   }
  }
 },
 "nbformat": 4,
 "nbformat_minor": 2
}
