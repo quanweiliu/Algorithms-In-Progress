{
 "cells": [
  {
   "cell_type": "markdown",
   "metadata": {},
   "source": [
    "# 问题描述\n",
    "\n",
    "- 假设你正在爬楼梯。需要 n 阶你才能到达楼顶, 每次你可以爬1或2个台阶。你有多少种不同的方法可以爬到楼顶呢?\n",
    "- https://blog.csdn.net/zeronose/article/details/124048310"
   ]
  },
  {
   "cell_type": "markdown",
   "metadata": {},
   "source": [
    "# 暴力递归"
   ]
  },
  {
   "cell_type": "code",
   "execution_count": 30,
   "metadata": {},
   "outputs": [],
   "source": [
    "class Solution(object):\n",
    "    def climbStairs(self, n):\n",
    "        \"\"\"\n",
    "        :type n: int\n",
    "        :rtype: int\n",
    "        \"\"\"\n",
    "        # 1.递归,用递归超时\n",
    "        if n == 1:\n",
    "            return 1\n",
    "        if n == 2:\n",
    "            return 2\n",
    "        return self.climbStairs(n-1) + self.climbStairs(n-2)"
   ]
  },
  {
   "cell_type": "code",
   "execution_count": 31,
   "metadata": {},
   "outputs": [
    {
     "data": {
      "text/plain": [
       "21"
      ]
     },
     "execution_count": 31,
     "metadata": {},
     "output_type": "execute_result"
    }
   ],
   "source": [
    "s = Solution()\n",
    "s.climbStairs(7)"
   ]
  },
  {
   "cell_type": "markdown",
   "metadata": {},
   "source": [
    "# 被网络"
   ]
  },
  {
   "cell_type": "code",
   "execution_count": 32,
   "metadata": {},
   "outputs": [],
   "source": [
    "class Solution(object):\n",
    "    def climbStairs(self, n):\n",
    "\n",
    "        memo = [0]*(8)\n",
    "        return self.process(n, memo)\n",
    "\n",
    "    def process(self, n, memo):\n",
    "        if n == 1:\n",
    "            return 1\n",
    "        if n == 2:\n",
    "            return 2\n",
    "\n",
    "        if memo[n] != 0:\n",
    "            return memo[n]\n",
    "        \n",
    "        memo[n] =  self.process(n-1, memo) + self.process(n-2, memo)\n",
    "        print(memo)\n",
    "\n",
    "        return memo[n]\n"
   ]
  },
  {
   "cell_type": "code",
   "execution_count": 33,
   "metadata": {},
   "outputs": [
    {
     "name": "stdout",
     "output_type": "stream",
     "text": [
      "[0, 0, 0, 3, 0, 0, 0, 0]\n",
      "[0, 0, 0, 3, 5, 0, 0, 0]\n",
      "[0, 0, 0, 3, 5, 8, 0, 0]\n",
      "[0, 0, 0, 3, 5, 8, 13, 0]\n",
      "[0, 0, 0, 3, 5, 8, 13, 21]\n"
     ]
    },
    {
     "data": {
      "text/plain": [
       "21"
      ]
     },
     "execution_count": 33,
     "metadata": {},
     "output_type": "execute_result"
    }
   ],
   "source": [
    "s = Solution()\n",
    "s.climbStairs(7)"
   ]
  },
  {
   "cell_type": "markdown",
   "metadata": {},
   "source": [
    "# 直接最优算法\n",
    "- 动态规划+滚动数组"
   ]
  },
  {
   "cell_type": "code",
   "execution_count": 49,
   "metadata": {},
   "outputs": [],
   "source": [
    "class Solution():\n",
    "    def climbStairs(self, n):\n",
    "        if n == 1:\n",
    "            return 1\n",
    "        if n == 2:\n",
    "            return 2\n",
    "            \n",
    "        a = 1\n",
    "        b = 2\n",
    "\n",
    "        for i in range(2, n):\n",
    "            total = a + b\n",
    "            a = b\n",
    "            b = total\n",
    "            print(total)\n",
    "        return total"
   ]
  },
  {
   "cell_type": "code",
   "execution_count": 51,
   "metadata": {},
   "outputs": [
    {
     "name": "stdout",
     "output_type": "stream",
     "text": [
      "3\n"
     ]
    },
    {
     "data": {
      "text/plain": [
       "3"
      ]
     },
     "execution_count": 51,
     "metadata": {},
     "output_type": "execute_result"
    }
   ],
   "source": [
    "s = Solution()\n",
    "s.climbStairs(3)"
   ]
  },
  {
   "cell_type": "code",
   "execution_count": 36,
   "metadata": {},
   "outputs": [],
   "source": [
    "class Solution():\n",
    "    def climbStairs(self, n):\n",
    "        a = b = 1\n",
    "        \n",
    "        for i in range(2, n+1):\n",
    "            a, b = b, a + b\n",
    "\n",
    "        return b"
   ]
  },
  {
   "cell_type": "code",
   "execution_count": 40,
   "metadata": {},
   "outputs": [
    {
     "data": {
      "text/plain": [
       "21"
      ]
     },
     "execution_count": 40,
     "metadata": {},
     "output_type": "execute_result"
    }
   ],
   "source": [
    "s = Solution()\n",
    "s.climbStairs(7)"
   ]
  },
  {
   "cell_type": "code",
   "execution_count": 38,
   "metadata": {},
   "outputs": [],
   "source": [
    "for i in range(2,2):\n",
    "    print(\"输出\")"
   ]
  },
  {
   "cell_type": "code",
   "execution_count": null,
   "metadata": {},
   "outputs": [],
   "source": []
  }
 ],
 "metadata": {
  "kernelspec": {
   "display_name": "Python 3.8.6 ('tensorflow2')",
   "language": "python",
   "name": "python3"
  },
  "language_info": {
   "codemirror_mode": {
    "name": "ipython",
    "version": 3
   },
   "file_extension": ".py",
   "mimetype": "text/x-python",
   "name": "python",
   "nbconvert_exporter": "python",
   "pygments_lexer": "ipython3",
   "version": "3.8.6"
  },
  "orig_nbformat": 4,
  "vscode": {
   "interpreter": {
    "hash": "85c51a4259275393737ca8d3e0cd6fa489554cf4913552085d5553b62ac22de5"
   }
  }
 },
 "nbformat": 4,
 "nbformat_minor": 2
}
