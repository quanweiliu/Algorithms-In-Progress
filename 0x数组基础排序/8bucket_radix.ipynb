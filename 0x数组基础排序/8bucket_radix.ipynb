{
 "cells": [
  {
   "cell_type": "code",
   "execution_count": 1,
   "metadata": {},
   "outputs": [],
   "source": [
    "import random"
   ]
  },
  {
   "cell_type": "markdown",
   "metadata": {},
   "source": [
    "# 桶排序\n",
    "- 用的不是很多"
   ]
  },
  {
   "cell_type": "code",
   "execution_count": 2,
   "metadata": {},
   "outputs": [],
   "source": [
    "# bucket_sort\n",
    "def bucket_sort(li, n=100, max_num=10000):\n",
    "    buckets = [[] for _ in range(n)]\n",
    "    for var in li:\n",
    "        i = min(var // (max_num // n), n-1)   # i 表示var 放在几号桶\n",
    "        buckets[i].append(var)                # 把var 加到桶里面\n",
    "        # 保持桶内的顺序\n",
    "\n",
    "        for j in range(len(buckets[i])-1, 0, -1):\n",
    "            if buckets[i][j] < buckets[i][j-1]:\n",
    "                buckets[i][j], buckets[i][j-1] = buckets[i][j-1], buckets[i][j]\n",
    "            else:\n",
    "                break\n",
    "\n",
    "    sorted_li = []\n",
    "    for buc in buckets:\n",
    "        sorted_li.extend(buc)\n",
    "    return sorted_li"
   ]
  },
  {
   "cell_type": "code",
   "execution_count": 3,
   "metadata": {},
   "outputs": [
    {
     "name": "stdout",
     "output_type": "stream",
     "text": [
      "[10, 8, 8, 7, 0, 9, 1, 0, 6, 2]\n",
      "[0, 0, 1, 2, 6, 7, 8, 8, 9, 10]\n"
     ]
    }
   ],
   "source": [
    "li = [random.randint(0, 10) for _ in range(10)]\n",
    "print(li)\n",
    "\n",
    "li = bucket_sort(li)\n",
    "print(li)"
   ]
  },
  {
   "cell_type": "markdown",
   "metadata": {},
   "source": [
    "# 基数排序\n",
    "- 分桶，多次装桶"
   ]
  },
  {
   "cell_type": "code",
   "execution_count": 4,
   "metadata": {},
   "outputs": [],
   "source": [
    "# radix_sort\n",
    "\n",
    "def redix_sort(li):\n",
    "    max_num = max(li)   # 最大值 99-> 3， 888->3, 10000->5\n",
    "    it = 0\n",
    "    while 10**it <= max_num:\n",
    "        buckets = [[] for _ in range(10)]\n",
    "        # 分桶\n",
    "        for var in li:\n",
    "            digit =  (var // 10 ** it) % 10\n",
    "            buckets[digit].append(var)\n",
    "        # 分桶完成\n",
    "        li.clear()\n",
    "        for buc in buckets:\n",
    "            li.extend(buc)\n",
    "        # 把数重新写回 li\n",
    "        it += 1"
   ]
  },
  {
   "cell_type": "code",
   "execution_count": 5,
   "metadata": {},
   "outputs": [
    {
     "name": "stdout",
     "output_type": "stream",
     "text": [
      "[9, 3, 8, 5, 9, 10, 5, 6, 2, 8]\n",
      "[2, 3, 5, 5, 6, 8, 8, 9, 9, 10]\n"
     ]
    }
   ],
   "source": [
    "li = [random.randint(0, 10) for _ in range(10)]\n",
    "print(li)\n",
    "\n",
    "redix_sort(li)\n",
    "print(li)"
   ]
  },
  {
   "cell_type": "code",
   "execution_count": 6,
   "metadata": {},
   "outputs": [],
   "source": [
    "# 时间复杂度"
   ]
  }
 ],
 "metadata": {
  "interpreter": {
   "hash": "9ecbc95d31df1b277e5ec566a835865c3a9a253da4266404bdbc6ee7e31406f4"
  },
  "kernelspec": {
   "display_name": "Python 3.8.6 64-bit ('tensorflow2': conda)",
   "language": "python",
   "name": "python3"
  },
  "language_info": {
   "codemirror_mode": {
    "name": "ipython",
    "version": 3
   },
   "file_extension": ".py",
   "mimetype": "text/x-python",
   "name": "python",
   "nbconvert_exporter": "python",
   "pygments_lexer": "ipython3",
   "version": "3.8.10"
  },
  "orig_nbformat": 4
 },
 "nbformat": 4,
 "nbformat_minor": 2
}
