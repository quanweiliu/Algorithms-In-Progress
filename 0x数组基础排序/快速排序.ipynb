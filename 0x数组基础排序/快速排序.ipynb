{
 "cells": [
  {
   "cell_type": "markdown",
   "metadata": {},
   "source": [
    "- 前序遍历"
   ]
  },
  {
   "cell_type": "markdown",
   "metadata": {},
   "source": [
    "## 版本一"
   ]
  },
  {
   "cell_type": "code",
   "execution_count": null,
   "metadata": {},
   "outputs": [],
   "source": [
    "class Solution():\n",
    "    def __init__(self):\n",
    "        self.aid = []\n",
    "    def quick_sort(self, data, left, right):\n",
    "        # left = 0\n",
    "        # right = len(data) - 1\n",
    "        if left < right:\n",
    "            mid = self.partition(data, left, right)\n",
    "            # print(mid)\n",
    "\n",
    "            # 递归调用已经分号的两部分\n",
    "            self.quick_sort(data, left, mid-1)\n",
    "            self.quick_sort(data, mid+1, right)\n",
    "\n",
    "        return data\n",
    "\n",
    "    def partition(self, li, left, right):\n",
    "        # 储存刚开始的值\n",
    "        tmp = li[left]                # 选定中值（随机选，默认第一个）\n",
    "        while left < right:\n",
    "            # 从右边找\n",
    "            while  left < right and li[right] >= tmp:   # 找比当前存储的值小的数\n",
    "                right -= 1            # 往左边走一步\n",
    "            li[left] = li[right]      # 把右边的值写到左边的空位\n",
    "\n",
    "            # 从左边找\n",
    "            while left < right and li[left] <= tmp:\n",
    "                left += 1\n",
    "            li[right] = li[left]  \n",
    "            # print(li)  \n",
    "        li[left] = tmp                  # tmp 归为\n",
    "\n",
    "        return left                     # 中值点，也就是分裂点"
   ]
  },
  {
   "cell_type": "code",
   "execution_count": null,
   "metadata": {},
   "outputs": [],
   "source": [
    "arr = [1,3,5,2,4,6,0,9]\n",
    "print(len(arr))"
   ]
  },
  {
   "cell_type": "code",
   "execution_count": null,
   "metadata": {},
   "outputs": [],
   "source": [
    "s = Solution()\n",
    "sorted  = s.quick_sort(arr, 0, len(arr) - 1)\n",
    "sorted"
   ]
  },
  {
   "cell_type": "markdown",
   "metadata": {},
   "source": [
    "## 版本二"
   ]
  },
  {
   "cell_type": "code",
   "execution_count": 1,
   "metadata": {},
   "outputs": [
    {
     "name": "stdout",
     "output_type": "stream",
     "text": [
      "[0, 2, 3, 5, 10, 11]\n"
     ]
    }
   ],
   "source": [
    "class Solution():\n",
    "\n",
    "    def quicksort(self, array): \n",
    "        if len(array) < 2: \n",
    "            return array\n",
    "        else: \n",
    "            # 基线\n",
    "            pivot = array[0]\n",
    "\n",
    "        # 基线条件：为空或只包含一个元素的数组是“有序”的 递归条件\n",
    "        less = [i for i in array[1:] if i <= pivot]\n",
    "        greater = [i for i in array[1:] if i > pivot]\n",
    "        return self.quicksort(less) + [pivot] + self.quicksort(greater)\n",
    "\n",
    "print(Solution().quicksort([10, 5, 2, 3, 0, 11]))"
   ]
  },
  {
   "cell_type": "code",
   "execution_count": 2,
   "metadata": {},
   "outputs": [
    {
     "name": "stdout",
     "output_type": "stream",
     "text": [
      "[0, 2, 3, 5, 10, 11]\n"
     ]
    }
   ],
   "source": [
    "class Solution():\n",
    "\n",
    "    def quicksort(self, array): \n",
    "        if len(array) < 2: \n",
    "            return array\n",
    "        else: \n",
    "            # 基线\n",
    "            pivot = array[0]\n",
    "            \n",
    "        # 基线条件：为空或只包含一个元素的数组是“有序”的 递归条件\n",
    "        less = [i for i in array[1:] if i <= pivot] \n",
    "        greater = [i for i in array[1:] if i > pivot] \n",
    "        x = self.quicksort(less) + [pivot] + self.quicksort(greater) \n",
    "        return x\n",
    "\n",
    "print(Solution().quicksort([10, 5, 2, 3, 0, 11]))"
   ]
  },
  {
   "cell_type": "code",
   "execution_count": null,
   "metadata": {},
   "outputs": [],
   "source": []
  },
  {
   "cell_type": "code",
   "execution_count": null,
   "metadata": {},
   "outputs": [],
   "source": []
  }
 ],
 "metadata": {
  "kernelspec": {
   "display_name": "Python 3.8.6 ('tensorflow2')",
   "language": "python",
   "name": "python3"
  },
  "language_info": {
   "codemirror_mode": {
    "name": "ipython",
    "version": 3
   },
   "file_extension": ".py",
   "mimetype": "text/x-python",
   "name": "python",
   "nbconvert_exporter": "python",
   "pygments_lexer": "ipython3",
   "version": "3.8.6"
  },
  "orig_nbformat": 4,
  "vscode": {
   "interpreter": {
    "hash": "85c51a4259275393737ca8d3e0cd6fa489554cf4913552085d5553b62ac22de5"
   }
  }
 },
 "nbformat": 4,
 "nbformat_minor": 2
}
