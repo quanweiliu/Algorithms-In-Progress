{
 "cells": [
  {
   "cell_type": "markdown",
   "metadata": {},
   "source": [
    "# NB 三人组\n",
    "\n",
    "- 快速排序\n",
    "- 以后在学几遍，一次搞不定"
   ]
  },
  {
   "cell_type": "code",
   "execution_count": 2,
   "metadata": {},
   "outputs": [],
   "source": [
    "# 归位函数\n",
    "def partition(li, left, right):\n",
    "    \"\"\"\n",
    "    @description  :分裂的过程\n",
    "    ---------\n",
    "    @param  :left，right, 左右标初值\n",
    "    -------\n",
    "    \"\"\"\n",
    "    \n",
    "    # 储存刚开始的值\n",
    "    tmp = li[left]                                # 选定中值（随机选，默认第一个）\n",
    "    while left < right:\n",
    "\n",
    "        # 从右边找\n",
    "        while  left < right and li[right] >= tmp:   # 找比当前存储的值小的数\n",
    "            right -= 1            # 往左边走一步\n",
    "        li[left] = li[right]      # 把右边的值写道左边的空位\n",
    "\n",
    "        # 从左边找\n",
    "        while left < right and li[left] <= tmp:\n",
    "            left += 1\n",
    "        li[right] = li[left]  \n",
    "        print(li)  \n",
    "    li[left] = tmp                  # tmp 归为\n",
    "\n",
    "    return left                     # 中值点，也就是分裂点"
   ]
  },
  {
   "cell_type": "code",
   "execution_count": 3,
   "metadata": {},
   "outputs": [
    {
     "name": "stdout",
     "output_type": "stream",
     "text": [
      "[2, 7, 4, 6, 3, 1, 7, 9, 8]\n",
      "[2, 1, 4, 6, 3, 6, 7, 9, 8]\n",
      "[2, 1, 4, 3, 3, 6, 7, 9, 8]\n",
      "[2, 1, 4, 3, 5, 6, 7, 9, 8]\n"
     ]
    }
   ],
   "source": [
    "li = [5,7,4,6,3,1,2,9,8]\n",
    "partition(li, 0, len(li) - 1)\n",
    "print(li)"
   ]
  },
  {
   "cell_type": "code",
   "execution_count": 4,
   "metadata": {},
   "outputs": [],
   "source": [
    "# 递归, 这个递归传入的条件在改变\n",
    "def quick_sort(data, left, right):\n",
    "    if left < right:\n",
    "        mid = partition(data, left, right)\n",
    "        print(mid)\n",
    "\n",
    "        # 递归调用已经分号的两部分\n",
    "        quick_sort(data, left, mid-1)\n",
    "        quick_sort(data, mid+1, right)"
   ]
  },
  {
   "cell_type": "code",
   "execution_count": 5,
   "metadata": {},
   "outputs": [
    {
     "name": "stdout",
     "output_type": "stream",
     "text": [
      "[1, 1, 4, 3, 5, 6, 7, 9, 8]\n",
      "1\n",
      "[1, 2, 3, 3, 5, 6, 7, 9, 8]\n",
      "3\n",
      "[1, 2, 3, 4, 5, 6, 7, 9, 8]\n",
      "4\n",
      "[1, 2, 3, 4, 5, 6, 7, 9, 8]\n",
      "5\n",
      "[1, 2, 3, 4, 5, 6, 7, 9, 8]\n",
      "6\n",
      "[1, 2, 3, 4, 5, 6, 7, 8, 8]\n",
      "8\n",
      "[1, 2, 3, 4, 5, 6, 7, 8, 9]\n"
     ]
    }
   ],
   "source": [
    "quick_sort(li, 0, len(li) - 1)\n",
    "print(li)"
   ]
  },
  {
   "cell_type": "markdown",
   "metadata": {},
   "source": [
    "# 北大"
   ]
  },
  {
   "cell_type": "code",
   "execution_count": 6,
   "metadata": {},
   "outputs": [],
   "source": [
    "def quickSort(alist):\n",
    "    quickSortHelper(alist, 0, len(alist) - 1)\n",
    "\n",
    "def quickSortHelper(alist, first, last):\n",
    "    if first < last:                                 # 基本结束条件\n",
    "        splitPoint = partition(alist, first, last)   # 分裂\n",
    "        quickSortHelper(alist, first, splitPoint-1)  # 递归调用\n",
    "        quickSortHelper(alist, splitPoint+1, last)"
   ]
  },
  {
   "cell_type": "code",
   "execution_count": 7,
   "metadata": {},
   "outputs": [
    {
     "name": "stdout",
     "output_type": "stream",
     "text": [
      "[2, 7, 4, 6, 3, 1, 7, 9, 8]\n",
      "[2, 1, 4, 6, 3, 6, 7, 9, 8]\n",
      "[2, 1, 4, 3, 3, 6, 7, 9, 8]\n",
      "[1, 1, 4, 3, 5, 6, 7, 9, 8]\n",
      "[1, 2, 3, 3, 5, 6, 7, 9, 8]\n",
      "[1, 2, 3, 4, 5, 6, 7, 9, 8]\n",
      "[1, 2, 3, 4, 5, 6, 7, 9, 8]\n",
      "[1, 2, 3, 4, 5, 6, 7, 8, 8]\n",
      "[1, 2, 3, 4, 5, 6, 7, 8, 9]\n"
     ]
    }
   ],
   "source": [
    "li = [5,7,4,6,3,1,2,9,8]\n",
    "quickSort(li)\n",
    "print(li)"
   ]
  },
  {
   "cell_type": "code",
   "execution_count": null,
   "metadata": {},
   "outputs": [],
   "source": []
  }
 ],
 "metadata": {
  "interpreter": {
   "hash": "9ecbc95d31df1b277e5ec566a835865c3a9a253da4266404bdbc6ee7e31406f4"
  },
  "kernelspec": {
   "display_name": "Python 3.8.6 64-bit ('tensorflow2': conda)",
   "name": "python3"
  },
  "language_info": {
   "codemirror_mode": {
    "name": "ipython",
    "version": 3
   },
   "file_extension": ".py",
   "mimetype": "text/x-python",
   "name": "python",
   "nbconvert_exporter": "python",
   "pygments_lexer": "ipython3",
   "version": "3.8.6"
  },
  "orig_nbformat": 4
 },
 "nbformat": 4,
 "nbformat_minor": 2
}
