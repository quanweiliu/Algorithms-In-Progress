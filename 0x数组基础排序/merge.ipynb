{
 "cells": [
  {
   "cell_type": "markdown",
   "metadata": {},
   "source": [
    "# 归并排序"
   ]
  },
  {
   "cell_type": "code",
   "execution_count": 1,
   "metadata": {},
   "outputs": [],
   "source": [
    "import random"
   ]
  },
  {
   "cell_type": "code",
   "execution_count": 2,
   "metadata": {},
   "outputs": [],
   "source": [
    "# merge sort\n",
    "\n",
    "def merge(li, low, mid, high):\n",
    "    \"\"\"\n",
    "    low:第一个有序的第一个数\n",
    "    mid：第一个有序的最后一个数\n",
    "    high：最后一个数\n",
    "    \"\"\"\n",
    "    i = low\n",
    "    j = mid + 1\n",
    "    ltmp = []\n",
    "    while i<=mid and j<=high: # 只要左右两边都有数\n",
    "        if li[i] < li[j]:\n",
    "            ltmp.append(li[i])\n",
    "            i += 1\n",
    "        else:\n",
    "            ltmp.append(li[j])\n",
    "            j += 1\n",
    "        \n",
    "    # while 执行完，肯定有一部分没数\n",
    "    while i <= mid:\n",
    "        ltmp.append(li[i])\n",
    "        i += 1\n",
    "    while j <= high:\n",
    "        ltmp.append(li[j])\n",
    "        j += 1\n",
    "    li[low : high+1] = ltmp"
   ]
  },
  {
   "cell_type": "code",
   "execution_count": 3,
   "metadata": {},
   "outputs": [
    {
     "name": "stdout",
     "output_type": "stream",
     "text": [
      "[1, 2, 3, 4, 5, 6, 7, 8]\n"
     ]
    }
   ],
   "source": [
    "li = [2, 4, 5, 7, 1, 3, 6, 8]\n",
    "merge(li, 0, 3, 7)\n",
    "print(li)"
   ]
  },
  {
   "cell_type": "code",
   "execution_count": 4,
   "metadata": {},
   "outputs": [],
   "source": [
    "# application merge\n",
    "\n",
    "# recurrent\n",
    "def merge_sort(li, low, high):\n",
    "    if low < high:   # 至少有两个元素，递归\n",
    "        mid = (low +  high) // 2\n",
    "        # 第一步，左边排好序\n",
    "        merge_sort(li, low, mid)\n",
    "        # 第二步，右边排好序\n",
    "        merge_sort(li, mid+1, high)\n",
    "        # print(li[low:high+1])\n",
    "        # 合并\n",
    "        merge(li, low, mid, high)"
   ]
  },
  {
   "cell_type": "code",
   "execution_count": 5,
   "metadata": {},
   "outputs": [
    {
     "name": "stdout",
     "output_type": "stream",
     "text": [
      "[9, 0, 7, 6, 4, 3, 8, 2, 1, 5]\n",
      "[0, 1, 2, 3, 4, 5, 6, 7, 8, 9]\n"
     ]
    }
   ],
   "source": [
    "li = list(range(10))\n",
    "random.shuffle(li)\n",
    "print(li)\n",
    "merge_sort(li, 0, len(li)-1)\n",
    "print(li)"
   ]
  },
  {
   "cell_type": "markdown",
   "metadata": {},
   "source": [
    "# 时间复杂度\n",
    "O(nlogn)\n",
    "# 空间复杂度\n",
    "O(n)\n",
    "\n",
    "\n",
    "- python sort 排序中包含了归并排序，但是做了优化"
   ]
  },
  {
   "cell_type": "code",
   "execution_count": null,
   "metadata": {},
   "outputs": [],
   "source": [
    "# 归并排序-北大"
   ]
  },
  {
   "cell_type": "code",
   "execution_count": 3,
   "metadata": {},
   "outputs": [],
   "source": [
    "def mergeSort(alist):\n",
    "    if len(alist) > 1:                     # 基本结束条件\n",
    "        mid = len(alist) // 2\n",
    "        lefthalf = alist[:mid]\n",
    "        righthalf = alist[mid:]\n",
    "\n",
    "        mergeSort(lefthalf)                # 递归调用\n",
    "        mergeSort(righthalf)\n",
    "\n",
    "        i = j = k = 0\n",
    "\n",
    "        # 拉链式交错把左右半部分从小到大归并到结果列表中\n",
    "        while i < len(lefthalf) and j < len(righthalf):\n",
    "            if lefthalf[i] < righthalf[j]:\n",
    "                alist[k] = lefthalf[i]\n",
    "                i = i + 1\n",
    "            else:\n",
    "                alist[k] = righthalf[j]   \n",
    "                j = j + 1\n",
    "            k = k + 1\n",
    "\n",
    "            \n",
    "        while i < len(lefthalf):           # 归并左\n",
    "            alist[k] = lefthalf[i]\n",
    "            i = i + 1\n",
    "            k = k + 1\n",
    "        while j < len(righthalf):          # 归并左\n",
    "            alist[k]=righthalf[j]\n",
    "            j = j + 1\n",
    "            k = k + 1"
   ]
  },
  {
   "cell_type": "code",
   "execution_count": 4,
   "metadata": {},
   "outputs": [
    {
     "name": "stdout",
     "output_type": "stream",
     "text": [
      "[1, 2, 3, 4, 5, 6, 7, 8]\n"
     ]
    }
   ],
   "source": [
    "li = [2, 4, 5, 7, 1, 3, 6, 8]\n",
    "mergeSort(li)\n",
    "print(li)"
   ]
  },
  {
   "cell_type": "code",
   "execution_count": 12,
   "metadata": {},
   "outputs": [],
   "source": [
    "# 归并排序-北大， 更加 python 风格\n",
    "def merge_sort(lst):\n",
    "    # 递归结束条件\n",
    "    if len(lst) <= 1:\n",
    "        return lst\n",
    "\n",
    "    # 分解问题，并递归调用\n",
    "    middle = len(lst) // 2\n",
    "    left = merge_sort(lst[:middle])     # 做半部分排好序\n",
    "    right = merge_sort(lst[middle:])    # 右半部分排好序\n",
    "\n",
    "    # 合并左右半部，完成排序\n",
    "    merged = []\n",
    "    while left and right:\n",
    "        if left[0] <= right[0]:\n",
    "            merged.append(left.pop(0))\n",
    "        else:\n",
    "            merged.append(right.pop(0))\n",
    "    # print(merged)\n",
    "    # 如果有剩余这行才执行，不剩余不执行\n",
    "    merged.extend(right if right else left)\n",
    "\n",
    "    return merged"
   ]
  },
  {
   "cell_type": "code",
   "execution_count": 13,
   "metadata": {},
   "outputs": [
    {
     "name": "stdout",
     "output_type": "stream",
     "text": [
      "[2]\n",
      "[5]\n",
      "[2, 4]\n",
      "[1]\n",
      "[6]\n",
      "[1, 3]\n",
      "[1, 2, 3, 4, 5, 6, 7]\n",
      "[2, 4, 5, 7, 1, 3, 6, 8]\n"
     ]
    }
   ],
   "source": [
    "li = [2, 4, 5, 7, 1, 3, 6, 8]\n",
    "merge_sort(li)\n",
    "print(li)"
   ]
  },
  {
   "cell_type": "code",
   "execution_count": null,
   "metadata": {},
   "outputs": [],
   "source": []
  }
 ],
 "metadata": {
  "interpreter": {
   "hash": "c0ba61e0581c20c2ea07775480ef1834cedf3d015b7bfd07402ed1a7b2a65079"
  },
  "kernelspec": {
   "display_name": "Python 3.8.10 64-bit ('tensorflow2.5': conda)",
   "language": "python",
   "name": "python3"
  },
  "language_info": {
   "codemirror_mode": {
    "name": "ipython",
    "version": 3
   },
   "file_extension": ".py",
   "mimetype": "text/x-python",
   "name": "python",
   "nbconvert_exporter": "python",
   "pygments_lexer": "ipython3",
   "version": "3.8.10"
  },
  "orig_nbformat": 4
 },
 "nbformat": 4,
 "nbformat_minor": 2
}
