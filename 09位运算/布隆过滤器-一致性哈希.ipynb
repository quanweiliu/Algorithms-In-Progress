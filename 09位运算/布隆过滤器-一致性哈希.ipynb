{
 "cells": [
  {
   "cell_type": "markdown",
   "metadata": {},
   "source": [
    "# 布隆过滤器\n",
    "- 本质上布隆过滤器是一种数据结构，比较巧妙的概率型数据结构（probabilistic data structure），\n",
    "- 关键点\n",
    "    - 黑名单系统，没有删除操作\n",
    "    - 失误率，失误率是多少\n",
    "- 作用：\n",
    "    - 特点是高效地**插入和查询**，可以用来告诉你 “某样东西一定不存在或者可能存在”。\n",
    "    - 相比于传统的 List、Set、Map 等数据结构，它更高效、占用空间更少，但是缺点是其返回的结果是概率性的，而不是确切的。\n",
    "- 相关概念：\n",
    "    - 位图"
   ]
  },
  {
   "cell_type": "markdown",
   "metadata": {},
   "source": [
    "# 一致性哈希\n",
    "- 分布式储存\n",
    "- 复杂均衡\n",
    "- 虚拟节点\n",
    "\n",
    "- https://www.cnblogs.com/lpfuture/p/5796398.html"
   ]
  },
  {
   "cell_type": "code",
   "execution_count": null,
   "metadata": {},
   "outputs": [],
   "source": []
  },
  {
   "cell_type": "code",
   "execution_count": null,
   "metadata": {},
   "outputs": [],
   "source": []
  },
  {
   "cell_type": "code",
   "execution_count": null,
   "metadata": {},
   "outputs": [],
   "source": []
  }
 ],
 "metadata": {
  "language_info": {
   "name": "python"
  },
  "orig_nbformat": 4
 },
 "nbformat": 4,
 "nbformat_minor": 2
}
