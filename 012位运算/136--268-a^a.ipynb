{
 "cells": [
  {
   "cell_type": "markdown",
   "metadata": {},
   "source": [
    "# a ^ a"
   ]
  },
  {
   "cell_type": "markdown",
   "metadata": {},
   "source": [
    "# 136.只出现一次的数字\n",
    "- ^ 抑或运算，无进位相加"
   ]
  },
  {
   "cell_type": "code",
   "execution_count": 9,
   "metadata": {},
   "outputs": [],
   "source": [
    "a = [1,1,1,2,2,2,2,3,3,3,3]"
   ]
  },
  {
   "cell_type": "code",
   "execution_count": 13,
   "metadata": {},
   "outputs": [
    {
     "name": "stdout",
     "output_type": "stream",
     "text": [
      "1\n"
     ]
    }
   ],
   "source": [
    "val = a[0]\n",
    "length = len(a)\n",
    "# print(length)\n",
    "for i in range(1, length):\n",
    "    val ^= a[i]\n",
    "    # print(val)\n",
    "print(val)"
   ]
  },
  {
   "cell_type": "code",
   "execution_count": 1,
   "metadata": {},
   "outputs": [],
   "source": [
    "from collections import Counter\n",
    "\n",
    "class Solution:\n",
    "    def singleNumber(self, nums) -> int:\n",
    "        res = Counter(nums)\n",
    "        print(res)\n",
    "        for k,v in res.items():\n",
    "            print(k, v)\n",
    "            if v%2 != 0:\n",
    "                print(\"k\", k)\n",
    "                return k"
   ]
  },
  {
   "cell_type": "code",
   "execution_count": 2,
   "metadata": {},
   "outputs": [
    {
     "name": "stdout",
     "output_type": "stream",
     "text": [
      "Counter({1: 4, 2: 2})\n",
      "2 2\n",
      "1 4\n"
     ]
    }
   ],
   "source": [
    "s = Solution()\n",
    "ls = [2,1,1,1,1,2]\n",
    "s.singleNumber(ls)"
   ]
  },
  {
   "cell_type": "markdown",
   "metadata": {},
   "source": [
    "# 找两个奇数"
   ]
  },
  {
   "cell_type": "markdown",
   "metadata": {},
   "source": [
    "- 方法一\n",
    "\n",
    "两个奇数的情况下，结果必定为 a^b, a和b 为 数组中的奇数个数的数"
   ]
  },
  {
   "cell_type": "code",
   "execution_count": 18,
   "metadata": {},
   "outputs": [],
   "source": [
    "a = [10,10,10,20,20,20,3,3,3,3]"
   ]
  },
  {
   "cell_type": "code",
   "execution_count": 19,
   "metadata": {},
   "outputs": [
    {
     "name": "stdout",
     "output_type": "stream",
     "text": [
      "30\n"
     ]
    }
   ],
   "source": [
    "val = a[0]\n",
    "length = len(a)\n",
    "# print(length)\n",
    "for i in range(1, length):\n",
    "    val ^= a[i]\n",
    "    # print(val)\n",
    "print(val)"
   ]
  },
  {
   "cell_type": "markdown",
   "metadata": {},
   "source": [
    "- 方法二"
   ]
  },
  {
   "cell_type": "code",
   "execution_count": 21,
   "metadata": {},
   "outputs": [],
   "source": [
    "from collections import Counter"
   ]
  },
  {
   "cell_type": "code",
   "execution_count": 23,
   "metadata": {},
   "outputs": [
    {
     "name": "stdout",
     "output_type": "stream",
     "text": [
      "10\n",
      "20\n"
     ]
    }
   ],
   "source": [
    "sta = Counter(a)\n",
    "\n",
    "for key, val in sta.items():\n",
    "    if val % 2 != 0:\n",
    "        print(key)"
   ]
  },
  {
   "cell_type": "markdown",
   "metadata": {},
   "source": [
    "# 268.寻找缺失的元素\n",
    "- 异或运算的性质：一个数和它本身做异或运算结果为 0，一个数和 0 做异或运算还是它本身。\n",
    "- 异或运算满足交换律和结合律"
   ]
  },
  {
   "cell_type": "code",
   "execution_count": 50,
   "metadata": {},
   "outputs": [],
   "source": [
    "# 位运算法\n",
    "# 只要把所有的元素和索引做异或运算，成对儿的数字都会消为 0，只有这个落单的元素会剩下。\n",
    "# 这里和上面找奇数一样，不用关心顺序，只要完成所有亦或运算，就会得到想要的结果。\n",
    "class Solution:\n",
    "    def missingNumber(self, nums) -> int:\n",
    "        n = len(nums)\n",
    "        res = 0\n",
    "        # 注意：和新补的索引异或一下, res 就是新补的元素\n",
    "        # 这里提前完成了最后一步，就不会有越界的问题了\n",
    "        res ^= n    # 3\n",
    "        # print(res)\n",
    "        # 和其他的元素、索引做异或\n",
    "        for i in range(len(nums)):\n",
    "            ##################\n",
    "            res ^= i ^ nums[i]\n",
    "        return res"
   ]
  },
  {
   "cell_type": "code",
   "execution_count": 51,
   "metadata": {},
   "outputs": [
    {
     "data": {
      "text/plain": [
       "2"
      ]
     },
     "execution_count": 51,
     "metadata": {},
     "output_type": "execute_result"
    }
   ],
   "source": [
    "nums = [3,0,1]\n",
    "s = Solution()\n",
    "s.missingNumber(nums)"
   ]
  },
  {
   "cell_type": "code",
   "execution_count": null,
   "metadata": {},
   "outputs": [],
   "source": [
    "# 一个特别简单的解法：等差数列求和公式"
   ]
  },
  {
   "cell_type": "code",
   "execution_count": 27,
   "metadata": {},
   "outputs": [],
   "source": [
    "# 字典法\n",
    "from collections import defaultdict\n",
    "\n",
    "class Solution:\n",
    "    def missingNumber(self, nums) -> int:\n",
    "\n",
    "        dict = defaultdict(int)\n",
    "        for i in range(len(nums)+1):\n",
    "           dict[i] = 0\n",
    "        for i in range(len(nums)):\n",
    "           dict[nums[i]] += 1\n",
    "        print(dict)\n",
    "        for k,v in dict.items():\n",
    "            if v == 0:\n",
    "                return k"
   ]
  },
  {
   "cell_type": "code",
   "execution_count": 28,
   "metadata": {},
   "outputs": [
    {
     "name": "stdout",
     "output_type": "stream",
     "text": [
      "defaultdict(<class 'int'>, {0: 1, 1: 1, 2: 0})\n"
     ]
    },
    {
     "data": {
      "text/plain": [
       "2"
      ]
     },
     "execution_count": 28,
     "metadata": {},
     "output_type": "execute_result"
    }
   ],
   "source": [
    "nums = [0,1]\n",
    "s = Solution()\n",
    "s.missingNumber(nums)"
   ]
  },
  {
   "cell_type": "code",
   "execution_count": null,
   "metadata": {},
   "outputs": [],
   "source": []
  }
 ],
 "metadata": {
  "interpreter": {
   "hash": "9ecbc95d31df1b277e5ec566a835865c3a9a253da4266404bdbc6ee7e31406f4"
  },
  "kernelspec": {
   "display_name": "Python 3.8.6 ('tensorflow2')",
   "language": "python",
   "name": "python3"
  },
  "language_info": {
   "codemirror_mode": {
    "name": "ipython",
    "version": 3
   },
   "file_extension": ".py",
   "mimetype": "text/x-python",
   "name": "python",
   "nbconvert_exporter": "python",
   "pygments_lexer": "ipython3",
   "version": "3.8.6"
  },
  "orig_nbformat": 4
 },
 "nbformat": 4,
 "nbformat_minor": 2
}
