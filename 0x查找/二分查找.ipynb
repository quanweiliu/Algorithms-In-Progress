{
 "cells": [
  {
   "cell_type": "code",
   "execution_count": null,
   "metadata": {},
   "outputs": [],
   "source": [
    "# https://www.cnblogs.com/kyoner/p/11080078.html"
   ]
  },
  {
   "cell_type": "code",
   "execution_count": null,
   "metadata": {},
   "outputs": [],
   "source": []
  },
  {
   "cell_type": "code",
   "execution_count": 3,
   "metadata": {},
   "outputs": [],
   "source": [
    "ls = [0,1,2,3,4]"
   ]
  },
  {
   "cell_type": "code",
   "execution_count": null,
   "metadata": {},
   "outputs": [],
   "source": [
    "# 我自己的写的稀巴烂\n",
    "def binaryS(ls, target = 2):\n",
    "    L = 0\n",
    "    H = len(ls)\n",
    "    M = (L+H) // 2\n",
    "\n",
    "    while L < H:\n",
    "        # 查找\n",
    "        if ls[L] == target:\n",
    "            return L\n",
    "\n",
    "        elif ls[L] > target or ls[H]< target:\n",
    "            return False\n",
    "        \n",
    "        elif ls[L] < target and ls[M] > target:\n",
    "            M  = (M - L) / 2\n",
    "            binaryS"
   ]
  },
  {
   "cell_type": "code",
   "execution_count": 7,
   "metadata": {},
   "outputs": [],
   "source": [
    "def binaryS(nums, target):\n",
    "    left = 0\n",
    "    right = len(nums) - 1 # 注意\n",
    "\n",
    "    while(left <= right):   # 注意\n",
    "        # 这里的求得 mid \n",
    "        mid = (right + left) // 2\n",
    "\n",
    "        if nums[mid] == target:\n",
    "            return mid\n",
    "\n",
    "        elif nums[mid] < target:\n",
    "            left = mid + 1 # 注意\n",
    "\n",
    "        elif (nums[mid] > target):\n",
    "            right = mid - 1 # 注意\n",
    "    return -1\n"
   ]
  },
  {
   "cell_type": "code",
   "execution_count": 8,
   "metadata": {},
   "outputs": [
    {
     "data": {
      "text/plain": [
       "2"
      ]
     },
     "execution_count": 8,
     "metadata": {},
     "output_type": "execute_result"
    }
   ],
   "source": [
    "binaryS(ls, 2)"
   ]
  },
  {
   "cell_type": "code",
   "execution_count": null,
   "metadata": {},
   "outputs": [],
   "source": []
  }
 ],
 "metadata": {
  "interpreter": {
   "hash": "9ecbc95d31df1b277e5ec566a835865c3a9a253da4266404bdbc6ee7e31406f4"
  },
  "kernelspec": {
   "display_name": "Python 3.8.6 ('tensorflow2')",
   "language": "python",
   "name": "python3"
  },
  "language_info": {
   "codemirror_mode": {
    "name": "ipython",
    "version": 3
   },
   "file_extension": ".py",
   "mimetype": "text/x-python",
   "name": "python",
   "nbconvert_exporter": "python",
   "pygments_lexer": "ipython3",
   "version": "3.8.6"
  },
  "orig_nbformat": 4
 },
 "nbformat": 4,
 "nbformat_minor": 2
}
