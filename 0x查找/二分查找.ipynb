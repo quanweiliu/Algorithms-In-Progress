{
 "cells": [
  {
   "cell_type": "code",
   "execution_count": null,
   "metadata": {},
   "outputs": [],
   "source": [
    "# https://www.cnblogs.com/kyoner/p/11080078.html"
   ]
  },
  {
   "cell_type": "code",
   "execution_count": null,
   "metadata": {},
   "outputs": [],
   "source": []
  },
  {
   "cell_type": "code",
   "execution_count": 5,
   "metadata": {},
   "outputs": [
    {
     "ename": "IndexError",
     "evalue": "list index out of range",
     "output_type": "error",
     "traceback": [
      "\u001b[1;31m---------------------------------------------------------------------------\u001b[0m",
      "\u001b[1;31mIndexError\u001b[0m                                Traceback (most recent call last)",
      "\u001b[1;32m<ipython-input-5-92b4501b4350>\u001b[0m in \u001b[0;36m<module>\u001b[1;34m\u001b[0m\n\u001b[0;32m      1\u001b[0m \u001b[0mls\u001b[0m \u001b[1;33m=\u001b[0m \u001b[1;33m[\u001b[0m\u001b[1;36m0\u001b[0m\u001b[1;33m,\u001b[0m\u001b[1;36m1\u001b[0m\u001b[1;33m,\u001b[0m\u001b[1;36m2\u001b[0m\u001b[1;33m,\u001b[0m\u001b[1;36m3\u001b[0m\u001b[1;33m,\u001b[0m\u001b[1;36m4\u001b[0m\u001b[1;33m]\u001b[0m\u001b[1;33m\u001b[0m\u001b[1;33m\u001b[0m\u001b[0m\n\u001b[0;32m      2\u001b[0m \u001b[0mlength\u001b[0m \u001b[1;33m=\u001b[0m \u001b[0mlen\u001b[0m\u001b[1;33m(\u001b[0m\u001b[0mls\u001b[0m\u001b[1;33m)\u001b[0m\u001b[1;33m\u001b[0m\u001b[1;33m\u001b[0m\u001b[0m\n\u001b[1;32m----> 3\u001b[1;33m \u001b[0mls\u001b[0m\u001b[1;33m[\u001b[0m\u001b[0mlength\u001b[0m\u001b[1;33m]\u001b[0m\u001b[1;33m\u001b[0m\u001b[1;33m\u001b[0m\u001b[0m\n\u001b[0m",
      "\u001b[1;31mIndexError\u001b[0m: list index out of range"
     ]
    }
   ],
   "source": [
    "ls = [0,1,2,3,4]\n",
    "length = len(ls)\n",
    "ls[length]"
   ]
  },
  {
   "cell_type": "code",
   "execution_count": null,
   "metadata": {},
   "outputs": [],
   "source": [
    "# 我自己的写的稀巴烂\n",
    "def binaryS(ls, target = 2):\n",
    "    L = 0\n",
    "    H = len(ls)\n",
    "    M = (L+H) // 2\n",
    "\n",
    "    while L < H:\n",
    "        # 查找\n",
    "        if ls[L] == target:\n",
    "            return L\n",
    "\n",
    "        elif ls[L] > target or ls[H]< target:\n",
    "            return False\n",
    "        \n",
    "        elif ls[L] < target and ls[M] > target:\n",
    "            M  = (M - L) / 2\n",
    "            binaryS"
   ]
  },
  {
   "cell_type": "markdown",
   "metadata": {},
   "source": [
    "## 二分搜索框架\n",
    "```java\n",
    "int binarySearch(int[] nums, int target) {\n",
    "    int left = 0, right = ...;\n",
    "\n",
    "    while(...) {\n",
    "        int mid = (right + left) / 2;\n",
    "        if (nums[mid] == target) {\n",
    "            ...\n",
    "        } else if (nums[mid] < target) {\n",
    "            left = ...\n",
    "        } else if (nums[mid] > target) {\n",
    "            right = ...\n",
    "        }\n",
    "    }\n",
    "    return ...;\n",
    "}\n",
    "```"
   ]
  },
  {
   "cell_type": "code",
   "execution_count": 30,
   "metadata": {},
   "outputs": [],
   "source": [
    "def binaryS(nums, target):\n",
    "    left = 0\n",
    "    right = len(nums) - 1 # 注意 \n",
    "\n",
    "    while(left <= right):   # 注意:两端都闭区间 [left, right], 终止条件是 left == right + 1\n",
    "        # 这里的求得 mid \n",
    "        mid = (right + left) // 2\n",
    "        print(mid)\n",
    "\n",
    "        if nums[mid] == target:\n",
    "            return mid\n",
    "\n",
    "        elif nums[mid] < target:\n",
    "            left = mid + 1 # 注意\n",
    "\n",
    "        elif (nums[mid] > target):\n",
    "            right = mid - 1 # 注意\n",
    "    return -1\n"
   ]
  },
  {
   "cell_type": "code",
   "execution_count": 31,
   "metadata": {},
   "outputs": [
    {
     "name": "stdout",
     "output_type": "stream",
     "text": [
      "2\n",
      "3\n"
     ]
    },
    {
     "data": {
      "text/plain": [
       "-1"
      ]
     },
     "execution_count": 31,
     "metadata": {},
     "output_type": "execute_result"
    }
   ],
   "source": [
    "ls = [0, 1, 3, 5, 7]\n",
    "binaryS(ls, 3.5)"
   ]
  },
  {
   "cell_type": "markdown",
   "metadata": {},
   "source": [
    "## 寻找左侧边界的二分搜索"
   ]
  },
  {
   "cell_type": "code",
   "execution_count": 34,
   "metadata": {},
   "outputs": [],
   "source": [
    "def binaryS(nums, target):\n",
    "    left = 0\n",
    "    right = len(nums)  # 注意,初始化 right = nums.length 而不是 nums.length - 1\n",
    "\n",
    "    while(left < right):   # 注意:「搜索区间」是 [left, right) 左闭右开。\n",
    "        # 这里的求得 mid \n",
    "        mid = (right + left) // 2\n",
    "        print(mid)\n",
    "\n",
    "        if nums[mid] == target:\n",
    "            right = mid\n",
    "\n",
    "        elif nums[mid] < target:\n",
    "            left = mid + 1 # 注意\n",
    "\n",
    "        elif (nums[mid] > target):\n",
    "            right = mid # 注意\n",
    "    return left\n"
   ]
  },
  {
   "cell_type": "code",
   "execution_count": 36,
   "metadata": {},
   "outputs": [
    {
     "name": "stdout",
     "output_type": "stream",
     "text": [
      "2\n",
      "4\n"
     ]
    },
    {
     "data": {
      "text/plain": [
       "5"
      ]
     },
     "execution_count": 36,
     "metadata": {},
     "output_type": "execute_result"
    }
   ],
   "source": [
    "ls = [0, 3, 3, 5, 7]\n",
    "binaryS(ls, 8)"
   ]
  },
  {
   "cell_type": "markdown",
   "metadata": {},
   "source": [
    "# 寻找右侧边界的二分查找"
   ]
  },
  {
   "cell_type": "code",
   "execution_count": null,
   "metadata": {},
   "outputs": [],
   "source": []
  },
  {
   "cell_type": "code",
   "execution_count": null,
   "metadata": {},
   "outputs": [],
   "source": []
  }
 ],
 "metadata": {
  "interpreter": {
   "hash": "9ecbc95d31df1b277e5ec566a835865c3a9a253da4266404bdbc6ee7e31406f4"
  },
  "kernelspec": {
   "display_name": "Python 3.8.6 ('tensorflow2')",
   "language": "python",
   "name": "python3"
  },
  "language_info": {
   "codemirror_mode": {
    "name": "ipython",
    "version": 3
   },
   "file_extension": ".py",
   "mimetype": "text/x-python",
   "name": "python",
   "nbconvert_exporter": "python",
   "pygments_lexer": "ipython3",
   "version": "3.8.6"
  },
  "orig_nbformat": 4
 },
 "nbformat": 4,
 "nbformat_minor": 2
}
