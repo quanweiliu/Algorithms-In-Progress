{
 "cells": [
  {
   "cell_type": "markdown",
   "metadata": {},
   "source": [
    "# 图的遍历框架\n",
    "- https://www.bilibili.com/video/BV1Ks411575U?spm_id_from=333.788.top_right_bar_window_history.content.click"
   ]
  },
  {
   "cell_type": "markdown",
   "metadata": {},
   "source": [
    "# BFS 框架(queue)\n",
    "- 层序遍历\n",
    "```\n",
    "    B   D\n",
    "A           F\n",
    "    C   E\n",
    "\n",
    "```"
   ]
  },
  {
   "cell_type": "code",
   "execution_count": 1,
   "metadata": {},
   "outputs": [],
   "source": [
    "graph = {\"A\":[\"B\", \"C\",],\n",
    "        \"B\":[\"A\", \"C\",  \"D\"],\n",
    "        \"C\":[\"A\", \"B\", \"D\", \"E\"],\n",
    "        \"D\":[\"B\", \"C\", \"E\", \"F\"],\n",
    "        \"E\":[\"C\", \"D\"],\n",
    "        \"F\":[\"D\"],\n",
    "        }"
   ]
  },
  {
   "cell_type": "code",
   "execution_count": 2,
   "metadata": {},
   "outputs": [],
   "source": [
    "# 处理伪代码\n",
    "def BFS(graph, start):\n",
    "    queue = []\n",
    "    queue.append(start)\n",
    "    seen = set()\n",
    "    seen.add(start)\n",
    "\n",
    "    while len(queue)>0:\n",
    "        vertex = queue.pop(0)\n",
    "        # 找到所有邻接点\n",
    "        nodes = graph[vertex]\n",
    "        for w in nodes:\n",
    "            if w not in seen:        # 伪代码\n",
    "                queue.append(w)\n",
    "                seen.add(w)\n",
    "        print(vertex)"
   ]
  },
  {
   "cell_type": "code",
   "execution_count": 3,
   "metadata": {},
   "outputs": [
    {
     "name": "stdout",
     "output_type": "stream",
     "text": [
      "A\n",
      "B\n",
      "C\n",
      "D\n",
      "E\n",
      "F\n"
     ]
    }
   ],
   "source": [
    "BFS(graph, \"A\")"
   ]
  },
  {
   "cell_type": "markdown",
   "metadata": {},
   "source": [
    "# DFS 框架(stack)\n",
    "\n",
    "```\n",
    "    B   D\n",
    "A           F\n",
    "    C   E\n",
    "\n",
    "```"
   ]
  },
  {
   "cell_type": "code",
   "execution_count": 4,
   "metadata": {},
   "outputs": [],
   "source": [
    "def DFS(graph, start):\n",
    "    stack = []\n",
    "    stack.append(start)\n",
    "    seen = set()\n",
    "    seen.add(start)\n",
    "\n",
    "    while len(stack)>0:\n",
    "        vertex = stack.pop()\n",
    "        # 找到所有邻接点\n",
    "        nodes = graph[vertex]\n",
    "        for w in nodes:\n",
    "            if w not in seen:        # 伪代码\n",
    "                stack.append(w)\n",
    "                seen.add(w)\n",
    "        print(vertex)"
   ]
  },
  {
   "cell_type": "code",
   "execution_count": 5,
   "metadata": {},
   "outputs": [
    {
     "name": "stdout",
     "output_type": "stream",
     "text": [
      "A\n",
      "C\n",
      "E\n",
      "D\n",
      "F\n",
      "B\n"
     ]
    }
   ],
   "source": [
    "DFS(graph, \"A\")"
   ]
  },
  {
   "cell_type": "markdown",
   "metadata": {},
   "source": [
    "# 最短路径\n",
    "- 因为BFS 是层序遍历，可以构建最短路径算法\n",
    "- 为什么层序遍历可以构造最短路径算法？\n",
    "```\n",
    "    B   D\n",
    "A           F\n",
    "    C   E\n",
    "\n",
    "```"
   ]
  },
  {
   "cell_type": "code",
   "execution_count": 16,
   "metadata": {},
   "outputs": [],
   "source": [
    "def BFS(graph, start):\n",
    "    queue = []\n",
    "    queue.append(start)\n",
    "    seen = set()\n",
    "    seen.add(start)\n",
    "\n",
    "    # 记录所有节点的父节点\n",
    "    parent = {start:None}\n",
    "\n",
    "    while len(queue)>0:\n",
    "        vertex = queue.pop(0)\n",
    "        # 找到所有邻接点\n",
    "        nodes = graph[vertex]\n",
    "        for w in nodes:\n",
    "            if w not in seen:        # 伪代码\n",
    "                queue.append(w)\n",
    "                seen.add(w)\n",
    "                parent[w] = vertex\n",
    "        print(vertex)\n",
    "    return parent"
   ]
  },
  {
   "cell_type": "code",
   "execution_count": 17,
   "metadata": {},
   "outputs": [
    {
     "name": "stdout",
     "output_type": "stream",
     "text": [
      "E\n",
      "C\n",
      "D\n",
      "A\n",
      "B\n",
      "F\n"
     ]
    },
    {
     "data": {
      "text/plain": [
       "{'E': None, 'C': 'E', 'D': 'E', 'A': 'C', 'B': 'C', 'F': 'D'}"
      ]
     },
     "execution_count": 17,
     "metadata": {},
     "output_type": "execute_result"
    }
   ],
   "source": [
    "parent = BFS(graph, \"E\")\n",
    "parent"
   ]
  },
  {
   "cell_type": "code",
   "execution_count": 18,
   "metadata": {},
   "outputs": [
    {
     "name": "stdout",
     "output_type": "stream",
     "text": [
      "E None\n",
      "C E\n",
      "D E\n",
      "A C\n",
      "B C\n",
      "F D\n"
     ]
    }
   ],
   "source": [
    "# 找到 BFS 算法中每个点的父节点\n",
    "for key in parent:\n",
    "    print(key, parent[key])"
   ]
  },
  {
   "cell_type": "code",
   "execution_count": 20,
   "metadata": {},
   "outputs": [
    {
     "name": "stdout",
     "output_type": "stream",
     "text": [
      "B\n",
      "C\n",
      "E\n"
     ]
    }
   ],
   "source": [
    "# 遍历父节点，找到最短路径\n",
    "# 从节点　头节点　走到 B\n",
    "v = \"B\"\n",
    "while v != None:\n",
    "    print(v)\n",
    "    v = parent[v]"
   ]
  },
  {
   "cell_type": "code",
   "execution_count": null,
   "metadata": {},
   "outputs": [],
   "source": []
  },
  {
   "cell_type": "code",
   "execution_count": null,
   "metadata": {},
   "outputs": [],
   "source": []
  }
 ],
 "metadata": {
  "kernelspec": {
   "display_name": "Python 3.8.6 ('tensorflow2')",
   "language": "python",
   "name": "python3"
  },
  "language_info": {
   "codemirror_mode": {
    "name": "ipython",
    "version": 3
   },
   "file_extension": ".py",
   "mimetype": "text/x-python",
   "name": "python",
   "nbconvert_exporter": "python",
   "pygments_lexer": "ipython3",
   "version": "3.8.6"
  },
  "orig_nbformat": 4,
  "vscode": {
   "interpreter": {
    "hash": "85c51a4259275393737ca8d3e0cd6fa489554cf4913552085d5553b62ac22de5"
   }
  }
 },
 "nbformat": 4,
 "nbformat_minor": 2
}
