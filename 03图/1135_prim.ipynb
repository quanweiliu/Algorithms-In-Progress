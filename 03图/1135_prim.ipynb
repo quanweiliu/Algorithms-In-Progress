{
 "cells": [
  {
   "cell_type": "markdown",
   "metadata": {},
   "source": [
    "# 最小生成树(普里姆算法/prim)\n",
    "- 图论算法这种高级算法虽然不算难，但是阅读量普遍比较低!!!"
   ]
  },
  {
   "cell_type": "markdown",
   "metadata": {},
   "source": [
    "## Prim 对比 Kruskal 算法\n",
    "- Kruskal 算法用到了贪心思想，来满足权重之和尽可能小的问题\n",
    "- Kruskal 算法用到了 Union-Find 并查集算法，来保证挑选出来的这些边组成的一定是一棵「树」，而不会包含环或者形成一片「森林\n",
    "- Prim 算法也使用贪心思想来让生成树的权重尽可能小,「切分定理」\n",
    "- Prim 算法使用 BFS 算法思想 和 visited 布尔数组避免成环"
   ]
  },
  {
   "cell_type": "code",
   "execution_count": null,
   "metadata": {},
   "outputs": [],
   "source": [
    "import heapq"
   ]
  },
  {
   "cell_type": "code",
   "execution_count": null,
   "metadata": {},
   "outputs": [],
   "source": [
    "class Prim():\n",
    "    def __init__(self, ):\n",
    "        self.pq = []\n",
    "        inMst = []\n",
    "        weightSum = 0\n",
    "        graph = []\n",
    "    \n",
    "    def prim(self, ):\n",
    "        pass"
   ]
  },
  {
   "cell_type": "code",
   "execution_count": null,
   "metadata": {},
   "outputs": [],
   "source": [
    "# 这个算法作为图算法中先不写的题"
   ]
  },
  {
   "cell_type": "code",
   "execution_count": null,
   "metadata": {},
   "outputs": [],
   "source": []
  }
 ],
 "metadata": {
  "language_info": {
   "name": "python"
  },
  "orig_nbformat": 4
 },
 "nbformat": 4,
 "nbformat_minor": 2
}
