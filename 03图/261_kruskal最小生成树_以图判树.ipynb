{
 "cells": [
  {
   "cell_type": "markdown",
   "metadata": {},
   "source": [
    "# 最小生成树（克鲁斯卡尔算法/kruskal）\n",
    "- Kruskal其关键是要熟悉并查集算法\n",
    "- 「树」和「图」的根本区别：树不会包含环，图可以包含环。\n",
    "- 「生成树」，就是在图中找一棵包含图中的所有节点的树。专业点说，生成树是含有图中所有顶点的「无环连通子图」。\n",
    "- 「最小生成树」所有可能的生成树中，权重和最小的那棵生成树。"
   ]
  },
  {
   "cell_type": "markdown",
   "metadata": {},
   "source": [
    "## 题目\n",
    "- 以图判树\n",
    "- 输入：n = 5， edges = [[0,1], [0,2], [0,3], [1,4]]  -> 是\n",
    "- n = 5, edges = [[0,1],[1,2],[2,3],[1,3],[1,4]]    -> 否\n",
    "\n",
    "0   -    2\n",
    "|   -\n",
    "1        3\n",
    "|\n",
    "4\n",
    "\n",
    "- 请你判断输入的这些边组成的结构是否是一棵树。\n",
    "\n",
    "\n",
    "- 思路：\n",
    "- 对于添加的边，如果该边的两个节点本来就在同一连通分量里，那么添加这条边会产生环；反之，如果该边的两个节点不在同一连通分量里，则添加这条边不会产生环。"
   ]
  },
  {
   "cell_type": "code",
   "execution_count": 11,
   "metadata": {},
   "outputs": [],
   "source": [
    "class UF():\n",
    "    '''\n",
    "    主要作用是保证最小生成树的合法性\n",
    "    '''\n",
    "    def __init__(self, n):\n",
    "        # 记录连通分量\n",
    "        self.n = n\n",
    "        # 一开始互不连通\n",
    "        self.countN = self.n\n",
    "        # 节点 x 的节点是 parent[x]\n",
    "        self.parent = []\n",
    "        # 父节点指针初始指向自己\n",
    "        self.parent = [-1]*self.n\n",
    "        for i in range(n):\n",
    "            self.parent[i] = i\n",
    "        print(\"self.parent0\", self.parent)       # [0, 1, 2, 3, 4]\n",
    "    \n",
    "    # 如果某两个节点被连通，则让其中的（任意）一个节点的根节点接到另一个节点的根节点上\n",
    "    # 将 p 和 q 连接\n",
    "    def union(self, p, q):\n",
    "        rootP = self.find(p)\n",
    "        rootQ = self.find(q)\n",
    "\n",
    "        if rootP == rootQ:\n",
    "            return\n",
    "\n",
    "        # 将两棵树合并为一棵\n",
    "        self.parent[rootP] = rootQ\n",
    "        # self.parent[rootQ] = rootP 也一样\n",
    "        self.countN -= 1       # 两个分量合二为一\n",
    "        print(self.parent)\n",
    "\n",
    "    def find(self, p):\n",
    "        while self.parent[p] != p:      # 循环，直到找到根节点\n",
    "            self.parent[p] = self.parent[self.parent[p]]\n",
    "            p = self.parent[p]\n",
    "        return p\n",
    "\n",
    "    # 返回当前的连通分量个数\n",
    "    def count(self,):\n",
    "        return self.countN\n",
    "\n",
    "    def connected(self, p, q):\n",
    "        rootP = self.find(p)\n",
    "        rootQ = self.find(q)\n",
    "        return rootP == rootQ         "
   ]
  },
  {
   "cell_type": "code",
   "execution_count": 15,
   "metadata": {},
   "outputs": [],
   "source": [
    "# UF 算法的应用\n",
    "class Solution():\n",
    "    def validTree(self, n, edges):\n",
    "        uf = UF(n)\n",
    "\n",
    "        for edge in edges:\n",
    "            # 遍历所有边，将组成边的两个节点进行连接\n",
    "            u = edge[0]\n",
    "            v = edge[1]\n",
    "            if uf.connected(u, v):\n",
    "                # 若两个节点已经在同一连通分量中，会产生环\n",
    "                return False\n",
    "            # 这条边不会产生环，可以是树的一部分\n",
    "            uf.union(u, v)\n",
    "        #  要保证最后只形成了一棵树，即只有一个连通分量\n",
    "        return uf.count() == 1"
   ]
  },
  {
   "cell_type": "code",
   "execution_count": 17,
   "metadata": {},
   "outputs": [
    {
     "name": "stdout",
     "output_type": "stream",
     "text": [
      "self.parent0 [0, 1, 2, 3, 4]\n",
      "[1, 1, 2, 3, 4]\n",
      "[1, 2, 2, 3, 4]\n",
      "[2, 2, 3, 3, 4]\n",
      "[2, 3, 3, 4, 4]\n"
     ]
    },
    {
     "data": {
      "text/plain": [
       "False"
      ]
     },
     "execution_count": 17,
     "metadata": {},
     "output_type": "execute_result"
    }
   ],
   "source": [
    "n = 5\n",
    "# edges = [[0,1], [0,2], [0,3], [1,4]]\n",
    "edges = [[0,1], [0,2], [0,3], [1,4], [0,4]]\n",
    "# edges = [[0,1],[1,2],[2,3],[1,3],[1,4]]\n",
    "\n",
    "s = Solution()\n",
    "s.validTree(n, edges)"
   ]
  },
  {
   "cell_type": "code",
   "execution_count": null,
   "metadata": {},
   "outputs": [],
   "source": []
  },
  {
   "cell_type": "code",
   "execution_count": null,
   "metadata": {},
   "outputs": [],
   "source": []
  }
 ],
 "metadata": {
  "interpreter": {
   "hash": "9ecbc95d31df1b277e5ec566a835865c3a9a253da4266404bdbc6ee7e31406f4"
  },
  "kernelspec": {
   "display_name": "Python 3.8.6 ('tensorflow2')",
   "language": "python",
   "name": "python3"
  },
  "language_info": {
   "codemirror_mode": {
    "name": "ipython",
    "version": 3
   },
   "file_extension": ".py",
   "mimetype": "text/x-python",
   "name": "python",
   "nbconvert_exporter": "python",
   "pygments_lexer": "ipython3",
   "version": "3.8.6"
  },
  "orig_nbformat": 4
 },
 "nbformat": 4,
 "nbformat_minor": 2
}
