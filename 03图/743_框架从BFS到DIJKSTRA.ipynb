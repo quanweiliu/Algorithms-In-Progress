{
 "cells": [
  {
   "cell_type": "markdown",
   "metadata": {},
   "source": [
    "# 最短路径(dijkstra迪杰斯特拉算法)\n",
    "\n",
    "- 二叉树非常重要，你把这个结构掌握了，就会发现 动态规划， 分治算法， 回溯（DFS）算法， BFS 算法框架， Union-Find 并查集算法，二叉堆实现优先级队列就是把二叉树翻来覆去的运用。\n",
    "- Dijkstra 算法（一般音译成迪杰斯特拉算法）无非就是一个 BFS 算法的加强版，它们都是从二叉树的层序遍历衍生出来的。"
   ]
  },
  {
   "cell_type": "markdown",
   "metadata": {},
   "source": [
    "## 从二叉树的层序遍历开始推演出 Dijkstra 算法的实现"
   ]
  },
  {
   "cell_type": "code",
   "execution_count": null,
   "metadata": {},
   "outputs": [],
   "source": [
    "# Definition for a binary tree node.\n",
    "class TreeNode:\n",
    "    def __init__(self, val=0, left=None, right=None):\n",
    "        self.val = val\n",
    "        self.left = left\n",
    "        self.right = right"
   ]
  },
  {
   "cell_type": "code",
   "execution_count": null,
   "metadata": {},
   "outputs": [],
   "source": [
    "T = TreeNode(0)\n",
    "T.left = TreeNode(1)\n",
    "T.right = TreeNode(2)\n",
    "T.left.left = TreeNode(3)"
   ]
  },
  {
   "cell_type": "markdown",
   "metadata": {},
   "source": [
    "```\n",
    "        0\n",
    "    1       2\n",
    "3\n",
    "\n",
    "```"
   ]
  },
  {
   "cell_type": "code",
   "execution_count": null,
   "metadata": {},
   "outputs": [],
   "source": [
    "# 二叉树的层序遍历\n",
    "class levelTraverse():\n",
    "    def __init__(self):\n",
    "        self.ls = []\n",
    "\n",
    "    def traverse(self, root):\n",
    "        self.ls.append(root)\n",
    "\n",
    "        while len(self.ls)>0:\n",
    "            value = self.ls.pop(0)\n",
    "            print(value.val)\n",
    "\n",
    "            if value.left:\n",
    "                self.ls.append(value.left)\n",
    "\n",
    "            if value.right:\n",
    "                self.ls.append(value.right)"
   ]
  },
  {
   "cell_type": "code",
   "execution_count": null,
   "metadata": {},
   "outputs": [],
   "source": [
    "s = levelTraverse()\n",
    "s.traverse(T)"
   ]
  },
  {
   "cell_type": "markdown",
   "metadata": {},
   "source": [
    "## 基于二叉树的遍历框架，增加深度表示"
   ]
  },
  {
   "cell_type": "code",
   "execution_count": null,
   "metadata": {},
   "outputs": [],
   "source": [
    "# 二叉树的层序遍历\n",
    "class levelTraverse():\n",
    "    def __init__(self):\n",
    "        self.ls = []\n",
    "        self.depht = 1\n",
    "\n",
    "    def traverse(self, root):\n",
    "        self.ls.append(root)\n",
    "\n",
    "        while len(self.ls)>0:\n",
    "            sz = len(self.ls)\n",
    "            for _ in range(sz):\n",
    "                value = self.ls.pop(0)\n",
    "                print(value.val, self.depht)\n",
    "\n",
    "                if value.left:\n",
    "                    self.ls.append(value.left)\n",
    "\n",
    "                if value.right:\n",
    "                    self.ls.append(value.right)\n",
    "            \n",
    "            self.depht += 1"
   ]
  },
  {
   "cell_type": "code",
   "execution_count": null,
   "metadata": {},
   "outputs": [],
   "source": [
    "s = levelTraverse()\n",
    "s.traverse(T)"
   ]
  },
  {
   "cell_type": "markdown",
   "metadata": {},
   "source": [
    "## 基于二叉树的遍历框架，我们又可以扩展出多叉树的层序遍历框架"
   ]
  },
  {
   "cell_type": "code",
   "execution_count": null,
   "metadata": {},
   "outputs": [],
   "source": [
    "# 多叉树的层序遍历\n",
    "class levelTraverse():\n",
    "    def __init__(self):\n",
    "        self.ls = []\n",
    "        self.depht = 1\n",
    "\n",
    "    def traverse(self, root):\n",
    "        self.ls.append(root)\n",
    "\n",
    "        while len(self.ls)>0:\n",
    "            sz = len(self.ls)\n",
    "            for _ in range(sz):\n",
    "                value = self.ls.pop(0)\n",
    "                print(value.val, self.depht)\n",
    "\n",
    "                if value.node1:\n",
    "                    self.ls.append(value.node1)\n",
    "\n",
    "                if value.node2:\n",
    "                    self.ls.append(value.node2)\n",
    "\n",
    "                if value.noden:\n",
    "                    pass\n",
    "            \n",
    "            self.depht += 1"
   ]
  },
  {
   "cell_type": "markdown",
   "metadata": {},
   "source": [
    "## 基于多叉树的遍历框架，我们又可以扩展出 BFS（广度优先搜索）的算法框架"
   ]
  },
  {
   "cell_type": "code",
   "execution_count": null,
   "metadata": {},
   "outputs": [],
   "source": [
    "# BFS（广度优先搜索）的算法框架\n",
    "class BFS():\n",
    "    def __init__(self):\n",
    "        self.ls = []       # 核心数据结构\n",
    "        self.visited = []  # 避免走回头路\n",
    "        self.step = 0     # 记录搜索的步数\n",
    "\n",
    "    def traverse(self, root):\n",
    "        self.ls.append(root)\n",
    "        self.visited.append(root)\n",
    "\n",
    "        while len(self.ls)>0:\n",
    "            sz = len(self.ls)\n",
    "            for _ in range(sz):\n",
    "                cur = self.ls.pop(0)\n",
    "                print(\"从 xx 到 xx 的最短距离是 xx\", root.val, cur.val, self.step)\n",
    "\n",
    "                # 将 cur 的相邻节点加入队列\n",
    "                # cur 的邻居储存在 cur.adj中\n",
    "                for node in cur.adj():\n",
    "                    if node not in self.visited:\n",
    "                        self.ls.pop(0)\n",
    "                        self.visited.add(node)\n",
    "\n",
    "            self.step += 1"
   ]
  },
  {
   "cell_type": "markdown",
   "metadata": {},
   "source": [
    "## 去掉 for 循环"
   ]
  },
  {
   "cell_type": "code",
   "execution_count": null,
   "metadata": {},
   "outputs": [],
   "source": [
    "# 二叉树的层序遍历\n",
    "\n",
    "# 新建一个 State 类，记录每个节点所在的层数\n",
    "class State():\n",
    "    def __init__(self, node, depth):\n",
    "        self.depth = depth\n",
    "        self.node = node\n",
    "\n",
    "class levelTraverse():\n",
    "    def __init__(self):\n",
    "        self.ls = []\n",
    "\n",
    "    def traverse(self, root):\n",
    "        self.ls.append(State(root, 1))\n",
    "\n",
    "        while len(self.ls)>0:\n",
    "            # 没有 for 循环，你也没办法维护 depth 变量了。\n",
    "\n",
    "            value = self.ls.pop(0)\n",
    "            cur_value = value.node\n",
    "            cur_depth = value.depth\n",
    "            print(cur_value.val, cur_depth)\n",
    "\n",
    "            if cur_value.left:\n",
    "                self.ls.append(State(cur_value.left, cur_depth+1))\n",
    "\n",
    "            if cur_value.right:\n",
    "                self.ls.append(State(cur_value.right, cur_depth+1))"
   ]
  },
  {
   "cell_type": "code",
   "execution_count": null,
   "metadata": {},
   "outputs": [],
   "source": [
    "s = levelTraverse()\n",
    "s.traverse(T)"
   ]
  },
  {
   "cell_type": "markdown",
   "metadata": {},
   "source": [
    "# Dijkstra 算法框架\n",
    "- 输入一幅图和一个起点 start，计算 start 到其他节点的最短距离\n",
    "- https://www.bilibili.com/video/BV1ts41157Sy\n",
    "- https://www.cnblogs.com/c-x-a/p/11004242.html"
   ]
  },
  {
   "cell_type": "code",
   "execution_count": null,
   "metadata": {},
   "outputs": [],
   "source": [
    "# Dijkstra.狄杰斯特拉\n",
    "import heapq\n",
    "# import math\n",
    "\n",
    "# 把其他距离标记为正无穷\n",
    "def init_distance(graph, s):\n",
    "    distance = {s: 0}\n",
    "    for vertex in graph:\n",
    "        if vertex != s:\n",
    "            # distance[vertex] = math.inf\n",
    "            distance[vertex] = float('inf')\n",
    "    return distance\n",
    "\n",
    "\n",
    "def dijkstra(graph, s):\n",
    "    pqueue = []\n",
    "    # 在 pqueue 中加入权限为 0 的 s\n",
    "    heapq.heappush(pqueue, (0, s))\n",
    "    seen = set()\n",
    "    parent = {s: None}\n",
    "\n",
    "    # 统计当前点到起始点的距离,初始化为正无穷\n",
    "    distance = init_distance(graph, s)\n",
    "\n",
    "    while len(pqueue) > 0:\n",
    "        pair = heapq.heappop(pqueue)\n",
    "        dist = pair[0]\n",
    "        vertex = pair[1]\n",
    "\n",
    "        seen.add(s)          # 注意\n",
    "        nodes = graph[vertex].keys()\n",
    "        for w in nodes:\n",
    "            if w not in seen:\n",
    "                # graph[vertex][w] 从 vertex 到 w 的距离\n",
    "                if dist + graph[vertex][w] < distance[w]:\n",
    "                    heapq.heappush(pqueue, (dist + graph[vertex][w], w))\n",
    "                    parent[w] = vertex\n",
    "                    distance[w] = dist + graph[vertex][w]\n",
    "    return parent, distance"
   ]
  },
  {
   "cell_type": "code",
   "execution_count": null,
   "metadata": {},
   "outputs": [],
   "source": [
    "graph_dict = {\n",
    "    \"A\": {\"B\": 5, \"C\": 1},\n",
    "    \"B\": {\"A\": 5, \"C\": 2, \"D\": 1},\n",
    "    \"C\": {\"A\": 1, \"B\": 2, \"D\": 4, \"E\": 8},\n",
    "    \"D\": {\"B\": 1, \"C\": 4, \"E\": 3, \"F\": 6},\n",
    "    \"E\": {\"C\": 8, \"D\": 3},\n",
    "    \"F\": {\"D\": 6},\n",
    "}\n",
    "\n",
    "# 找到 A 到其它所有点的最短距离\n",
    "parent_dict, distance_dict = dijkstra(graph_dict, \"A\")\n",
    "print(parent_dict)\n",
    "print(distance_dict)"
   ]
  },
  {
   "cell_type": "code",
   "execution_count": null,
   "metadata": {},
   "outputs": [],
   "source": [
    "# 添加，从　A　走到　B　怎么走\n",
    "v = \"B\"\n",
    "while v != None:\n",
    "    print(v)\n",
    "    v = parent_dict[v]"
   ]
  },
  {
   "cell_type": "code",
   "execution_count": 18,
   "metadata": {},
   "outputs": [],
   "source": [
    "# 有向图的最短路径\n",
    "# 和 BFS 算法差别有点大\n",
    "# -*- coding:utf-8 -*-\n",
    "# https://www.cnblogs.com/mayunting/p/10426705.html\n",
    "\n",
    "def dijkstra(graph, startIndex, path, cost):\n",
    "    \"\"\"\n",
    "    startIndex 初始化为 0\n",
    "    求解各节点最短路径，获取path，和cost数组，\n",
    "    path[i] 表示vi节点的前继节点索引，一直追溯到起点。\n",
    "    cost[i] 表示vi节点的花费\n",
    "    v 表示已经标记过的节点？？\n",
    "    \"\"\"\n",
    "    max = 2147483647\n",
    "    lenth = len(graph)\n",
    "    v = [0] * lenth\n",
    "    # 初始化 path，cost，V\n",
    "    # 初始化的时候，节点 1 在集合 S 中\n",
    "    for i in range(lenth):\n",
    "        if i == startIndex:\n",
    "            v[startIndex] = 0\n",
    "        else:\n",
    "            # 从v0出发到图上其余节点v的初始权值为 cost\n",
    "            cost[i] = graph[startIndex][i]\n",
    "            path[i] = (startIndex if (cost[i] < max) else -1)\n",
    "        print(v)\n",
    "        # print(i, cost)\n",
    "        # print(i, path)\n",
    "\n",
    "    # 处理不连通的情况\n",
    "    # 没有用到优先队列,还需要一层判断\n",
    "    for i in range(1, lenth):\n",
    "        minCost = max\n",
    "        curNode = -1\n",
    "        for w in range(lenth):\n",
    "            # 如果从初始点到 w 点连通，并遍历出最短路径\n",
    "            if v[w] == 0 and cost[w] < minCost:\n",
    "                minCost = cost[w]\n",
    "                curNode = w\n",
    "\n",
    "        # 没有连同，跳出循环\n",
    "        if curNode == -1: break\n",
    "        \n",
    "        # 标记\n",
    "        v[curNode] = 1\n",
    "        for w in range(lenth):\n",
    "            if v[w] == 0 and (graph[curNode][w] + cost[curNode] < cost[w]):\n",
    "                cost[w] = graph[curNode][w] + cost[curNode] # 更新权值\n",
    "                path[w] = curNode # 更新路径\n",
    "    return path,cost"
   ]
  },
  {
   "cell_type": "code",
   "execution_count": 19,
   "metadata": {},
   "outputs": [
    {
     "name": "stdout",
     "output_type": "stream",
     "text": [
      "[0, 0, 0, 0, 0, 0]\n",
      "[0, 0, 0, 0, 0, 0]\n",
      "[0, 0, 0, 0, 0, 0]\n",
      "[0, 0, 0, 0, 0, 0]\n",
      "[0, 0, 0, 0, 0, 0]\n",
      "[0, 0, 0, 0, 0, 0]\n"
     ]
    }
   ],
   "source": [
    "max = 2147483647\n",
    "graph = [\n",
    "    [max, max, 10, max, 30, 100],\n",
    "    [max, max, 5, max, max, max],\n",
    "    [max, max, max, 50, max, max],\n",
    "    [max, max, max, max, max, 10],\n",
    "    [max, max, max, 20, max, 60],\n",
    "    [max, max, max, max, max, max],\n",
    "    ]\n",
    "path = [None] * 6\n",
    "# 它的每个值cost[i]表示当前所找到的从起始点v0到终点vi的最短路径的权值\n",
    "cost = [0] * 6\n",
    "# dijkstra(graph, 0, path, cost, max)\n",
    "\n",
    "path,cost = dijkstra(graph, 0, path, cost)"
   ]
  },
  {
   "cell_type": "code",
   "execution_count": 15,
   "metadata": {},
   "outputs": [
    {
     "name": "stdout",
     "output_type": "stream",
     "text": [
      "[None, -1, 0, 4, 0, 3]\n",
      "3\n",
      "4\n",
      "0\n"
     ]
    }
   ],
   "source": [
    "i = 3\n",
    "print(path)\n",
    "\n",
    "# 从 0 节点到 3 节点的路径\n",
    "while i != None:\n",
    "    print(i)\n",
    "    i = path[i]"
   ]
  },
  {
   "cell_type": "code",
   "execution_count": null,
   "metadata": {},
   "outputs": [],
   "source": []
  },
  {
   "cell_type": "code",
   "execution_count": null,
   "metadata": {},
   "outputs": [],
   "source": []
  }
 ],
 "metadata": {
  "interpreter": {
   "hash": "9ecbc95d31df1b277e5ec566a835865c3a9a253da4266404bdbc6ee7e31406f4"
  },
  "kernelspec": {
   "display_name": "Python 3.8.6 ('tensorflow2')",
   "language": "python",
   "name": "python3"
  },
  "language_info": {
   "codemirror_mode": {
    "name": "ipython",
    "version": 3
   },
   "file_extension": ".py",
   "mimetype": "text/x-python",
   "name": "python",
   "nbconvert_exporter": "python",
   "pygments_lexer": "ipython3",
   "version": "3.8.6"
  },
  "orig_nbformat": 4
 },
 "nbformat": 4,
 "nbformat_minor": 2
}
