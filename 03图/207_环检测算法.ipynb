{
 "cells": [
  {
   "cell_type": "markdown",
   "metadata": {},
   "source": [
    "\n",
    "- https://leetcode-cn.com/problems/course-schedule/solution/course-schedule-tuo-bu-pai-xu-bfsdfsliang-chong-fa/\n",
    "- https://labuladong.gitee.io/algo/2/20/37/\n",
    "\n",
    "# 题目本质\n",
    "- 什么时候无法修完所有课程？当存在**循环依赖**的时候。\n",
    "- 看到依赖问题，首先想到的就是把问题转化成「有向图」这种数据结构，只要图中存在环，那就说明存在循环依赖。\n",
    "\n",
    "- 如何转换成图呢？写过图的两种存储形式，邻接矩阵和邻接表。\n",
    "\n",
    "- 经验论，常见的存储方式是使用邻接表，首先可以写一个建图函数："
   ]
  },
  {
   "cell_type": "markdown",
   "metadata": {},
   "source": [
    "## 构建图"
   ]
  },
  {
   "cell_type": "code",
   "execution_count": 1,
   "metadata": {},
   "outputs": [],
   "source": [
    "def buildGraph(numCourses, prerequisites):\n",
    "    graph = [0]*numCourses\n",
    "    for i in range(numCourses):\n",
    "        graph[i] = []\n",
    "    # print(graph) [[], []]\n",
    "    \n",
    "    for edge in prerequisites:\n",
    "        fromNode = edge[1]\n",
    "        toNode = edge[0]\n",
    "        # print(fromNode, toNode)\n",
    "        # 添加一条从 from 指向 to 的有向边\n",
    "        # 边的方向是「被依赖」关系，即修完课程 from 才能修课程 to\n",
    "        graph[fromNode].append(toNode)\n",
    "    return graph"
   ]
  },
  {
   "cell_type": "code",
   "execution_count": 51,
   "metadata": {},
   "outputs": [
    {
     "data": {
      "text/plain": [
       "[[1], [0]]"
      ]
     },
     "execution_count": 51,
     "metadata": {},
     "output_type": "execute_result"
    }
   ],
   "source": [
    "numCourses = 2\n",
    "# prerequisites = [[1,0]]\n",
    "prerequisites = [[1,0],[0,1]]\n",
    "graph = buildGraph(numCourses, prerequisites)\n",
    "graph"
   ]
  },
  {
   "cell_type": "markdown",
   "metadata": {},
   "source": [
    "## 遍历图\n",
    "- DFS 遍历\n",
    "- 我们先来思考如何遍历这幅图，只要会遍历，就可以判断图中是否存在环了。"
   ]
  },
  {
   "cell_type": "code",
   "execution_count": 52,
   "metadata": {},
   "outputs": [],
   "source": [
    "# 防止重复遍历同一个节点\n",
    "class Solution:\n",
    "    def __init__(self):\n",
    "        # 防止重复遍历同一个节点\n",
    "        self.visited = []\n",
    "        # 布尔数组 onPath 记录当前 traverse 经过的路径\n",
    "        # 在进入节点 s 的时候将 onPath[s] 标记为 true，离开时标记回 false，\n",
    "        # 如果发现 onPath[s] 已经被标记，说明出现了环。\n",
    "        self.onPath = []\n",
    "        self.hasCycle = False\n",
    "        \n",
    "    def canFinish(self, numCourses, prerequisites):\n",
    "        self.visited = [False]*numCourses\n",
    "        self.onPath = [False]*numCourses\n",
    "\n",
    "        graph = buildGraph(numCourses, prerequisites)\n",
    "        # print(graph)\n",
    "\n",
    "        # ，所以要用一个 for 循环将所有节点都作为起点调用一次 DFS 搜索算法。\n",
    "        for i in range(numCourses):\n",
    "            self.traverse(graph, i)\n",
    "        return not self.hasCycle\n",
    "\n",
    "    # 图的遍历\n",
    "    def traverse(self, graph, s):\n",
    "        print(\"s\", s)\n",
    "        # print(graph)    #  [[1], []]\n",
    "        # print(self.onPath)\n",
    "\n",
    "        # 如果 self.onPath[s] == True 就有环\n",
    "        print(\"self.onPath0\", self.onPath)\n",
    "        if self.onPath[s]:\n",
    "            print(\"有环\")\n",
    "            # 出现环\n",
    "            self.hasCycle = True\n",
    "\n",
    "        if self.visited[s] or self.hasCycle:\n",
    "            # 如果已经找到了环，也不用再遍历了\n",
    "            return\n",
    "        \n",
    "        # 前序遍历代码位置\n",
    "        # 将当前节点标记为已遍历\n",
    "        self.onPath[s] = True\n",
    "        self.visited[s] = True\n",
    "        print(\"self.visited\", self.visited)\n",
    "        print(\"self.onPath1\", self.onPath)\n",
    "\n",
    "        for t in graph[s]:\n",
    "            self.traverse(graph, t)\n",
    "\n",
    "        print(\"self.onPath2\", self.onPath)\n",
    "        self.onPath[s] = False"
   ]
  },
  {
   "cell_type": "code",
   "execution_count": 53,
   "metadata": {},
   "outputs": [
    {
     "name": "stdout",
     "output_type": "stream",
     "text": [
      "s 0\n",
      "self.onPath0 [False, False]\n",
      "self.visited [True, False]\n",
      "self.onPath1 [True, False]\n",
      "s 1\n",
      "self.onPath0 [True, False]\n",
      "self.visited [True, True]\n",
      "self.onPath1 [True, True]\n",
      "s 0\n",
      "self.onPath0 [True, True]\n",
      "有环\n",
      "self.onPath2 [True, True]\n",
      "self.onPath2 [True, False]\n",
      "s 1\n",
      "self.onPath0 [False, False]\n"
     ]
    },
    {
     "data": {
      "text/plain": [
       "False"
      ]
     },
     "execution_count": 53,
     "metadata": {},
     "output_type": "execute_result"
    }
   ],
   "source": [
    "# graph = [[1], [0]]\n",
    "s = Solution()\n",
    "s.canFinish(numCourses, prerequisites)"
   ]
  },
  {
   "cell_type": "code",
   "execution_count": null,
   "metadata": {},
   "outputs": [],
   "source": []
  },
  {
   "cell_type": "code",
   "execution_count": 54,
   "metadata": {},
   "outputs": [],
   "source": [
    "from collections import deque\n",
    "\n",
    "class Solution:\n",
    "    def canFinish(self, numCourses: int, prerequisites) -> bool:\n",
    "        indegrees = [0 for _ in range(numCourses)]\n",
    "        adjacency = [[] for _ in range(numCourses)]\n",
    "        queue = deque()\n",
    "        # Get the indegree and adjacency of every course.\n",
    "        for cur, pre in prerequisites:\n",
    "            indegrees[cur] += 1\n",
    "            adjacency[pre].append(cur)\n",
    "        # Get all the courses with the indegree of 0.\n",
    "        for i in range(len(indegrees)):\n",
    "            if not indegrees[i]: queue.append(i)\n",
    "        # BFS TopSort.\n",
    "        while queue:\n",
    "            pre = queue.popleft()\n",
    "            numCourses -= 1\n",
    "            for cur in adjacency[pre]:\n",
    "                indegrees[cur] -= 1\n",
    "                if not indegrees[cur]: queue.append(cur)\n",
    "        return not numCourses"
   ]
  },
  {
   "cell_type": "code",
   "execution_count": 55,
   "metadata": {},
   "outputs": [
    {
     "data": {
      "text/plain": [
       "True"
      ]
     },
     "execution_count": 55,
     "metadata": {},
     "output_type": "execute_result"
    }
   ],
   "source": [
    "numCourses = 2\n",
    "prerequisites = [[1,0]]\n",
    "# prerequisites = [[1,0],[0,1]]\n",
    "s = Solution()\n",
    "s.canFinish(numCourses, prerequisites)"
   ]
  },
  {
   "cell_type": "code",
   "execution_count": 56,
   "metadata": {},
   "outputs": [],
   "source": [
    "class Solution:\n",
    "    def canFinish(self, numCourses: int, prerequisites) -> bool:\n",
    "        def dfs(i, adjacency, flags):\n",
    "            if flags[i] == -1: return True\n",
    "            if flags[i] == 1: return False\n",
    "            flags[i] = 1\n",
    "            for j in adjacency[i]:\n",
    "                if not dfs(j, adjacency, flags): return False\n",
    "            flags[i] = -1\n",
    "            return True\n",
    "\n",
    "        adjacency = [[] for _ in range(numCourses)]\n",
    "        flags = [0 for _ in range(numCourses)]\n",
    "        for cur, pre in prerequisites:\n",
    "            adjacency[pre].append(cur)\n",
    "        for i in range(numCourses):\n",
    "            if not dfs(i, adjacency, flags): return False\n",
    "        return True"
   ]
  },
  {
   "cell_type": "code",
   "execution_count": 57,
   "metadata": {},
   "outputs": [
    {
     "data": {
      "text/plain": [
       "True"
      ]
     },
     "execution_count": 57,
     "metadata": {},
     "output_type": "execute_result"
    }
   ],
   "source": [
    "numCourses = 2\n",
    "prerequisites = [[1,0]]\n",
    "# prerequisites = [[1,0],[0,1]]\n",
    "s = Solution()\n",
    "s.canFinish(numCourses, prerequisites)"
   ]
  },
  {
   "cell_type": "code",
   "execution_count": null,
   "metadata": {},
   "outputs": [],
   "source": []
  }
 ],
 "metadata": {
  "interpreter": {
   "hash": "9ecbc95d31df1b277e5ec566a835865c3a9a253da4266404bdbc6ee7e31406f4"
  },
  "kernelspec": {
   "display_name": "Python 3.8.6 ('tensorflow2')",
   "language": "python",
   "name": "python3"
  },
  "language_info": {
   "codemirror_mode": {
    "name": "ipython",
    "version": 3
   },
   "file_extension": ".py",
   "mimetype": "text/x-python",
   "name": "python",
   "nbconvert_exporter": "python",
   "pygments_lexer": "ipython3",
   "version": "3.8.6"
  },
  "orig_nbformat": 4
 },
 "nbformat": 4,
 "nbformat_minor": 2
}
