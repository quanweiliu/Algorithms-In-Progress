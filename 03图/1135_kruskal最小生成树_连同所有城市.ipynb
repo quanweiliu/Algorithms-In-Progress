{
 "cells": [
  {
   "cell_type": "markdown",
   "metadata": {},
   "source": [
    "# 最小生成树（克鲁斯卡尔算法/kruskal）\n",
    "- Kruskal其关键是要熟悉并查集算法\n",
    "- 「树」和「图」的根本区别：树不会包含环，图可以包含环。\n",
    "- 「生成树」，就是在图中找一棵包含图中的所有节点的树。专业点说，生成树是含有图中所有顶点的「无环连通子图」。\n",
    "- 「最小生成树」所有可能的生成树中，权重和最小的那棵生成树。"
   ]
  },
  {
   "cell_type": "markdown",
   "metadata": {},
   "source": [
    "## 题目\n",
    "- 最低成本联通所有城市\n",
    "- 输入：n = 3， connections = [[1,2,5],[1,3,6],[2,3,1]]  -> 6\n",
    "- connections[i]= [city1, city2,cost]\n",
    "\n",
    "- kruskal思路：\n",
    "- 将所有边按照权重从小到大排序，从权重最小的边开始遍历，如果这条边和mst中的其它边不会形成环，则这条边是最小生成树的一部分，将它加入mst集合；否则，这条边不是最小生成树的一部分，不要把它加入mst集合。\n",
    "    - 包含图中的所有节点。\n",
    "    - 形成的结构是树结构（即不存在环）。\n",
    "    - 权重和最小。"
   ]
  },
  {
   "cell_type": "code",
   "execution_count": 1,
   "metadata": {},
   "outputs": [],
   "source": [
    "class UF():\n",
    "    '''\n",
    "    主要作用是保证最小生成树的合法性\n",
    "    '''\n",
    "    def __init__(self, n):\n",
    "        # 记录连通分量\n",
    "        self.n = n\n",
    "        # 一开始互不连通\n",
    "        self.countN = self.n\n",
    "        # 节点 x 的节点是 parent[x]\n",
    "        self.parent = []\n",
    "        # 父节点指针初始指向自己\n",
    "        self.parent = [-1]*self.n\n",
    "        for i in range(n):\n",
    "            self.parent[i] = i\n",
    "        print(\"self.parent0\", self.parent)       # [0, 1, 2, 3, 4]\n",
    "    \n",
    "    # 如果某两个节点被连通，则让其中的（任意）一个节点的根节点接到另一个节点的根节点上\n",
    "    # 将 p 和 q 连接\n",
    "    def union(self, p, q):\n",
    "        rootP = self.find(p)\n",
    "        rootQ = self.find(q)\n",
    "\n",
    "        if rootP == rootQ:\n",
    "            return\n",
    "\n",
    "        # 将两棵树合并为一棵\n",
    "        self.parent[rootP] = rootQ\n",
    "        # self.parent[rootQ] = rootP 也一样\n",
    "        self.countN -= 1       # 两个分量合二为一\n",
    "        print(self.parent)\n",
    "\n",
    "    def find(self, p):\n",
    "        while self.parent[p] != p:      # 循环，直到找到根节点\n",
    "            self.parent[p] = self.parent[self.parent[p]]\n",
    "            p = self.parent[p]\n",
    "        return p\n",
    "\n",
    "    # 返回当前的连通分量个数\n",
    "    def count(self,):\n",
    "        return self.countN\n",
    "\n",
    "    def connected(self, p, q):\n",
    "        rootP = self.find(p)\n",
    "        rootQ = self.find(q)\n",
    "        return rootP == rootQ         "
   ]
  },
  {
   "cell_type": "code",
   "execution_count": 21,
   "metadata": {},
   "outputs": [],
   "source": [
    "# UF 算法的应用\n",
    "class Solution():\n",
    "    def minimumCost(self, n, edges):\n",
    "        '''\n",
    "        怎么按照权重对 edges 进行排序！\n",
    "        '''\n",
    "        # 城市编号为 1...n，所以初始化大小为 n + 1\n",
    "        # 不是从零 开始\n",
    "        uf = UF(n+1)\n",
    "        # 记录最小生成树的权重之和\n",
    "        mst = 0\n",
    "        # 对所有边按照权重从小到大排序\n",
    "        edges.sort(key=lambda x : x[2])\n",
    "\n",
    "        for edge in edges:\n",
    "            # 遍历所有边，将组成边的两个节点进行连接\n",
    "            u = edge[0]\n",
    "            v = edge[1]\n",
    "            cost = edge[2]\n",
    "            if uf.connected(u, v):\n",
    "                # 若这条边会产生环，则不能加入 mst\n",
    "                continue\n",
    "            mst += cost\n",
    "            uf.union(u, v)\n",
    "        # 保证所有节点都被连通\n",
    "        # 按理说 uf.count() == 1 说明所有节点被连通\n",
    "        # 但因为节点 0 没有被使用，所以 0 会额外占用一个连通分量\n",
    "        if uf.count() == 2:\n",
    "            return mst\n",
    "        else:\n",
    "            return -1"
   ]
  },
  {
   "cell_type": "code",
   "execution_count": 22,
   "metadata": {},
   "outputs": [
    {
     "name": "stdout",
     "output_type": "stream",
     "text": [
      "self.parent0 [0, 1, 2, 3]\n",
      "[0, 1, 3, 3]\n",
      "[0, 3, 3, 3]\n"
     ]
    },
    {
     "data": {
      "text/plain": [
       "6"
      ]
     },
     "execution_count": 22,
     "metadata": {},
     "output_type": "execute_result"
    }
   ],
   "source": [
    "n = 3\n",
    "edges = [[1,2,5], [1,3,6],[2,3,1]]\n",
    "\n",
    "s = Solution()\n",
    "s.minimumCost(n, edges)"
   ]
  },
  {
   "cell_type": "code",
   "execution_count": null,
   "metadata": {},
   "outputs": [],
   "source": []
  }
 ],
 "metadata": {
  "interpreter": {
   "hash": "9ecbc95d31df1b277e5ec566a835865c3a9a253da4266404bdbc6ee7e31406f4"
  },
  "kernelspec": {
   "display_name": "Python 3.8.6 ('tensorflow2')",
   "language": "python",
   "name": "python3"
  },
  "language_info": {
   "codemirror_mode": {
    "name": "ipython",
    "version": 3
   },
   "file_extension": ".py",
   "mimetype": "text/x-python",
   "name": "python",
   "nbconvert_exporter": "python",
   "pygments_lexer": "ipython3",
   "version": "3.8.6"
  },
  "orig_nbformat": 4
 },
 "nbformat": 4,
 "nbformat_minor": 2
}
