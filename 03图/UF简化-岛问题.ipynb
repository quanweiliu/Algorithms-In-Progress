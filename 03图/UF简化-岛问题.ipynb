{
 "cells": [
  {
   "cell_type": "code",
   "execution_count": 3,
   "metadata": {},
   "outputs": [],
   "source": [
    "def island(matrix):\n",
    "    if len(matrix) == 0:\n",
    "        return None\n",
    "    \n",
    "    res = 0\n",
    "    N = len(matrix[0])\n",
    "    M = len(matrix[1])\n",
    "    print(N, M)\n",
    "\n",
    "    for i in range(N):\n",
    "        for j in range(M):\n",
    "            if matrix[i][j] == 1:\n",
    "                res += 1\n",
    "                infect(matrix, i, j, N, M)\n",
    "    # print(matrix)\n",
    "    return res\n",
    "\n",
    "# 把连接的小岛都变为 2\n",
    "def infect(matrix, i, j, N, M):\n",
    "    if i<0 or i>=N or j<0 or j>=M or matrix[i][j] != 1:\n",
    "        return\n",
    "    \n",
    "    # 把当前位置置为 2\n",
    "    matrix[i][j] = 2\n",
    "    \n",
    "    # 上下左右的走\n",
    "    infect(matrix, i+1, j, N, M)\n",
    "    infect(matrix, i-1, j, N, M)\n",
    "    infect(matrix, i, j+1, N, M)\n",
    "    infect(matrix, i, j-1, N, M)"
   ]
  },
  {
   "cell_type": "code",
   "execution_count": 4,
   "metadata": {},
   "outputs": [
    {
     "name": "stdout",
     "output_type": "stream",
     "text": [
      "5 5\n",
      "[[0, 2, 0, 2, 0], [2, 2, 0, 0, 2], [0, 2, 2, 0, 0], [0, 2, 2, 2, 0], [0, 2, 2, 2, 0]]\n"
     ]
    },
    {
     "data": {
      "text/plain": [
       "3"
      ]
     },
     "execution_count": 4,
     "metadata": {},
     "output_type": "execute_result"
    }
   ],
   "source": [
    "# matrix = [[0,1,0,1],\n",
    "#         [1,1,0,0],\n",
    "#         [0,1,1,0],\n",
    "#         [0,1,1,1]]\n",
    "matrix = [[0,1,0,1,0],\n",
    "        [1,1,0,0,1],\n",
    "        [0,1,1,0,0],\n",
    "        [0,1,1,1,0],\n",
    "        [0,1,1,1,0]]\n",
    "island(matrix)"
   ]
  },
  {
   "cell_type": "markdown",
   "metadata": {},
   "source": [
    "# 时间复杂度 O(n*m)"
   ]
  },
  {
   "cell_type": "markdown",
   "metadata": {},
   "source": [
    "# 如何设计一个并行算法解决这个问题？  -- google 级别公司\n",
    "- 并查集，非常非常重要的数据结构"
   ]
  },
  {
   "cell_type": "code",
   "execution_count": null,
   "metadata": {},
   "outputs": [],
   "source": []
  },
  {
   "cell_type": "code",
   "execution_count": null,
   "metadata": {},
   "outputs": [],
   "source": []
  },
  {
   "cell_type": "code",
   "execution_count": null,
   "metadata": {},
   "outputs": [],
   "source": []
  },
  {
   "cell_type": "code",
   "execution_count": null,
   "metadata": {},
   "outputs": [],
   "source": []
  },
  {
   "cell_type": "code",
   "execution_count": null,
   "metadata": {},
   "outputs": [],
   "source": []
  },
  {
   "cell_type": "code",
   "execution_count": null,
   "metadata": {},
   "outputs": [],
   "source": []
  },
  {
   "cell_type": "code",
   "execution_count": null,
   "metadata": {},
   "outputs": [],
   "source": []
  },
  {
   "cell_type": "code",
   "execution_count": null,
   "metadata": {},
   "outputs": [],
   "source": []
  }
 ],
 "metadata": {
  "interpreter": {
   "hash": "85c51a4259275393737ca8d3e0cd6fa489554cf4913552085d5553b62ac22de5"
  },
  "kernelspec": {
   "display_name": "Python 3.8.6 ('tensorflow2')",
   "language": "python",
   "name": "python3"
  },
  "language_info": {
   "codemirror_mode": {
    "name": "ipython",
    "version": 3
   },
   "file_extension": ".py",
   "mimetype": "text/x-python",
   "name": "python",
   "nbconvert_exporter": "python",
   "pygments_lexer": "ipython3",
   "version": "3.8.6"
  },
  "orig_nbformat": 4
 },
 "nbformat": 4,
 "nbformat_minor": 2
}
