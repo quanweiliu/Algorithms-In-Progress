{
 "cells": [
  {
   "cell_type": "markdown",
   "metadata": {},
   "source": [
    "# 二分图\n",
    "- 定义\n",
    "    - 二分图的顶点集可分割为两个互不相交的子集，图中每条边依附的两个顶点都分属于这两个子集，且两个子集内的顶点不相邻。\n",
    "- 思路\n",
    "    - 历一遍图，一边遍历一边染色，看看能不能用两种颜色给所有节点染色，且相邻节点的颜色都不相同。\n",
    "    - 遍历图，也不涉及最短路径之类的， DFS 算法和 BFS 皆可了，DFS 算法相对更常用些！"
   ]
  },
  {
   "cell_type": "markdown",
   "metadata": {},
   "source": [
    "### DFS 逻辑"
   ]
  },
  {
   "cell_type": "code",
   "execution_count": 7,
   "metadata": {},
   "outputs": [],
   "source": [
    "class Solution:\n",
    "    def __init__(self):\n",
    "        # 记录图中节点的颜色，false 和 true 代表两种不同颜色\n",
    "        self.color = []\n",
    "        # 防止重复遍历同一个节点\n",
    "        self.visited = []\n",
    "        # 记录图是否符合二分图性质\n",
    "        self.ok = True\n",
    "    \n",
    "    # 主函数，输入邻接表，判断是否是二分图\n",
    "    def isBipartite(self, graph):\n",
    "        n = len(graph)\n",
    "        self.visited = [False]*n\n",
    "        self.color = [False]*n\n",
    "\n",
    "        # 因为图不一定是联通的，可能存在多个子图\n",
    "        # 所以要把每个节点都作为起点进行一次遍历\n",
    "        # 如果发现任何一个子图不是二分图，整幅图都不算二分图\n",
    "        for i in range(n):\n",
    "            if self.visited[i] == False:\n",
    "                self.traverse(graph, i)\n",
    "        return self.ok\n",
    "        \n",
    "    # 图的遍历\n",
    "    def traverse(self, graph, s):\n",
    "        # 如果已经确定不是二分图了，就不用浪费时间再递归遍历了\n",
    "        if not self.ok:\n",
    "            return\n",
    "        # print(graph)    #  [[1, 2], [3], [3], []]\n",
    "\n",
    "        # 前序遍历代码位置\n",
    "        # 将当前节点标记为已遍历\n",
    "        self.visited[s] = True\n",
    "        # 遍历节点 v 的所有相邻节点 neighbor\n",
    "        for w in graph[s]:\n",
    "            if not self.visited[w]:\n",
    "                # 相邻节点 neighbor 没有被访问过\n",
    "                # 那么应该给节点 neighbor 涂上和节点 v 不同的颜色\n",
    "                self.color[w] = not self.color[s]\n",
    "                self.traverse(graph, w)\n",
    "            else:\n",
    "                # 相邻邻节点 neighbor 已经被访问过\n",
    "                # 那么应该比较节点 neighbor 和节点 v 的颜色，\n",
    "                # 若相同，则此图不是二分图\n",
    "                if self.color[w] == self.color[s]:\n",
    "                    self.ok = False"
   ]
  },
  {
   "cell_type": "code",
   "execution_count": 8,
   "metadata": {},
   "outputs": [
    {
     "data": {
      "text/plain": [
       "False"
      ]
     },
     "execution_count": 8,
     "metadata": {},
     "output_type": "execute_result"
    }
   ],
   "source": [
    "graph = [[1,2,3],[0,2],[0,1,3],[0,2]]\n",
    "s = Solution()\n",
    "s.isBipartite(graph)"
   ]
  },
  {
   "cell_type": "markdown",
   "metadata": {},
   "source": [
    "### BFS 逻辑"
   ]
  },
  {
   "cell_type": "code",
   "execution_count": 7,
   "metadata": {},
   "outputs": [],
   "source": [
    "class Solution:\n",
    "    def __init__(self):\n",
    "        # 记录图中节点的颜色，false 和 true 代表两种不同颜色\n",
    "        self.color = []\n",
    "        # 防止重复遍历同一个节点\n",
    "        self.visited = []\n",
    "        # 记录图是否符合二分图性质\n",
    "        self.ok = True\n",
    "    \n",
    "    # 主函数，输入邻接表，判断是否是二分图\n",
    "    def isBipartite(self, graph):\n",
    "        n = len(graph)\n",
    "        self.visited = [False]*n\n",
    "        self.color = [False]*n\n",
    "\n",
    "        # 因为图不一定是联通的，可能存在多个子图\n",
    "        # 所以要把每个节点都作为起点进行一次遍历\n",
    "        # 如果发现任何一个子图不是二分图，整幅图都不算二分图\n",
    "        for i in range(n):\n",
    "            if self.visited[i] == False:\n",
    "                self.traverse(graph, i)\n",
    "        return self.ok\n",
    "        \n",
    "    # 图的遍历\n",
    "    def traverse(self, graph, start):\n",
    "        q = []\n",
    "        # 将当前节点标记为已遍历\n",
    "        self.visited[start] = True\n",
    "        q.append(start)\n",
    "\n",
    "        while len(q)>0 and self.ok:\n",
    "            v = q.pop()\n",
    "            # 从节点 v 向所有相邻节点扩散\n",
    "            for w in graph[v]:\n",
    "                if not self.visited[w]:\n",
    "                    # 相邻节点 neighbor 没有被访问过\n",
    "                    # 那么应该给节点 neighbor 涂上和节点 v 不同的颜色\n",
    "                    self.color[w] = not self.color[start]\n",
    "                    self.traverse(graph, w)\n",
    "                else:\n",
    "                    # 相邻邻节点 neighbor 已经被访问过\n",
    "                    # 那么应该比较节点 neighbor 和节点 v 的颜色，\n",
    "                    # 若相同，则此图不是二分图\n",
    "                    if self.color[w] == self.color[start]:\n",
    "                        self.ok = False"
   ]
  },
  {
   "cell_type": "code",
   "execution_count": 8,
   "metadata": {},
   "outputs": [
    {
     "data": {
      "text/plain": [
       "False"
      ]
     },
     "execution_count": 8,
     "metadata": {},
     "output_type": "execute_result"
    }
   ],
   "source": [
    "graph = [[1,2,3],[0,2],[0,1,3],[0,2]]\n",
    "s = Solution()\n",
    "s.isBipartite(graph)"
   ]
  },
  {
   "cell_type": "code",
   "execution_count": null,
   "metadata": {},
   "outputs": [],
   "source": []
  }
 ],
 "metadata": {
  "interpreter": {
   "hash": "9ecbc95d31df1b277e5ec566a835865c3a9a253da4266404bdbc6ee7e31406f4"
  },
  "kernelspec": {
   "display_name": "Python 3.8.6 ('tensorflow2')",
   "language": "python",
   "name": "python3"
  },
  "language_info": {
   "codemirror_mode": {
    "name": "ipython",
    "version": 3
   },
   "file_extension": ".py",
   "mimetype": "text/x-python",
   "name": "python",
   "nbconvert_exporter": "python",
   "pygments_lexer": "ipython3",
   "version": "3.8.6"
  },
  "orig_nbformat": 4
 },
 "nbformat": 4,
 "nbformat_minor": 2
}
