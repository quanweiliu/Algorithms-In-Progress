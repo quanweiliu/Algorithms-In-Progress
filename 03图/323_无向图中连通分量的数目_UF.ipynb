{
 "cells": [
  {
   "cell_type": "markdown",
   "metadata": {},
   "source": [
    "# Union-Find 算法\n",
    "\n",
    "- https://labuladong.gitee.io/algo/2/20/40/\n",
    "- https://www.cnblogs.com/jiduxia/p/9602878.html"
   ]
  },
  {
   "cell_type": "code",
   "execution_count": 1,
   "metadata": {},
   "outputs": [],
   "source": [
    "# 构造函数，n 为图的节点总数\n",
    "class UF():\n",
    "    # 构造函数，n 为图的节点总数\n",
    "    def __init__(self, n):\n",
    "        # 记录连通分量\n",
    "        self.n = n\n",
    "        # 一开始互不连通\n",
    "        self.countN = self.n\n",
    "        # 节点 x 的节点是 parent[x]\n",
    "        self.parent = []\n",
    "        # 父节点指针初始指向自己\n",
    "        self.parent = [-1]*self.n\n",
    "        for i in range(n):\n",
    "            self.parent[i] = i\n",
    "        # print(self.parent)       # [0, 1, 2, 3, 4]\n",
    "    \n",
    "    # 如果某两个节点被连通，则让其中的（任意）一个节点的根节点接到另一个节点的根节点上\n",
    "    # 将 p 和 q 连接\n",
    "    def union(self, p, q):\n",
    "        # 找根\n",
    "        rootP = self.find(p)\n",
    "        rootQ = self.find(q)\n",
    "        print(\"rootP\", rootP,\"rootQ\", rootQ)\n",
    "\n",
    "        if rootP == rootQ:\n",
    "            return\n",
    "\n",
    "        # 将两棵树合并为一棵\n",
    "        self.parent[rootP] = rootQ\n",
    "        # self.parent[rootQ] = rootP 也一样\n",
    "        self.countN -= 1       # 两个分量合二为一\n",
    "\n",
    "\n",
    "    # 返回某个节点 x 的根节点\n",
    "    def find(self, p):\n",
    "        return self.parent[p]\n",
    "\n",
    "    # 返回当前的连通分量个数\n",
    "    def count(self,):\n",
    "        return self.countN\n",
    "\n",
    "    def connected(self, p, q):\n",
    "        rootP = self.find(p)\n",
    "        rootQ = self.find(q)\n",
    "        return rootP == rootQ         "
   ]
  },
  {
   "cell_type": "markdown",
   "metadata": {},
   "source": [
    "## 平衡性优化"
   ]
  },
  {
   "cell_type": "code",
   "execution_count": 2,
   "metadata": {},
   "outputs": [],
   "source": [
    "# 构造函数，n 为图的节点总数\n",
    "class UF():\n",
    "    # 构造函数，n 为图的节点总数\n",
    "    def __init__(self, n):\n",
    "        # 记录连通分量\n",
    "        self.n = n\n",
    "        # 一开始互不连通\n",
    "        self.countN = self.n\n",
    "        # 节点 x 的节点是 parent[x]\n",
    "        self.parent = []\n",
    "        # 父节点指针初始指向自己\n",
    "        self.parent = [-1]*self.n\n",
    "        for i in range(n):\n",
    "            self.parent[i] = i\n",
    "        # print(self.parent)       # [0, 1, 2, 3, 4]\n",
    "    \n",
    "    # 如果某两个节点被连通，则让其中的（任意）一个节点的根节点接到另一个节点的根节点上\n",
    "    # 将 p 和 q 连接\n",
    "    def union(self, p, q):\n",
    "        # 找根\n",
    "        rootP = self.find(p)\n",
    "        rootQ = self.find(q)\n",
    "        print(\"rootP\", rootP,\"rootQ\", rootQ)\n",
    "\n",
    "        if rootP == rootQ:\n",
    "            return\n",
    "\n",
    "        # 将两棵树合并为一棵\n",
    "        self.parent[rootP] = rootQ\n",
    "        # self.parent[rootQ] = rootP 也一样\n",
    "        self.countN -= 1       # 两个分量合二为一\n",
    "\n",
    "\n",
    "    # 返回某个节点 x 的根节点\n",
    "    def find(self, p):\n",
    "        while self.parent[p] != p: # 循环，直到找到根节点\n",
    "            p = self.parent[p]\n",
    "        #########################\n",
    "        # 我把 return 写到里面去了，为此付出了半小时的代价！\n",
    "        #########################\n",
    "        return p\n",
    "\n",
    "    # 返回当前的连通分量个数\n",
    "    def count(self,):\n",
    "        return self.countN\n",
    "\n",
    "    def connected(self, p, q):\n",
    "        rootP = self.find(p)\n",
    "        rootQ = self.find(q)\n",
    "        return rootP == rootQ         "
   ]
  },
  {
   "cell_type": "code",
   "execution_count": 1,
   "metadata": {},
   "outputs": [],
   "source": [
    "# https://www.cnblogs.com/jiduxia/p/9602878.html\n",
    "# class Weighted_Union_Find:\n",
    "class UF:\n",
    "    def __init__(self,N):\n",
    "        self.countN = N\n",
    "        self.ids = [i for i in range(N)]\n",
    "        self.size = [1 for i in range(N)] # 加权\n",
    "\n",
    "    def connect(self,p,q):\n",
    "        return self.find(p) == self.find(q)\n",
    "\n",
    "    def find(self,p):\n",
    "        while self.ids[p] != p:\n",
    "            p = self.ids[p]\n",
    "        return p\n",
    "\n",
    "    def union(self,p,q):\n",
    "        pID = self.find(p)\n",
    "        qID = self.find(q)\n",
    "        if pID == qID:\n",
    "            return\n",
    "        if self.size[pID] < self.size[qID]: # 小的树并到大的树下\n",
    "            self.ids[pID] = qID\n",
    "            self.size[qID] += self.size[pID]\n",
    "        else:\n",
    "            self.ids[qID] = pID\n",
    "            self.size[pID] += self.size[qID]\n",
    "        self.countN-=1\n",
    "\n",
    "    def count(self):\n",
    "        return self.countN"
   ]
  },
  {
   "cell_type": "code",
   "execution_count": 3,
   "metadata": {},
   "outputs": [
    {
     "name": "stdout",
     "output_type": "stream",
     "text": [
      "7\n"
     ]
    }
   ],
   "source": [
    "# https://www.cnblogs.com/jiduxia/p/9602878.html\n",
    "if __name__ == '__main__':\n",
    "    N, M = list(map(int,input().split())) # N为节点数目 M为输入关系系的数目\n",
    "    # uf = Quick_Find(N)\n",
    "    # uf = Quick_Union(N)\n",
    "    uf = UF(N)\n",
    "    for i in range(M):\n",
    "        p,q = list(map(int,input().split())) # p、q建立关系\n",
    "        if not uf.connect(p,q): # 若还未连接\n",
    "            uf.union(p,q)\n",
    "    print(uf.count())"
   ]
  },
  {
   "cell_type": "code",
   "execution_count": 13,
   "metadata": {},
   "outputs": [],
   "source": [
    "class countComponents():\n",
    "    def __init__(self, n, edges):\n",
    "        # 记录总的节点个数\n",
    "        self.n = n \n",
    "        self.edges = edges\n",
    "\n",
    "    def countC(self,):\n",
    "        uf = UF(self.n)\n",
    "        for e in self.edges:\n",
    "            uf.union(e[0], e[1])\n",
    "        return uf.count()\n",
    "    \n",
    "    def connectedC(self, p, q):\n",
    "        uf = UF(self.n)\n",
    "        for e in self.edges:\n",
    "            uf.union(e[0], e[1])\n",
    "        return uf.connected(p, q)"
   ]
  },
  {
   "cell_type": "code",
   "execution_count": 15,
   "metadata": {},
   "outputs": [
    {
     "data": {
      "text/plain": [
       "1"
      ]
     },
     "execution_count": 15,
     "metadata": {},
     "output_type": "execute_result"
    }
   ],
   "source": [
    "n = 5\n",
    "edges = [[0, 1], [1, 2], [3, 4]]\n",
    "#  0          3\n",
    "#  |          |\n",
    "#  1 --- 2    4 \n",
    "\n",
    "\n",
    "edges = [[0, 1], [1, 2], [2, 3], [3, 4]]\n",
    "#  0           4\n",
    "#  |           |\n",
    "#  1 --- 2 --- 3\n",
    "\n",
    "s = countComponents(n, edges)\n",
    "s.countC()"
   ]
  },
  {
   "cell_type": "code",
   "execution_count": 5,
   "metadata": {},
   "outputs": [
    {
     "name": "stdout",
     "output_type": "stream",
     "text": [
      "rootP 0 rootQ 1\n",
      "rootP 1 rootQ 2\n",
      "rootP 3 rootQ 4\n"
     ]
    },
    {
     "data": {
      "text/plain": [
       "True"
      ]
     },
     "execution_count": 5,
     "metadata": {},
     "output_type": "execute_result"
    }
   ],
   "source": [
    "s.connectedC(1, 2)"
   ]
  },
  {
   "cell_type": "code",
   "execution_count": null,
   "metadata": {},
   "outputs": [],
   "source": []
  }
 ],
 "metadata": {
  "interpreter": {
   "hash": "9ecbc95d31df1b277e5ec566a835865c3a9a253da4266404bdbc6ee7e31406f4"
  },
  "kernelspec": {
   "display_name": "Python 3.8.6 ('tensorflow2')",
   "language": "python",
   "name": "python3"
  },
  "language_info": {
   "codemirror_mode": {
    "name": "ipython",
    "version": 3
   },
   "file_extension": ".py",
   "mimetype": "text/x-python",
   "name": "python",
   "nbconvert_exporter": "python",
   "pygments_lexer": "ipython3",
   "version": "3.8.6"
  },
  "orig_nbformat": 4
 },
 "nbformat": 4,
 "nbformat_minor": 2
}
