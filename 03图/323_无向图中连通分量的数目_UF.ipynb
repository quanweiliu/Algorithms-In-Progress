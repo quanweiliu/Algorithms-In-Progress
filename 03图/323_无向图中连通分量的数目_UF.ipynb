{
 "cells": [
  {
   "cell_type": "markdown",
   "metadata": {},
   "source": [
    "# Union-Find 算法\n",
    "\n",
    "- https://labuladong.gitee.io/algo/2/20/40/\n",
    "- https://www.cnblogs.com/jiduxia/p/9602878.html\n",
    "\n",
    "## 问题本质\n",
    "- 等价关系，一般包含等价关系的都可以想想UF 算法！\n",
    " \n",
    "## 几个操作\n",
    "- union：一开始有n个分量，每次union 都会归并让连通分量减一\n",
    "- find：返回指定节点的连通分量标识符\n",
    "- connected\n",
    "- count\n",
    "\n",
    "- 一步到位，最优解法，演进过程可以看下面的quick-find， quick-union"
   ]
  },
  {
   "cell_type": "code",
   "execution_count": 89,
   "metadata": {},
   "outputs": [],
   "source": [
    "# 构造函数，n 为图的节点总数\n",
    "class UF():\n",
    "    # 构造函数，n 为图的节点总数\n",
    "    def __init__(self, n):\n",
    "        # 记录连通分量\n",
    "        self.n = n\n",
    "        # 一开始互不连通\n",
    "        self.countN = self.n\n",
    "        # 节点 x 的节点是 parent[x]\n",
    "        self.parent = []\n",
    "        # 父节点指针初始指向自己\n",
    "        self.parent = [-1]*self.n\n",
    "        for i in range(n):\n",
    "            self.parent[i] = i\n",
    "        print(self.parent)       # [0, 1, 2, 3, 4]\n",
    "    \n",
    "    # 如果某两个节点被连通，则让其中的（任意）一个节点的根节点接到另一个节点的根节点上\n",
    "    # 将 p 和 q 连接\n",
    "    def union(self, p, q):\n",
    "        rootP = self.find(p)\n",
    "        rootQ = self.find(q)\n",
    "\n",
    "        if rootP == rootQ:\n",
    "            return\n",
    "\n",
    "        # 将两棵树合并为一棵\n",
    "        self.parent[rootP] = rootQ\n",
    "        # self.parent[rootQ] = rootP 也一样\n",
    "        self.countN -= 1       # 两个分量合二为一\n",
    "        print(self.parent)\n",
    "\n",
    "\n",
    "    # 返回某个节点 x 的根节点\n",
    "    # 理清楚这个就行了\n",
    "    def find(self, p):\n",
    "        # print(\"self.parent[]\",p, self.parent[p])\n",
    "        # 第一次循环，p = 0, self[0] = 1\n",
    "        # 第二次循环，p = 1, self[1] = 2\n",
    "        # 第三次循环，p = 2, self[2] = 2\n",
    "        while self.parent[p] != p:      # 循环，直到找到根节点\n",
    "            # 在检查节点的同时，直接将他们连接到根节点上\n",
    "            self.parent[p] = self.parent[self.parent[p]]\n",
    "            p = self.parent[p]\n",
    "        return p\n",
    "\n",
    "    # 返回当前的连通分量个数\n",
    "    def count(self,):\n",
    "        return self.countN\n",
    "\n",
    "    def connected(self, p, q):\n",
    "        rootP = self.find(p)\n",
    "        rootQ = self.find(q)\n",
    "        return rootP == rootQ         "
   ]
  },
  {
   "cell_type": "code",
   "execution_count": 90,
   "metadata": {},
   "outputs": [],
   "source": [
    "class countComponents():\n",
    "    def __init__(self, n, edges):\n",
    "        # 记录总的节点个数\n",
    "        self.n = n \n",
    "        self.edges = edges\n",
    "\n",
    "    def countC(self,):\n",
    "        uf = UF(self.n)\n",
    "        # 把所给的边都 union\n",
    "        for e in self.edges:\n",
    "            uf.union(e[0], e[1])\n",
    "        return uf.count()\n",
    "    \n",
    "    def connectedC(self, p, q):\n",
    "        uf = UF(self.n)\n",
    "        for e in self.edges:\n",
    "            uf.union(e[0], e[1])\n",
    "        return uf.connected(p, q)"
   ]
  },
  {
   "cell_type": "code",
   "execution_count": 92,
   "metadata": {},
   "outputs": [
    {
     "name": "stdout",
     "output_type": "stream",
     "text": [
      "[0, 1, 2, 3, 4]\n",
      "[1, 1, 2, 3, 4]\n",
      "[1, 2, 2, 3, 4]\n",
      "[1, 2, 3, 3, 4]\n",
      "[1, 2, 3, 4, 4]\n"
     ]
    },
    {
     "data": {
      "text/plain": [
       "1"
      ]
     },
     "execution_count": 92,
     "metadata": {},
     "output_type": "execute_result"
    }
   ],
   "source": [
    "n = 5\n",
    "edges = [[0, 1], [1, 2], [0, 2], [3, 4]]\n",
    "#  0          3\n",
    "#  |          |\n",
    "#  1 --- 2    4 \n",
    "\n",
    "\n",
    "edges = [[0, 1], [1, 2], [2, 3], [3, 4]]\n",
    "#  0           4\n",
    "#  |           |\n",
    "#  1 --- 2 --- 3\n",
    "\n",
    "s = countComponents(n, edges)\n",
    "s.countC()"
   ]
  },
  {
   "cell_type": "markdown",
   "metadata": {},
   "source": [
    "# Quick_Find\n",
    "- 平方级复杂度，不行"
   ]
  },
  {
   "cell_type": "code",
   "execution_count": 68,
   "metadata": {},
   "outputs": [],
   "source": [
    "class Quick_Find:\n",
    "    def __init__(self,N):\n",
    "        self.count = N\n",
    "        # 每个分量有自己的标识符\n",
    "        self.ids = [i for i in range(self.count)]\n",
    "        print(\"self.ids0\",self.ids)\n",
    "\n",
    "    def connect(self,p,q):\n",
    "        return self.find[p] == self.find(q)\n",
    "\n",
    "    def find(self,p):\n",
    "        return self.ids[p]\n",
    "\n",
    "    def union(self,p,q):\n",
    "        pId = self.find(p)\n",
    "        qId = self.find(q)\n",
    "\n",
    "        # 如果 p 和 q 已经在相同的分量中，不需要采取操作\n",
    "        if pId == qId:\n",
    "            return\n",
    "\n",
    "        # 将 p 的分量重命名为 q\n",
    "        # 这里会把所有已经连同的分量全都重命名\n",
    "        for i in range(len(self.ids)):\n",
    "            if self.ids[i] == pId:\n",
    "                self.ids[i] = qId\n",
    "        self.count-=1\n",
    "        print(\"self.ids\",self.ids)\n",
    "\n",
    "    def getcount(self):\n",
    "        return self.count"
   ]
  },
  {
   "cell_type": "code",
   "execution_count": 69,
   "metadata": {},
   "outputs": [],
   "source": [
    "class countComponents():\n",
    "    def __init__(self, n, edges):\n",
    "        # 记录总的节点个数\n",
    "        self.n = n \n",
    "        self.edges = edges\n",
    "\n",
    "    def countC(self,):\n",
    "        uf = Quick_Find(self.n)\n",
    "        for e in self.edges:\n",
    "            uf.union(e[0], e[1])\n",
    "        return uf.getcount()"
   ]
  },
  {
   "cell_type": "code",
   "execution_count": 70,
   "metadata": {},
   "outputs": [
    {
     "name": "stdout",
     "output_type": "stream",
     "text": [
      "self.ids0 [0, 1, 2, 3, 4]\n",
      "self.ids [1, 1, 2, 3, 4]\n",
      "self.ids [2, 2, 2, 3, 4]\n",
      "self.ids [2, 2, 2, 4, 4]\n"
     ]
    },
    {
     "data": {
      "text/plain": [
       "2"
      ]
     },
     "execution_count": 70,
     "metadata": {},
     "output_type": "execute_result"
    }
   ],
   "source": [
    "n = 5\n",
    "edges = [[0, 1], [1, 2], [0, 2], [3, 4]]\n",
    "#  0          3\n",
    "#  |          |\n",
    "#  1 --- 2    4 \n",
    "\n",
    "\n",
    "# edges = [[0, 1], [1, 2], [2, 3], [3, 4]]\n",
    "#  0           4\n",
    "#  |           |\n",
    "#  1 --- 2 --- 3\n",
    "\n",
    "s = countComponents(n, edges)\n",
    "s.countC()"
   ]
  },
  {
   "cell_type": "markdown",
   "metadata": {},
   "source": [
    "# Quick_Union\n",
    "- 不能用，算法复杂度，平方级\n",
    "- 理解怎么构造的树！！森林！！"
   ]
  },
  {
   "cell_type": "code",
   "execution_count": 80,
   "metadata": {},
   "outputs": [],
   "source": [
    "class Quick_Union:\n",
    "    def __init__(self,N):\n",
    "        self.count = N\n",
    "        self.ids = [i for i in range(N)]\n",
    "        print(\"self.ids0\",self.ids)\n",
    "\n",
    "    def connect(self,p,q):\n",
    "        return self.find(p) == self.find(q)\n",
    "\n",
    "    def find(self,p):\n",
    "        while self.ids[p] != p: # 循环，直到找到根节点\n",
    "            # print(\"while\", p, self.ids[p])\n",
    "            p = self.ids[p]\n",
    "        return p\n",
    "\n",
    "    def union(self,p,q):\n",
    "        pID = self.find(p)\n",
    "        qID = self.find(q)\n",
    "        if pID == qID:\n",
    "            return\n",
    "        \n",
    "        # 将 p 和 q 的根节点统一！！\n",
    "        self.ids[pID] = qID\n",
    "        self.count -= 1\n",
    "        print(\"self.ids\",self.ids)\n",
    "\n",
    "    def getcount(self):\n",
    "        return self.count"
   ]
  },
  {
   "cell_type": "code",
   "execution_count": 81,
   "metadata": {},
   "outputs": [],
   "source": [
    "class countComponents():\n",
    "    def __init__(self, n, edges):\n",
    "        # 记录总的节点个数\n",
    "        self.n = n \n",
    "        self.edges = edges\n",
    "\n",
    "    def countC(self,):\n",
    "        uf = Quick_Union(self.n)\n",
    "        for e in self.edges:\n",
    "            uf.union(e[0], e[1])\n",
    "        return uf.getcount()"
   ]
  },
  {
   "cell_type": "code",
   "execution_count": 84,
   "metadata": {},
   "outputs": [
    {
     "name": "stdout",
     "output_type": "stream",
     "text": [
      "self.ids0 [0, 1, 2, 3, 4]\n",
      "self.ids [1, 1, 2, 3, 4]\n",
      "self.ids [1, 2, 2, 3, 4]\n",
      "self.ids [1, 2, 3, 3, 4]\n",
      "self.ids [1, 2, 3, 4, 4]\n"
     ]
    },
    {
     "data": {
      "text/plain": [
       "1"
      ]
     },
     "execution_count": 84,
     "metadata": {},
     "output_type": "execute_result"
    }
   ],
   "source": [
    "n = 5\n",
    "# edges = [[0, 1], [1, 2], [0, 2], [3, 4]]\n",
    "#  0          3\n",
    "#  |          |\n",
    "#  1 --- 2    4 \n",
    "\n",
    "\n",
    "edges = [[0, 1], [1, 2], [2, 3], [3, 4]]\n",
    "#  0           4\n",
    "#  |           |\n",
    "#  1 --- 2 --- 3\n",
    "\n",
    "# 这里面的这种链式结构是理解的难点\n",
    "# self.ids0 [0, 1, 2, 3, 4]\n",
    "# self.ids [1, 1, *, *, *]\n",
    "# self.ids [*, 2, 2, *, *]\n",
    "# self.ids [*, *, 3, 3, *]\n",
    "# self.ids [*, *, *, 4, 4]\n",
    "\n",
    "s = countComponents(n, edges)\n",
    "s.countC()"
   ]
  },
  {
   "cell_type": "markdown",
   "metadata": {},
   "source": [
    "# Weighted_Union_Find"
   ]
  },
  {
   "cell_type": "code",
   "execution_count": 52,
   "metadata": {},
   "outputs": [],
   "source": [
    "class Weighted_Union_Find:\n",
    "    def __init__(self,N):\n",
    "        self.count = N\n",
    "        self.ids = [i for i in range(N)]\n",
    "        self.size = [1 for i in range(N)] # 加权\n",
    "\n",
    "    def connect(self,p,q):\n",
    "        return self.find(p) == self.find(q)\n",
    "\n",
    "    def find(self,p):\n",
    "        while self.ids[p] != p:\n",
    "            p = self.ids[p]\n",
    "        return p\n",
    "\n",
    "    def union(self,p,q):\n",
    "        pID = self.find(p)\n",
    "        qID = self.find(q)\n",
    "        if pID == qID:\n",
    "            return\n",
    "\n",
    "        if self.size[pID] < self.size[qID]: # 小的树并到大的树下\n",
    "            self.ids[pID] = qID\n",
    "            self.size[qID] += self.size[pID]\n",
    "        else:\n",
    "            self.ids[qID] = pID\n",
    "            self.size[pID] += self.size[qID]\n",
    "        self.count-=1\n",
    "\n",
    "    def getcount(self):\n",
    "        return self.count\n"
   ]
  },
  {
   "cell_type": "code",
   "execution_count": 53,
   "metadata": {},
   "outputs": [],
   "source": [
    "class countComponents():\n",
    "    def __init__(self, n, edges):\n",
    "        # 记录总的节点个数\n",
    "        self.n = n \n",
    "        self.edges = edges\n",
    "\n",
    "    def countC(self,):\n",
    "        uf = Weighted_Union_Find(self.n)\n",
    "        for e in self.edges:\n",
    "            uf.union(e[0], e[1])\n",
    "        return uf.getcount()"
   ]
  },
  {
   "cell_type": "code",
   "execution_count": 55,
   "metadata": {},
   "outputs": [
    {
     "data": {
      "text/plain": [
       "2"
      ]
     },
     "execution_count": 55,
     "metadata": {},
     "output_type": "execute_result"
    }
   ],
   "source": [
    "n = 5\n",
    "edges = [[0, 1], [1, 2], [0, 2], [3, 4]]\n",
    "#  0          3\n",
    "#  |          |\n",
    "#  1 --- 2    4 \n",
    "\n",
    "\n",
    "# edges = [[0, 1], [1, 2], [2, 3], [3, 4]]\n",
    "#  0           4\n",
    "#  |           |\n",
    "#  1 --- 2 --- 3\n",
    "\n",
    "s = countComponents(n, edges)\n",
    "s.countC()"
   ]
  },
  {
   "cell_type": "code",
   "execution_count": null,
   "metadata": {},
   "outputs": [],
   "source": []
  }
 ],
 "metadata": {
  "interpreter": {
   "hash": "9ecbc95d31df1b277e5ec566a835865c3a9a253da4266404bdbc6ee7e31406f4"
  },
  "kernelspec": {
   "display_name": "Python 3.8.6 ('tensorflow2')",
   "language": "python",
   "name": "python3"
  },
  "language_info": {
   "codemirror_mode": {
    "name": "ipython",
    "version": 3
   },
   "file_extension": ".py",
   "mimetype": "text/x-python",
   "name": "python",
   "nbconvert_exporter": "python",
   "pygments_lexer": "ipython3",
   "version": "3.8.6"
  },
  "orig_nbformat": 4
 },
 "nbformat": 4,
 "nbformat_minor": 2
}
