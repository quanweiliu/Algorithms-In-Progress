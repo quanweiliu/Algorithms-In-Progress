{
 "cells": [
  {
   "cell_type": "markdown",
   "metadata": {},
   "source": [
    "# 图\n",
    "- 图可以玩出更多的算法，解决更复杂的问题，但本质上图可以认为是多叉树的延伸。\n",
    "- 面试笔试**很少**出现图相关的问题，就算有，大多也是简单的遍历问题，基本上可以完全照搬多叉树的遍历。"
   ]
  },
  {
   "cell_type": "code",
   "execution_count": null,
   "metadata": {},
   "outputs": [],
   "source": [
    "# 图节点的逻辑结构 \n",
    "# 与多叉树节点几乎完全一样\n",
    "class Vertex():\n",
    "    def __init__(self, id, neighbors):\n",
    "        self.id = id\n",
    "        self.neighbors = neighbors"
   ]
  },
  {
   "cell_type": "markdown",
   "metadata": {},
   "source": [
    "实际上我们很少用这个 Vertex 类实现图，而是用常说的邻接表和邻接矩阵来实现。"
   ]
  },
  {
   "cell_type": "code",
   "execution_count": null,
   "metadata": {},
   "outputs": [],
   "source": [
    "# 邻接表\n",
    "# graph[x] 存储 x 的所有邻居节点\n",
    "graph = []\n",
    "\n",
    "\n",
    "# 邻接矩阵\n",
    "# matrix[x][y] 记录 x 是否有一条指向 y 的边\n",
    "matrix = [[], []]"
   ]
  },
  {
   "cell_type": "markdown",
   "metadata": {},
   "source": [
    "为什么有这两种存储图的方式呢？肯定是因为他们**各有优劣**。"
   ]
  },
  {
   "cell_type": "markdown",
   "metadata": {},
   "source": [
    "# 图的遍历框架\n",
    "- DFS 框架\n",
    "```java\n",
    "// 记录被遍历过的节点\n",
    "boolean[] visited;\n",
    "// 记录从起点到当前节点的路径\n",
    "boolean[] onPath;\n",
    "\n",
    "/* 图遍历框架 */\n",
    "void traverse(Graph graph, int s) {\n",
    "    if (visited[s]) return;\n",
    "    // 经过节点 s，标记为已遍历\n",
    "    visited[s] = true;\n",
    "    // 做选择：标记节点 s 在路径上\n",
    "    onPath[s] = true;\n",
    "    for (int neighbor : graph.neighbors(s)) {\n",
    "        traverse(graph, neighbor);\n",
    "    }\n",
    "    // 撤销选择：节点 s 离开路径\n",
    "    onPath[s] = false;\n",
    "}\n",
    "```"
   ]
  },
  {
   "cell_type": "code",
   "execution_count": 32,
   "metadata": {},
   "outputs": [],
   "source": [
    "# 图的遍历框架\n",
    "class Solution:\n",
    "    def __init__(self):\n",
    "        # 防止重复遍历同一个节点\n",
    "        self.visited = []\n",
    "        self.onPath = []\n",
    "        \n",
    "    def traverseOnePath(self, graph):\n",
    "        nums = len(graph)\n",
    "        self.visited = [False]*nums\n",
    "\n",
    "        # 有几个点，就有循环几次？\n",
    "        for i in range(nums):\n",
    "            self.traverse(graph, i)\n",
    "        return\n",
    "\n",
    "    # 图的遍历\n",
    "    def traverse(self, graph, s):\n",
    "        # print(\"s\", s)\n",
    "        # print(graph)    #  [[1, 2], [3], [3], []]\n",
    "    \n",
    "        if self.visited[s]:\n",
    "            return print(\"back\")\n",
    "        \n",
    "        # 前序遍历代码位置\n",
    "        # 将当前节点标记为已遍历\n",
    "        self.onPath.append(s)\n",
    "        self.visited[s] = True\n",
    "        # print(self.visited)\n",
    "        # print(self.onPath)\n",
    "\n",
    "        for t in graph[s]:\n",
    "            self.traverse(graph, t)\n",
    "        self.onPath.pop()"
   ]
  },
  {
   "cell_type": "code",
   "execution_count": 5,
   "metadata": {},
   "outputs": [],
   "source": [
    "# 图的遍历框架2\n",
    "class Solution:\n",
    "    def __init__(self):\n",
    "        # 防止重复遍历同一个节点\n",
    "        self.visited = []\n",
    "        \n",
    "    def traverseOnePath(self, graph):\n",
    "        nums = len(graph)\n",
    "        self.visited = [False]*nums\n",
    "\n",
    "        # 有几个点，就有循环几次？\n",
    "        for i in range(nums):\n",
    "            self.traverse(graph, i)\n",
    "        return\n",
    "        \n",
    "    # 图的遍历\n",
    "    def traverse(self, graph, s):\n",
    "        print(\"s\", s)\n",
    "        # print(graph)    #  [[1, 2], [3], [3], []]\n",
    "    \n",
    "        if self.visited[s]:\n",
    "            return\n",
    "            return print(\"back\")\n",
    "        \n",
    "        # 前序遍历代码位置\n",
    "        # 将当前节点标记为已遍历\n",
    "        self.visited[s] = True\n",
    "        for t in graph[s]:\n",
    "            self.traverse(graph, t)"
   ]
  },
  {
   "cell_type": "code",
   "execution_count": 6,
   "metadata": {},
   "outputs": [
    {
     "name": "stdout",
     "output_type": "stream",
     "text": [
      "s 0\n",
      "s 1\n",
      "s 3\n",
      "s 2\n",
      "s 3\n",
      "s 1\n",
      "s 2\n",
      "s 3\n"
     ]
    }
   ],
   "source": [
    "graph = [[1,2],[3],[3],[]]\n",
    "s = Solution()\n",
    "s.traverseOnePath(graph)"
   ]
  },
  {
   "cell_type": "markdown",
   "metadata": {},
   "source": [
    "# 题目\n",
    "- 输入一幅有向无环图，这个图包含 n 个节点，\n",
    "- 标号为 0, 1, 2,..., n - 1，请你计算所有从节点 0 到节点 **n - 1** 的路径。\n",
    "- graph[i] 存储这节点 i 的所有邻居节点。\n",
    "- 节点零的邻居 1,2\n",
    "- 节点一的邻居 3\n"
   ]
  },
  {
   "cell_type": "code",
   "execution_count": null,
   "metadata": {},
   "outputs": [],
   "source": [
    "graph = [[1,2],[3],[3],[]]"
   ]
  },
  {
   "cell_type": "markdown",
   "metadata": {},
   "source": [
    "```\n",
    "0 -> 1\n",
    "|    |\n",
    "2 -> 3\n",
    "```"
   ]
  },
  {
   "cell_type": "code",
   "execution_count": 19,
   "metadata": {},
   "outputs": [],
   "source": [
    "import copy\n",
    "\n",
    "class Solution:\n",
    "    def __init__(self):\n",
    "        # 记录所有路径\n",
    "        self.res = []\n",
    "        # 维护递归过程中经过的路径\n",
    "        self.path = []\n",
    "        \n",
    "    def allPathsSourceTarget(self, graph):\n",
    "        # 初始推动量，传入第 一个节点，self.path 记录走过的路径\n",
    "        self.traverse(graph, 0, self.path)\n",
    "        return self.res\n",
    "\n",
    "    # 图的遍历\n",
    "    def traverse(self, graph, s, path):\n",
    "        # 添加节点 s 到路径\n",
    "        self.path.append(s)\n",
    "        print(self.path)\n",
    "\n",
    "        if s == len(graph)-1:\n",
    "            # 到达结尾处\n",
    "            # 注意 Java 的语言特性，因为 Java 函数参数传的是对象引用，\n",
    "            # 所以向 res 中添加 path 时需要拷贝一个新的列表，否则最终 res 中的列表都是空的。\n",
    "            self.res.append(copy.deepcopy(self.path))\n",
    "            self.path.pop()\n",
    "            \n",
    "            # 直接 return 到最后一个 pop ?\n",
    "            # print(\"return1\")\n",
    "            return\n",
    "\n",
    "        # 递归每个相邻节点\n",
    "        for v in graph[s]:\n",
    "            print(\"v\", v) # 点有两条路，所有有两个选择，而其他节点只有一条路，只有一个选择\n",
    "            # 走完了所有可能\n",
    "            self.traverse(graph, v, path)\n",
    "\n",
    "        # 从路径移出节点 s\n",
    "        # print(\"return2\")\n",
    "        # 保证有几个 append 就有几个 pop\n",
    "        self.path.pop()"
   ]
  },
  {
   "cell_type": "code",
   "execution_count": 24,
   "metadata": {},
   "outputs": [
    {
     "name": "stdout",
     "output_type": "stream",
     "text": [
      "[0]\n"
     ]
    },
    {
     "data": {
      "text/plain": [
       "[[0]]"
      ]
     },
     "execution_count": 24,
     "metadata": {},
     "output_type": "execute_result"
    }
   ],
   "source": [
    "graph = [[1,2],[3],[3],[]]\n",
    "graph = [[1]]\n",
    "s = Solution()\n",
    "s.allPathsSourceTarget(graph)"
   ]
  },
  {
   "cell_type": "code",
   "execution_count": null,
   "metadata": {},
   "outputs": [],
   "source": [
    "# 深度优先搜索的方式\n",
    "# 具体地，我们从 0 号点出发，使用栈记录路径上的点。\n",
    "# 每次我们遍历到点 n−1，就将栈中记录的路径加入到答案中。\n",
    "class Solution:\n",
    "    def allPathsSourceTarget(self, graph):\n",
    "        ans = list()\n",
    "        stk = list()\n",
    "\n",
    "        # 函数中的函数\n",
    "        def dfs(x):\n",
    "            # 每次我们遍历到点 n−1，就将栈中记录的路径加入到答案中。\n",
    "            if x == len(graph) - 1:\n",
    "                ans.append(stk[:])\n",
    "                return\n",
    "            \n",
    "            for y in graph[x]:\n",
    "                # 从 0 号点出发，使用栈记录路径上的点\n",
    "                # 这里面的 append 和 pop 刚好全部抵消\n",
    "                # print(y)\n",
    "                # print(stk)\n",
    "                stk.append(y)\n",
    "                dfs(y)\n",
    "                stk.pop()\n",
    "                # print(\"**\")\n",
    "                # print(stk)\n",
    "        \n",
    "        # 这只是初始给的一直推动量\n",
    "        stk.append(0)\n",
    "        dfs(0)\n",
    "        return ans\n",
    "# https://leetcode-cn.com/problems/all-paths-from-source-to-target/solution/suo-you-ke-neng-de-lu-jing-by-leetcode-s-iyoh/\n"
   ]
  },
  {
   "cell_type": "code",
   "execution_count": null,
   "metadata": {},
   "outputs": [],
   "source": [
    "graph = [[1,2],[3],[3],[]]\n",
    "s = Solution()\n",
    "s.allPathsSourceTarget(graph)"
   ]
  },
  {
   "cell_type": "code",
   "execution_count": null,
   "metadata": {},
   "outputs": [],
   "source": []
  },
  {
   "cell_type": "code",
   "execution_count": null,
   "metadata": {},
   "outputs": [],
   "source": [
    "x = [0, 1]\n",
    "x.pop()\n",
    "x"
   ]
  },
  {
   "cell_type": "code",
   "execution_count": null,
   "metadata": {},
   "outputs": [],
   "source": []
  }
 ],
 "metadata": {
  "interpreter": {
   "hash": "9ecbc95d31df1b277e5ec566a835865c3a9a253da4266404bdbc6ee7e31406f4"
  },
  "kernelspec": {
   "display_name": "Python 3.8.6 ('tensorflow2')",
   "language": "python",
   "name": "python3"
  },
  "language_info": {
   "codemirror_mode": {
    "name": "ipython",
    "version": 3
   },
   "file_extension": ".py",
   "mimetype": "text/x-python",
   "name": "python",
   "nbconvert_exporter": "python",
   "pygments_lexer": "ipython3",
   "version": "3.8.6"
  },
  "orig_nbformat": 4
 },
 "nbformat": 4,
 "nbformat_minor": 2
}
