{
 "cells": [
  {
   "cell_type": "markdown",
   "metadata": {},
   "source": [
    "# 经典的「名流问题」\n",
    "- https://labuladong.gitee.io/algo/2/20/43/\n",
    "- https://blog.csdn.net/qq_32424059/article/details/100550793\n",
    "- 给你 n 个人的社交关系（你知道任意两个人之间是否认识），然后请你找出这些人中的「名人」。\n",
    "- 所谓「名人」有两个条件：\n",
    "    - 所有其他人都认识「名人」。\n",
    "    - 「名人」不认识任何其他人。"
   ]
  },
  {
   "cell_type": "code",
   "execution_count": 1,
   "metadata": {},
   "outputs": [],
   "source": [
    "# 可以直接调用，能够返回 i 是否认识 j\n",
    "def knows(i, j):\n",
    "    return graph[i][j]\n",
    "# knows(0, 1), knows(1, 0),"
   ]
  },
  {
   "cell_type": "markdown",
   "metadata": {},
   "source": [
    "## 暴力解法\n",
    "- 双重循环的解非常好想，但是会超时"
   ]
  },
  {
   "cell_type": "code",
   "execution_count": 29,
   "metadata": {},
   "outputs": [],
   "source": [
    "# 请你实现：返回「名人」的编号\n",
    "def findCelebrity(n):\n",
    "    if n<0: return -1\n",
    "    if n==1: return 1\n",
    "\n",
    "    for cand in range(n):\n",
    "        for other in range(n):\n",
    "            print(other)\n",
    "            if cand == other:\n",
    "                continue\n",
    "            # 保证 cand 不认识任何其他人,如果认识, 他就不是名人\n",
    "            if knows(cand, other):\n",
    "                # 2，0；2，1；2，3\n",
    "                break\n",
    "            # 保证其他人都认识 cand，如果不认识，他也不是名人\n",
    "            if not knows(other, cand):\n",
    "                # 0，2；1，2；3，2\n",
    "                break\n",
    "\n",
    "            # 找到名人 \n",
    "            if other == n-1:\n",
    "                return cand\n",
    "    # 没有一个人符合名人特性\n",
    "    return -1        "
   ]
  },
  {
   "cell_type": "code",
   "execution_count": 33,
   "metadata": {},
   "outputs": [
    {
     "name": "stdout",
     "output_type": "stream",
     "text": [
      "0\n",
      "1\n",
      "0\n",
      "0\n",
      "1\n",
      "2\n",
      "3\n"
     ]
    },
    {
     "data": {
      "text/plain": [
       "2"
      ]
     },
     "execution_count": 33,
     "metadata": {},
     "output_type": "execute_result"
    }
   ],
   "source": [
    "graph = [[1,1,1,0],\n",
    "        [1,1,1,1],\n",
    "        [0,0,1,0],\n",
    "        [0,0,1,1]]\n",
    "# 输出: 2\n",
    "\n",
    "# graph = [\n",
    "#   [1,1,0],\n",
    "#   [0,1,0],\n",
    "#   [1,1,1]]\n",
    "# 输出: 1\n",
    "\n",
    "# graph = [\n",
    "#   [1,0,1],\n",
    "#   [1,1,0],\n",
    "#   [0,1,1]]\n",
    "# 输出: -1\n",
    "findCelebrity(4)"
   ]
  },
  {
   "cell_type": "markdown",
   "metadata": {},
   "source": [
    "## 优化解法O(n)\n",
    "- 时间复杂度降为 O(N), 空间复杂度 O(N) "
   ]
  },
  {
   "cell_type": "code",
   "execution_count": 45,
   "metadata": {},
   "outputs": [],
   "source": [
    "# 请你实现：返回「名人」的编号\n",
    "def findCelebrity(n):\n",
    "    # if n<0: return -1\n",
    "    # if n==1: return 1\n",
    "    ls = []\n",
    "\n",
    "    for i in range(n):\n",
    "        ls.append(i)\n",
    "    print(ls)\n",
    "\n",
    "    while len(ls) >= 2:\n",
    "        # 次取出两个候选人，排除一个\n",
    "        cand = ls.pop(0)\n",
    "        other = ls.pop(0)\n",
    "\n",
    "        # 保证 cand 不认识任何其他人,保证其他人都认识 cand\n",
    "        if knows(cand, other) or not knows(other, cand):\n",
    "            # cand 不可能是名人，排除，让 other 归队\n",
    "            ls.insert(0, other)\n",
    "        else:\n",
    "            # other 不可能是名人，排除，让 cand 归队\n",
    "            ls.insert(0, cand)\n",
    "\n",
    "    # 现在排除得只剩一个候选人，判断他是否真的是名人\n",
    "    cand = ls.pop(0)\n",
    "    for other in range(n):\n",
    "        if other == cand:\n",
    "            continue\n",
    "        # 保证其他人都认识 cand，且 cand 不认识任何其他人\n",
    "        if knows(cand, other) or not knows(other, cand):\n",
    "            return -1\n",
    "    return cand     "
   ]
  },
  {
   "cell_type": "code",
   "execution_count": 49,
   "metadata": {},
   "outputs": [
    {
     "name": "stdout",
     "output_type": "stream",
     "text": [
      "[0, 1, 2]\n"
     ]
    },
    {
     "data": {
      "text/plain": [
       "1"
      ]
     },
     "execution_count": 49,
     "metadata": {},
     "output_type": "execute_result"
    }
   ],
   "source": [
    "graph = [[1,1,1,0],\n",
    "        [1,1,1,1],\n",
    "        [0,0,1,0],\n",
    "        [0,0,1,1]]\n",
    "# 输出: 2\n",
    "# findCelebrity(4)\n",
    "\n",
    "graph = [\n",
    "  [1,1,0],\n",
    "  [0,1,0],\n",
    "  [1,1,1]]\n",
    "# 输出: 1\n",
    "\n",
    "# graph = [\n",
    "#   [1,0,1],\n",
    "#   [1,1,0],\n",
    "#   [0,1,1]]\n",
    "# 输出: -1\n",
    "findCelebrity(3)"
   ]
  },
  {
   "cell_type": "markdown",
   "metadata": {},
   "source": [
    "# 最优解\n",
    "- 非常trick 的方法，不经过调试，看不出这个规律\n",
    "- 时间复杂度为 O(N)，空间复杂度为 O(1)"
   ]
  },
  {
   "cell_type": "code",
   "execution_count": 58,
   "metadata": {},
   "outputs": [],
   "source": [
    "# 请你实现：返回「名人」的编号\n",
    "def findCelebrity(n):\n",
    "    # 先假设 cand 是名人\n",
    "    cand = 0\n",
    "    for other in range(n):\n",
    "        if knows(cand, other) or not knows(other, cand):\n",
    "            # cand 不可能是名人，排除\n",
    "            # 假设 other 是名人\n",
    "            cand = other\n",
    "        else:\n",
    "            pass\n",
    "            # other 不可能是名人，排除\n",
    "            # 什么都不用做，继续假设 cand 是名人\n",
    "\n",
    "    # 在的 cand 是排除的最后结果，但不能保证一定是名人\n",
    "    for other in range(n):\n",
    "        if cand == other:\n",
    "            continue\n",
    "        # 需要保证其他人都认识 cand，且 cand 不认识任何其他人\n",
    "        if knows(cand, other) or not knows(other, cand):\n",
    "            return -1\n",
    "\n",
    "\n",
    "    return cand     "
   ]
  },
  {
   "cell_type": "code",
   "execution_count": 59,
   "metadata": {},
   "outputs": [
    {
     "data": {
      "text/plain": [
       "2"
      ]
     },
     "execution_count": 59,
     "metadata": {},
     "output_type": "execute_result"
    }
   ],
   "source": [
    "graph = [[1,1,1,0],\n",
    "        [1,1,1,1],\n",
    "        [0,0,1,0],\n",
    "        [0,0,1,1]]\n",
    "# 输出: 2\n",
    "findCelebrity(4)\n",
    "\n",
    "# graph = [\n",
    "#   [1,1,0],\n",
    "#   [0,1,0],\n",
    "#   [1,1,1]]\n",
    "# 输出: 1\n",
    "\n",
    "# graph = [\n",
    "#   [1,0,1],\n",
    "#   [1,1,0],\n",
    "#   [0,1,1]]\n",
    "# 输出: -1\n",
    "# findCelebrity(3)"
   ]
  },
  {
   "cell_type": "markdown",
   "metadata": {},
   "source": [
    "## 最优解2\n",
    "https://blog.csdn.net/qq_32424059/article/details/100550793"
   ]
  },
  {
   "cell_type": "code",
   "execution_count": 4,
   "metadata": {},
   "outputs": [],
   "source": [
    "class Solution(object):\n",
    "    def findCelebrity(self, n):\n",
    "        \"\"\"\n",
    "        :type n: int\n",
    "        :rtype: int\n",
    "        \"\"\"\n",
    "        celebrity = 0\n",
    "        for i in range(1, n):\n",
    "            if knows(celebrity, i):\n",
    "                #说明当前的这个celebrity肯定不是名人，因为他认识别的人\n",
    "                celebrity = i\n",
    "        # 到这里的 celebrity，必定不认识 [celebrity + 1, n - 1]的所有人\n",
    "        for i in range(celebrity):\n",
    "            if knows(celebrity, i): # 为了确保celebrity 不认识 [0, celebrity - 1]\n",
    "                return -1\n",
    "        \n",
    "        for i in range(n):\n",
    "            if not knows(i, celebrity): # 为了确保 每个人都认识 celebrity\n",
    "                return -1\n",
    "                \n",
    "        return celebrity"
   ]
  },
  {
   "cell_type": "code",
   "execution_count": 6,
   "metadata": {},
   "outputs": [
    {
     "data": {
      "text/plain": [
       "2"
      ]
     },
     "execution_count": 6,
     "metadata": {},
     "output_type": "execute_result"
    }
   ],
   "source": [
    "s = Solution()\n",
    "s.findCelebrity(4)"
   ]
  },
  {
   "cell_type": "code",
   "execution_count": null,
   "metadata": {},
   "outputs": [],
   "source": []
  },
  {
   "cell_type": "code",
   "execution_count": null,
   "metadata": {},
   "outputs": [],
   "source": []
  }
 ],
 "metadata": {
  "interpreter": {
   "hash": "9ecbc95d31df1b277e5ec566a835865c3a9a253da4266404bdbc6ee7e31406f4"
  },
  "kernelspec": {
   "display_name": "Python 3.8.6 ('tensorflow2')",
   "language": "python",
   "name": "python3"
  },
  "language_info": {
   "codemirror_mode": {
    "name": "ipython",
    "version": 3
   },
   "file_extension": ".py",
   "mimetype": "text/x-python",
   "name": "python",
   "nbconvert_exporter": "python",
   "pygments_lexer": "ipython3",
   "version": "3.8.6"
  },
  "orig_nbformat": 4
 },
 "nbformat": 4,
 "nbformat_minor": 2
}
