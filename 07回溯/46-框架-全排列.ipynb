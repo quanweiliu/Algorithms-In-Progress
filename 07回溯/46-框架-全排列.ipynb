{
 "cells": [
  {
   "cell_type": "markdown",
   "metadata": {},
   "source": [
    "# 回溯算法的框架\n",
    "- 核心就是 for 循环里面的递归，在递归调用之前「做选择」，在递归调用之后「撤销选择」\n",
    "```java\n",
    "result = []\n",
    "def backtrack(路径, 选择列表):\n",
    "    if 满足结束条件:\n",
    "        result.add(路径)\n",
    "        return\n",
    "    // 核心就是 for 循环里面的递归，在递归调用之前「做选择」，在递归调用之后「撤销选择」\n",
    "    for 选择 in 选择列表:\n",
    "        做选择\n",
    "        backtrack(路径, 选择列表)\n",
    "        撤销选择\n",
    "```"
   ]
  },
  {
   "cell_type": "markdown",
   "metadata": {},
   "source": [
    "解决一个回溯问题，实际上就是一个决策树的遍历过程。你只需要思考 3 个问题：\n",
    "\n",
    "1、路径：也就是已经做出的选择。\n",
    "\n",
    "2、选择列表：也就是你当前可以做的选择。\n",
    "\n",
    "3、结束条件：也就是到达决策树底层，无法再做选择的条件。"
   ]
  },
  {
   "cell_type": "code",
   "execution_count": 20,
   "metadata": {},
   "outputs": [],
   "source": [
    "import copy\n",
    "class Solution():\n",
    "    def __init__(self):\n",
    "        self.res = []\n",
    "    \n",
    "    # 主函数，输入一组不重复的数字，返回它们的全排列\n",
    "    def permute(self, nums):\n",
    "        # 记录「路径」\n",
    "        track = []\n",
    "        #「路径」中的元素会被标记为 true，避免重复使用\n",
    "        used = [0]*len(nums)\n",
    "        self.backtrack(nums, track, used)\n",
    "        return self.res\n",
    "\n",
    "    # 路径：也就是已经做出的选择。\n",
    "    # 选择列表：也就是你当前可以做的选择。\n",
    "    # 结束条件：nums 中的元素全都在 track 中出现。\n",
    "    def backtrack(self, nums, track, used):\n",
    "        # 触发结束条件\n",
    "        print(track)\n",
    "        if len(track) == len(nums):\n",
    "            self.res.append(copy.deepcopy(track))\n",
    "            return \n",
    "\n",
    "        print(used)\n",
    "        for i in range(len(nums)):\n",
    "            # 排除不合法的选择\n",
    "            if used[i]:\n",
    "                continue\n",
    "                \n",
    "            # 我们只要在递归之前做出选择，在递归之后撤销刚才的选择，\n",
    "            # 就能正确得到每个节点的选择列表和路径。\n",
    "            track.append(nums[i])\n",
    "            used[i] = True\n",
    "            # 进入下一层决策树\n",
    "            self.backtrack(nums, track, used)\n",
    "            track.pop()\n",
    "            used[i] = False"
   ]
  },
  {
   "cell_type": "code",
   "execution_count": 21,
   "metadata": {},
   "outputs": [
    {
     "name": "stdout",
     "output_type": "stream",
     "text": [
      "[]\n",
      "[0, 0, 0]\n",
      "[1]\n",
      "[True, 0, 0]\n",
      "[1, 2]\n",
      "[True, True, 0]\n",
      "[1, 2, 3]\n",
      "[1, 3]\n",
      "[True, False, True]\n",
      "[1, 3, 2]\n",
      "[2]\n",
      "[False, True, False]\n",
      "[2, 1]\n",
      "[True, True, False]\n",
      "[2, 1, 3]\n",
      "[2, 3]\n",
      "[False, True, True]\n",
      "[2, 3, 1]\n",
      "[3]\n",
      "[False, False, True]\n",
      "[3, 1]\n",
      "[True, False, True]\n",
      "[3, 1, 2]\n",
      "[3, 2]\n",
      "[False, True, True]\n",
      "[3, 2, 1]\n"
     ]
    },
    {
     "data": {
      "text/plain": [
       "[[1, 2, 3], [1, 3, 2], [2, 1, 3], [2, 3, 1], [3, 1, 2], [3, 2, 1]]"
      ]
     },
     "execution_count": 21,
     "metadata": {},
     "output_type": "execute_result"
    }
   ],
   "source": [
    "nums = [1,2,3]\n",
    "s = Solution()\n",
    "s.permute(nums)"
   ]
  },
  {
   "cell_type": "markdown",
   "metadata": {},
   "source": [
    "### 如何从大局观理解上述代码？？？\n",
    "\n",
    "- 所谓出节点？"
   ]
  },
  {
   "cell_type": "markdown",
   "metadata": {},
   "source": [
    "## 总结\n",
    "- 回溯算法就是个多叉树的遍历问题，关键就是在前序遍历和后序遍历的位置做一些操作"
   ]
  },
  {
   "cell_type": "code",
   "execution_count": null,
   "metadata": {},
   "outputs": [],
   "source": []
  }
 ],
 "metadata": {
  "interpreter": {
   "hash": "9ecbc95d31df1b277e5ec566a835865c3a9a253da4266404bdbc6ee7e31406f4"
  },
  "kernelspec": {
   "display_name": "Python 3.8.6 ('tensorflow2')",
   "language": "python",
   "name": "python3"
  },
  "language_info": {
   "codemirror_mode": {
    "name": "ipython",
    "version": 3
   },
   "file_extension": ".py",
   "mimetype": "text/x-python",
   "name": "python",
   "nbconvert_exporter": "python",
   "pygments_lexer": "ipython3",
   "version": "3.8.6"
  },
  "orig_nbformat": 4
 },
 "nbformat": 4,
 "nbformat_minor": 2
}
