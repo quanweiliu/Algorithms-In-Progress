{
 "cells": [
  {
   "cell_type": "markdown",
   "metadata": {},
   "source": [
    "# labuladong 的博客园第一次看到，但是貌似不更新了。\n",
    "- https://www.cnblogs.com/kyoner/p/11080078.html\n",
    "\n",
    "- 他的电子书\n",
    "- https://labuladong.gitee.io/algo/2/19/26/"
   ]
  },
  {
   "cell_type": "code",
   "execution_count": 2,
   "metadata": {},
   "outputs": [
    {
     "data": {
      "text/plain": [
       "4"
      ]
     },
     "execution_count": 2,
     "metadata": {},
     "output_type": "execute_result"
    }
   ],
   "source": [
    "ls = [0,1,2,3,4]\n",
    "length = len(ls)\n",
    "ls[length-1]"
   ]
  },
  {
   "cell_type": "code",
   "execution_count": null,
   "metadata": {},
   "outputs": [],
   "source": [
    "# 我自己的写的稀巴烂\n",
    "def binaryS(ls, target = 2):\n",
    "    L = 0\n",
    "    H = len(ls)\n",
    "    M = (L+H) // 2\n",
    "\n",
    "    while L < H:\n",
    "        # 查找\n",
    "        if ls[L] == target:\n",
    "            return L\n",
    "\n",
    "        elif ls[L] > target or ls[H]< target:\n",
    "            return False\n",
    "        \n",
    "        elif ls[L] < target and ls[M] > target:\n",
    "            M  = (M - L) / 2\n",
    "            binaryS"
   ]
  },
  {
   "cell_type": "markdown",
   "metadata": {},
   "source": [
    "## 二分搜索框架\n",
    "```java\n",
    "int binarySearch(int[] nums, int target) {\n",
    "    int left = 0, right = ...;\n",
    "\n",
    "    while(...) {\n",
    "        int mid = (right + left) / 2;\n",
    "        if (nums[mid] == target) {\n",
    "            ...\n",
    "        } else if (nums[mid] < target) {\n",
    "            left = ...\n",
    "        } else if (nums[mid] > target) {\n",
    "            right = ...\n",
    "        }\n",
    "    }\n",
    "    return ...;\n",
    "}\n",
    "```"
   ]
  },
  {
   "cell_type": "code",
   "execution_count": 30,
   "metadata": {},
   "outputs": [],
   "source": [
    "def binaryS(nums, target):\n",
    "    left = 0\n",
    "    right = len(nums) - 1 # 注意 \n",
    "\n",
    "    while(left <= right):   # 注意:两端都闭区间 [left, right], 终止条件是 left == right + 1\n",
    "        # 这里的求得 mid \n",
    "        mid = (right + left) // 2\n",
    "        print(mid)\n",
    "\n",
    "        if nums[mid] == target:\n",
    "            return mid\n",
    "\n",
    "        elif nums[mid] < target:\n",
    "            left = mid + 1 # 注意\n",
    "\n",
    "        elif (nums[mid] > target):\n",
    "            right = mid - 1 # 注意\n",
    "    return -1\n"
   ]
  },
  {
   "cell_type": "code",
   "execution_count": 31,
   "metadata": {},
   "outputs": [
    {
     "name": "stdout",
     "output_type": "stream",
     "text": [
      "2\n",
      "3\n"
     ]
    },
    {
     "data": {
      "text/plain": [
       "-1"
      ]
     },
     "execution_count": 31,
     "metadata": {},
     "output_type": "execute_result"
    }
   ],
   "source": [
    "ls = [0, 1, 3, 5, 7]\n",
    "binaryS(ls, 3.5)"
   ]
  },
  {
   "cell_type": "markdown",
   "metadata": {},
   "source": [
    "## 寻找左侧边界的二分搜索"
   ]
  },
  {
   "cell_type": "code",
   "execution_count": 14,
   "metadata": {},
   "outputs": [],
   "source": [
    "def binaryS(nums, target):\n",
    "    left = 0\n",
    "    right = len(nums)  # 注意,初始化 right = nums.length 而不是 nums.length - 1\n",
    "\n",
    "    # while 循环的终止条件是 left == right\n",
    "    while(left < right):   # 注意:「搜索区间」是 [left, right) 左闭右开。\n",
    "        # 这里的求得 mid \n",
    "        mid = (right + left) // 2\n",
    "        print(mid)\n",
    "\n",
    "        if nums[mid] == target:\n",
    "            right = mid\n",
    "\n",
    "        elif nums[mid] < target:\n",
    "            left = mid + 1 # 注意\n",
    "\n",
    "        elif (nums[mid] > target):\n",
    "            right = mid # 注意\n",
    "    # 如果不存在要找的值，那么返回值小于所要找的值个数\n",
    "    return left\n"
   ]
  },
  {
   "cell_type": "code",
   "execution_count": 15,
   "metadata": {},
   "outputs": [
    {
     "name": "stdout",
     "output_type": "stream",
     "text": [
      "2\n",
      "1\n",
      "0\n"
     ]
    },
    {
     "data": {
      "text/plain": [
       "0"
      ]
     },
     "execution_count": 15,
     "metadata": {},
     "output_type": "execute_result"
    }
   ],
   "source": [
    "ls = [0, 3, 3, 5, 7]\n",
    "binaryS(ls, -1)"
   ]
  },
  {
   "cell_type": "markdown",
   "metadata": {},
   "source": [
    "# 寻找右侧边界的二分查找"
   ]
  },
  {
   "cell_type": "code",
   "execution_count": 10,
   "metadata": {},
   "outputs": [],
   "source": [
    "def binaryS(nums, target):\n",
    "    left = 0\n",
    "    right = len(nums)  # 注意,初始化 right = nums.length 而不是 nums.length - 1\n",
    "\n",
    "    # while 循环的终止条件是 left == right\n",
    "    while(left < right):   # 注意:「搜索区间」是 [left, right) 左闭右开。\n",
    "        # 这里的求得 mid \n",
    "        mid = (right + left) // 2\n",
    "        print(mid)\n",
    "\n",
    "        # 当 nums[mid] == target 时，不要立即返回，而是增大「搜索区间」的下界 left，\n",
    "        # 使得区间不断向右收缩，达到锁定右侧边界的目的。\n",
    "        if nums[mid] <= target:\n",
    "            left = mid + 1\n",
    "\n",
    "        elif (nums[mid] > target):\n",
    "            right = mid       # 注意\n",
    "    return left-1"
   ]
  },
  {
   "cell_type": "code",
   "execution_count": 16,
   "metadata": {},
   "outputs": [
    {
     "name": "stdout",
     "output_type": "stream",
     "text": [
      "2\n",
      "4\n"
     ]
    },
    {
     "data": {
      "text/plain": [
       "5"
      ]
     },
     "execution_count": 16,
     "metadata": {},
     "output_type": "execute_result"
    }
   ],
   "source": [
    "ls = [0, 3, 3, 3, 7]\n",
    "binaryS(ls, 10)"
   ]
  },
  {
   "cell_type": "code",
   "execution_count": null,
   "metadata": {},
   "outputs": [],
   "source": []
  },
  {
   "cell_type": "code",
   "execution_count": null,
   "metadata": {},
   "outputs": [],
   "source": []
  }
 ],
 "metadata": {
  "interpreter": {
   "hash": "9ecbc95d31df1b277e5ec566a835865c3a9a253da4266404bdbc6ee7e31406f4"
  },
  "kernelspec": {
   "display_name": "Python 3.8.6 ('tensorflow2')",
   "language": "python",
   "name": "python3"
  },
  "language_info": {
   "codemirror_mode": {
    "name": "ipython",
    "version": 3
   },
   "file_extension": ".py",
   "mimetype": "text/x-python",
   "name": "python",
   "nbconvert_exporter": "python",
   "pygments_lexer": "ipython3",
   "version": "3.8.6"
  },
  "orig_nbformat": 4
 },
 "nbformat": 4,
 "nbformat_minor": 2
}
