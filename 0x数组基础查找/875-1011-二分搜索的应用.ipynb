{
 "cells": [
  {
   "cell_type": "markdown",
   "metadata": {},
   "source": [
    "# 二分搜索的应用\n",
    " \n",
    "- 在具体的算法问题中，常用到的是「搜索左侧边界」和「搜索右侧边界」这两种场景，很少有让你单独「搜索一个元素」。\n",
    "- 步骤\n",
    "1. 从题目中抽象出x, f (x), target分别是什么，并写出函数f 的代码。\n",
    "    - f (x )必须是在x上的单调函数(单调增单调减都可以)\n",
    "    - 题目是让你计算满足约束条件f(x) == target时的x的值。\n",
    "2. 找到x的取值范围作为二分搜索的搜索区间，初始化left和right变量。\n",
    "3. 根据题目的要求，确定应该使用搜索左侧还是搜索右侧的二分搜索算法，写出解法代码。\n",
    "\n",
    "## 实例：\n",
    "- 给你一个升序排列的有序数组nums以及一个目标元素target，请你计算target在数组中的索引位置，如果有多个目标元素，返回最小的索引。\n",
    "    - x: 数组中元素的索引\n",
    "    - 函数关系 f(x) 是关于 x 的的递增函数。 其实这个函数f就是在访问数组nums，因为题目给我们的数组nums是升序排列的，所以函数f(x）就是在x上单调递增的函数。\n",
    "    - 计算target在数组中的索引位置，返回最小的索引 -> 「满足f(x ) == target的 x 的最小值是多少」?\n",
    "\n",
    "## 需要记忆的图形\n",
    "```\n",
    "              --\n",
    "             -  -\n",
    "            -     - \n",
    "       ----        ---- \n",
    "      -                -\n",
    "     -                  -\n",
    "-----                     -----\n",
    "```"
   ]
  },
  {
   "cell_type": "markdown",
   "metadata": {},
   "source": [
    "## 875爱吃香蕉的珂珂\n",
    "- 找到函数，确定边界"
   ]
  },
  {
   "cell_type": "code",
   "execution_count": 7,
   "metadata": {},
   "outputs": [],
   "source": [
    "class Solution:\n",
    "    # 找到左 or 右边界\n",
    "    # 找到x的取值范围作为二分搜索的搜索区间，初始化1eft和right变量。\n",
    "    def minEatingSpeed(self, piles, h: int) -> int:\n",
    "        left = 1\n",
    "        right = 1000000000 + 1\n",
    "\n",
    "        while left < right:\n",
    "            mid = left + (right - left ) // 2\n",
    "            if self.eatBanana(piles, mid) == h:\n",
    "                right = mid\n",
    "            elif self.eatBanana(piles, mid) < h:\n",
    "                right = mid\n",
    "            elif self.eatBanana(piles, mid) > h:\n",
    "                left = mid + 1\n",
    "        return left\n",
    "\n",
    "    # 确定x, f (x), target分别是什么，并写出函数f的代码。\n",
    "    def eatBanana(self, piles, x):\n",
    "        hours = 0\n",
    "        for i in range(len(piles)):\n",
    "            hours += piles[i] // x\n",
    "            if piles[i] % x > 0:\n",
    "                hours += 1\n",
    "        return hours"
   ]
  },
  {
   "cell_type": "code",
   "execution_count": 9,
   "metadata": {},
   "outputs": [
    {
     "data": {
      "text/plain": [
       "4"
      ]
     },
     "execution_count": 9,
     "metadata": {},
     "output_type": "execute_result"
    }
   ],
   "source": [
    "piles = [3,6,7,11]\n",
    "H = 8\n",
    "\n",
    "s = Solution()\n",
    "s.minEatingSpeed(piles, H)"
   ]
  },
  {
   "cell_type": "code",
   "execution_count": null,
   "metadata": {},
   "outputs": [],
   "source": []
  }
 ],
 "metadata": {
  "interpreter": {
   "hash": "9ecbc95d31df1b277e5ec566a835865c3a9a253da4266404bdbc6ee7e31406f4"
  },
  "kernelspec": {
   "display_name": "Python 3.8.6 ('tensorflow2')",
   "language": "python",
   "name": "python3"
  },
  "language_info": {
   "codemirror_mode": {
    "name": "ipython",
    "version": 3
   },
   "file_extension": ".py",
   "mimetype": "text/x-python",
   "name": "python",
   "nbconvert_exporter": "python",
   "pygments_lexer": "ipython3",
   "version": "3.8.6"
  },
  "orig_nbformat": 4
 },
 "nbformat": 4,
 "nbformat_minor": 2
}
