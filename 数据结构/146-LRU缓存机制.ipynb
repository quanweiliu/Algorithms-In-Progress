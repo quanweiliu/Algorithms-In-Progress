{
 "cells": [
  {
   "cell_type": "markdown",
   "metadata": {},
   "source": [
    "# Least Recently Used\n",
    "- LRU 算法设计\n",
    "\n",
    "    - 1、显然 cache 中的元素必须有时序，以区分最近使用的和久未使用的数据，当容量满了之后要删除最久未使用的那个元素- 腾位置。\n",
    "    - 2、我们要在 cache 中快速找某个 key 是否已存在并得到对应的 val；\n",
    "    - 3、每次访问 cache 中的某个 key，需要将这个元素变为最近使用的，也就是说 cache 要支持在任意位置快速插入和删除元素。\n",
    "- 哈希链表 LinkedHashMap"
   ]
  },
  {
   "cell_type": "code",
   "execution_count": 7,
   "metadata": {},
   "outputs": [],
   "source": [
    "class Node():\n",
    "    def __init__(self, key, val, prev=None, next=None):\n",
    "        self.key = key\n",
    "        self.val = val\n",
    "        self.prev = prev\n",
    "        self.next = next\n",
    "oneH = Node(100, 100)\n",
    "twoH = Node(11, 11)"
   ]
  },
  {
   "cell_type": "code",
   "execution_count": 8,
   "metadata": {},
   "outputs": [],
   "source": [
    "class DoubleList():\n",
    "    def __init__(self, tail=None, head=None):\n",
    "        self.size = 0\n",
    "        self.tail = tail\n",
    "        self.head = head\n",
    "\n",
    "    # def __init__(self):\n",
    "    #     self.size = 0\n",
    "    #     # self.tail = tail\n",
    "    #     # self.head = head\n",
    "\n",
    "    def DoubleList(self):\n",
    "        # 初始化双向链表的数据\n",
    "        # 这两个值，分别是头前面的，尾后面的？\n",
    "        self.head = Node(0, 0)\n",
    "        self.tail = Node(10, 0)\n",
    "        self.head.next = self.tail\n",
    "        self.tail.prev = self.head\n",
    "        size = self.size\n",
    "\n",
    "    # 在链表尾部添加节点 x，时间 O(1)\n",
    "    # 注意我们实现的双链表 API 只能从尾部插入\n",
    "    def addLast(self, x,):\n",
    "        x.prev = self.tail.prev\n",
    "        x.next = self.tail\n",
    "        self.tail.prev.next = x\n",
    "        self.tail.prev = x\n",
    "        self.size += 1\n",
    "\n",
    "    # 删除链表中的 x 节点（x 一定存在）\n",
    "    # 由于是双链表且给的是目标 Node 节点，时间 O(1)\n",
    "    def remove(self, x):\n",
    "         x.prev.next = x.next\n",
    "         x.next.prev = x.prev\n",
    "         self.size -= 1\n",
    "\n",
    "    # 删除链表中第一个节点，并返回该节点，时间 O(1)\n",
    "    def removeFirst(self, head):\n",
    "        if (head.next == self.tail):\n",
    "            return None\n",
    "        first = head.next\n",
    "        self.remove(first)\n",
    "        return first\n",
    "\n",
    "    # 返回链表长度，时间 O(1)\n",
    "    def sizeC(self,):\n",
    "        return self.size"
   ]
  },
  {
   "cell_type": "code",
   "execution_count": 9,
   "metadata": {},
   "outputs": [],
   "source": [
    "s = DoubleList()\n",
    "s.DoubleList()"
   ]
  },
  {
   "cell_type": "code",
   "execution_count": 10,
   "metadata": {},
   "outputs": [],
   "source": [
    "s.addLast(oneH)\n",
    "s.addLast(twoH)"
   ]
  },
  {
   "cell_type": "code",
   "execution_count": 11,
   "metadata": {},
   "outputs": [
    {
     "name": "stdout",
     "output_type": "stream",
     "text": [
      "0\n",
      "100\n",
      "11\n",
      "0\n"
     ]
    }
   ],
   "source": [
    "while s.head:\n",
    "    print(s.head.val)\n",
    "    s.head = s.head.next"
   ]
  },
  {
   "cell_type": "markdown",
   "metadata": {},
   "source": [
    "有了双向链表的实现，我们只需要在 LRU 算法中把它和哈希表结合起来即可"
   ]
  },
  {
   "cell_type": "code",
   "execution_count": null,
   "metadata": {},
   "outputs": [],
   "source": []
  },
  {
   "cell_type": "code",
   "execution_count": 14,
   "metadata": {},
   "outputs": [],
   "source": [
    "class LRUCache():\n",
    "    def __init__(self, cache=None, map=None, cap=None, capacity=None):\n",
    "        self.cache = DoubleList()\n",
    "        self.map = {}\n",
    "        self.cap = 0\n",
    "        self.capacity = 0\n",
    "\n",
    "    def LRUCache(self, ):\n",
    "        pass\n",
    "\n",
    "    # 将某个 key 提升为最近使用的\n",
    "    def makeRecently(self, key):\n",
    "        x = self.map.get(key)\n",
    "        self.cache.remove(x)\n",
    "        self.cache.addLast(x)\n",
    "\n",
    "    # 添加最近使用的元素 \n",
    "    def addRecently(self, key, val):\n",
    "        x = Node(key, val)\n",
    "        self.cache.addLast(x)\n",
    "        # map.add(key, x)\n",
    "        self.map[key] =  x\n",
    "\n",
    "    # 删除某一个 key\n",
    "    def deleteKey(self, key):\n",
    "        x = self.map.get(key)\n",
    "        self.cache.remove(x)\n",
    "        self.map(key)\n",
    "    \n",
    "    # 删除最久未使用的元素\n",
    "    def removeLeastRecently(self, ):\n",
    "        deletedNode = self.cache.removeFirst()\n",
    "        deletedKey = deletedNode.key\n",
    "        self.map.remove(deletedKey)"
   ]
  },
  {
   "cell_type": "code",
   "execution_count": null,
   "metadata": {},
   "outputs": [],
   "source": []
  },
  {
   "cell_type": "code",
   "execution_count": null,
   "metadata": {},
   "outputs": [],
   "source": []
  }
 ],
 "metadata": {
  "interpreter": {
   "hash": "9ecbc95d31df1b277e5ec566a835865c3a9a253da4266404bdbc6ee7e31406f4"
  },
  "kernelspec": {
   "display_name": "Python 3.8.6 ('tensorflow2')",
   "language": "python",
   "name": "python3"
  },
  "language_info": {
   "codemirror_mode": {
    "name": "ipython",
    "version": 3
   },
   "file_extension": ".py",
   "mimetype": "text/x-python",
   "name": "python",
   "nbconvert_exporter": "python",
   "pygments_lexer": "ipython3",
   "version": "3.8.6"
  },
  "orig_nbformat": 4
 },
 "nbformat": 4,
 "nbformat_minor": 2
}
