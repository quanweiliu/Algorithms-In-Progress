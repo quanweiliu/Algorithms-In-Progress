{
 "cells": [
  {
   "cell_type": "markdown",
   "metadata": {},
   "source": [
    "# orgin\n",
    "[https://labuladong.gitee.io/algo/2/17/17/]\n",
    "\n",
    "[https://leetcode-cn.com/problems/reverse-linked-list/solution/fan-zhuan-lian-biao-by-leetcode-solution-d1k2/]"
   ]
  },
  {
   "cell_type": "markdown",
   "metadata": {},
   "source": [
    "## 递归解法"
   ]
  },
  {
   "cell_type": "code",
   "execution_count": 1,
   "metadata": {},
   "outputs": [],
   "source": [
    "#  Definition for singly-linked list.\n",
    "class ListNode:\n",
    "    def __init__(self, val=0, next=None):\n",
    "        self.val = val\n",
    "        self.next = next"
   ]
  },
  {
   "cell_type": "code",
   "execution_count": 2,
   "metadata": {},
   "outputs": [],
   "source": [
    "class Solution:\n",
    "    # def __init__(self):\n",
    "    #         self.count = 0\n",
    "    def reverseList(self, head):\n",
    "        if head == None or head.next == None:\n",
    "            return head\n",
    "\n",
    "        # 一个异常优秀的代码\n",
    "        # 这个算法常常拿来显示递归的巧妙和优美\n",
    "        # 递归传入下一个节点，目的是为了到达最后一个节点\n",
    "        last = self.reverseList(head.next)\n",
    "        \"\"\"\n",
    "            第一轮出栈，head为5，head.next为空，返回5\n",
    "            第二轮出栈，head为4，head.next为5，\n",
    "                      执行head.next.next=head也就是5.next=4，\n",
    "                        把当前节点的子节点的子节点指向当前节点\n",
    "                        此时链表为1->2->3->4<->5，\n",
    "                      由于4与5互相指向，所以此处要断开4.next=null\n",
    "                      此时链表为1->2->3->4<-5\n",
    "                      返回节点5\n",
    "            依次\n",
    "            第五轮出栈，head为1，head.next为2，\n",
    "                      执行head.next.next=head也就是2.next=1，\n",
    "                      此时链表为1<->2<-3<-4<-5，\n",
    "                      由于1与2互相指向，所以此处要断开1.next=null\n",
    "                      此时链表为1<-2<-3<-4<-5\n",
    "                      返回节点5\n",
    "            出栈完成，最终头节点5->4->3->2->1\n",
    "        \"\"\"\n",
    "\n",
    "        # 证明递归不是自己内部进行，是代码块全局进行\n",
    "        # print(\"count\", self.count)\n",
    "        # self.count += 1\n",
    "        head.next.next = head\n",
    "        head.next = None\n",
    "        return last"
   ]
  },
  {
   "cell_type": "code",
   "execution_count": 3,
   "metadata": {},
   "outputs": [],
   "source": [
    "# ls = ListNode(1)\n",
    "# head = ls\n",
    "# for i in range(2,6):\n",
    "#     ls.next = ListNode(i)\n",
    "#     ls = ls.next\n",
    "# while head:\n",
    "#     print(head.val)\n",
    "#     head = head.next\n"
   ]
  },
  {
   "cell_type": "code",
   "execution_count": 4,
   "metadata": {},
   "outputs": [],
   "source": [
    "# s = Solution()\n",
    "# reverse_head = s.reverseList(head)\n",
    "# while reverse_head:\n",
    "#     print(reverse_head.val)\n",
    "#     reverse_head = reverse_head.next"
   ]
  },
  {
   "cell_type": "markdown",
   "metadata": {},
   "source": [
    "值得一提的是，递归操作链表并不高效。和迭代解法相比，虽然时间复杂度都是 O(N)，但是迭代解法的空间复杂度是 O(1)，而递归解法需要堆栈，空间复杂度是 O(N)。所以递归操作链表可以作为对递归算法的练习或者拿去和小伙伴装逼，但是考虑效率的话还是使用迭代算法更好。"
   ]
  },
  {
   "cell_type": "markdown",
   "metadata": {},
   "source": [
    "## 迭代解法"
   ]
  },
  {
   "cell_type": "code",
   "execution_count": 5,
   "metadata": {},
   "outputs": [],
   "source": [
    "ls = ListNode(1)\n",
    "head = ls\n",
    "for i in range(2,6):\n",
    "    ls.next = ListNode(i)\n",
    "    ls = ls.next\n",
    "# while head:\n",
    "#     print(head.val)\n",
    "#     head = head.next"
   ]
  },
  {
   "cell_type": "code",
   "execution_count": 6,
   "metadata": {},
   "outputs": [],
   "source": [
    "class Solution:\n",
    "    # def __init__(self):\n",
    "    #         self.count = 0\n",
    "    def reverseList(self, head):\n",
    "        pre = None\n",
    "        cur = head\n",
    "        # next = head\n",
    "\n",
    "        while cur:\n",
    "            # 我要改变 cur.next （改变成pre），我要先存 next，因为以后当前值就是next\n",
    "            next = cur.next\n",
    "            # 逐个点反转\n",
    "            cur.next = pre\n",
    "            pre = cur\n",
    "            cur = next\n",
    "        return pre"
   ]
  },
  {
   "cell_type": "code",
   "execution_count": 7,
   "metadata": {},
   "outputs": [
    {
     "name": "stdout",
     "output_type": "stream",
     "text": [
      "5\n",
      "4\n",
      "3\n",
      "2\n",
      "1\n"
     ]
    }
   ],
   "source": [
    "s = Solution()\n",
    "reverse_head = s.reverseList(head)\n",
    "while reverse_head:\n",
    "    print(reverse_head.val)\n",
    "    reverse_head = reverse_head.next"
   ]
  },
  {
   "cell_type": "code",
   "execution_count": null,
   "metadata": {},
   "outputs": [],
   "source": []
  },
  {
   "cell_type": "code",
   "execution_count": null,
   "metadata": {},
   "outputs": [],
   "source": []
  }
 ],
 "metadata": {
  "interpreter": {
   "hash": "9ecbc95d31df1b277e5ec566a835865c3a9a253da4266404bdbc6ee7e31406f4"
  },
  "kernelspec": {
   "display_name": "Python 3.8.6 ('tensorflow2')",
   "language": "python",
   "name": "python3"
  },
  "language_info": {
   "codemirror_mode": {
    "name": "ipython",
    "version": 3
   },
   "file_extension": ".py",
   "mimetype": "text/x-python",
   "name": "python",
   "nbconvert_exporter": "python",
   "pygments_lexer": "ipython3",
   "version": "3.8.6"
  },
  "orig_nbformat": 4
 },
 "nbformat": 4,
 "nbformat_minor": 2
}
