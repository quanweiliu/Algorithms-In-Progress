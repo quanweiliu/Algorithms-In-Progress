{
 "cells": [
  {
   "cell_type": "markdown",
   "metadata": {},
   "source": [
    "# 09回文数很简单，不过多讨论"
   ]
  },
  {
   "cell_type": "markdown",
   "metadata": {},
   "source": [
    "# 234回文数组"
   ]
  },
  {
   "cell_type": "code",
   "execution_count": 2,
   "metadata": {},
   "outputs": [],
   "source": [
    "#  Definition for singly-linked list.\n",
    "class ListNode:\n",
    "    def __init__(self, val=0, next=None):\n",
    "        self.val = val\n",
    "        self.next = next"
   ]
  },
  {
   "cell_type": "markdown",
   "metadata": {},
   "source": [
    "# 笔试写法\n",
    "## 递归写法\n",
    "- 哑节点\n",
    "- 空间复杂度O（n）"
   ]
  },
  {
   "cell_type": "code",
   "execution_count": null,
   "metadata": {},
   "outputs": [],
   "source": [
    "class Solution:\n",
    "    def rec(self, head):\n",
    "        dummy = head\n",
    "        last = self.helper(head)\n",
    "        \n",
    "        while dummy:\n",
    "            if last.val != dummy.val:\n",
    "               return False\n",
    "            else:\n",
    "                dummy = dummy.next\n",
    "                last = last.next\n",
    "        return True\n",
    "\n",
    "    def helper(self, head):\n",
    "        if head == None or head.next == None:\n",
    "            return head\n",
    "        last = self.helper(head.next)\n",
    "\n",
    "        head.next.next = head\n",
    "        head.next = None\n",
    "        return last"
   ]
  },
  {
   "cell_type": "code",
   "execution_count": null,
   "metadata": {},
   "outputs": [],
   "source": [
    "ls1 = ListNode(1)\n",
    "ls2 = ListNode(2)\n",
    "ls3 = ListNode(1)\n",
    "head = ls1\n",
    "ls1.next = ls2\n",
    "ls2.next = ls3\n",
    "\n",
    "\n",
    "# ls = ListNode(1)\n",
    "# head = ls\n",
    "# for i in range(2,6):\n",
    "#     ls.next = ListNode(i)\n",
    "#     ls = ls.next\n",
    "# while head:\n",
    "#     print(head.val)\n",
    "#     head = head.next"
   ]
  },
  {
   "cell_type": "code",
   "execution_count": null,
   "metadata": {},
   "outputs": [],
   "source": [
    "s = Solution()\n",
    "rec = s.rec(head)\n",
    "rec\n",
    "# while reverse_head:\n",
    "#     print(reverse_head.val)\n",
    "#     reverse_head = reverse_head.next"
   ]
  },
  {
   "cell_type": "markdown",
   "metadata": {},
   "source": [
    "## 使用额外的数据结构-栈写法"
   ]
  },
  {
   "cell_type": "code",
   "execution_count": 10,
   "metadata": {},
   "outputs": [],
   "source": [
    "class Solution:\n",
    "    def rec(self, head):\n",
    "        dummy = head\n",
    "        stack = []\n",
    "\n",
    "        while dummy:\n",
    "            stack.append(dummy.val)\n",
    "            dummy = dummy.next\n",
    "        # print(stack)\n",
    "\n",
    "        while head:\n",
    "            if head.val != stack.pop(-1):\n",
    "                return False\n",
    "            head = head.next\n",
    "        return True"
   ]
  },
  {
   "cell_type": "code",
   "execution_count": 11,
   "metadata": {},
   "outputs": [],
   "source": [
    "ls1 = ListNode(1)\n",
    "ls2 = ListNode(2)\n",
    "ls3 = ListNode(1)\n",
    "head = ls1\n",
    "ls1.next = ls2\n",
    "ls2.next = ls3"
   ]
  },
  {
   "cell_type": "code",
   "execution_count": 12,
   "metadata": {},
   "outputs": [
    {
     "data": {
      "text/plain": [
       "True"
      ]
     },
     "execution_count": 12,
     "metadata": {},
     "output_type": "execute_result"
    }
   ],
   "source": [
    "s = Solution()\n",
    "rec = s.rec(head)\n",
    "rec\n",
    "# while reverse_head:\n",
    "#     print(reverse_head.val)\n",
    "#     reverse_head = reverse_head.next"
   ]
  },
  {
   "cell_type": "markdown",
   "metadata": {},
   "source": [
    "## 快慢指针的做法\n",
    "- 空间复杂度O(n/2)\n",
    "- 需要针对数据特点进行定制\n",
    "    - 1，2，3，2，1     需要在快指针走完的时候，慢指针走到3\n",
    "    - 1，2，3，3，2，1  需要在快指针走完的时候，慢指针走到第一个3 or 第二个3\n",
    "- 直接参考环形指针"
   ]
  },
  {
   "cell_type": "code",
   "execution_count": null,
   "metadata": {},
   "outputs": [],
   "source": []
  },
  {
   "cell_type": "markdown",
   "metadata": {},
   "source": [
    "# 面试写法\n",
    "- 空间复杂度O(1)\n",
    "- 改数据结构连接方式的做法\n",
    "- 1 -> 2 -> 3 -> 2- > 1\n",
    "- 1 -> 2 -> 3 <- 2 <- 1\n",
    "- 空间复杂度 O(1)"
   ]
  },
  {
   "cell_type": "code",
   "execution_count": 13,
   "metadata": {},
   "outputs": [],
   "source": [
    "class Solution:\n",
    "    def isPalindrome(self, head):\n",
    "        if head == None or head.next == None:\n",
    "            return True\n",
    "        \n",
    "        n1 = head\n",
    "        n2 = head\n",
    "        # 快慢指针，找中点，大量的实验得到的结果，这样写正确\n",
    "        while n2.next != None and n2.next.next != None:\n",
    "            n1 = n1.next      # 结束的时候，n1 走到中点\n",
    "            n2 = n2.next.next\n",
    "        \n",
    "        n2 = n1.next          # right part first node\n",
    "        n1.next = None\n",
    "\n",
    "        n3 = ListNode()\n",
    "        # reverse right part\n",
    "        while n2 != None:\n",
    "            n3 = n2.next\n",
    "            n2.next = n1\n",
    "            n1 = n2\n",
    "            n2 = n3\n",
    "        \n",
    "        n3 = n1\n",
    "        n2 = head\n",
    "        res = True\n",
    "        while n1 != None and n2 != None:\n",
    "            if n1.val != n2.val:\n",
    "                res = False\n",
    "            n1 = n1.next      # left to mid\n",
    "            n2 = n2.next      # right to mid\n",
    "        n1 = n3.next\n",
    "        n3.next = None\n",
    "\n",
    "        # 返回之前，不要忘记把右边逆序回来\n",
    "        n1 = n3.next\n",
    "        n3.next = None\n",
    "        while n1 != None:\n",
    "            n2 = n1.next\n",
    "            n1.next = n3\n",
    "            n3 = n2\n",
    "            n1 = n3\n",
    "\n",
    "        return res"
   ]
  },
  {
   "cell_type": "code",
   "execution_count": 18,
   "metadata": {},
   "outputs": [],
   "source": [
    "ls1 = ListNode(1)\n",
    "ls2 = ListNode(2)\n",
    "ls3 = ListNode(2)\n",
    "ls4 = ListNode(1)\n",
    "ls5 = ListNode(1)\n",
    "head = ls1\n",
    "ls1.next = ls2\n",
    "ls2.next = ls3\n",
    "ls3.next = ls4\n",
    "ls4.next = ls5"
   ]
  },
  {
   "cell_type": "code",
   "execution_count": 19,
   "metadata": {},
   "outputs": [
    {
     "data": {
      "text/plain": [
       "False"
      ]
     },
     "execution_count": 19,
     "metadata": {},
     "output_type": "execute_result"
    }
   ],
   "source": [
    "s = Solution()\n",
    "rec = s.isPalindrome(head)\n",
    "rec\n",
    "# while reverse_head:\n",
    "#     print(reverse_head.val)\n",
    "#     reverse_head = reverse_head.next"
   ]
  },
  {
   "cell_type": "code",
   "execution_count": null,
   "metadata": {},
   "outputs": [],
   "source": []
  }
 ],
 "metadata": {
  "interpreter": {
   "hash": "9ecbc95d31df1b277e5ec566a835865c3a9a253da4266404bdbc6ee7e31406f4"
  },
  "kernelspec": {
   "display_name": "Python 3.8.6 ('tensorflow2')",
   "language": "python",
   "name": "python3"
  },
  "language_info": {
   "codemirror_mode": {
    "name": "ipython",
    "version": 3
   },
   "file_extension": ".py",
   "mimetype": "text/x-python",
   "name": "python",
   "nbconvert_exporter": "python",
   "pygments_lexer": "ipython3",
   "version": "3.8.6"
  },
  "orig_nbformat": 4
 },
 "nbformat": 4,
 "nbformat_minor": 2
}
