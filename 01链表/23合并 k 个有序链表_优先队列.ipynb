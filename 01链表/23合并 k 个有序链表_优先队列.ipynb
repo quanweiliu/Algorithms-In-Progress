{
 "cells": [
  {
   "cell_type": "markdown",
   "metadata": {},
   "source": [
    "## 合并 k 个有序链表\n",
    "- https://labuladong.gitee.io/algo/2/17/16/#%E5%8D%95%E9%93%BE%E8%A1%A8%E7%9A%84%E5%80%92%E6%95%B0%E7%AC%AC-k-%E4%B8%AA%E8%8A%82%E7%82%B9\n",
    "- https://leetcode-cn.com/problems/merge-k-sorted-lists/"
   ]
  },
  {
   "cell_type": "code",
   "execution_count": 13,
   "metadata": {},
   "outputs": [],
   "source": [
    "import heapq"
   ]
  },
  {
   "cell_type": "code",
   "execution_count": 19,
   "metadata": {},
   "outputs": [],
   "source": [
    "# Definition for singly-linked list.\n",
    "class ListNode:\n",
    "    def __init__(self, val=0, next=None):\n",
    "        self.val = val\n",
    "        self.next = next"
   ]
  },
  {
   "cell_type": "code",
   "execution_count": 26,
   "metadata": {},
   "outputs": [],
   "source": [
    "head1 = ListNode(1)\n",
    "head1.next = ListNode(4)\n",
    "head1.next.next = ListNode(5)\n",
    "\n",
    "head2 = ListNode(1)\n",
    "head2.next = ListNode(3)\n",
    "head2.next.next = ListNode(4)\n",
    "\n",
    "head3 = ListNode(2)\n",
    "head3.next = ListNode(6)\n",
    "\n",
    "lists = [head1, head2, head3]\n",
    "\n",
    "# lists = [head1]\n",
    "# for i in range(3):\n",
    "#     while lists[i]:\n",
    "#         print(lists[i].val)\n",
    "#         lists[i] = lists[i].next"
   ]
  },
  {
   "cell_type": "code",
   "execution_count": 27,
   "metadata": {},
   "outputs": [],
   "source": [
    "class Solution:\n",
    "    def mergeKLists(self, lists) -> ListNode:\n",
    "        \n",
    "        dummy = ListNode(0)\n",
    "        p = dummy\n",
    "        head = []\n",
    "\n",
    "        # 这里每一个链表装进了一个值\n",
    "        for i in range(len(lists)):\n",
    "            if lists[i]:\n",
    "                heapq.heappush(head, (lists[i].val, i))\n",
    "                lists[i] = lists[i].next\n",
    "\n",
    "        # 装进了三个值，并完成了排序， 格式 [(1, 0), (1, 1), (2, 2)]\n",
    "        # print(head)    # 3\n",
    "\n",
    "        while head:\n",
    "            # 取出优先队列 head 中的第一个元素，也就是最小元素，加入到链表之中\n",
    "            # 但是第一轮循环中，优先队列中只有链表中的第一个值，刚好，因为链表是从小到大排列的\n",
    "            val, idx = heapq.heappop(head)\n",
    "            # print(\"val\", val, \"idx\", idx)\n",
    "            p.next = ListNode(val)\n",
    "\n",
    "            # 我把这一步给忘了，导致只想到 p.next, p.next.next\n",
    "            p = p.next\n",
    "            print(head)\n",
    "\n",
    "\n",
    "            # 这里在干什么？\n",
    "            # 上面链表的头已经换成了第二个元素，这里按照相同的方式插入\n",
    "            # 也已经是顺序的插入了后续的值\n",
    "            if lists[idx]:\n",
    "                heapq.heappush(head, (lists[idx].val, idx))\n",
    "                print(head)\n",
    "                lists[idx] = lists[idx].next\n",
    "\n",
    "        return dummy.next"
   ]
  },
  {
   "cell_type": "code",
   "execution_count": 28,
   "metadata": {},
   "outputs": [
    {
     "name": "stdout",
     "output_type": "stream",
     "text": [
      "[(1, 1), (2, 2)]\n",
      "[(1, 1), (2, 2), (4, 0)]\n",
      "[(2, 2), (4, 0)]\n",
      "[(2, 2), (4, 0), (3, 1)]\n",
      "[(3, 1), (4, 0)]\n",
      "[(3, 1), (4, 0), (6, 2)]\n",
      "[(4, 0), (6, 2)]\n",
      "[(4, 0), (6, 2), (4, 1)]\n",
      "[(4, 1), (6, 2)]\n",
      "[(4, 1), (6, 2), (5, 0)]\n",
      "[(5, 0), (6, 2)]\n",
      "[(6, 2)]\n",
      "[]\n",
      "11234456"
     ]
    }
   ],
   "source": [
    "s  = Solution()\n",
    "y = s.mergeKLists(lists)\n",
    "\n",
    "while y:\n",
    "    print(y.val, end=\"\")\n",
    "    y = y.next"
   ]
  },
  {
   "cell_type": "markdown",
   "metadata": {},
   "source": [
    "## 有关heapq 的资料\n",
    "- https://geek-docs.com/python/python-examples/python-priority-queue.html"
   ]
  },
  {
   "cell_type": "code",
   "execution_count": null,
   "metadata": {},
   "outputs": [],
   "source": [
    "# heapq 函数\n",
    "import heapq\n",
    "\n",
    "q = []\n",
    "\n",
    "heapq.heappush(q, (2, 'code'))\n",
    "heapq.heappush(q, (1, 'eat'))\n",
    "heapq.heappush(q, (3, 'sleep'))\n",
    "\n",
    "while q:\n",
    "    next_item = heapq.heappop(q)\n",
    "    print(next_item)"
   ]
  },
  {
   "cell_type": "code",
   "execution_count": null,
   "metadata": {},
   "outputs": [],
   "source": [
    "q=[2,1,3,4]\n",
    "heapq.heapify(q)\n",
    "\n",
    "while q:\n",
    "    next_item = heapq.heappop(q)\n",
    "    print(next_item)"
   ]
  },
  {
   "cell_type": "markdown",
   "metadata": {},
   "source": [
    "## PriorityQueue 函类\n",
    "- queue.PriorityQueue这个优先级队列的实现在内部使用了heapq，时间和空间复杂度与heapq相同。"
   ]
  },
  {
   "cell_type": "code",
   "execution_count": null,
   "metadata": {},
   "outputs": [],
   "source": [
    "from queue import PriorityQueue\n",
    "\n",
    "q = PriorityQueue()\n",
    "\n",
    "q.put((2, 'code'))\n",
    "q.put((1, 'eat'))\n",
    "q.put((3, 'sleep'))\n",
    "\n",
    "while not q.empty():\n",
    "    next_item = q.get()\n",
    "    print(next_item)"
   ]
  },
  {
   "cell_type": "code",
   "execution_count": null,
   "metadata": {},
   "outputs": [],
   "source": []
  },
  {
   "cell_type": "code",
   "execution_count": null,
   "metadata": {},
   "outputs": [],
   "source": []
  }
 ],
 "metadata": {
  "interpreter": {
   "hash": "9ecbc95d31df1b277e5ec566a835865c3a9a253da4266404bdbc6ee7e31406f4"
  },
  "kernelspec": {
   "display_name": "Python 3.8.6 ('tensorflow2')",
   "language": "python",
   "name": "python3"
  },
  "language_info": {
   "codemirror_mode": {
    "name": "ipython",
    "version": 3
   },
   "file_extension": ".py",
   "mimetype": "text/x-python",
   "name": "python",
   "nbconvert_exporter": "python",
   "pygments_lexer": "ipython3",
   "version": "3.8.6"
  },
  "orig_nbformat": 4
 },
 "nbformat": 4,
 "nbformat_minor": 2
}
