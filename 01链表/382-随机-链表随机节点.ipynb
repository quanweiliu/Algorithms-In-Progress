{
 "cells": [
  {
   "cell_type": "markdown",
   "metadata": {},
   "source": [
    "382 和 398 题，关于水塘抽样算法（Reservoir Sampling），本质上是一种随机概率算法，解法应该说会者不难，难者不会。\n",
    "- 结论\n",
    "    - 当你遇到第 i 个元素时，应该有 1/i 的概率选择该元素，1 - 1/i 的概率保持原有的选择。\n",
    "- 拓展\n",
    "    - 如果要随机选择 k 个数，只要在第 i 个元素处以 k/i 的概率选择该元素，以 1 - k/i 的概率保持原有选择即可。\n",
    "- 数组专用算法\n",
    "    - 洗牌取前k个"
   ]
  },
  {
   "cell_type": "markdown",
   "metadata": {},
   "source": [
    "# 382链表随机节点"
   ]
  },
  {
   "cell_type": "code",
   "execution_count": 17,
   "metadata": {},
   "outputs": [],
   "source": [
    "# Definition for singly-linked list.\n",
    "class ListNode:\n",
    "    def __init__(self, val=0, next=None):\n",
    "        self.val = val\n",
    "        self.next = next"
   ]
  },
  {
   "cell_type": "code",
   "execution_count": 61,
   "metadata": {},
   "outputs": [],
   "source": [
    "# 是randint 从0开始\n",
    "import random\n",
    "class Solution:\n",
    "    def __init__(self, head):\n",
    "        self.head = head\n",
    "\n",
    "    def getRandom(self) -> int:\n",
    "        i = 0\n",
    "        res = 0\n",
    "        p = self.head\n",
    "        while p != None:\n",
    "            # 第一个元素 100% 被选到，然后概率逐次向下转移输出值。\n",
    "            if 0 == random.randint(0, i):\n",
    "                res = p.val\n",
    "            i += 1\n",
    "            p = p.next\n",
    "\n",
    "        return res"
   ]
  },
  {
   "cell_type": "code",
   "execution_count": 60,
   "metadata": {},
   "outputs": [],
   "source": [
    "# 记录所有链表元素\n",
    "# 这居然是最好的算法？\n",
    "from random import choice\n",
    "class Solution:\n",
    "    def __init__(self, head):\n",
    "        self.arr = []\n",
    "        while head:\n",
    "            self.arr.append(head.val)\n",
    "            head = head.next\n",
    "\n",
    "    def getRandom(self) -> int:\n",
    "        return choice(self.arr)\n",
    "# 链接：https://leetcode-cn.com/problems/linked-list-random-node/solution/lian-biao-sui-ji-jie-dian-by-leetcode-so-x6it/\n"
   ]
  },
  {
   "cell_type": "code",
   "execution_count": 21,
   "metadata": {},
   "outputs": [],
   "source": [
    "# 水塘抽样\n",
    "from random import randrange\n",
    "class Solution:\n",
    "    def __init__(self, head):\n",
    "        self.head = head\n",
    "\n",
    "    def getRandom(self) -> int:\n",
    "        node, i, ans = self.head, 1, 0\n",
    "        while node:\n",
    "            if randrange(i) == 0:  # 1/i 的概率选中（替换为答案）\n",
    "                ans = node.val\n",
    "            i += 1\n",
    "            node = node.next\n",
    "        return ans\n",
    "\n",
    "# 链接：https://leetcode-cn.com/problems/linked-list-random-node/solution/lian-biao-sui-ji-jie-dian-by-leetcode-so-x6it/\n"
   ]
  },
  {
   "cell_type": "markdown",
   "metadata": {},
   "source": [
    "- 对于概率算法，代码往往都是很浅显的，但是这种问题的关键在于证明，你的算法为什么是对的？为什么每次以 1/i 的概率更新结果就可以保证结果是平均随机（uniform random）？"
   ]
  },
  {
   "cell_type": "code",
   "execution_count": 62,
   "metadata": {},
   "outputs": [],
   "source": [
    "ls = ListNode(1)\n",
    "head = ls\n",
    "for i in range(2,6):\n",
    "    ls.next = ListNode(i)\n",
    "    ls = ls.next\n",
    "# while head:\n",
    "#     print(head.val)\n",
    "#     head = head.next"
   ]
  },
  {
   "cell_type": "code",
   "execution_count": 63,
   "metadata": {},
   "outputs": [
    {
     "data": {
      "text/plain": [
       "5"
      ]
     },
     "execution_count": 63,
     "metadata": {},
     "output_type": "execute_result"
    }
   ],
   "source": [
    "s = Solution(ls)\n",
    "s.getRandom()"
   ]
  },
  {
   "cell_type": "code",
   "execution_count": 55,
   "metadata": {},
   "outputs": [
    {
     "data": {
      "text/plain": [
       "(1, 0)"
      ]
     },
     "execution_count": 55,
     "metadata": {},
     "output_type": "execute_result"
    }
   ],
   "source": [
    "# 两种获取随机数的方法\n",
    "random.randint(0, 1), randrange(1)"
   ]
  }
 ],
 "metadata": {
  "interpreter": {
   "hash": "9ecbc95d31df1b277e5ec566a835865c3a9a253da4266404bdbc6ee7e31406f4"
  },
  "kernelspec": {
   "display_name": "Python 3.8.6 ('tensorflow2')",
   "language": "python",
   "name": "python3"
  },
  "language_info": {
   "codemirror_mode": {
    "name": "ipython",
    "version": 3
   },
   "file_extension": ".py",
   "mimetype": "text/x-python",
   "name": "python",
   "nbconvert_exporter": "python",
   "pygments_lexer": "ipython3",
   "version": "3.8.6"
  },
  "orig_nbformat": 4
 },
 "nbformat": 4,
 "nbformat_minor": 2
}
