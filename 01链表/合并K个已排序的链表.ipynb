{
 "cells": [
  {
   "cell_type": "code",
   "execution_count": 5,
   "metadata": {},
   "outputs": [],
   "source": [
    "class ListNode:\n",
    "    def __init__(self, x=None):\n",
    "        self.val = x\n",
    "        self.next = None"
   ]
  },
  {
   "cell_type": "code",
   "execution_count": 6,
   "metadata": {},
   "outputs": [],
   "source": [
    "class Solution:\n",
    "    def mergeKLists(self , lists: List[ListNode]) -> ListNode:\n",
    "        # write code here\n",
    "        # 将所有链表元素存放到list中，排序后再转换为链表\n",
    "        if len(lists) == 0:\n",
    "            return \n",
    "            \n",
    "        tmp = []\n",
    "        for i in lists:\n",
    "            while i:\n",
    "                tmp.append(i.val)\n",
    "                i = i.next\n",
    "                \n",
    "        tmp = sorted(tmp)\n",
    "#         print(tmp)\n",
    "        \n",
    "        dummy = ListNode(tmp[0])\n",
    "        head = dummy\n",
    "        \n",
    "        for i in tmp[1:]:\n",
    "            dummy.next = ListNode(i)\n",
    "            dummy = dummy.next\n",
    "            \n",
    "        return head"
   ]
  },
  {
   "cell_type": "code",
   "execution_count": 7,
   "metadata": {},
   "outputs": [],
   "source": [
    "ls = ListNode(1)\n",
    "head = ls\n",
    "for i in range(2,6):\n",
    "    ls.next = ListNode(i)\n",
    "    ls = ls.next\n",
    "# ls.next = pos\n",
    "# 1,2,3,4,5\n",
    "\n",
    "ls2 = ListNode(2)\n",
    "head2 = ls2\n",
    "for i in range(3,6):\n",
    "    ls2.next = ListNode(i)\n",
    "    ls2 = ls2.next\n",
    "\n",
    "\n",
    "# while head:\n",
    "#     print(head.val)\n",
    "#     head = head.next\n",
    "\n",
    "# while head2:\n",
    "#     print(head2.val)\n",
    "#     head2 = head2.next"
   ]
  },
  {
   "cell_type": "code",
   "execution_count": 8,
   "metadata": {},
   "outputs": [
    {
     "name": "stdout",
     "output_type": "stream",
     "text": [
      "[1, 2, 3, 4, 5, 2, 3, 4, 5]\n"
     ]
    },
    {
     "data": {
      "text/plain": [
       "<__main__.ListNode at 0x1f95b46e610>"
      ]
     },
     "execution_count": 8,
     "metadata": {},
     "output_type": "execute_result"
    }
   ],
   "source": [
    "s = Solution()\n",
    "lists = [head, head2]\n",
    "s.mergeKLists(lists)"
   ]
  },
  {
   "cell_type": "code",
   "execution_count": null,
   "metadata": {},
   "outputs": [],
   "source": []
  },
  {
   "cell_type": "code",
   "execution_count": null,
   "metadata": {},
   "outputs": [],
   "source": []
  },
  {
   "cell_type": "code",
   "execution_count": null,
   "metadata": {},
   "outputs": [],
   "source": []
  }
 ],
 "metadata": {
  "kernelspec": {
   "display_name": "Python 3.8.6 ('tensorflow2')",
   "language": "python",
   "name": "python3"
  },
  "language_info": {
   "codemirror_mode": {
    "name": "ipython",
    "version": 3
   },
   "file_extension": ".py",
   "mimetype": "text/x-python",
   "name": "python",
   "nbconvert_exporter": "python",
   "pygments_lexer": "ipython3",
   "version": "3.8.6"
  },
  "orig_nbformat": 4,
  "vscode": {
   "interpreter": {
    "hash": "85c51a4259275393737ca8d3e0cd6fa489554cf4913552085d5553b62ac22de5"
   }
  }
 },
 "nbformat": 4,
 "nbformat_minor": 2
}
