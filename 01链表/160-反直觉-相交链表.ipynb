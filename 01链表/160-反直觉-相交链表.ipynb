{
 "cells": [
  {
   "cell_type": "markdown",
   "metadata": {},
   "source": [
    "# 只需要一次遍历删除链表的倒数第 n 个节点\n",
    "- 虚拟节点的下一个节点指向当前的头"
   ]
  },
  {
   "cell_type": "code",
   "execution_count": 136,
   "metadata": {},
   "outputs": [],
   "source": [
    "# Definition for singly-linked list.\n",
    "class ListNode:\n",
    "    def __init__(self, val=0, next=None):\n",
    "        self.val = val\n",
    "        self.next = None"
   ]
  },
  {
   "cell_type": "code",
   "execution_count": 137,
   "metadata": {},
   "outputs": [],
   "source": [
    "ls = ListNode(1)\n",
    "\n",
    "head = ls\n",
    "for i in range(2,6):\n",
    "    ls.next = ListNode(i)\n",
    "    ls = ls.next\n",
    "\n",
    "# 1,2,3,4,5\n",
    "# while head:\n",
    "#     print(head.val)\n",
    "#     head = head.next"
   ]
  },
  {
   "cell_type": "code",
   "execution_count": 138,
   "metadata": {},
   "outputs": [],
   "source": [
    "# 错误的写法\n",
    "\n",
    "class Solution:\n",
    "    def removeNthFromEnd(self, head: ListNode, n: int) -> ListNode:\n",
    "        node1 = head\n",
    "        node2 = head\n",
    "        # 虚拟头结点\n",
    "        dummy = ListNode(-1, head)\n",
    "\n",
    "        # p1 先走 k 步, 然后再加一步，这样，能找到倒数第 n + 1 个节点\n",
    "        for i in range(n):\n",
    "            node1 = node1.next \n",
    "        \n",
    "        # p1 和 p2 同时走 n - k - 1 步\n",
    "        while node1:\n",
    "            node1 = node1.next \n",
    "            node2 = node2.next \n",
    "        \n",
    "        # print(node2.val)    # 4\n",
    "            \n",
    "\n",
    "        node2.next = node2.next.next\n",
    "\n",
    "        return dummy.next"
   ]
  },
  {
   "cell_type": "code",
   "execution_count": 139,
   "metadata": {},
   "outputs": [],
   "source": [
    "# 正确的做法\n",
    "class Solution:\n",
    "    def removeNthFromEnd(self, head: ListNode, n: int) -> ListNode:\n",
    "        ###########   这几个节点的设置需要注意   ##############\n",
    "        dummy = ListNode(0, head)\n",
    "        first = head\n",
    "        second = dummy\n",
    "        ###########   这几个节点的设置需要注意   ##############\n",
    "        for i in range(n):\n",
    "            first = first.next\n",
    "\n",
    "        while first:\n",
    "            first = first.next\n",
    "            second = second.next\n",
    "        \n",
    "        second.next = second.next.next\n",
    "        return dummy.next"
   ]
  },
  {
   "cell_type": "code",
   "execution_count": 140,
   "metadata": {},
   "outputs": [
    {
     "ename": "AttributeError",
     "evalue": "'NoneType' object has no attribute 'next'",
     "output_type": "error",
     "traceback": [
      "\u001b[1;31m---------------------------------------------------------------------------\u001b[0m",
      "\u001b[1;31mAttributeError\u001b[0m                            Traceback (most recent call last)",
      "\u001b[1;32m<ipython-input-140-2757e1fbff4b>\u001b[0m in \u001b[0;36m<module>\u001b[1;34m\u001b[0m\n\u001b[0;32m      9\u001b[0m \u001b[1;33m\u001b[0m\u001b[0m\n\u001b[0;32m     10\u001b[0m \u001b[0ms\u001b[0m \u001b[1;33m=\u001b[0m \u001b[0mSolution\u001b[0m\u001b[1;33m(\u001b[0m\u001b[1;33m)\u001b[0m\u001b[1;33m\u001b[0m\u001b[1;33m\u001b[0m\u001b[0m\n\u001b[1;32m---> 11\u001b[1;33m \u001b[0mnew_head\u001b[0m \u001b[1;33m=\u001b[0m \u001b[0ms\u001b[0m\u001b[1;33m.\u001b[0m\u001b[0mremoveNthFromEnd\u001b[0m\u001b[1;33m(\u001b[0m\u001b[0mhead\u001b[0m\u001b[1;33m,\u001b[0m \u001b[1;36m1\u001b[0m\u001b[1;33m)\u001b[0m\u001b[1;33m\u001b[0m\u001b[1;33m\u001b[0m\u001b[0m\n\u001b[0m",
      "\u001b[1;32m<ipython-input-139-8a41f0d08540>\u001b[0m in \u001b[0;36mremoveNthFromEnd\u001b[1;34m(self, head, n)\u001b[0m\n\u001b[0;32m     14\u001b[0m             \u001b[0msecond\u001b[0m \u001b[1;33m=\u001b[0m \u001b[0msecond\u001b[0m\u001b[1;33m.\u001b[0m\u001b[0mnext\u001b[0m\u001b[1;33m\u001b[0m\u001b[1;33m\u001b[0m\u001b[0m\n\u001b[0;32m     15\u001b[0m \u001b[1;33m\u001b[0m\u001b[0m\n\u001b[1;32m---> 16\u001b[1;33m         \u001b[0msecond\u001b[0m\u001b[1;33m.\u001b[0m\u001b[0mnext\u001b[0m \u001b[1;33m=\u001b[0m \u001b[0msecond\u001b[0m\u001b[1;33m.\u001b[0m\u001b[0mnext\u001b[0m\u001b[1;33m.\u001b[0m\u001b[0mnext\u001b[0m\u001b[1;33m\u001b[0m\u001b[1;33m\u001b[0m\u001b[0m\n\u001b[0m\u001b[0;32m     17\u001b[0m         \u001b[1;32mreturn\u001b[0m \u001b[0mdummy\u001b[0m\u001b[1;33m.\u001b[0m\u001b[0mnext\u001b[0m\u001b[1;33m\u001b[0m\u001b[1;33m\u001b[0m\u001b[0m\n",
      "\u001b[1;31mAttributeError\u001b[0m: 'NoneType' object has no attribute 'next'"
     ]
    }
   ],
   "source": [
    "# s = Solution()\n",
    "# new_head = s.removeNthFromEnd(head, 2)\n",
    "\n",
    "# 不知道为什么通过不了，但是再leetcode 上是能够通过的\n",
    "ls = ListNode(1)\n",
    "# ls2 = ListNode(2)\n",
    "# ls.next = ls2\n",
    "head = ls\n",
    "\n",
    "s = Solution()\n",
    "new_head = s.removeNthFromEnd(head, 1)"
   ]
  },
  {
   "cell_type": "code",
   "execution_count": null,
   "metadata": {},
   "outputs": [],
   "source": [
    "while new_head:\n",
    "    print(new_head.val)\n",
    "    new_head = new_head.next"
   ]
  },
  {
   "cell_type": "code",
   "execution_count": null,
   "metadata": {},
   "outputs": [],
   "source": [
    "head.next"
   ]
  },
  {
   "cell_type": "code",
   "execution_count": null,
   "metadata": {},
   "outputs": [],
   "source": []
  }
 ],
 "metadata": {
  "interpreter": {
   "hash": "9ecbc95d31df1b277e5ec566a835865c3a9a253da4266404bdbc6ee7e31406f4"
  },
  "kernelspec": {
   "display_name": "Python 3.8.6 ('tensorflow2')",
   "language": "python",
   "name": "python3"
  },
  "language_info": {
   "codemirror_mode": {
    "name": "ipython",
    "version": 3
   },
   "file_extension": ".py",
   "mimetype": "text/x-python",
   "name": "python",
   "nbconvert_exporter": "python",
   "pygments_lexer": "ipython3",
   "version": "3.8.6"
  },
  "orig_nbformat": 4
 },
 "nbformat": 4,
 "nbformat_minor": 2
}
