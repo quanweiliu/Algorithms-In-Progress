{
 "cells": [
  {
   "cell_type": "markdown",
   "metadata": {},
   "source": [
    "# 非原地反转列表"
   ]
  },
  {
   "cell_type": "code",
   "execution_count": 15,
   "metadata": {},
   "outputs": [],
   "source": [
    "# Definition for singly-linked list.\n",
    "class ListNode:\n",
    "    def __init__(self, val=0, next=None):\n",
    "        self.val = val\n",
    "        self.next = next"
   ]
  },
  {
   "cell_type": "code",
   "execution_count": 16,
   "metadata": {},
   "outputs": [],
   "source": [
    "ls = ListNode(1)\n",
    "head = ls\n",
    "for i in range(2,6):\n",
    "    ls.next = ListNode(i)\n",
    "    ls = ls.next\n",
    "# while head:\n",
    "#     print(head.val)\n",
    "#     head = head.next"
   ]
  },
  {
   "cell_type": "code",
   "execution_count": 18,
   "metadata": {},
   "outputs": [
    {
     "name": "stdout",
     "output_type": "stream",
     "text": [
      "5\n",
      "4\n",
      "3\n",
      "2\n",
      "1\n",
      "[5, 4, 3, 2, 1]\n"
     ]
    }
   ],
   "source": [
    "ls = []\n",
    "def reversePrint(head):\n",
    "    if head == None:\n",
    "        return\n",
    "    reversePrint(head.next)\n",
    "    ls.append(head.val)\n",
    "    print(head.val)\n",
    "reversePrint(head)\n",
    "print(ls)"
   ]
  },
  {
   "cell_type": "markdown",
   "metadata": {},
   "source": [
    "# 206反转链表\n",
    "[https://labuladong.gitee.io/algo/2/17/17/]\n",
    "\n",
    "[https://leetcode-cn.com/problems/reverse-linked-list/solution/fan-zhuan-lian-biao-by-leetcode-solution-d1k2/]\n",
    "\n",
    "- 注意：链表操作中带有换头的操作，就要带返回值。不牵扯带换头的操作，一般不需要返回值。\n",
    "- 递归写法适合在笔试的时候用，因为递归写法更简单。\n",
    "- 迭代写法适合在面试的时候用，因为迭代写法更高效。\n",
    "\n",
    "\n",
    "- 递归操作链表并不高效。和迭代解法相比，虽然时间复杂度都是 O(N)，但是迭代解法的空间复杂度是 O(1)，而递归解法需要堆栈，空间复杂度是 O(N)。所以递归操作链表可以作为对递归算法的练习或者拿去和小伙伴装逼，但是考虑效率的话还是使用迭代算法更好。"
   ]
  },
  {
   "cell_type": "markdown",
   "metadata": {},
   "source": [
    "## 递归解法\n",
    "\n",
    "中间的过程\n",
    "```\n",
    "第一轮出栈，head为5，head.next为空，返回5\n",
    "第二轮出栈，head为4，head.next为5，\n",
    "            执行head.next.next=head也就是5.next=4，\n",
    "            把当前节点的子节点的子节点指向当前节点\n",
    "            此时链表为1->2->3->4<->5，\n",
    "            由于4与5互相指向，所以此处要断开4.next=null\n",
    "            此时链表为1->2->3->4<-5\n",
    "            返回节点5\n",
    "依次\n",
    "第五轮出栈，head为1，head.next为2，\n",
    "            执行head.next.next=head也就是2.next=1，\n",
    "            此时链表为1<->2<-3<-4<-5，\n",
    "            由于1与2互相指向，所以此处要断开1.next=null\n",
    "            此时链表为1<-2<-3<-4<-5\n",
    "            返回节点5\n",
    "出栈完成，最终头节点5->4->3->2->1\n",
    "```"
   ]
  },
  {
   "cell_type": "code",
   "execution_count": null,
   "metadata": {},
   "outputs": [],
   "source": [
    "class Solution:\n",
    "    # def __init__(self):\n",
    "    #         self.count = 0\n",
    "    def reverseList(self, head):\n",
    "        if head == None or head.next == None:\n",
    "            return head\n",
    "\n",
    "        # 这个算法常常拿来显示递归的巧妙和优美\n",
    "        # 递归传入下一个节点，目的是为了到达最后一个节点\n",
    "        last = self.reverseList(head.next)\n",
    "        # 反转\n",
    "        # 第一轮4.next.next = 5.next = 4\n",
    "        # 4.next = none\n",
    "        head.next.next = head\n",
    "        head.next = None\n",
    "        return last"
   ]
  },
  {
   "cell_type": "code",
   "execution_count": null,
   "metadata": {},
   "outputs": [],
   "source": [
    "ls = ListNode(1)\n",
    "head = ls\n",
    "for i in range(2,6):\n",
    "    ls.next = ListNode(i)\n",
    "    ls = ls.next\n",
    "# while head:\n",
    "#     print(head.val)\n",
    "#     head = head.next"
   ]
  },
  {
   "cell_type": "code",
   "execution_count": null,
   "metadata": {},
   "outputs": [],
   "source": [
    "s = Solution()\n",
    "reverse_head = s.reverseList(head)\n",
    "while reverse_head:\n",
    "    print(reverse_head.val)\n",
    "    reverse_head = reverse_head.next"
   ]
  },
  {
   "cell_type": "markdown",
   "metadata": {},
   "source": [
    "## 迭代解法"
   ]
  },
  {
   "cell_type": "code",
   "execution_count": 73,
   "metadata": {},
   "outputs": [],
   "source": [
    "ls = ListNode(1)\n",
    "head = ls\n",
    "for i in range(2,6):\n",
    "    ls.next = ListNode(i)\n",
    "    ls = ls.next\n",
    "# while head:\n",
    "#     print(head.val)\n",
    "#     head = head.next"
   ]
  },
  {
   "cell_type": "code",
   "execution_count": 65,
   "metadata": {},
   "outputs": [],
   "source": [
    "class Solution:\n",
    "\n",
    "    # pre    cur\n",
    "    # None    1 -> 2 -> 3 -> 4 -> 5 -> None \n",
    "    #         pre  cur\n",
    "    # None <- 1    2 -> 3 -> 4 -> 5 -> None\n",
    "    #              pre  cur\n",
    "    # None <- 1 <- 2    3 -> 4 -> 5 -> None\n",
    "    # ...\n",
    "    def reverseList(self, head):\n",
    "        pre = None\n",
    "        cur = head\n",
    "\n",
    "        while cur and N:\n",
    "            # 前面的变成后面的值，例如 a = 1, a 从 anything 变成 1\n",
    "            # temp = 2\n",
    "            temp = cur.next\n",
    "            # cur.next = none\n",
    "            cur.next = pre\n",
    "            # pre = 1\n",
    "            pre = cur\n",
    "            # cur = 2\n",
    "            cur = temp  \n",
    "        return pre"
   ]
  },
  {
   "cell_type": "code",
   "execution_count": 66,
   "metadata": {},
   "outputs": [
    {
     "name": "stdout",
     "output_type": "stream",
     "text": [
      "5\n",
      "4\n",
      "3\n",
      "2\n",
      "1\n"
     ]
    }
   ],
   "source": [
    "s = Solution()\n",
    "N = 3\n",
    "reverse_head = s.reverseList(head)\n",
    "while reverse_head:\n",
    "    print(reverse_head.val)\n",
    "    reverse_head = reverse_head.next"
   ]
  },
  {
   "cell_type": "markdown",
   "metadata": {},
   "source": [
    "# 反转链表前 N 个节点"
   ]
  },
  {
   "cell_type": "markdown",
   "metadata": {},
   "source": [
    "## 迭代解法"
   ]
  },
  {
   "cell_type": "code",
   "execution_count": 88,
   "metadata": {},
   "outputs": [],
   "source": [
    "class Solution():\n",
    "    # pre    cur\n",
    "    # None    1 -> 2 -> 3 -> 4 -> 5 -> None \n",
    "    #         pre  cur\n",
    "    # None <- 1    2 -> 3 -> 4 -> 5 -> None\n",
    "    #              pre  cur\n",
    "    # None <- 1 <- 2    3 -> 4 -> 5 -> None\n",
    "    # ...\n",
    "    def reverseLink(self, head, N):\n",
    "\n",
    "        pre = None\n",
    "        cur = head\n",
    "        store = head\n",
    "    \n",
    "        while head and N:\n",
    "            temp = cur.next\n",
    "            cur.next = pre\n",
    "            pre = cur\n",
    "            cur = temp\n",
    "            N -= 1\n",
    "\n",
    "        store.next = cur\n",
    "        return pre"
   ]
  },
  {
   "cell_type": "code",
   "execution_count": null,
   "metadata": {},
   "outputs": [],
   "source": [
    "ls = ListNode(1)\n",
    "head = ls\n",
    "for i in range(2,6):\n",
    "    ls.next = ListNode(i)\n",
    "    ls = ls.next\n",
    "# while head:\n",
    "#     print(head.val)\n",
    "#     head = head.next\n",
    "\n",
    "s = Solution()\n",
    "N = 4\n",
    "reverse_head = s.reverseLink(head, N)\n",
    "while reverse_head:\n",
    "    print(reverse_head.val)\n",
    "    reverse_head = reverse_head.next"
   ]
  },
  {
   "cell_type": "markdown",
   "metadata": {},
   "source": [
    "##  递归解法"
   ]
  },
  {
   "cell_type": "code",
   "execution_count": 32,
   "metadata": {},
   "outputs": [],
   "source": [
    "class Solution:\n",
    "    def __init__(self):\n",
    "            self.successor = ListNode()\n",
    "            \n",
    "    def reverseN(self, head, n):\n",
    "        if n == 1:\n",
    "            # 记录第 n + 1 个节点\n",
    "            self.successor = head.next\n",
    "            return head\n",
    "\n",
    "        # 以 head.next 为起点，需要反转前 n - 1 个节点\n",
    "        last = self.reverseN(head.next, n - 1)\n",
    "\n",
    "        head.next.next = head\n",
    "        # 让反转之后的 head 节点和后面的节点连起来, 和递归解法非常相似\n",
    "        head.next = self.successor\n",
    "        return last"
   ]
  },
  {
   "cell_type": "code",
   "execution_count": 33,
   "metadata": {},
   "outputs": [],
   "source": [
    "ls = ListNode(1)\n",
    "head = ls\n",
    "for i in range(2,6):\n",
    "    ls.next = ListNode(i)\n",
    "    ls = ls.next\n",
    "# while head:\n",
    "#     print(head.val)\n",
    "#     head = head.next"
   ]
  },
  {
   "cell_type": "code",
   "execution_count": 34,
   "metadata": {},
   "outputs": [
    {
     "name": "stdout",
     "output_type": "stream",
     "text": [
      "3\n",
      "2\n",
      "1\n",
      "4\n",
      "5\n"
     ]
    }
   ],
   "source": [
    "s = Solution()\n",
    "reverse_head = s.reverseN(head, 3)\n",
    "while reverse_head:\n",
    "    print(reverse_head.val)\n",
    "    reverse_head = reverse_head.next"
   ]
  },
  {
   "cell_type": "markdown",
   "metadata": {},
   "source": [
    "# 92反转链表 II\n",
    "- 递归写法适合在笔试的时候用，因为递归写法更简单。\n",
    "- 迭代写法适合在面试的时候用，因为迭代写法更高效。"
   ]
  },
  {
   "cell_type": "code",
   "execution_count": null,
   "metadata": {},
   "outputs": [],
   "source": [
    "class Solution:\n",
    "    def reverseN(self, head, n):\n",
    "        if n == 1:\n",
    "            self.successor = head.next\n",
    "            return head\n",
    "\n",
    "        last = self.reverseN(head.next, n - 1)\n",
    "\n",
    "        head.next.next = head\n",
    "        head.next = self.successor\n",
    "        return last\n",
    "    def reverseList(self, head, m, n):\n",
    "        if m == 1:\n",
    "            return self.reverseN(head, n)\n",
    "\n",
    "        head.next = self.reverseList(head.next, m - 1, n - 1)\n",
    "        return head"
   ]
  },
  {
   "cell_type": "code",
   "execution_count": null,
   "metadata": {},
   "outputs": [],
   "source": [
    "ls = ListNode(1)\n",
    "head = ls\n",
    "for i in range(2,6):\n",
    "    ls.next = ListNode(i)\n",
    "    ls = ls.next\n",
    "# while head:\n",
    "#     print(head.val)\n",
    "#     head = head.next"
   ]
  },
  {
   "cell_type": "code",
   "execution_count": null,
   "metadata": {},
   "outputs": [],
   "source": [
    "s = Solution()\n",
    "reverse_head = s.reverseList(head, 2, 3)\n",
    "while reverse_head:\n",
    "    print(reverse_head.val)\n",
    "    reverse_head = reverse_head.next"
   ]
  },
  {
   "cell_type": "markdown",
   "metadata": {},
   "source": [
    "# 迭代写法"
   ]
  },
  {
   "cell_type": "code",
   "execution_count": null,
   "metadata": {},
   "outputs": [],
   "source": [
    "class Solution:\n",
    "    def reverseBetween(self, head: ListNode, left: int, right: int) -> ListNode:\n",
    "        def reverse_linked_list(head: ListNode):\n",
    "            # 也可以使用递归反转一个链表\n",
    "            pre = None\n",
    "            cur = head\n",
    "            while cur:\n",
    "                next = cur.next\n",
    "                cur.next = pre\n",
    "                pre = cur\n",
    "                cur = next\n",
    "\n",
    "        # 因为头节点有可能发生变化，使用虚拟头节点可以避免复杂的分类讨论\n",
    "        dummy_node = ListNode(-1)\n",
    "        dummy_node.next = head\n",
    "        pre = dummy_node\n",
    "        # 第 1 步：从虚拟头节点走 left - 1 步，来到 left 节点的前一个节点\n",
    "        # 建议写在 for 循环里，语义清晰\n",
    "        for _ in range(left - 1):\n",
    "            pre = pre.next\n",
    "\n",
    "        # 第 2 步：从 pre 再走 right - left + 1 步，来到 right 节点\n",
    "        right_node = pre\n",
    "        for _ in range(right - left + 1):\n",
    "            right_node = right_node.next\n",
    "        # 第 3 步：切断出一个子链表（截取链表）\n",
    "        left_node = pre.next\n",
    "        curr = right_node.next\n",
    "\n",
    "        # 注意：切断链接\n",
    "        pre.next = None\n",
    "        right_node.next = None\n",
    "\n",
    "        # 第 4 步：同第 206 题，反转链表的子区间\n",
    "        reverse_linked_list(left_node)\n",
    "        # 第 5 步：接回到原来的链表中\n",
    "        pre.next = right_node\n",
    "        left_node.next = curr\n",
    "        return dummy_node.next"
   ]
  },
  {
   "cell_type": "code",
   "execution_count": null,
   "metadata": {},
   "outputs": [],
   "source": [
    "ls = ListNode(1)\n",
    "head = ls\n",
    "for i in range(2,6):\n",
    "    ls.next = ListNode(i)\n",
    "    ls = ls.next\n",
    "# while head:\n",
    "#     print(head.val)\n",
    "#     head = head.next"
   ]
  },
  {
   "cell_type": "code",
   "execution_count": null,
   "metadata": {},
   "outputs": [],
   "source": [
    "s = Solution()\n",
    "reverse_head = s.reverseBetween(head, 2, 5)\n",
    "while reverse_head:\n",
    "    print(reverse_head.val)\n",
    "    reverse_head = reverse_head.next"
   ]
  },
  {
   "cell_type": "code",
   "execution_count": 1,
   "metadata": {},
   "outputs": [
    {
     "data": {
      "text/plain": [
       "[0, 1, 1]"
      ]
     },
     "execution_count": 1,
     "metadata": {},
     "output_type": "execute_result"
    }
   ],
   "source": [
    "\n",
    "A = [0,0,0,0,1,1,]\n",
    "del A[:3]\n",
    "A"
   ]
  }
 ],
 "metadata": {
  "kernelspec": {
   "display_name": "Python 3.8.6 ('tensorflow2')",
   "language": "python",
   "name": "python3"
  },
  "language_info": {
   "codemirror_mode": {
    "name": "ipython",
    "version": 3
   },
   "file_extension": ".py",
   "mimetype": "text/x-python",
   "name": "python",
   "nbconvert_exporter": "python",
   "pygments_lexer": "ipython3",
   "version": "3.8.6"
  },
  "orig_nbformat": 4,
  "vscode": {
   "interpreter": {
    "hash": "85c51a4259275393737ca8d3e0cd6fa489554cf4913552085d5553b62ac22de5"
   }
  }
 },
 "nbformat": 4,
 "nbformat_minor": 2
}
