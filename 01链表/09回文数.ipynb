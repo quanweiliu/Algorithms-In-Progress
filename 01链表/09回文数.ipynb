{
 "cells": [
  {
   "cell_type": "code",
   "execution_count": null,
   "metadata": {},
   "outputs": [],
   "source": [
    "#  Definition for singly-linked list.\n",
    "class ListNode:\n",
    "    def __init__(self, val=0, next=None):\n",
    "        self.val = val\n",
    "        self.next = next"
   ]
  },
  {
   "cell_type": "code",
   "execution_count": null,
   "metadata": {},
   "outputs": [],
   "source": [
    "class Solution:\n",
    "    def rec(self, head):\n",
    "        dummy = head\n",
    "        last = self.helper(head)\n",
    "        \n",
    "        while dummy:\n",
    "            if last.val != dummy.val:\n",
    "               return False\n",
    "            else:\n",
    "                dummy = dummy.next\n",
    "                last = last.next\n",
    "        return True\n",
    "\n",
    "    def helper(self, head):\n",
    "        \n",
    "        if head == None or head.next == None:\n",
    "            return head\n",
    "        last = self.helper(head.next)\n",
    "\n",
    "        head.next.next = head\n",
    "        head.next = None\n",
    "        return last"
   ]
  },
  {
   "cell_type": "code",
   "execution_count": null,
   "metadata": {},
   "outputs": [],
   "source": [
    "ls1 = ListNode(1)\n",
    "ls2 = ListNode(2)\n",
    "ls3 = ListNode(1)\n",
    "head = ls1\n",
    "ls1.next = ls2\n",
    "ls2.next = ls3\n",
    "\n",
    "\n",
    "# ls = ListNode(1)\n",
    "# head = ls\n",
    "# for i in range(2,6):\n",
    "#     ls.next = ListNode(i)\n",
    "#     ls = ls.next\n",
    "# while head:\n",
    "#     print(head.val)\n",
    "#     head = head.next"
   ]
  },
  {
   "cell_type": "code",
   "execution_count": null,
   "metadata": {},
   "outputs": [],
   "source": [
    "s = Solution()\n",
    "rec = s.rec(head)\n",
    "rec\n",
    "# while reverse_head:\n",
    "#     print(reverse_head.val)\n",
    "#     reverse_head = reverse_head.next"
   ]
  },
  {
   "cell_type": "code",
   "execution_count": null,
   "metadata": {},
   "outputs": [],
   "source": []
  }
 ],
 "metadata": {
  "interpreter": {
   "hash": "9ecbc95d31df1b277e5ec566a835865c3a9a253da4266404bdbc6ee7e31406f4"
  },
  "kernelspec": {
   "display_name": "Python 3.8.6 ('tensorflow2')",
   "language": "python",
   "name": "python3"
  },
  "language_info": {
   "codemirror_mode": {
    "name": "ipython",
    "version": 3
   },
   "file_extension": ".py",
   "mimetype": "text/x-python",
   "name": "python",
   "nbconvert_exporter": "python",
   "pygments_lexer": "ipython3",
   "version": "3.8.6"
  },
  "orig_nbformat": 4
 },
 "nbformat": 4,
 "nbformat_minor": 2
}
