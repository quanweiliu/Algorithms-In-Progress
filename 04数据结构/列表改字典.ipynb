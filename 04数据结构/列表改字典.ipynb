{
 "cells": [
  {
   "cell_type": "code",
   "execution_count": 12,
   "metadata": {},
   "outputs": [],
   "source": [
    "a = [1,2,3,4,5]\n",
    "n = len(a) -1\n",
    "res = []\n",
    "for i in range(n):\n",
    "    res.append(i)"
   ]
  },
  {
   "cell_type": "markdown",
   "metadata": {},
   "source": [
    "# zip"
   ]
  },
  {
   "cell_type": "code",
   "execution_count": 13,
   "metadata": {},
   "outputs": [],
   "source": [
    "dic = zip(res, a)"
   ]
  },
  {
   "cell_type": "code",
   "execution_count": 14,
   "metadata": {},
   "outputs": [
    {
     "data": {
      "text/plain": [
       "<zip at 0x23cdb63ca80>"
      ]
     },
     "execution_count": 14,
     "metadata": {},
     "output_type": "execute_result"
    }
   ],
   "source": [
    "dic "
   ]
  },
  {
   "cell_type": "code",
   "execution_count": 15,
   "metadata": {},
   "outputs": [],
   "source": [
    "dic = dict(zip(res, a))"
   ]
  },
  {
   "cell_type": "code",
   "execution_count": 16,
   "metadata": {},
   "outputs": [
    {
     "data": {
      "text/plain": [
       "{0: 1, 1: 2, 2: 3, 3: 4}"
      ]
     },
     "execution_count": 16,
     "metadata": {},
     "output_type": "execute_result"
    }
   ],
   "source": [
    "dic"
   ]
  },
  {
   "cell_type": "markdown",
   "metadata": {},
   "source": [
    "# for"
   ]
  },
  {
   "cell_type": "code",
   "execution_count": 17,
   "metadata": {},
   "outputs": [
    {
     "name": "stdout",
     "output_type": "stream",
     "text": [
      "[{'case_id': 1, 'case_title': '用例1', 'url': 'www,baidu.com', 'date': '001', 'excepted': 'ok'}, {'case_id': 4, 'case_title': '用例4', 'url': 'www,baidu.com', 'date': '002', 'excepted': 'ok'}, {'case_id': 2, 'case_title': '用例2', 'url': 'www,baidu.com', 'date': '002', 'excepted': 'ok'}, {'case_id': 3, 'case_title': '用例3', 'url': 'www,baidu.com', 'date': '002', 'excepted': 'ok'}]\n"
     ]
    }
   ],
   "source": [
    "cases=[['case_id','case_title','url','date','excepted'],\n",
    "[1,'用例1','www,baidu.com','001','ok'],\n",
    "[4,'用例4','www,baidu.com','002','ok'],\n",
    "[2,'用例2','www,baidu.com','002','ok'],\n",
    "[3,'用例3','www,baidu.com','002','ok'],\n",
    "[5,'用例5','www,baidu.com','002','ok'],\n",
    "]\n",
    "list1=[]\n",
    "for i in range(1,5):\n",
    "    list1.append(dict(zip(cases[0],cases[i])))\n",
    "print(list1)"
   ]
  },
  {
   "cell_type": "code",
   "execution_count": null,
   "metadata": {},
   "outputs": [],
   "source": []
  },
  {
   "cell_type": "markdown",
   "metadata": {},
   "source": [
    "# 手动添加"
   ]
  },
  {
   "cell_type": "code",
   "execution_count": 18,
   "metadata": {},
   "outputs": [
    {
     "name": "stdout",
     "output_type": "stream",
     "text": [
      "[{'case_id': 1, 'case_title': '用例1', 'url': 'www,baidu.com', 'date': '001', 'excepted': 'ok'}, {'case_id': 4, 'case_title': '用例4', 'url': 'www,baidu.com', 'date': '002', 'excepted': 'ok'}, {'case_id': 2, 'case_title': '用例2', 'url': 'www,baidu.com', 'date': '002', 'excepted': 'ok'}, {'case_id': 3, 'case_title': '用例3', 'url': 'www,baidu.com', 'date': '002', 'excepted': 'ok'}, {'case_id': 5, 'case_title': '用例5', 'url': 'www,baidu.com', 'date': '002', 'excepted': 'ok'}]\n"
     ]
    }
   ],
   "source": [
    "cases=[['case_id','case_title','url','date','excepted'],\n",
    "[1,'用例1','www,baidu.com','001','ok'],\n",
    "[4,'用例4','www,baidu.com','002','ok'],\n",
    "[2,'用例2','www,baidu.com','002','ok'],\n",
    "[3,'用例3','www,baidu.com','002','ok'],\n",
    "[5,'用例5','www,baidu.com','002','ok'],\n",
    "]\n",
    "case0=cases[0]\n",
    "case1=cases[1]\n",
    "case2=cases[2]\n",
    "case3=cases[3]\n",
    "case4=cases[4]\n",
    "case5=cases[5]\n",
    "list3=[\n",
    "{case0[0]:case1[0],case0[1]:case1[1],case0[2]:case1[2],case0[3]:case1[3],case0[4]:case1[4]},\n",
    "{case0[0]:case2[0],case0[1]:case2[1],case0[2]:case2[2],case0[3]:case2[3],case0[4]:case2[4]},\n",
    "{case0[0]:case3[0],case0[1]:case3[1],case0[2]:case3[2],case0[3]:case3[3],case0[4]:case3[4]},\n",
    "{case0[0]:case4[0],case0[1]:case4[1],case0[2]:case4[2],case0[3]:case4[3],case0[4]:case4[4]},\n",
    "{case0[0]:case5[0],case0[1]:case5[1],case0[2]:case5[2],case0[3]:case5[3],case0[4]:case5[4]}\n",
    "]\n",
    "print(list3)"
   ]
  },
  {
   "cell_type": "code",
   "execution_count": null,
   "metadata": {},
   "outputs": [],
   "source": []
  },
  {
   "cell_type": "code",
   "execution_count": 3,
   "metadata": {},
   "outputs": [
    {
     "data": {
      "text/plain": [
       "range(0, 10)"
      ]
     },
     "execution_count": 3,
     "metadata": {},
     "output_type": "execute_result"
    }
   ],
   "source": [
    "a = range(10)\n",
    "a"
   ]
  },
  {
   "cell_type": "code",
   "execution_count": null,
   "metadata": {},
   "outputs": [],
   "source": []
  }
 ],
 "metadata": {
  "kernelspec": {
   "display_name": "Python 3.8.6 ('tensorflow2')",
   "language": "python",
   "name": "python3"
  },
  "language_info": {
   "codemirror_mode": {
    "name": "ipython",
    "version": 3
   },
   "file_extension": ".py",
   "mimetype": "text/x-python",
   "name": "python",
   "nbconvert_exporter": "python",
   "pygments_lexer": "ipython3",
   "version": "3.8.6"
  },
  "orig_nbformat": 4,
  "vscode": {
   "interpreter": {
    "hash": "85c51a4259275393737ca8d3e0cd6fa489554cf4913552085d5553b62ac22de5"
   }
  }
 },
 "nbformat": 4,
 "nbformat_minor": 2
}
