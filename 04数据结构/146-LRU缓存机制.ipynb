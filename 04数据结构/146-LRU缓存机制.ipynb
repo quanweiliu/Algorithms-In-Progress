{
 "cells": [
  {
   "cell_type": "markdown",
   "metadata": {},
   "source": [
    "# 没有写出来。。。"
   ]
  },
  {
   "cell_type": "markdown",
   "metadata": {},
   "source": []
  },
  {
   "cell_type": "markdown",
   "metadata": {},
   "source": []
  },
  {
   "cell_type": "markdown",
   "metadata": {},
   "source": [
    "# Least Recently Used\n",
    "- LRU 算法设计\n",
    "\n",
    "    - 1、显然 cache 中的元素必须有时序，以区分最近使用的和久未使用的数据，当容量满了之后要删除最久未使用的那个元素- 腾位置。\n",
    "    - 2、我们要在 cache 中快速找某个 key 是否已存在并得到对应的 val；\n",
    "    - 3、每次访问 cache 中的某个 key，需要将这个元素变为最近使用的，也就是说 cache 要支持在任意位置快速插入和删除元素。\n",
    "- 哈希链表 LinkedHashMap"
   ]
  },
  {
   "cell_type": "code",
   "execution_count": 9,
   "metadata": {},
   "outputs": [],
   "source": [
    "class Node():\n",
    "    def __init__(self, key, val, prev=None, next=None):\n",
    "        self.key = key\n",
    "        self.val = val\n",
    "        self.prev = prev\n",
    "        self.next = next\n",
    "oneH = Node(100, 100)\n",
    "twoH = Node(11, 11)"
   ]
  },
  {
   "cell_type": "code",
   "execution_count": 10,
   "metadata": {},
   "outputs": [],
   "source": [
    "class DoubleList():\n",
    "    def __init__(self, tail=None, head=None):\n",
    "        self.size = 0\n",
    "        self.tail = tail\n",
    "        self.head = head\n",
    "\n",
    "    # def __init__(self):\n",
    "    #     self.size = 0\n",
    "    #     # self.tail = tail\n",
    "    #     # self.head = head\n",
    "\n",
    "    def DoubleList(self):\n",
    "        # 初始化双向链表的数据\n",
    "        # 这两个值，分别是头前面的，尾后面的？\n",
    "        self.head = Node(0, 0)\n",
    "        self.tail = Node(10, 0)\n",
    "        self.head.next = self.tail\n",
    "        self.tail.prev = self.head\n",
    "        size = self.size\n",
    "\n",
    "    # 在链表尾部添加节点 x，时间 O(1)\n",
    "    # 注意我们实现的双链表 API 只能从尾部插入\n",
    "    def addLast(self, x,):\n",
    "        x.prev = self.tail.prev\n",
    "        x.next = self.tail\n",
    "        self.tail.prev.next = x\n",
    "        self.tail.prev = x\n",
    "        self.size += 1\n",
    "\n",
    "    # 删除链表中的 x 节点（x 一定存在）\n",
    "    # 由于是双链表且给的是目标 Node 节点，时间 O(1)\n",
    "    def remove(self, x):\n",
    "         x.prev.next = x.next\n",
    "         x.next.prev = x.prev\n",
    "         self.size -= 1\n",
    "\n",
    "    # 删除链表中第一个节点，并返回该节点，时间 O(1)\n",
    "    def removeFirst(self):\n",
    "        if (self.head.next == self.tail):\n",
    "            return None\n",
    "        first = self.head.next\n",
    "        self.remove(first)\n",
    "        return first\n",
    "\n",
    "    # 返回链表长度，时间 O(1)\n",
    "    def sizeC(self,):\n",
    "        return self.size"
   ]
  },
  {
   "cell_type": "code",
   "execution_count": 11,
   "metadata": {},
   "outputs": [],
   "source": [
    "# s = DoubleList()\n",
    "# s.DoubleList()"
   ]
  },
  {
   "cell_type": "code",
   "execution_count": 12,
   "metadata": {},
   "outputs": [],
   "source": [
    "# s.addLast(oneH)\n",
    "# s.addLast(twoH)\n",
    "# print(s.sizeC())\n",
    "# s.remove(oneH)\n",
    "# print(s.sizeC())\n",
    "# s.removeFirst()"
   ]
  },
  {
   "cell_type": "code",
   "execution_count": 13,
   "metadata": {},
   "outputs": [],
   "source": [
    "# while s.head:\n",
    "#     print(s.head.val)\n",
    "#     s.head = s.head.next"
   ]
  },
  {
   "cell_type": "markdown",
   "metadata": {},
   "source": [
    "有了双向链表的实现，我们只需要在 LRU 算法中把它和哈希表结合起来即可"
   ]
  },
  {
   "cell_type": "code",
   "execution_count": 17,
   "metadata": {},
   "outputs": [],
   "source": [
    "class LRUCache():\n",
    "    def __init__(self, cache=None, map=None, cap=None, capacity=None):\n",
    "        self.cache = DoubleList()\n",
    "        self.map = {}\n",
    "        self.cap = 0\n",
    "        self.capacity = 0\n",
    "\n",
    "    # 将某个 key 提升为最近使用的\n",
    "    def makeRecently(self, key):\n",
    "        x = self.map.get(key)\n",
    "        # 先从链表中删除这个节点\n",
    "        self.cache.remove(x)\n",
    "        # 重新插到队尾\n",
    "        self.cache.addLast(x)\n",
    "\n",
    "    # 添加最近使用的元素 \n",
    "    def addRecently(self, key, val):\n",
    "        x = Node(key, val)\n",
    "        # 链表尾部就是最近使用的元素\n",
    "        self.cache.addLast(x)\n",
    "        # map.add(key, x)\n",
    "        # 别忘了在 map 中添加 key 的映射\n",
    "        self.map[key] =  x\n",
    "\n",
    "    # 删除某一个 key\n",
    "    def deleteKey(self, key):\n",
    "        x = self.map.get(key)\n",
    "        # 从链表中删除\n",
    "        self.cache.remove(x)\n",
    "        # 从 map 中删除\n",
    "        self.map(key)\n",
    "    \n",
    "    # 删除最久未使用的元素\n",
    "    def removeLeastRecently(self, ):\n",
    "        # 链表头部的第一个元素就是最久未使用的\n",
    "        deletedNode = self.cache.removeFirst()\n",
    "        # 同时别忘了从 map 中删除它的 key\n",
    "        deletedKey = deletedNode.key\n",
    "        self.map.remove(deletedKey)\n",
    "\n",
    "    def get(self, key):\n",
    "        if (not self.map.__contains__(key)):\n",
    "            return -1\n",
    "            # 将该数据提升为最近使用的\n",
    "        self.makeRecently(key)\n",
    "        return self.map.get(key).val \n",
    "    \n",
    "    def put(self, key, val):\n",
    "        if self.map.__contains__(key):\n",
    "            # 删除旧的数据\n",
    "            self.deleteKey(key)\n",
    "            # 新插入的数据为最近使用的数据\n",
    "            self.addRecently(key, val)\n",
    "            return\n",
    "        \n",
    "        # if self.cap == self.cache.sizeC():\n",
    "        #     #  删除最久未使用的元素\n",
    "        #     self.removeLeastRecently()\n",
    "\n",
    "        # 添加为最近使用的元素\n",
    "        self.addRecently(key,val)\n"
   ]
  },
  {
   "cell_type": "code",
   "execution_count": 18,
   "metadata": {},
   "outputs": [],
   "source": [
    "lRUCache = LRUCache()\n",
    "# LRUCache([\"LRUCache\", \"put\", \"put\", \"get\", \"put\", \"get\", \"put\", \"get\", \"get\", \"get\"])\n",
    "# LRUCache([[2], [1, 1], [2, 2], [1], [3, 3], [2], [4, 4], [1], [3], [4]])"
   ]
  },
  {
   "cell_type": "code",
   "execution_count": 19,
   "metadata": {},
   "outputs": [
    {
     "ename": "AttributeError",
     "evalue": "'NoneType' object has no attribute 'prev'",
     "output_type": "error",
     "traceback": [
      "\u001b[1;31m---------------------------------------------------------------------------\u001b[0m",
      "\u001b[1;31mAttributeError\u001b[0m                            Traceback (most recent call last)",
      "\u001b[1;32m<ipython-input-19-9facca1b13f1>\u001b[0m in \u001b[0;36m<module>\u001b[1;34m\u001b[0m\n\u001b[1;32m----> 1\u001b[1;33m \u001b[0mlRUCache\u001b[0m\u001b[1;33m.\u001b[0m\u001b[0mput\u001b[0m\u001b[1;33m(\u001b[0m\u001b[1;36m1\u001b[0m\u001b[1;33m,\u001b[0m\u001b[1;36m1\u001b[0m\u001b[1;33m)\u001b[0m\u001b[1;33m\u001b[0m\u001b[1;33m\u001b[0m\u001b[0m\n\u001b[0m",
      "\u001b[1;32m<ipython-input-17-595d823cebe8>\u001b[0m in \u001b[0;36mput\u001b[1;34m(self, key, val)\u001b[0m\n\u001b[0;32m     59\u001b[0m \u001b[1;33m\u001b[0m\u001b[0m\n\u001b[0;32m     60\u001b[0m         \u001b[1;31m# 添加为最近使用的元素\u001b[0m\u001b[1;33m\u001b[0m\u001b[1;33m\u001b[0m\u001b[1;33m\u001b[0m\u001b[0m\n\u001b[1;32m---> 61\u001b[1;33m         \u001b[0mself\u001b[0m\u001b[1;33m.\u001b[0m\u001b[0maddRecently\u001b[0m\u001b[1;33m(\u001b[0m\u001b[0mkey\u001b[0m\u001b[1;33m,\u001b[0m\u001b[0mval\u001b[0m\u001b[1;33m)\u001b[0m\u001b[1;33m\u001b[0m\u001b[1;33m\u001b[0m\u001b[0m\n\u001b[0m",
      "\u001b[1;32m<ipython-input-17-595d823cebe8>\u001b[0m in \u001b[0;36maddRecently\u001b[1;34m(self, key, val)\u001b[0m\n\u001b[0;32m     18\u001b[0m         \u001b[0mx\u001b[0m \u001b[1;33m=\u001b[0m \u001b[0mNode\u001b[0m\u001b[1;33m(\u001b[0m\u001b[0mkey\u001b[0m\u001b[1;33m,\u001b[0m \u001b[0mval\u001b[0m\u001b[1;33m)\u001b[0m\u001b[1;33m\u001b[0m\u001b[1;33m\u001b[0m\u001b[0m\n\u001b[0;32m     19\u001b[0m         \u001b[1;31m# 链表尾部就是最近使用的元素\u001b[0m\u001b[1;33m\u001b[0m\u001b[1;33m\u001b[0m\u001b[1;33m\u001b[0m\u001b[0m\n\u001b[1;32m---> 20\u001b[1;33m         \u001b[0mself\u001b[0m\u001b[1;33m.\u001b[0m\u001b[0mcache\u001b[0m\u001b[1;33m.\u001b[0m\u001b[0maddLast\u001b[0m\u001b[1;33m(\u001b[0m\u001b[0mx\u001b[0m\u001b[1;33m)\u001b[0m\u001b[1;33m\u001b[0m\u001b[1;33m\u001b[0m\u001b[0m\n\u001b[0m\u001b[0;32m     21\u001b[0m         \u001b[1;31m# map.add(key, x)\u001b[0m\u001b[1;33m\u001b[0m\u001b[1;33m\u001b[0m\u001b[1;33m\u001b[0m\u001b[0m\n\u001b[0;32m     22\u001b[0m         \u001b[1;31m# 别忘了在 map 中添加 key 的映射\u001b[0m\u001b[1;33m\u001b[0m\u001b[1;33m\u001b[0m\u001b[1;33m\u001b[0m\u001b[0m\n",
      "\u001b[1;32m<ipython-input-10-98ed0eb443d2>\u001b[0m in \u001b[0;36maddLast\u001b[1;34m(self, x)\u001b[0m\n\u001b[0;32m     22\u001b[0m     \u001b[1;31m# 注意我们实现的双链表 API 只能从尾部插入\u001b[0m\u001b[1;33m\u001b[0m\u001b[1;33m\u001b[0m\u001b[1;33m\u001b[0m\u001b[0m\n\u001b[0;32m     23\u001b[0m     \u001b[1;32mdef\u001b[0m \u001b[0maddLast\u001b[0m\u001b[1;33m(\u001b[0m\u001b[0mself\u001b[0m\u001b[1;33m,\u001b[0m \u001b[0mx\u001b[0m\u001b[1;33m,\u001b[0m\u001b[1;33m)\u001b[0m\u001b[1;33m:\u001b[0m\u001b[1;33m\u001b[0m\u001b[1;33m\u001b[0m\u001b[0m\n\u001b[1;32m---> 24\u001b[1;33m         \u001b[0mx\u001b[0m\u001b[1;33m.\u001b[0m\u001b[0mprev\u001b[0m \u001b[1;33m=\u001b[0m \u001b[0mself\u001b[0m\u001b[1;33m.\u001b[0m\u001b[0mtail\u001b[0m\u001b[1;33m.\u001b[0m\u001b[0mprev\u001b[0m\u001b[1;33m\u001b[0m\u001b[1;33m\u001b[0m\u001b[0m\n\u001b[0m\u001b[0;32m     25\u001b[0m         \u001b[0mx\u001b[0m\u001b[1;33m.\u001b[0m\u001b[0mnext\u001b[0m \u001b[1;33m=\u001b[0m \u001b[0mself\u001b[0m\u001b[1;33m.\u001b[0m\u001b[0mtail\u001b[0m\u001b[1;33m\u001b[0m\u001b[1;33m\u001b[0m\u001b[0m\n\u001b[0;32m     26\u001b[0m         \u001b[0mself\u001b[0m\u001b[1;33m.\u001b[0m\u001b[0mtail\u001b[0m\u001b[1;33m.\u001b[0m\u001b[0mprev\u001b[0m\u001b[1;33m.\u001b[0m\u001b[0mnext\u001b[0m \u001b[1;33m=\u001b[0m \u001b[0mx\u001b[0m\u001b[1;33m\u001b[0m\u001b[1;33m\u001b[0m\u001b[0m\n",
      "\u001b[1;31mAttributeError\u001b[0m: 'NoneType' object has no attribute 'prev'"
     ]
    }
   ],
   "source": [
    "lRUCache.put(1,1)"
   ]
  },
  {
   "cell_type": "code",
   "execution_count": null,
   "metadata": {},
   "outputs": [],
   "source": []
  }
 ],
 "metadata": {
  "interpreter": {
   "hash": "9ecbc95d31df1b277e5ec566a835865c3a9a253da4266404bdbc6ee7e31406f4"
  },
  "kernelspec": {
   "display_name": "Python 3.8.6 ('tensorflow2')",
   "language": "python",
   "name": "python3"
  },
  "language_info": {
   "codemirror_mode": {
    "name": "ipython",
    "version": 3
   },
   "file_extension": ".py",
   "mimetype": "text/x-python",
   "name": "python",
   "nbconvert_exporter": "python",
   "pygments_lexer": "ipython3",
   "version": "3.8.6"
  },
  "orig_nbformat": 4
 },
 "nbformat": 4,
 "nbformat_minor": 2
}
