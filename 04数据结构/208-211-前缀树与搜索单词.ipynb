{
 "cells": [
  {
   "cell_type": "markdown",
   "metadata": {},
   "source": [
    "# 208Tire\n",
    "- Trie 树又叫字典树、前缀树、单词查找树，是一种二叉树衍生出来的高级数据结构，主要应用场景是处理字符串前缀相关的操作。\n",
    "\n",
    "- 前文“学习数据结构的框架思维”说过，各种乱七八糟的结构都是为了在「特定场景」下尽可能高效地进行增删查改。\n",
    "- TrieMap也是类似的，由于 Trie 树原理，我们要求TrieMap <V> 的键必须是字符串类型，值的类型V可以随意。\n",
    "\n",
    "\n",
    "- 链接：https://leetcode.cn/problems/implement-trie-prefix-tree/solution/shi-xian-trie-qian-zhui-shu-by-leetcode-ti500/\n",
    "- 构造数据结构的题，我现在要求我看懂即可，就不一点点从头写了。\n",
    "- 好难，好绝望！"
   ]
  },
  {
   "cell_type": "code",
   "execution_count": null,
   "metadata": {},
   "outputs": [],
   "source": [
    "ord(\"a\")"
   ]
  },
  {
   "cell_type": "code",
   "execution_count": 6,
   "metadata": {},
   "outputs": [],
   "source": [
    "class Trie:\n",
    "    def __init__(self):\n",
    "        self.children = [None] * 26\n",
    "        self.isEnd = False\n",
    "    \n",
    "    def searchPrefix(self, prefix: str) -> \"Trie\":\n",
    "        node = self\n",
    "        for ch in prefix:\n",
    "            ch = ord(ch) - ord(\"a\")\n",
    "            if not node.children[ch]:\n",
    "                return None\n",
    "            node = node.children[ch]\n",
    "        return node\n",
    "\n",
    "    def insert(self, word: str) -> None:\n",
    "        # 标记 Trie 的头\n",
    "        node = self\n",
    "        \n",
    "        for ch in word:\n",
    "            ch = ord(ch) - ord(\"a\")\n",
    "            # print(node.children[ch])\n",
    "            if not node.children[ch]:\n",
    "                # 这一行有什么意思？一个 children 又生出 好多 children\n",
    "                node.children[ch] = Trie()\n",
    "\n",
    "            # 把这个childre 有数字的给 node，实现了插入\n",
    "            node = node.children[ch]\n",
    "        node.isEnd = True\n",
    "\n",
    "    def search(self, word: str) -> bool:\n",
    "        node = self.searchPrefix(word)\n",
    "        return node is not None and node.isEnd\n",
    "\n",
    "    def startsWith(self, prefix: str) -> bool:\n",
    "        return self.searchPrefix(prefix) is not None"
   ]
  },
  {
   "cell_type": "code",
   "execution_count": 7,
   "metadata": {},
   "outputs": [
    {
     "data": {
      "text/plain": [
       "(False, True)"
      ]
     },
     "execution_count": 7,
     "metadata": {},
     "output_type": "execute_result"
    }
   ],
   "source": [
    "s = Trie()\n",
    "s.insert(\"apple\")\n",
    "s.search(\"app\"), s.search(\"apple\")"
   ]
  },
  {
   "cell_type": "code",
   "execution_count": null,
   "metadata": {},
   "outputs": [],
   "source": []
  },
  {
   "cell_type": "code",
   "execution_count": null,
   "metadata": {},
   "outputs": [],
   "source": [
    "# 语法知识\n",
    "class preFix():\n",
    "    def __init__(self):\n",
    "        self.a = 0\n",
    "\n",
    "    def Sel(self, a, b):\n",
    "        sum = a + b\n",
    "        return sum\n",
    "        \n",
    "    def SelT(self):\n",
    "        b = self\n",
    "        return b.a\n",
    "\n",
    "s = preFix()\n",
    "s.Sel(1, 2), s.SelT()"
   ]
  },
  {
   "cell_type": "code",
   "execution_count": 43,
   "metadata": {},
   "outputs": [
    {
     "name": "stdout",
     "output_type": "stream",
     "text": [
      "[None, None, None, None, None, None, None, None, None, None, None, None, None, None, None, None, None, None, None, None, None, None, None, None, None, None]\n"
     ]
    }
   ],
   "source": [
    "# 语法知识\n",
    "class Trie:\n",
    "    def __init__(self):\n",
    "        self.children = [None] * 26\n",
    "        self.isEnd = False\n",
    "\n",
    "node = Trie()\n",
    "print(node.children)"
   ]
  },
  {
   "cell_type": "code",
   "execution_count": 45,
   "metadata": {},
   "outputs": [
    {
     "name": "stdout",
     "output_type": "stream",
     "text": [
      "[None, None, None, None, None, None, None, None, None, None, None, None, None, None, None, None, None, None, None, None, None, None, None, None, None, None]\n"
     ]
    }
   ],
   "source": [
    "node.children[1] = Trie()\n",
    "print(node.children[1].children)"
   ]
  },
  {
   "cell_type": "code",
   "execution_count": null,
   "metadata": {},
   "outputs": [],
   "source": []
  },
  {
   "cell_type": "code",
   "execution_count": null,
   "metadata": {},
   "outputs": [],
   "source": [
    "class Node:\n",
    "    def __init__(self):\n",
    "        self.child = [None for _ in range(26)]\n",
    "        self.isEnd = False\n",
    "    \n",
    "    def contain_key(self,ch):\n",
    "        return self.child[ord(ch)-ord('a')]\n",
    "    \n",
    "    def get(self,ch):\n",
    "        return self.child[ord(ch)-ord('a')]\n",
    "    \n",
    "    def put(self,ch):\n",
    "        self.child[ord(ch)-ord('a')] = Node()"
   ]
  },
  {
   "cell_type": "code",
   "execution_count": null,
   "metadata": {},
   "outputs": [],
   "source": [
    "class Trie:\n",
    "    def __init__(self):\n",
    "        \"\"\"\n",
    "        Initialize your data structure here.\n",
    "        \"\"\"\n",
    "        self.root = Node()\n",
    "           \n",
    "    def insert(self, word: str) -> None:\n",
    "        \"\"\"\n",
    "        Inserts a word into the trie.\n",
    "        \"\"\"\n",
    "        p = self.root\n",
    "        for i in word:\n",
    "            if not p.contain_key(i):\n",
    "                p.put(i)\n",
    "            p = p.get(i)\n",
    "        p.isEnd = True\n",
    "\n",
    "    def search(self, word: str) -> bool:\n",
    "        \"\"\"\n",
    "        Returns if the word is in the trie.\n",
    "        \"\"\"\n",
    "        p = self.root\n",
    "        for i in word:\n",
    "            if not p.contain_key(i):\n",
    "                return False\n",
    "            else:\n",
    "                p = p.get(i)\n",
    "        return p.isEnd\n",
    "\n",
    "    def startsWith(self, prefix: str) -> bool:\n",
    "        \"\"\"\n",
    "        Returns if there is any word in the trie that \n",
    "        starts with the given prefix.\n",
    "        \"\"\"\n",
    "        p = self.root\n",
    "        for i in prefix:\n",
    "            if not p.contain_key(i):\n",
    "                return False\n",
    "            else:\n",
    "                p = p.get(i)\n",
    "        return True\n",
    "\n",
    "\n",
    "# Your Trie object will be instantiated and called as such:\n",
    "# obj = Trie()\n",
    "# obj.insert(word)\n",
    "# param_2 = obj.search(word)\n",
    "# param_3 = obj.startsWith(prefix)"
   ]
  },
  {
   "cell_type": "markdown",
   "metadata": {},
   "source": [
    "# 211添加与搜索单词"
   ]
  },
  {
   "cell_type": "code",
   "execution_count": null,
   "metadata": {},
   "outputs": [],
   "source": [
    "class WordDictionary:\n",
    "    def __init__(self):\n",
    "        self.children = [None]*27\n",
    "\n",
    "    def addWord(self, word: str) -> None:\n",
    "        node = self\n",
    "        for ch in word:\n",
    "            ch = ord(ch) - ord(\"a\")\n",
    "            if not node.children[ch]:\n",
    "                node.children[ch] = WordDictionary()\n",
    "            node = node.children[ch]\n",
    "\n",
    "    def search(self, word: str) -> bool:\n",
    "        node = self"
   ]
  },
  {
   "cell_type": "code",
   "execution_count": 38,
   "metadata": {},
   "outputs": [],
   "source": [
    "class TrieNode:\n",
    "    def __init__(self):\n",
    "        self.children = [None] * 26\n",
    "        self.isEnd = False\n",
    "\n",
    "    def insert(self, word: str) -> None:\n",
    "        node = self\n",
    "        for ch in word:\n",
    "            ch = ord(ch) - ord('a')\n",
    "            if not node.children[ch]:\n",
    "                node.children[ch] = TrieNode()\n",
    "            node = node.children[ch]\n",
    "        node.isEnd = True\n",
    "\n",
    "class WordDictionary:\n",
    "    def __init__(self):\n",
    "        self.trieRoot = TrieNode()\n",
    "\n",
    "    def addWord(self, word: str) -> None:\n",
    "        self.trieRoot.insert(word)\n",
    "\n",
    "    def search(self, word: str) -> bool:\n",
    "        # 递归。。。。\n",
    "        def dfs(index: int, node: TrieNode) -> bool:\n",
    "            if index == len(word):\n",
    "                return node.isEnd\n",
    "            ch = word[index]\n",
    "            if ch != '.':\n",
    "                child = node.children[ord(ch) - ord('a')]\n",
    "                if child is not None and dfs(index + 1, child):\n",
    "                    return True\n",
    "            else:\n",
    "                for child in node.children:\n",
    "                    if child is not None and dfs(index + 1, child):\n",
    "                        return True\n",
    "            return False\n",
    "\n",
    "        return dfs(0, self.trieRoot)\n",
    "\n",
    "# 链接：https://leetcode.cn/problems/design-add-and-search-words-data-structure/solution/tian-jia-yu-sou-suo-dan-ci-shu-ju-jie-go-n4ud/"
   ]
  },
  {
   "cell_type": "code",
   "execution_count": 39,
   "metadata": {},
   "outputs": [
    {
     "name": "stdout",
     "output_type": "stream",
     "text": [
      "ch .\n",
      "None\n",
      "ch a\n",
      "None\n"
     ]
    },
    {
     "data": {
      "text/plain": [
       "False"
      ]
     },
     "execution_count": 39,
     "metadata": {},
     "output_type": "execute_result"
    }
   ],
   "source": [
    "obj = WordDictionary()\n",
    "obj.addWord(\"bad\")\n",
    "param_2 = obj.search(\".ad\")\n",
    "param_2"
   ]
  },
  {
   "cell_type": "code",
   "execution_count": 30,
   "metadata": {},
   "outputs": [
    {
     "name": "stdout",
     "output_type": "stream",
     "text": [
      "True\n"
     ]
    }
   ],
   "source": [
    "print(not None)"
   ]
  },
  {
   "cell_type": "code",
   "execution_count": 18,
   "metadata": {},
   "outputs": [
    {
     "data": {
      "text/plain": [
       "[None,\n",
       " <__main__.WordDictionary at 0x1cdade05c70>,\n",
       " None,\n",
       " None,\n",
       " None,\n",
       " None,\n",
       " None,\n",
       " None,\n",
       " None,\n",
       " None,\n",
       " None,\n",
       " None,\n",
       " None,\n",
       " None,\n",
       " None,\n",
       " None,\n",
       " None,\n",
       " None,\n",
       " None,\n",
       " None,\n",
       " None,\n",
       " None,\n",
       " None,\n",
       " None,\n",
       " None,\n",
       " None]"
      ]
     },
     "execution_count": 18,
     "metadata": {},
     "output_type": "execute_result"
    }
   ],
   "source": [
    "obj = WordDictionary()\n",
    "obj.addWord(\"bad\")\n",
    "obj.children"
   ]
  },
  {
   "cell_type": "code",
   "execution_count": null,
   "metadata": {},
   "outputs": [],
   "source": []
  }
 ],
 "metadata": {
  "interpreter": {
   "hash": "f28104d83f364164a14023df7a8da16cfc0355892cfe84fa9cb246c3ca2d1159"
  },
  "kernelspec": {
   "display_name": "Python 3.8.5 ('pytorch')",
   "language": "python",
   "name": "python3"
  },
  "language_info": {
   "codemirror_mode": {
    "name": "ipython",
    "version": 3
   },
   "file_extension": ".py",
   "mimetype": "text/x-python",
   "name": "python",
   "nbconvert_exporter": "python",
   "pygments_lexer": "ipython3",
   "version": "3.8.5"
  },
  "orig_nbformat": 4
 },
 "nbformat": 4,
 "nbformat_minor": 2
}
