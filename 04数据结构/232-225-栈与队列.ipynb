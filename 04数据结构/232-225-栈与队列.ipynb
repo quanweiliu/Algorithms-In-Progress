{
 "cells": [
  {
   "cell_type": "markdown",
   "metadata": {},
   "source": [
    "# 我可能需要重新做\n",
    "- 没有完全按照要求做\n",
    "- 这两个题目很别扭，算了吧"
   ]
  },
  {
   "cell_type": "markdown",
   "metadata": {},
   "source": [
    "## 232. 用栈实现队列"
   ]
  },
  {
   "cell_type": "code",
   "execution_count": 13,
   "metadata": {},
   "outputs": [],
   "source": [
    "# 先进先出\n",
    "class MyQueue:\n",
    "    def __init__(self):\n",
    "        self.ls = []\n",
    "\n",
    "    def push(self, x: int) -> None:\n",
    "        # 从尾端插入是不合法的\n",
    "        # self.ls.append(x)\n",
    "        self.ls.insert(0, x)\n",
    "\n",
    "    def pop(self) -> int:\n",
    "        # 从头取出，是合法的\n",
    "        return self.ls.pop()\n",
    "\n",
    "    def peek(self) -> int:\n",
    "        return self.ls[-1]\n",
    "\n",
    "\n",
    "    def empty(self) -> bool:\n",
    "        if len(self.ls) == 0:\n",
    "            return True\n",
    "        return False"
   ]
  },
  {
   "cell_type": "code",
   "execution_count": 14,
   "metadata": {},
   "outputs": [
    {
     "data": {
      "text/plain": [
       "[2, 1, 0]"
      ]
     },
     "execution_count": 14,
     "metadata": {},
     "output_type": "execute_result"
    }
   ],
   "source": [
    "s  = MyQueue()\n",
    "s.push(0)\n",
    "s.push(1)\n",
    "s.push(2)\n",
    "s.ls"
   ]
  },
  {
   "cell_type": "code",
   "execution_count": null,
   "metadata": {},
   "outputs": [],
   "source": []
  },
  {
   "cell_type": "markdown",
   "metadata": {},
   "source": [
    "## 225. 用队列实现栈"
   ]
  },
  {
   "cell_type": "code",
   "execution_count": 15,
   "metadata": {},
   "outputs": [],
   "source": [
    "# 先进后出\n",
    "class MyStack:\n",
    "\n",
    "    def __init__(self):\n",
    "        self.ls = []\n",
    "\n",
    "    def push(self, x: int) -> None:\n",
    "        self.ls.append(x)\n",
    "        \n",
    "    def pop(self) -> int:\n",
    "        return self.ls.pop()\n",
    "\n",
    "    def top(self) -> int:\n",
    "        return self.ls[0]\n",
    "\n",
    "    def empty(self) -> bool:\n",
    "        if len(self.ls) == 0:\n",
    "            return True\n",
    "        return False"
   ]
  },
  {
   "cell_type": "code",
   "execution_count": 16,
   "metadata": {},
   "outputs": [
    {
     "data": {
      "text/plain": [
       "[1, 2]"
      ]
     },
     "execution_count": 16,
     "metadata": {},
     "output_type": "execute_result"
    }
   ],
   "source": [
    "s  = MyStack()\n",
    "s.push(1)\n",
    "s.push(2)\n",
    "s.top()\n",
    "s.ls"
   ]
  },
  {
   "cell_type": "code",
   "execution_count": null,
   "metadata": {},
   "outputs": [],
   "source": [
    "import collections\n",
    "class MyStack:\n",
    "    def __init__(self):\n",
    "        self.queue1 = collections.deque()\n",
    "        self.queue2 = collections.deque()\n",
    "\n",
    "    def push(self, x: int) -> None:\n",
    "        self.queue2.append(x)\n",
    "        while self.queue1:\n",
    "            self.queue2.append(self.queue1.popleft())\n",
    "        self.queue1, self.queue2 = self.queue2, self.queue1\n",
    "\n",
    "    def pop(self) -> int:\n",
    "        return self.queue1.popleft()\n",
    "\n",
    "    def top(self) -> int:\n",
    "        return self.queue1[0]\n",
    "\n",
    "    def empty(self) -> bool:\n",
    "        return not self.queue1\n",
    "\n",
    "# 链接：https://leetcode-cn.com/problems/implement-stack-using-queues/solution/wu-tu-guan-fang-tui-jian-ti-jie-yong-dui-63d4/"
   ]
  },
  {
   "cell_type": "code",
   "execution_count": 21,
   "metadata": {},
   "outputs": [
    {
     "data": {
      "text/plain": [
       "True"
      ]
     },
     "execution_count": 21,
     "metadata": {},
     "output_type": "execute_result"
    }
   ],
   "source": [
    "ls = [1,2,3]\n",
    "bool(ls)"
   ]
  },
  {
   "cell_type": "markdown",
   "metadata": {},
   "source": [
    "# 吐槽\n",
    "- 我怎么感觉两个队列的要难理解，命名多此一举，用一个队列就可以解决的事啊"
   ]
  }
 ],
 "metadata": {
  "interpreter": {
   "hash": "9ecbc95d31df1b277e5ec566a835865c3a9a253da4266404bdbc6ee7e31406f4"
  },
  "kernelspec": {
   "display_name": "Python 3.8.6 ('tensorflow2')",
   "language": "python",
   "name": "python3"
  },
  "language_info": {
   "codemirror_mode": {
    "name": "ipython",
    "version": 3
   },
   "file_extension": ".py",
   "mimetype": "text/x-python",
   "name": "python",
   "nbconvert_exporter": "python",
   "pygments_lexer": "ipython3",
   "version": "3.8.6"
  },
  "orig_nbformat": 4
 },
 "nbformat": 4,
 "nbformat_minor": 2
}
