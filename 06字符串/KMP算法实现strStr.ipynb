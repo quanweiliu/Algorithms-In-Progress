{
 "cells": [
  {
   "cell_type": "markdown",
   "metadata": {},
   "source": [
    "# KMP 算法解决问题：\n",
    "- 现在有两个字符串A和B，问你在A中是否有B，**有几个？**。复杂度O(N)。\n",
    "- 左程云说他自己讲 KMP 全网第一。\n",
    "\n",
    "- 前缀,又是前缀\n",
    "- 但是我感觉[这个写的非常好](https://blog.csdn.net/weixin_52622200/article/details/110563434),最重要的一句话:利用已经部分匹配这个有效信息，保持i指针不回溯，通过修改j指针，让模式串尽量地移动到有效的位置。"
   ]
  },
  {
   "cell_type": "code",
   "execution_count": 30,
   "metadata": {},
   "outputs": [],
   "source": [
    "def getNext(ps):\n",
    "    p = list(ps)\n",
    "    next = [0]*len(p)\n",
    "    # 初始化\n",
    "    next[0] = -1\n",
    "\n",
    "    j = 0\n",
    "\n",
    "    # next[j]的值（也就是k）\n",
    "    k = -1\n",
    "    \n",
    "    while j < len(p) - 1:\n",
    "        if k == -1 or p[j] == p[k]:\n",
    "            j += 1\n",
    "            k += 1\n",
    "            next[j] = k\n",
    "        else:\n",
    "            k = next[k]\n",
    "            \n",
    "        \n",
    "    return next"
   ]
  },
  {
   "cell_type": "code",
   "execution_count": 31,
   "metadata": {},
   "outputs": [],
   "source": [
    "ps = \"SSA\""
   ]
  },
  {
   "cell_type": "code",
   "execution_count": 32,
   "metadata": {},
   "outputs": [
    {
     "data": {
      "text/plain": [
       "[-1, 0, 1]"
      ]
     },
     "execution_count": 32,
     "metadata": {},
     "output_type": "execute_result"
    }
   ],
   "source": [
    "getNext(ps)"
   ]
  },
  {
   "cell_type": "markdown",
   "metadata": {},
   "source": [
    "# KMP"
   ]
  },
  {
   "cell_type": "code",
   "execution_count": 33,
   "metadata": {},
   "outputs": [],
   "source": [
    "def KMP(ts, ps):\n",
    "    t = list(ts)\n",
    "    p = list(ps)\n",
    "\n",
    "    i = 0\n",
    "    j = 0\n",
    "\n",
    "    next = getNext(ps)\n",
    "    while i < len(t) and j < len(p):\n",
    "        if j == -1 or t[i] == p[j]:\n",
    "            i += 1\n",
    "            j += 1\n",
    "        else:\n",
    "            j = next[j]\n",
    "    if j == len(p):\n",
    "        return i - j\n",
    "    else:\n",
    "        return -1"
   ]
  },
  {
   "cell_type": "code",
   "execution_count": 34,
   "metadata": {},
   "outputs": [
    {
     "data": {
      "text/plain": [
       "0"
      ]
     },
     "execution_count": 34,
     "metadata": {},
     "output_type": "execute_result"
    }
   ],
   "source": [
    "# ps = \"SSSSASSSSSSSSA\"\n",
    "# ts = \"SSSSA\"\n",
    "\n",
    "ts = \"SSSSASSSSSSSSA\"\n",
    "ps = \"SSSSA\"\n",
    "KMP(ts, ps)"
   ]
  },
  {
   "cell_type": "markdown",
   "metadata": {},
   "source": [
    "# 改进"
   ]
  },
  {
   "cell_type": "code",
   "execution_count": 35,
   "metadata": {},
   "outputs": [],
   "source": [
    "class Solution:\n",
    "    def strStr(self, haystack: str, needle: str) -> int:\n",
    "        t = list(haystack)\n",
    "        p = list(needle)\n",
    "\n",
    "        i = 0\n",
    "        j = 0\n",
    "\n",
    "        next = self.getNext(needle)\n",
    "        while i < len(t) and j < len(p):\n",
    "            if j == -1 or t[i] == p[j]:\n",
    "                i += 1\n",
    "                j += 1\n",
    "            else:\n",
    "                j = next[j]\n",
    "        if j == len(p):\n",
    "            return i - j\n",
    "        else:\n",
    "            return -1\n",
    "\n",
    "    def getNext(self, ps):\n",
    "        p = list(ps)\n",
    "        next = [0]*len(p)\n",
    "        # 初始化\n",
    "        next[0] = -1\n",
    "\n",
    "        j = 0\n",
    "\n",
    "        # next[j]的值（也就是k）\n",
    "        k = -1\n",
    "        \n",
    "        while j < len(p) - 1:\n",
    "            if k == -1 or p[j] == p[k]:\n",
    "                j += 1\n",
    "                k += 1\n",
    "\n",
    "                # 这一步也好难理解\n",
    "                if p[j] == p[k]:\n",
    "                    next[j] = next[k]\n",
    "                else:\n",
    "                    next[j] = k\n",
    "\n",
    "            else:\n",
    "                k = next[k]\n",
    "        return next"
   ]
  },
  {
   "cell_type": "code",
   "execution_count": 36,
   "metadata": {},
   "outputs": [
    {
     "data": {
      "text/plain": [
       "0"
      ]
     },
     "execution_count": 36,
     "metadata": {},
     "output_type": "execute_result"
    }
   ],
   "source": [
    "s = Solution()\n",
    "ts = \"SSSSASSSSSSSSA\"\n",
    "ps = \"SSSSA\"\n",
    "s.strStr(ts, ps)"
   ]
  },
  {
   "cell_type": "code",
   "execution_count": null,
   "metadata": {},
   "outputs": [],
   "source": []
  }
 ],
 "metadata": {
  "interpreter": {
   "hash": "85c51a4259275393737ca8d3e0cd6fa489554cf4913552085d5553b62ac22de5"
  },
  "kernelspec": {
   "display_name": "Python 3.8.6 ('tensorflow2')",
   "language": "python",
   "name": "python3"
  },
  "language_info": {
   "codemirror_mode": {
    "name": "ipython",
    "version": 3
   },
   "file_extension": ".py",
   "mimetype": "text/x-python",
   "name": "python",
   "nbconvert_exporter": "python",
   "pygments_lexer": "ipython3",
   "version": "3.8.6"
  },
  "orig_nbformat": 4
 },
 "nbformat": 4,
 "nbformat_minor": 2
}
