{
 "cells": [
  {
   "cell_type": "code",
   "execution_count": 52,
   "metadata": {},
   "outputs": [],
   "source": [
    "class Solution:\n",
    "    def longestCommonPrefix(self , strs) -> str:\n",
    "        # write code here\n",
    "        for i in strs:\n",
    "            if len(i) == 0:\n",
    "                return \"\"\n",
    "\n",
    "        if len(strs) == 1:\n",
    "            return strs[0]\n",
    "\n",
    "        if len(strs) == 0:\n",
    "            return \"\"\n",
    "\n",
    "        string = strs[0]\n",
    "\n",
    "        for idx, char in enumerate(string):\n",
    "            # print(idx, char)\n",
    "            for string2 in strs[1:]:\n",
    "                print(idx, char, string[:idx])\n",
    "                if idx+1 == len(string2):\n",
    "                    return string[:idx+1]\n",
    "                if char != string2[idx]:\n",
    "                    return string[:idx]"
   ]
  },
  {
   "cell_type": "code",
   "execution_count": 53,
   "metadata": {},
   "outputs": [
    {
     "name": "stdout",
     "output_type": "stream",
     "text": [
      "0 a \n",
      "0 a \n",
      "0 a \n",
      "0 a \n",
      "1 b a\n",
      "1 b a\n",
      "1 b a\n",
      "1 b a\n",
      "2 c ab\n",
      "0 a \n"
     ]
    },
    {
     "data": {
      "text/plain": [
       "'a'"
      ]
     },
     "execution_count": 53,
     "metadata": {},
     "output_type": "execute_result"
    }
   ],
   "source": [
    "s = Solution()\n",
    "s.longestCommonPrefix([\"abca\",\"abc\",\"abca\",\"abc\",\"abcc\"])\n",
    "s.longestCommonPrefix([\"abc\"])\n",
    "s.longestCommonPrefix([\"\",\"\"])\n",
    "s.longestCommonPrefix([])\n",
    "s.longestCommonPrefix([\"a\",\"b\"])"
   ]
  },
  {
   "cell_type": "code",
   "execution_count": null,
   "metadata": {},
   "outputs": [],
   "source": []
  },
  {
   "cell_type": "code",
   "execution_count": null,
   "metadata": {},
   "outputs": [],
   "source": []
  }
 ],
 "metadata": {
  "kernelspec": {
   "display_name": "Python 3.8.6 ('tensorflow2')",
   "language": "python",
   "name": "python3"
  },
  "language_info": {
   "codemirror_mode": {
    "name": "ipython",
    "version": 3
   },
   "file_extension": ".py",
   "mimetype": "text/x-python",
   "name": "python",
   "nbconvert_exporter": "python",
   "pygments_lexer": "ipython3",
   "version": "3.8.6"
  },
  "orig_nbformat": 4,
  "vscode": {
   "interpreter": {
    "hash": "85c51a4259275393737ca8d3e0cd6fa489554cf4913552085d5553b62ac22de5"
   }
  }
 },
 "nbformat": 4,
 "nbformat_minor": 2
}
