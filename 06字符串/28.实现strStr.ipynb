{
 "cells": [
  {
   "cell_type": "markdown",
   "metadata": {},
   "source": [
    "## 我自己写的代码真的屎一样。\n",
    "- 28实现 strStr()\n",
    "- 思路比较容易，遍历haystack, 找到第一个与 neddle 相同的字母，\n",
    "- 开始逐个与 neddle 对比，碰到不相同的，找下一个与neddle 相同的字母，\n",
    "- 如果对比全部以然满足，则返回上层遍历的输入值，如果没有找到就返回-1\n",
    "\n",
    "- 太多的边界条件!!"
   ]
  },
  {
   "cell_type": "code",
   "execution_count": 131,
   "metadata": {},
   "outputs": [],
   "source": [
    "class Solution:\n",
    "    def strStr(self, haystack: str, needle: str) -> int:\n",
    "        if len(needle) == 0:\n",
    "            return 0\n",
    "            \n",
    "        if len(needle) > len(haystack):\n",
    "            return -1\n",
    "\n",
    "        haystack = list(haystack)\n",
    "        needle = list(needle)\n",
    "\n",
    "        for i in range(len(haystack)):\n",
    "            if i + len(needle) > len(haystack):\n",
    "                print(i + len(needle), len(haystack))\n",
    "                return -1\n",
    "            # print(i)\n",
    "            if haystack[i] == needle[0]:\n",
    "                for j in range(len(needle)):\n",
    "\n",
    "                    if haystack[i+j] != needle[j]:\n",
    "                        break\n",
    "                        \n",
    "                    if j == len(needle)-1:\n",
    "                        return i\n",
    "                        \n",
    "        return -1"
   ]
  },
  {
   "cell_type": "code",
   "execution_count": 134,
   "metadata": {},
   "outputs": [
    {
     "data": {
      "text/plain": [
       "2"
      ]
     },
     "execution_count": 134,
     "metadata": {},
     "output_type": "execute_result"
    }
   ],
   "source": [
    "haystack = \"helll\"\n",
    "needle = \"lll\"\n",
    "\n",
    "# haystack = \"aaaaa\"\n",
    "# needle = \"bba\"\n",
    "\n",
    "# haystack = \"\"\n",
    "# needle = \"\"\n",
    "\n",
    "\n",
    "# haystack = \"a\"\n",
    "# needle = \"a\"\n",
    "\n",
    "# haystack = \"aaa\"\n",
    "# needle = \"aaaa\"\n",
    "\n",
    "# haystack = \"mississippi\"\n",
    "# needle = \"issip\"\n",
    "\n",
    "# haystack = \"mississippi\"\n",
    "# needle = \"sipp\"\n",
    "\n",
    "s = Solution()\n",
    "s.strStr(haystack, needle)"
   ]
  },
  {
   "cell_type": "code",
   "execution_count": 130,
   "metadata": {},
   "outputs": [
    {
     "data": {
      "text/plain": [
       "False"
      ]
     },
     "execution_count": 130,
     "metadata": {},
     "output_type": "execute_result"
    }
   ],
   "source": [
    "needle == None"
   ]
  },
  {
   "cell_type": "code",
   "execution_count": null,
   "metadata": {},
   "outputs": [],
   "source": []
  }
 ],
 "metadata": {
  "interpreter": {
   "hash": "9ecbc95d31df1b277e5ec566a835865c3a9a253da4266404bdbc6ee7e31406f4"
  },
  "kernelspec": {
   "display_name": "Python 3.8.6 ('tensorflow2')",
   "language": "python",
   "name": "python3"
  },
  "language_info": {
   "codemirror_mode": {
    "name": "ipython",
    "version": 3
   },
   "file_extension": ".py",
   "mimetype": "text/x-python",
   "name": "python",
   "nbconvert_exporter": "python",
   "pygments_lexer": "ipython3",
   "version": "3.8.6"
  },
  "orig_nbformat": 4
 },
 "nbformat": 4,
 "nbformat_minor": 2
}
