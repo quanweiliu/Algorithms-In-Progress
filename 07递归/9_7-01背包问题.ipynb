{
 "cells": [
  {
   "cell_type": "markdown",
   "metadata": {},
   "source": [
    "# 如何试？一个一个试。\n",
    "\n",
    "- 尝试的原则：可变参数最简单，可变参数最少\n",
    "- 所以下面的尝试方法一比二好\n",
    "\n",
    "\n",
    "- 代码有 bug， 但是应该怎么改正呢？"
   ]
  },
  {
   "cell_type": "code",
   "execution_count": 21,
   "metadata": {},
   "outputs": [],
   "source": [
    "class Knapsack():\n",
    "\n",
    "    # ############## 尝试方法 1 ######################\n",
    "    # 一个一个从左往右尝试，一号货物要与不要，二号货物要与不要，依次类推\n",
    "    def maxValue1(self, weights, values, bag):\n",
    "        # 尝试到第 i 件货物，开始时是第 0 件\n",
    "        return self.process1(weights, values, i=0, alreadyweight=0, bag=bag)\n",
    "\n",
    "    # 来到第 i 号货，已经有的重量 alreadyweight, 重量永远不要超过 bag\n",
    "    def process1(self, weights, values, i, alreadyweight, bag):\n",
    "        # 超重时，返回的 0 加上当前的value， 还是可能成为最大值，而未被覆盖，然后这个错误的值被逐层返回\n",
    "        # 所以用无穷小，错误值就不会一路返回。\n",
    "        if alreadyweight > bag:\n",
    "            return -float(\"inf\")\n",
    "\n",
    "        # 因为是 i 往后，不是 0 往后\n",
    "        if i == len(weights):\n",
    "            return 0\n",
    "\n",
    "        # 不要第 i 个货物, 要第 i 个货物\n",
    "        return max(self.process1(weights, values, i + 1, alreadyweight, bag),\n",
    "                    values[i] + self.process1(weights, values, i + 1, alreadyweight + weights[i], bag))"
   ]
  },
  {
   "cell_type": "code",
   "execution_count": 22,
   "metadata": {},
   "outputs": [
    {
     "name": "stdout",
     "output_type": "stream",
     "text": [
      "11\n"
     ]
    }
   ],
   "source": [
    "s = Knapsack()\n",
    "weights = [3,5,7,1]\n",
    "values = [9,11,6,2]\n",
    "bag = 5\n",
    "\n",
    "print(s.maxValue1(weights, values, bag))"
   ]
  },
  {
   "cell_type": "code",
   "execution_count": 23,
   "metadata": {},
   "outputs": [],
   "source": [
    "class Knapsack():\n",
    "    # ###################### 尝试方法 2 ######################\n",
    "    def maxValue2(self, weights, values, bag):\n",
    "        return self.process2(weights, values, 0, 0, 0, bag)\n",
    "\n",
    "    def process2(self, weights, values, i, alreadyweight, alreadyValue, bag):\n",
    "        if alreadyweight > bag:\n",
    "            return 0\n",
    "\n",
    "        # 所有的\n",
    "        if i == len(values):\n",
    "            return alreadyValue\n",
    "\n",
    "        return max(self.process2(weights, values, i+1, alreadyweight, alreadyValue, bag),\n",
    "                    self.process2(weights, values, i+1, alreadyweight + weights[i], alreadyValue+values[i], bag))"
   ]
  },
  {
   "cell_type": "code",
   "execution_count": 24,
   "metadata": {},
   "outputs": [
    {
     "name": "stdout",
     "output_type": "stream",
     "text": [
      "11\n"
     ]
    }
   ],
   "source": [
    "s = Knapsack()\n",
    "# ls1 = [3,5,7,1]\n",
    "# ls2 = [9,11,6,2]\n",
    "# bag = 100\n",
    "print(s.maxValue2(weights, values, bag))"
   ]
  },
  {
   "cell_type": "code",
   "execution_count": null,
   "metadata": {},
   "outputs": [],
   "source": []
  }
 ],
 "metadata": {
  "kernelspec": {
   "display_name": "Python 3.8.6 ('tensorflow2')",
   "language": "python",
   "name": "python3"
  },
  "language_info": {
   "codemirror_mode": {
    "name": "ipython",
    "version": 3
   },
   "file_extension": ".py",
   "mimetype": "text/x-python",
   "name": "python",
   "nbconvert_exporter": "python",
   "pygments_lexer": "ipython3",
   "version": "3.8.6"
  },
  "orig_nbformat": 4,
  "vscode": {
   "interpreter": {
    "hash": "85c51a4259275393737ca8d3e0cd6fa489554cf4913552085d5553b62ac22de5"
   }
  }
 },
 "nbformat": 4,
 "nbformat_minor": 2
}
