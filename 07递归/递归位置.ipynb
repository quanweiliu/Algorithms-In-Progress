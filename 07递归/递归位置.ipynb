{
 "cells": [
  {
   "cell_type": "markdown",
   "metadata": {},
   "source": [
    "# 递归\n",
    "递归前和递归后是不一样的。\n",
    "\n",
    "不要认真思考传递的过程，容易晕，认识到这是一个对称的状态，容易用。"
   ]
  },
  {
   "cell_type": "code",
   "execution_count": 5,
   "metadata": {},
   "outputs": [],
   "source": [
    "def recurrent(nums, i):\n",
    "    if i == len(nums):\n",
    "        return print(\"complete\")\n",
    "    \n",
    "    nums[i] +=100\n",
    "    i += 1\n",
    "    print(nums)\n",
    "\n",
    "    recurrent(nums, i)\n",
    "    \n",
    "    i -= 1\n",
    "    nums[i] -=1\n",
    "    print(nums)"
   ]
  },
  {
   "cell_type": "code",
   "execution_count": 6,
   "metadata": {},
   "outputs": [
    {
     "name": "stdout",
     "output_type": "stream",
     "text": [
      "[100, 0, 0, 0, 0]\n",
      "[100, 100, 0, 0, 0]\n",
      "[100, 100, 100, 0, 0]\n",
      "[100, 100, 100, 100, 0]\n",
      "[100, 100, 100, 100, 100]\n",
      "complete\n",
      "[100, 100, 100, 100, 99]\n",
      "[100, 100, 100, 99, 99]\n",
      "[100, 100, 99, 99, 99]\n",
      "[100, 99, 99, 99, 99]\n",
      "[99, 99, 99, 99, 99]\n"
     ]
    }
   ],
   "source": [
    "nums = [0]*5\n",
    "recurrent(nums, 0)"
   ]
  },
  {
   "cell_type": "code",
   "execution_count": null,
   "metadata": {},
   "outputs": [],
   "source": []
  },
  {
   "cell_type": "code",
   "execution_count": null,
   "metadata": {},
   "outputs": [],
   "source": []
  }
 ],
 "metadata": {
  "kernelspec": {
   "display_name": "Python 3.8.6 ('tensorflow2')",
   "language": "python",
   "name": "python3"
  },
  "language_info": {
   "codemirror_mode": {
    "name": "ipython",
    "version": 3
   },
   "file_extension": ".py",
   "mimetype": "text/x-python",
   "name": "python",
   "nbconvert_exporter": "python",
   "pygments_lexer": "ipython3",
   "version": "3.8.6"
  },
  "orig_nbformat": 4,
  "vscode": {
   "interpreter": {
    "hash": "85c51a4259275393737ca8d3e0cd6fa489554cf4913552085d5553b62ac22de5"
   }
  }
 },
 "nbformat": 4,
 "nbformat_minor": 2
}
