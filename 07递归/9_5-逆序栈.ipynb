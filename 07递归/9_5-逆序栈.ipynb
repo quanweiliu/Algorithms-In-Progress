{
 "cells": [
  {
   "cell_type": "markdown",
   "metadata": {},
   "source": [
    "# 递归技法的练习"
   ]
  },
  {
   "cell_type": "code",
   "execution_count": 1,
   "metadata": {},
   "outputs": [],
   "source": [
    "class Solution():\n",
    "    def __init__(self):\n",
    "        self.temp = []\n",
    "\n",
    "    def solution(self, ls):\n",
    "\n",
    "        if len(ls) == 0:\n",
    "            return\n",
    "\n",
    "        val = ls.pop()\n",
    "        self.temp.append(val)\n",
    "        self.solution(ls)\n",
    "        \n",
    "        return self.temp"
   ]
  },
  {
   "cell_type": "code",
   "execution_count": 2,
   "metadata": {},
   "outputs": [
    {
     "data": {
      "text/plain": [
       "[5, 4, 3, 2, 1]"
      ]
     },
     "execution_count": 2,
     "metadata": {},
     "output_type": "execute_result"
    }
   ],
   "source": [
    "ls = [1,2,3,4,5]\n",
    "s = Solution()\n",
    "res = s.solution(ls)\n",
    "res"
   ]
  },
  {
   "cell_type": "code",
   "execution_count": null,
   "metadata": {},
   "outputs": [],
   "source": []
  },
  {
   "cell_type": "markdown",
   "metadata": {},
   "source": [
    "f 函数功能，reverse函数功能\n",
    "```\n",
    "ori middle  end\n",
    "1            3\n",
    "2     1      2\n",
    "3     2      1\n",
    "\n",
    "返回3， 返回逆序\n",
    "```"
   ]
  },
  {
   "cell_type": "code",
   "execution_count": 44,
   "metadata": {},
   "outputs": [],
   "source": [
    "class Reverse():\n",
    "    def reverse(self, stack):\n",
    "        if len(stack) == 1:\n",
    "            return\n",
    "            \n",
    "        element = self.f(stack)\n",
    "        self.reverse(stack)\n",
    "        stack.append(element)\n",
    "\n",
    "    # 移除栈中底值，然后最后的一个数盖下来\n",
    "    def f(self, stack):\n",
    "        # print(stack)\n",
    "        result = stack.pop() # 1，2，3\n",
    "\n",
    "        if len(stack) == 0:\n",
    "            return result\n",
    "        else:\n",
    "            last = self.f(stack)\n",
    "            stack.append(result)\n",
    "            return last"
   ]
  },
  {
   "cell_type": "code",
   "execution_count": 45,
   "metadata": {},
   "outputs": [
    {
     "data": {
      "text/plain": [
       "[3, 2, 1]"
      ]
     },
     "execution_count": 45,
     "metadata": {},
     "output_type": "execute_result"
    }
   ],
   "source": [
    "ls = [1,2,3]\n",
    "s = Reverse()\n",
    "res = s.reverse(ls)\n",
    "ls"
   ]
  },
  {
   "cell_type": "code",
   "execution_count": 46,
   "metadata": {},
   "outputs": [],
   "source": [
    "# ls = [1,2,3,4,5]\n",
    "# s = Reverse()\n",
    "# s.f(ls)"
   ]
  },
  {
   "cell_type": "code",
   "execution_count": null,
   "metadata": {},
   "outputs": [],
   "source": []
  }
 ],
 "metadata": {
  "interpreter": {
   "hash": "85c51a4259275393737ca8d3e0cd6fa489554cf4913552085d5553b62ac22de5"
  },
  "kernelspec": {
   "display_name": "Python 3.8.6 ('tensorflow2')",
   "language": "python",
   "name": "python3"
  },
  "language_info": {
   "codemirror_mode": {
    "name": "ipython",
    "version": 3
   },
   "file_extension": ".py",
   "mimetype": "text/x-python",
   "name": "python",
   "nbconvert_exporter": "python",
   "pygments_lexer": "ipython3",
   "version": "3.8.6"
  },
  "orig_nbformat": 4
 },
 "nbformat": 4,
 "nbformat_minor": 2
}
