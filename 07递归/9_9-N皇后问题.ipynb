{
 "cells": [
  {
   "cell_type": "markdown",
   "metadata": {},
   "source": [
    "- https://blog.csdn.net/Z65443344/article/details/122121111\n",
    "\n",
    "- 不共行，不共斜线，摆放棋子\n",
    "\n",
    "n = 1 -> 1\n",
    "n = 2,3 -> 0\n",
    "n = 8 -> 92\n",
    "\n",
    "```\n",
    "# 这样行\n",
    "[0,1,0,0]\n",
    "[0,0,0,1]\n",
    "[1,0,0,0]\n",
    "[0,0,1,0]\n",
    "\n",
    "# 这样不行\n",
    "[1,0,0,0]\n",
    "[0,0,1,0]\n",
    "[0,0,0,0]\n",
    "[0,0,0,0]\n",
    "```"
   ]
  },
  {
   "cell_type": "code",
   "execution_count": 1,
   "metadata": {},
   "outputs": [],
   "source": [
    "# while 1: #一直循环\n",
    "#     # n = input('Input N:') #输入皇后个数\n",
    "#     n = 4\n",
    "#     # if n.lower() in ('exit'): #输入exit退出\n",
    "#     #     break\n",
    "#     n = int(n)\n",
    "\n",
    "#     #初始化一个长度为n的list，用于存放皇后，值代表皇后位置\n",
    "#     queenList = [0]*n      # 因为每行只可能有1个皇后，所以没必要用2维list\n",
    "    \n",
    "#     def setQueen(idx):     #递归，用于放置每一行的queen，idx是行号\n",
    "#         for i in range(n): #皇后位置从0到 n-1 取值\n",
    "#             isOk=True\n",
    "#             for j in range(idx):              #循环判断这一行之前的所有行\n",
    "#                 if i in (queenList[j],queenList[j]-idx+j,queenList[j]+idx-j):#在直线和斜线上\n",
    "#                     isOk=False\n",
    "#                     break\n",
    "#             if isOk:                 #如果跟之前的行都不在线上\n",
    "#                 queenList[idx]=i     #在此位置放置一个皇后\n",
    "#                 if idx==n-1:         #已经是最后一行\n",
    "#                     print(queenList) #打印结果\n",
    "#                 else:                #不是最后一行\n",
    "#                     setQueen(idx+1)  #继续放置下一行\n",
    " \n",
    "#     setQueen(0) #从第一行开始放置"
   ]
  },
  {
   "cell_type": "code",
   "execution_count": 28,
   "metadata": {},
   "outputs": [
    {
     "name": "stdout",
     "output_type": "stream",
     "text": [
      "[1, 3, 0, 2]\n",
      "[2, 0, 3, 1]\n",
      "2\n"
     ]
    }
   ],
   "source": [
    "n = 4\n",
    "# 初始化一个长度为 n 的list，用于存放皇后，代表第 i 行的皇后放到第几列\n",
    "queenList = [0]*n      # 因为每行只可能有1个皇后，所以没必要用2维list\n",
    "res = 0\n",
    "\n",
    "def setQueen(idx):     # 递归，用于放置每一行的 queen，idx是行号\n",
    "    global res\n",
    "\n",
    "    for i in range(n): # 皇后位置从0到 n-1 取值\n",
    "        # 检查摆放是否合法\n",
    "        isOk = True\n",
    "        for j in range(idx):        # 循环判断这一行之前的所有行\n",
    "            if i in (queenList[j],queenList[j]-idx+j,queenList[j]+idx-j):#在直线和斜线上\n",
    "                isOk = False\n",
    "                break\n",
    "        \n",
    "        # 如果跟之前的行都不在线上\n",
    "        if isOk:                   \n",
    "            queenList[idx] = i     # 在此位置放置一个皇后\n",
    "            if idx == n-1:         # 已经是最后一行\n",
    "                res += 1           # 成功摆放次数\n",
    "                print(queenList)   # 打印结果\n",
    "            else:                  # 不是最后一行\n",
    "                setQueen(idx + 1)  # 继续放置下一行\n",
    "    return res\n",
    "\n",
    "res = setQueen(0)                  #从第一行开始放置\n",
    "print(res)"
   ]
  },
  {
   "cell_type": "markdown",
   "metadata": {},
   "source": [
    "尝试，每一行放一个皇后，保证天然皇后不成行\n",
    "- https://www.bilibili.com/video/BV13g41157hK?p=10\n",
    "- https://www.bilibili.com/video/BV13g41157hK?p=11\n",
    "- 最后半小时"
   ]
  },
  {
   "cell_type": "code",
   "execution_count": 7,
   "metadata": {},
   "outputs": [],
   "source": [
    "class Queue():\n",
    "    def num1(self, n):\n",
    "        if n < 1:\n",
    "            return 0\n",
    "    \n",
    "        #初始化一个长度为 n 的 list，用于存放皇后，代表第 i 行的皇后放到第几列\n",
    "        record = [0]*n      # 因为每行只可能有1个皇后，所以没必要用 2 维 list\n",
    "        return self.process1(0, record, n)\n",
    "\n",
    "    def process1(self, i, record, n): \n",
    "        # 走到终止位置，找到一种\n",
    "        if i == n:\n",
    "            return 1\n",
    "        # 这里 res 能够放到这个位置还真是没有想到过的。\n",
    "        res = 0\n",
    "        # print(res)\n",
    "\n",
    "        for j in range(n):\n",
    "            # print(res)\n",
    "            # 当前 i 行的皇后，放在 j 列，会不会和之前(0..i-1)的皇后，共行共列或者共斜线，\n",
    "            # 如果是，认为无效， 如果不是，认为有效\n",
    "            if self.isValid(record, i, j):\n",
    "                record[i] = j\n",
    "                res += self.process1(i + 1, record, n)\n",
    "                # print(record)\n",
    "        return res\n",
    "\n",
    "    # 检查共列或者共斜线, 只检查 i之前的行\n",
    "    def isValid(self, record, i, j):\n",
    "        for k in range(i):\n",
    "            # 检查公行或者共斜线\n",
    "            if j==record[k] or abs(record[k]-j) == abs(i-k):\n",
    "                return False\n",
    "        return True"
   ]
  },
  {
   "cell_type": "code",
   "execution_count": 8,
   "metadata": {},
   "outputs": [
    {
     "data": {
      "text/plain": [
       "92"
      ]
     },
     "execution_count": 8,
     "metadata": {},
     "output_type": "execute_result"
    }
   ],
   "source": [
    "s = Queue()\n",
    "s.num1(8)"
   ]
  },
  {
   "cell_type": "code",
   "execution_count": null,
   "metadata": {},
   "outputs": [],
   "source": [
    "# 加速方法，位运算"
   ]
  },
  {
   "cell_type": "code",
   "execution_count": null,
   "metadata": {},
   "outputs": [],
   "source": []
  },
  {
   "cell_type": "code",
   "execution_count": null,
   "metadata": {},
   "outputs": [],
   "source": []
  },
  {
   "cell_type": "code",
   "execution_count": null,
   "metadata": {},
   "outputs": [],
   "source": []
  }
 ],
 "metadata": {
  "kernelspec": {
   "display_name": "Python 3.8.6 ('tensorflow2')",
   "language": "python",
   "name": "python3"
  },
  "language_info": {
   "codemirror_mode": {
    "name": "ipython",
    "version": 3
   },
   "file_extension": ".py",
   "mimetype": "text/x-python",
   "name": "python",
   "nbconvert_exporter": "python",
   "pygments_lexer": "ipython3",
   "version": "3.8.6"
  },
  "orig_nbformat": 4,
  "vscode": {
   "interpreter": {
    "hash": "85c51a4259275393737ca8d3e0cd6fa489554cf4913552085d5553b62ac22de5"
   }
  }
 },
 "nbformat": 4,
 "nbformat_minor": 2
}
