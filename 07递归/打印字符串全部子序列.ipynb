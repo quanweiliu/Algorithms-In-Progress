{
 "cells": [
  {
   "cell_type": "markdown",
   "metadata": {},
   "source": [
    "# 打印字符串全部子序列\n",
    "abc\n",
    "```\n",
    "左侧保留，右侧舍弃\n",
    "            a\n",
    "        b       b\n",
    "     c    c   c    c \n",
    "abcab;ac,a;bc,b;c,none\n",
    "\n",
    "```"
   ]
  },
  {
   "cell_type": "code",
   "execution_count": 1,
   "metadata": {},
   "outputs": [],
   "source": [
    "class PrintAllSubsequences():\n",
    "    def printAllSubsequences(self, string):\n",
    "        chs = list(string)\n",
    "\n",
    "        self.process(chs, 0)\n",
    "\n",
    "    def process(self, chs, i):\n",
    "\n",
    "        # 来到终止位置，之前做的选择形成一个 临时 的 chs，打印\n",
    "        if i == len(chs):\n",
    "            print(chs)\n",
    "            return\n",
    "\n",
    "        # 要当前字符\n",
    "        self.process(chs, i+1)\n",
    "\n",
    "        # 不要当前字符\n",
    "        tmp = chs[i]\n",
    "        chs[i] = 0\n",
    "        self.process(chs, i+1)\n",
    "\n",
    "        # 把改变的 chs 改回去\n",
    "        chs[i] = tmp"
   ]
  },
  {
   "cell_type": "code",
   "execution_count": 2,
   "metadata": {},
   "outputs": [
    {
     "name": "stdout",
     "output_type": "stream",
     "text": [
      "['a', 'b']\n",
      "['a', 0]\n",
      "[0, 'b']\n",
      "[0, 0]\n"
     ]
    }
   ],
   "source": [
    "string = \"ab\"\n",
    "solution = PrintAllSubsequences()\n",
    "solution.printAllSubsequences(string)"
   ]
  },
  {
   "cell_type": "markdown",
   "metadata": {},
   "source": [
    "# 为什么要保留空串？空串是一定会有的， 可以直接在后面加一个"
   ]
  },
  {
   "cell_type": "code",
   "execution_count": 51,
   "metadata": {},
   "outputs": [],
   "source": [
    "import copy\n",
    "class PrintAllSubsequences():\n",
    "    def printAllSubsequences(self, string):\n",
    "        chs = list(string)\n",
    "        self.process(chs, 0)\n",
    "\n",
    "    def process(self, chs, i):\n",
    "\n",
    "        # 来到终止位置，之前做的选择形成一个 临时 的 chs，打印\n",
    "        if i == len(chs):\n",
    "            self.res = []\n",
    "            for i in chs:\n",
    "                if i != 0:\n",
    "                    self.res.append(i)\n",
    "            print(''.join(self.res))\n",
    "            return\n",
    "\n",
    "        # 要当前字符\n",
    "        self.process(chs, i+1)\n",
    "\n",
    "        # 不要当前字符\n",
    "        tmp = chs[i]\n",
    "        chs[i] = 0\n",
    "        self.process(chs, i+1)\n",
    "\n",
    "        # 把改变的 chs 改回去\n",
    "        chs[i] = tmp"
   ]
  },
  {
   "cell_type": "code",
   "execution_count": 52,
   "metadata": {},
   "outputs": [
    {
     "name": "stdout",
     "output_type": "stream",
     "text": [
      "ab\n",
      "a\n",
      "b\n",
      "\n"
     ]
    }
   ],
   "source": [
    "string = \"ab\"\n",
    "solution = PrintAllSubsequences()\n",
    "solution.printAllSubsequences(string)"
   ]
  },
  {
   "cell_type": "code",
   "execution_count": null,
   "metadata": {},
   "outputs": [],
   "source": []
  },
  {
   "cell_type": "code",
   "execution_count": 16,
   "metadata": {},
   "outputs": [
    {
     "ename": "TypeError",
     "evalue": "sequence item 2: expected str instance, int found",
     "output_type": "error",
     "traceback": [
      "\u001b[1;31m---------------------------------------------------------------------------\u001b[0m",
      "\u001b[1;31mTypeError\u001b[0m                                 Traceback (most recent call last)",
      "\u001b[1;32m<ipython-input-16-267bb517d133>\u001b[0m in \u001b[0;36m<module>\u001b[1;34m\u001b[0m\n\u001b[0;32m      1\u001b[0m \u001b[0ma\u001b[0m \u001b[1;33m=\u001b[0m \u001b[1;33m[\u001b[0m\u001b[1;34m'a'\u001b[0m\u001b[1;33m,\u001b[0m \u001b[1;34m'b'\u001b[0m\u001b[1;33m,\u001b[0m \u001b[1;36m0\u001b[0m\u001b[1;33m]\u001b[0m\u001b[1;33m\u001b[0m\u001b[1;33m\u001b[0m\u001b[0m\n\u001b[1;32m----> 2\u001b[1;33m \u001b[0mprint\u001b[0m\u001b[1;33m(\u001b[0m\u001b[1;34m''\u001b[0m\u001b[1;33m.\u001b[0m\u001b[0mjoin\u001b[0m\u001b[1;33m(\u001b[0m\u001b[0ma\u001b[0m\u001b[1;33m)\u001b[0m\u001b[1;33m)\u001b[0m\u001b[1;33m\u001b[0m\u001b[1;33m\u001b[0m\u001b[0m\n\u001b[0m",
      "\u001b[1;31mTypeError\u001b[0m: sequence item 2: expected str instance, int found"
     ]
    }
   ],
   "source": [
    "a = ['a', 'b', 0]\n",
    "print(''.join(a))"
   ]
  },
  {
   "cell_type": "code",
   "execution_count": null,
   "metadata": {},
   "outputs": [],
   "source": []
  }
 ],
 "metadata": {
  "interpreter": {
   "hash": "85c51a4259275393737ca8d3e0cd6fa489554cf4913552085d5553b62ac22de5"
  },
  "kernelspec": {
   "display_name": "Python 3.8.6 ('tensorflow2')",
   "language": "python",
   "name": "python3"
  },
  "language_info": {
   "codemirror_mode": {
    "name": "ipython",
    "version": 3
   },
   "file_extension": ".py",
   "mimetype": "text/x-python",
   "name": "python",
   "nbconvert_exporter": "python",
   "pygments_lexer": "ipython3",
   "version": "3.8.6"
  },
  "orig_nbformat": 4
 },
 "nbformat": 4,
 "nbformat_minor": 2
}
