{
 "cells": [
  {
   "cell_type": "markdown",
   "metadata": {},
   "source": [
    "# 打印一个字符串的全部排列\n",
    "- 回溯就是在递归的基础上，每一个步骤进行标记和取消标记的处理。"
   ]
  },
  {
   "cell_type": "code",
   "execution_count": 11,
   "metadata": {},
   "outputs": [
    {
     "name": "stdout",
     "output_type": "stream",
     "text": [
      "abc\n",
      "acb\n",
      "bac\n",
      "bca\n",
      "cba\n",
      "cab\n"
     ]
    }
   ],
   "source": [
    "def permutation(arr, start):  # start 代表子字符串的首位置索引\n",
    "    if arr == None:\n",
    "        return\n",
    "    if start == len(arr)-1:\n",
    "        print(''.join(arr))  # 完成全排列后输出当前排列的字符串\n",
    "    else:\n",
    "        i = start\n",
    "        while i < len(arr):\n",
    "            arr[start], arr[i] = arr[i], arr[start]  # 交换 start 与 i 所在位置的字符\n",
    "            permutation(arr, start + 1)              # 固定第一个字符，对剩余的字符进行全排列\n",
    "            arr[start], arr[i] = arr[i], arr[start]  # 还原 start与 i 所在位置的字符\n",
    "            i += 1\n",
    "\n",
    "arr = ['a','b','c']\n",
    "permutation(arr,0)"
   ]
  },
  {
   "cell_type": "code",
   "execution_count": null,
   "metadata": {},
   "outputs": [],
   "source": []
  },
  {
   "cell_type": "code",
   "execution_count": 23,
   "metadata": {},
   "outputs": [],
   "source": [
    "class Permutation():\n",
    "    def permutation(self, arr, start):  # start 代表子字符串的首位置索引\n",
    "        if arr == None:\n",
    "            return\n",
    "            \n",
    "        arr = list(arr)\n",
    "        self.process(arr, start)   \n",
    "    \n",
    "    def process(self, arr, start):  # start 代表子字符串的首位置索引\n",
    "        if start == len(arr)-1:\n",
    "            # 拼接字符串的方法\n",
    "            print(''.join(arr))  # 完成全排列后输出当前排列的字符串\n",
    "        else:\n",
    "            '''\n",
    "            左程云的java 代码是：\n",
    "            for (j = i ; j < str.length; j++):\n",
    "                ...\n",
    "            这里用 for i in range(xx):\n",
    "                    ...\n",
    "            就很不方便, 用 while 循环就比较好。  \n",
    "            '''\n",
    "            i = start\n",
    "            while i < len(arr):\n",
    "                self.swap(arr, start, i)\n",
    "                # arr[start], arr[i] = arr[i], arr[start]  # 交换 start 与 i 所在位置的字符\n",
    "                self.process(arr, start + 1)              # 固定第一个字符，对剩余的字符进行全排列\n",
    "                # arr[start], arr[i] = arr[i], arr[start]  # 还原 start与 i 所在位置的字符\n",
    "                self.swap(arr, start, i)\n",
    "                i += 1\n",
    "\n",
    "    def swap(self, arr, i, j):\n",
    "        # print(arr_one, arr_two)\n",
    "        temp = arr[i]\n",
    "        arr[i] = arr[j]\n",
    "        arr[j] = temp "
   ]
  },
  {
   "cell_type": "code",
   "execution_count": 24,
   "metadata": {},
   "outputs": [
    {
     "name": "stdout",
     "output_type": "stream",
     "text": [
      "abc\n",
      "acb\n",
      "bac\n",
      "bca\n",
      "cba\n",
      "cab\n"
     ]
    }
   ],
   "source": [
    "solution = Permutation()\n",
    "arr = ['a','b','c']\n",
    "solution.permutation(arr, 0)"
   ]
  },
  {
   "cell_type": "code",
   "execution_count": null,
   "metadata": {},
   "outputs": [],
   "source": []
  },
  {
   "cell_type": "markdown",
   "metadata": {},
   "source": [
    "打印一个字符串的全部**不重复**排列\n",
    "- 加入剪枝-分枝限界\n",
    "- 不会"
   ]
  },
  {
   "cell_type": "code",
   "execution_count": null,
   "metadata": {},
   "outputs": [],
   "source": []
  },
  {
   "cell_type": "code",
   "execution_count": null,
   "metadata": {},
   "outputs": [],
   "source": []
  },
  {
   "cell_type": "code",
   "execution_count": null,
   "metadata": {},
   "outputs": [],
   "source": []
  }
 ],
 "metadata": {
  "interpreter": {
   "hash": "85c51a4259275393737ca8d3e0cd6fa489554cf4913552085d5553b62ac22de5"
  },
  "kernelspec": {
   "display_name": "Python 3.8.6 ('tensorflow2')",
   "language": "python",
   "name": "python3"
  },
  "language_info": {
   "codemirror_mode": {
    "name": "ipython",
    "version": 3
   },
   "file_extension": ".py",
   "mimetype": "text/x-python",
   "name": "python",
   "nbconvert_exporter": "python",
   "pygments_lexer": "ipython3",
   "version": "3.8.6"
  },
  "orig_nbformat": 4
 },
 "nbformat": 4,
 "nbformat_minor": 2
}
