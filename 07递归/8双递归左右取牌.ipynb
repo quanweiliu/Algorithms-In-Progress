{
 "cells": [
  {
   "cell_type": "markdown",
   "metadata": {},
   "source": [
    "# 左右取牌，得最大"
   ]
  },
  {
   "cell_type": "code",
   "execution_count": 1,
   "metadata": {},
   "outputs": [],
   "source": [
    "class CardsInLine():\n",
    "    def win(self, arr):\n",
    "        if arr == None or len(arr) == 0:\n",
    "            return 0\n",
    "        #              玩家A，                       玩家B\n",
    "        return max(self.f(arr, 0, len(arr)-1 ), self.s(arr, 0, len(arr)-1))\n",
    "\n",
    "    # 先手函数\n",
    "    # 在 i, j 范围内，得到的最好分数\n",
    "    def f(self, arr, i, j):\n",
    "        # i 等于 j 说明只有一个数字了，先手的把这个数字拿走\n",
    "        if i==j:\n",
    "            return arr[i]\n",
    "        \n",
    "        # 如果 i，j之间不止有一个数字，两种选择\n",
    "        return max(arr[i], self.s(arr, i+1, j), \n",
    "                    arr[j] + self.s(arr, i, j-1))\n",
    "\n",
    "    # 后手函数\n",
    "    # 后手最好的到的分数\n",
    "    def s(self, arr, i, j):\n",
    "        # i 等于 j 说明只有一个数字了，先手的把这个数字拿走,后手没有数可选择\n",
    "        if i==j:\n",
    "            return 0\n",
    "        \n",
    "        # 如果 i，j之间不止有一个数字，两种选择\n",
    "        return min(self.f(arr, i+1, j), \n",
    "                    self.f(arr, i, j-1))"
   ]
  },
  {
   "cell_type": "code",
   "execution_count": 2,
   "metadata": {},
   "outputs": [
    {
     "data": {
      "text/plain": [
       "4"
      ]
     },
     "execution_count": 2,
     "metadata": {},
     "output_type": "execute_result"
    }
   ],
   "source": [
    "s = CardsInLine()\n",
    "s.win([1,2,3])\n",
    "\n",
    "# 怎么取牌得到的分数最高\n",
    "s.win([1,2,3,10,5,8,20,6,9,15])"
   ]
  },
  {
   "cell_type": "code",
   "execution_count": null,
   "metadata": {},
   "outputs": [],
   "source": []
  },
  {
   "cell_type": "code",
   "execution_count": null,
   "metadata": {},
   "outputs": [],
   "source": []
  },
  {
   "cell_type": "code",
   "execution_count": null,
   "metadata": {},
   "outputs": [],
   "source": []
  },
  {
   "cell_type": "code",
   "execution_count": null,
   "metadata": {},
   "outputs": [],
   "source": []
  },
  {
   "cell_type": "code",
   "execution_count": null,
   "metadata": {},
   "outputs": [],
   "source": []
  }
 ],
 "metadata": {
  "kernelspec": {
   "display_name": "Python 3.8.6 ('tensorflow2')",
   "language": "python",
   "name": "python3"
  },
  "language_info": {
   "codemirror_mode": {
    "name": "ipython",
    "version": 3
   },
   "file_extension": ".py",
   "mimetype": "text/x-python",
   "name": "python",
   "nbconvert_exporter": "python",
   "pygments_lexer": "ipython3",
   "version": "3.8.6"
  },
  "orig_nbformat": 4,
  "vscode": {
   "interpreter": {
    "hash": "85c51a4259275393737ca8d3e0cd6fa489554cf4913552085d5553b62ac22de5"
   }
  }
 },
 "nbformat": 4,
 "nbformat_minor": 2
}
