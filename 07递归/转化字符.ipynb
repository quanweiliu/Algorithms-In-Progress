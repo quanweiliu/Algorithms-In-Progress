{
 "cells": [
  {
   "cell_type": "code",
   "execution_count": 20,
   "metadata": {},
   "outputs": [],
   "source": [
    "class transformString():\n",
    "    def number(self, string):\n",
    "        if string == None or len(string) == 0:\n",
    "            return 0\n",
    "        return self.process(list(string), 0)\n",
    "\n",
    "    # i 之前的位置，如何转化已经做过决定了\n",
    "    # i ... 有多少种转化的结果\n",
    "    def process(self, string, i):\n",
    "        if i == len(string):\n",
    "            return 1\n",
    "        \n",
    "        if string[i] == '0':\n",
    "            return 0\n",
    "        \n",
    "        if string[i] == '1':\n",
    "            # i 自己作为单独的部分，后续有多少种方法\n",
    "            res = self.process(string, i + 1)\n",
    "            if i + 1 < len(string):\n",
    "                # i 和 i + 1 作为单独的部分，后续有多少种方法\n",
    "                res += self.process(string, i + 2)\n",
    "            return res\n",
    "\n",
    "        if string[i] == '2':\n",
    "            res = self.process(string, i + 2)\n",
    "            if i+1 < len(string) and string[i + 1] >= '0' and string[i + 1] <= '6':\n",
    "                res += self.process(string, i + 2)\n",
    "            return res\n",
    "        # string[i] == 3 ~ 9\n",
    "        return self.process(string, i + 1)\n"
   ]
  },
  {
   "cell_type": "code",
   "execution_count": 21,
   "metadata": {},
   "outputs": [
    {
     "data": {
      "text/plain": [
       "5"
      ]
     },
     "execution_count": 21,
     "metadata": {},
     "output_type": "execute_result"
    }
   ],
   "source": [
    "string = '1111'\n",
    "# 1-26 转化为 ABCD\n",
    "# listString = list(string)\n",
    "s = transformString()\n",
    "s.number(\"1111\")"
   ]
  },
  {
   "cell_type": "code",
   "execution_count": null,
   "metadata": {},
   "outputs": [],
   "source": []
  },
  {
   "cell_type": "code",
   "execution_count": null,
   "metadata": {},
   "outputs": [],
   "source": []
  },
  {
   "cell_type": "code",
   "execution_count": null,
   "metadata": {},
   "outputs": [],
   "source": []
  }
 ],
 "metadata": {
  "kernelspec": {
   "display_name": "Python 3.8.6 ('tensorflow2')",
   "language": "python",
   "name": "python3"
  },
  "language_info": {
   "codemirror_mode": {
    "name": "ipython",
    "version": 3
   },
   "file_extension": ".py",
   "mimetype": "text/x-python",
   "name": "python",
   "nbconvert_exporter": "python",
   "pygments_lexer": "ipython3",
   "version": "3.8.6"
  },
  "orig_nbformat": 4,
  "vscode": {
   "interpreter": {
    "hash": "85c51a4259275393737ca8d3e0cd6fa489554cf4913552085d5553b62ac22de5"
   }
  }
 },
 "nbformat": 4,
 "nbformat_minor": 2
}
