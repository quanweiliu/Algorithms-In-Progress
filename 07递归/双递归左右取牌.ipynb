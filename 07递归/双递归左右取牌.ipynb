{
 "cells": [
  {
   "cell_type": "markdown",
   "metadata": {},
   "source": [
    "# 左右取牌，得最大"
   ]
  },
  {
   "cell_type": "code",
   "execution_count": 1,
   "metadata": {},
   "outputs": [],
   "source": [
    "class CardsInLine():\n",
    "    def win(self, arr):\n",
    "        if arr == None or len(arr) == 0:\n",
    "            return 0\n",
    "        #              玩家A，                       玩家B\n",
    "        return max(self.f(arr, 0, len(arr)-1 ), self.s(arr, 0, len(arr)-1))\n",
    "\n",
    "    def f(self, arr, i, j):\n",
    "        if i==j:\n",
    "            return arr[i]\n",
    "        \n",
    "        return max(arr[i], self.s(arr, i+1, j), arr[j] + self.s(arr, i, j-1))\n",
    "\n",
    "    def s(self, arr, i, j):\n",
    "        if i==j:\n",
    "            return 0\n",
    "        \n",
    "        return min(self.f(arr, i+1, j), self.f(arr, i, j-1))"
   ]
  },
  {
   "cell_type": "code",
   "execution_count": 2,
   "metadata": {},
   "outputs": [
    {
     "data": {
      "text/plain": [
       "4"
      ]
     },
     "execution_count": 2,
     "metadata": {},
     "output_type": "execute_result"
    }
   ],
   "source": [
    "s = CardsInLine()\n",
    "s.win([1,2,3])"
   ]
  },
  {
   "cell_type": "code",
   "execution_count": null,
   "metadata": {},
   "outputs": [],
   "source": []
  },
  {
   "cell_type": "code",
   "execution_count": null,
   "metadata": {},
   "outputs": [],
   "source": []
  },
  {
   "cell_type": "code",
   "execution_count": null,
   "metadata": {},
   "outputs": [],
   "source": []
  },
  {
   "cell_type": "code",
   "execution_count": null,
   "metadata": {},
   "outputs": [],
   "source": []
  },
  {
   "cell_type": "code",
   "execution_count": null,
   "metadata": {},
   "outputs": [],
   "source": []
  }
 ],
 "metadata": {
  "kernelspec": {
   "display_name": "Python 3.8.6 ('tensorflow2')",
   "language": "python",
   "name": "python3"
  },
  "language_info": {
   "codemirror_mode": {
    "name": "ipython",
    "version": 3
   },
   "file_extension": ".py",
   "mimetype": "text/x-python",
   "name": "python",
   "nbconvert_exporter": "python",
   "pygments_lexer": "ipython3",
   "version": "3.8.6"
  },
  "orig_nbformat": 4,
  "vscode": {
   "interpreter": {
    "hash": "85c51a4259275393737ca8d3e0cd6fa489554cf4913552085d5553b62ac22de5"
   }
  }
 },
 "nbformat": 4,
 "nbformat_minor": 2
}
