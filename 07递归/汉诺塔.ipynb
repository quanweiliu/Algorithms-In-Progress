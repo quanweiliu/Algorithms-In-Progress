{
 "cells": [
  {
   "cell_type": "markdown",
   "metadata": {},
   "source": [
    "# 思考过程\n",
    "\n",
    "- From(start) To(other) End\n",
    "1. 1 ~ i-1, start -> other\n",
    "2. i start -> end\n",
    "3. 1 ~ i-1, other -> end\n",
    "\n",
    "- 我如何才能真正的记住这个过程？\n",
    "- https://www.bilibili.com/video/BV13g41157hK?p=11\n",
    "\n",
    "- 对于新手来说，不要想**全局**到底怎么回事，这样想，就试不出来。\n",
    "- 把握住方向，在这个局部下，怎么拆解问题，就行了。**所谓局部**，就是想递归中一步怎么做"
   ]
  },
  {
   "cell_type": "code",
   "execution_count": 1,
   "metadata": {},
   "outputs": [],
   "source": [
    "class Hanoi():\n",
    "    def hanoi(self, n):\n",
    "        if n > 0 :\n",
    "            # 为什么是\"left \", \"right \", \"middle \"，因为目标就是从左移动到右边，中间过程是过渡用的 \n",
    "            self.func(n, \"left \", \"right \", \"middle \")\n",
    "    \n",
    "    def func(self, i, start, end, other):\n",
    "        # basecase, 只剩下最后一个圆盘的情况\n",
    "        if i == 1:\n",
    "            print(\"move 1 from \" + start + \"to \" + end)\n",
    "\n",
    "        else:\n",
    "            # 先从 start 挪到 other， end 变成另外一个\n",
    "            self.func(i-1, start, other, end)\n",
    "            # 单独 i 自己动\n",
    "            print(\"move \" + str(i) + \" from \" + start + \"to \" + end)\n",
    "            # 从 other 挪到 end, start 变成另外一个\n",
    "            self.func(i-1, other, end, start)"
   ]
  },
  {
   "cell_type": "code",
   "execution_count": 2,
   "metadata": {},
   "outputs": [
    {
     "name": "stdout",
     "output_type": "stream",
     "text": [
      "move 1 from left to right \n",
      "move 2 from left to middle \n",
      "move 1 from right to middle \n",
      "move 3 from left to right \n",
      "move 1 from middle to left \n",
      "move 2 from middle to right \n",
      "move 1 from left to right \n"
     ]
    }
   ],
   "source": [
    "solution = Hanoi()\n",
    "solution.hanoi(3)"
   ]
  },
  {
   "cell_type": "code",
   "execution_count": null,
   "metadata": {},
   "outputs": [],
   "source": []
  },
  {
   "cell_type": "code",
   "execution_count": null,
   "metadata": {},
   "outputs": [],
   "source": []
  }
 ],
 "metadata": {
  "interpreter": {
   "hash": "85c51a4259275393737ca8d3e0cd6fa489554cf4913552085d5553b62ac22de5"
  },
  "kernelspec": {
   "display_name": "Python 3.8.6 ('tensorflow2')",
   "language": "python",
   "name": "python3"
  },
  "language_info": {
   "codemirror_mode": {
    "name": "ipython",
    "version": 3
   },
   "file_extension": ".py",
   "mimetype": "text/x-python",
   "name": "python",
   "nbconvert_exporter": "python",
   "pygments_lexer": "ipython3",
   "version": "3.8.6"
  },
  "orig_nbformat": 4
 },
 "nbformat": 4,
 "nbformat_minor": 2
}
