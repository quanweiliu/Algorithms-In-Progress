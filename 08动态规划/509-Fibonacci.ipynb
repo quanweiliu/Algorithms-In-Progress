{
 "cells": [
  {
   "cell_type": "markdown",
   "metadata": {},
   "source": [
    "# 动态规划"
   ]
  },
  {
   "cell_type": "code",
   "execution_count": null,
   "metadata": {},
   "outputs": [],
   "source": [
    "class Solution:\n",
    "    def fib(self, n: int) -> int:\n",
    "        if n == 0:\n",
    "            return 0\n",
    "        if n == 1:\n",
    "            return 1\n",
    "\n",
    "        res = [0, 1, 1]\n",
    "        for i in range(2, n):\n",
    "            res.append(res[i-1]+res[i])\n",
    "\n",
    "        return res[-1]"
   ]
  },
  {
   "cell_type": "code",
   "execution_count": null,
   "metadata": {},
   "outputs": [],
   "source": [
    "s = Solution()\n",
    "for i in range(10):\n",
    "    print(s.fib(i))"
   ]
  },
  {
   "cell_type": "markdown",
   "metadata": {},
   "source": [
    "## 我自己的暴力递归"
   ]
  },
  {
   "cell_type": "code",
   "execution_count": null,
   "metadata": {},
   "outputs": [],
   "source": [
    "# 错误写法\n",
    "class Solution:\n",
    "    def fib(self, n: int) -> int:\n",
    "        if n == 0:\n",
    "            return 0\n",
    "        if n == 1:\n",
    "            return 1\n",
    "        res = self.fib(n-1)\n",
    "\n",
    "        return res"
   ]
  },
  {
   "cell_type": "code",
   "execution_count": null,
   "metadata": {},
   "outputs": [],
   "source": [
    "# 正确写法\n",
    "class Solution:\n",
    "    def fib(self, n: int) -> int:\n",
    "        if n == 0:\n",
    "            return 0\n",
    "        if n == 1 or n == 2:\n",
    "            return 1\n",
    "        res = self.fib(n-1) + self.fib(n-2)\n",
    "\n",
    "        return res"
   ]
  },
  {
   "cell_type": "code",
   "execution_count": null,
   "metadata": {},
   "outputs": [],
   "source": [
    "s = Solution()\n",
    "print(s.fib(10))\n",
    "# for i in range(10):\n",
    "#     print(s.fib(i))"
   ]
  },
  {
   "cell_type": "markdown",
   "metadata": {},
   "source": [
    "### 1.正确的暴力递归\n"
   ]
  },
  {
   "cell_type": "code",
   "execution_count": null,
   "metadata": {},
   "outputs": [],
   "source": [
    "def fib(N):\n",
    "    if N == 0:\n",
    "        return 0\n",
    "    if (N == 1 or N == 2):\n",
    "        return 1\n",
    "    return fib(N - 1) + fib(N - 2)"
   ]
  },
  {
   "cell_type": "markdown",
   "metadata": {},
   "source": [
    "## 第一个性质：重叠子问题\n",
    "```\n",
    "但凡遇到需要递归的问题，最好都画出递归树，这对你分析算法的复杂度，寻找算法低效的原因都有巨大帮助。\n",
    "n = 20\n",
    "         20\n",
    "    19        18\n",
    "18     17  17      16\n",
    "\n",
    "显然二叉树节点总数为指数级别，所以子问题个数为 O(2^n)。\n",
    "一个子问题的时间 O(1)\n",
    "这个算法的时间复杂度为二者相乘，即 O(2^n)，指数级别，爆炸。\n",
    "```"
   ]
  },
  {
   "cell_type": "markdown",
   "metadata": {},
   "source": [
    "### 2.带备忘录的递归解法\n",
    "- java 式编程"
   ]
  },
  {
   "cell_type": "code",
   "execution_count": 26,
   "metadata": {},
   "outputs": [],
   "source": [
    "def fib(N):\n",
    "    # 备忘录全初始化为 0\n",
    "    memo = [0]*(N+1)\n",
    "    # 进行带备忘录的递归\n",
    "    return helper(memo, N)\n",
    "\n",
    "def helper(memo, n):\n",
    "    # print(memo, n)\n",
    "    # base case\n",
    "    if n == 0 or n == 1:\n",
    "        return n\n",
    "\n",
    "    # 已经计算过，不用再计算了  \n",
    "    if (memo[n] !=0):\n",
    "        return memo[n]\n",
    "\n",
    "    memo[n] = helper(memo, n - 1) + helper(memo, n - 2)\n",
    "    # print(memo[n])\n",
    "    return memo[n]"
   ]
  },
  {
   "cell_type": "markdown",
   "metadata": {},
   "source": [
    "### 「备忘录」到底做了什么\n",
    "```\n",
    "n = 20\n",
    "         20\n",
    "    19        xx\n",
    "18     xx  xx      xx\n",
    "\n",
    "带「备忘录」的递归算法，把一棵存在巨量冗余的递归树通过「剪枝」\n",
    "子问题个数为 O(n)\n",
    "一个子问题的时间 O(1)\n",
    "这个算法的时间复杂度为二者相乘，即 O(n)。\n",
    "```"
   ]
  },
  {
   "cell_type": "code",
   "execution_count": 28,
   "metadata": {},
   "outputs": [
    {
     "data": {
      "text/plain": [
       "55"
      ]
     },
     "execution_count": 28,
     "metadata": {},
     "output_type": "execute_result"
    }
   ],
   "source": [
    "fib(10)"
   ]
  },
  {
   "cell_type": "markdown",
   "metadata": {},
   "source": [
    "# 动态规划与递归的联系\n",
    "- 带备忘录的递归解法的效率已经和迭代的动态规划解法一样了。实际上，这种解法和常见的动态规划解法已经差不多了，只不过这种解法是「自顶向下」进行「递归」求解，我们更常见的动态规划代码是「自底向上」进行「递推」求解。\n",
    "- 啥叫「自顶向下」？\n",
    "    - 注意我们刚才画的递归树（或者说图），是从上向下延伸，都是从一个规模较大的原问题比如说 f(20)，向下逐渐分解规模，直到 f(1) 和 f(2) 这两个 base case，然后逐层返回答案，这就叫「自顶向下」。\n",
    "- 啥叫「自底向上」？\n",
    "    - 反过来，我们直接从最底下、最简单、问题规模最小、已知结果的 f(1) 和 f(2)（base case）开始往上推，直到推到我们想要的答案 f(20)。这就是「递推」的思路，这也是动态规划一般都脱离了递归，而是由循环迭代完成计算的原因。"
   ]
  },
  {
   "cell_type": "markdown",
   "metadata": {},
   "source": [
    "### 3.dp 数组的迭代（递推）解法\n",
    "- 完成「自底向上」的推算"
   ]
  },
  {
   "cell_type": "code",
   "execution_count": 29,
   "metadata": {},
   "outputs": [],
   "source": [
    "def fib(N):\n",
    "    if (N == 0):\n",
    "        return 0\n",
    "    dp = [0]*(N + 1)\n",
    "    # base case\n",
    "    dp[0] = 0\n",
    "    dp[1] = 1\n",
    "    # 状态转移\n",
    "    for i in range(2, N+1):\n",
    "        dp[i] = dp[i - 1] + dp[i - 2]\n",
    "    return dp[N]"
   ]
  },
  {
   "cell_type": "markdown",
   "metadata": {},
   "source": [
    "### 状态转移方程\n",
    "\n",
    "```\n",
    "f(n) = 1, n=1,2\n",
    "f(n) = f(n-1) + f(n-2), n>2\n",
    "```\n",
    "\n",
    "- 列出「状态转移方程」的重要性，它是解决问题的核心，而且很容易发现，其实状态转移方程直接代表着暴力解法。\n",
    "- 动态规划问题最困难的就是写出这个暴力解，即状态转移方程。"
   ]
  },
  {
   "cell_type": "code",
   "execution_count": 30,
   "metadata": {},
   "outputs": [
    {
     "data": {
      "text/plain": [
       "55"
      ]
     },
     "execution_count": 30,
     "metadata": {},
     "output_type": "execute_result"
    }
   ],
   "source": [
    "fib(10)"
   ]
  },
  {
   "cell_type": "markdown",
   "metadata": {},
   "source": [
    "### 4.最后一步优化\n",
    "- 如果我们发现每次状态转移只需要 DP table 中的一部分，那么可以尝试缩小 DP table 的大小，只记录必要的数据，从而降低空间复杂度。"
   ]
  },
  {
   "cell_type": "code",
   "execution_count": 35,
   "metadata": {},
   "outputs": [],
   "source": [
    "def fib(n):\n",
    "    if (n == 0 or n == 1):\n",
    "        # // base case\n",
    "        return n\n",
    "    # // 分别代表 dp[i - 1] 和 dp[i - 2]\n",
    "    dp_1 = 1\n",
    "    dp_2 = 0\n",
    "    for i in range(2, n+1):\n",
    "        # // dp[i] = dp[i - 1] + dp[i - 2];\n",
    "        dp = dp_1 + dp_2\n",
    "        # // 滚动更新\n",
    "        dp_2 = dp_1\n",
    "        dp_1 = dp\n",
    "    \n",
    "    return dp_1"
   ]
  },
  {
   "cell_type": "code",
   "execution_count": 36,
   "metadata": {},
   "outputs": [
    {
     "data": {
      "text/plain": [
       "55"
      ]
     },
     "execution_count": 36,
     "metadata": {},
     "output_type": "execute_result"
    }
   ],
   "source": [
    "fib(10)"
   ]
  },
  {
   "cell_type": "markdown",
   "metadata": {},
   "source": [
    "## 未解决的问题\n",
    "- 动态规划的另一个重要特性「最优子结构」,下面会涉及。\n",
    "- 斐波那契数列的例子严格来说不算动态规划，因为没有涉及求最值，以上旨在说明重叠子问题的消除方法，演示得到最优解法逐步求精的过程。"
   ]
  }
 ],
 "metadata": {
  "interpreter": {
   "hash": "9ecbc95d31df1b277e5ec566a835865c3a9a253da4266404bdbc6ee7e31406f4"
  },
  "kernelspec": {
   "display_name": "Python 3.8.6 ('tensorflow2')",
   "language": "python",
   "name": "python3"
  },
  "language_info": {
   "codemirror_mode": {
    "name": "ipython",
    "version": 3
   },
   "file_extension": ".py",
   "mimetype": "text/x-python",
   "name": "python",
   "nbconvert_exporter": "python",
   "pygments_lexer": "ipython3",
   "version": "3.8.6"
  },
  "orig_nbformat": 4
 },
 "nbformat": 4,
 "nbformat_minor": 2
}
