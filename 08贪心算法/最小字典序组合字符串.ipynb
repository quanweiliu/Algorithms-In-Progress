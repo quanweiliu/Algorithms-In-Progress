{
 "cells": [
  {
   "cell_type": "markdown",
   "metadata": {},
   "source": [
    "问题出自左程云\n",
    "- https://www.bilibili.com/video/BV13g41157hK?p=10\n",
    "\n",
    "对 Python 字典排序的两种简单方法\n",
    "- https://blog.csdn.net/weixin_38739735/article/details/117005077"
   ]
  },
  {
   "cell_type": "code",
   "execution_count": 44,
   "metadata": {},
   "outputs": [],
   "source": [
    "# 一种错误的贪心策略， 只以首字母比较\n",
    "class LowestLexicography():\n",
    "    def lowestString(self, strs):\n",
    "        if strs == None or len(strs) == 0:\n",
    "            return \"\"\n",
    "\n",
    "        strs = sorted(strs)\n",
    "        \n",
    "        res = \"\"\n",
    "        for i in range(len(strs)):\n",
    "            res += strs[i]\n",
    "        return res"
   ]
  },
  {
   "cell_type": "code",
   "execution_count": 45,
   "metadata": {},
   "outputs": [
    {
     "data": {
      "text/plain": [
       "'bba'"
      ]
     },
     "execution_count": 45,
     "metadata": {},
     "output_type": "execute_result"
    }
   ],
   "source": [
    "strs = [\"z\", \"a\", \"ac\", \"b\", \"ba\", \"c\"]\n",
    "strs = [\"b\", \"ba\"]\n",
    "solution = LowestLexicography()\n",
    "solution.lowestString(strs)"
   ]
  },
  {
   "cell_type": "code",
   "execution_count": 46,
   "metadata": {},
   "outputs": [
    {
     "data": {
      "text/plain": [
       "False"
      ]
     },
     "execution_count": 46,
     "metadata": {},
     "output_type": "execute_result"
    }
   ],
   "source": [
    "\"bab\" > \"bba\""
   ]
  },
  {
   "cell_type": "code",
   "execution_count": null,
   "metadata": {},
   "outputs": [],
   "source": []
  },
  {
   "cell_type": "code",
   "execution_count": 49,
   "metadata": {},
   "outputs": [],
   "source": [
    "# 正确的贪心策略，比较 a+b 和 b+a\n",
    "# 只是借助了简单的冒泡排序，可以继续优化\n",
    "class LowestLexicography():\n",
    "    def sort(self, arr):\n",
    "        for i in range(len(arr)):\n",
    "            # print(\"i\", i)\n",
    "            for j in range(len(arr)):\n",
    "                if arr[i]+arr[j] < arr[j]+arr[i]:\n",
    "                    # print(arr)\n",
    "                    self.swap(arr, i, j)\n",
    "        # print(arr)\n",
    "        return arr\n",
    "            \n",
    "    def swap(self, arr, i, j):\n",
    "        # print(arr_one, arr_two)\n",
    "        temp = arr[i]\n",
    "        arr[i] = arr[j]\n",
    "        arr[j] = temp \n",
    "\n",
    "    def lowestString(self, strs):\n",
    "        if strs == None or len(strs) == 0:\n",
    "            return \"\"\n",
    "\n",
    "        strs = self.sort(strs)\n",
    "        \n",
    "        res = \"\"\n",
    "        for i in range(len(strs)):\n",
    "            res += strs[i]\n",
    "        return res"
   ]
  },
  {
   "cell_type": "code",
   "execution_count": 51,
   "metadata": {},
   "outputs": [
    {
     "data": {
      "text/plain": [
       "'aacbabcz'"
      ]
     },
     "execution_count": 51,
     "metadata": {},
     "output_type": "execute_result"
    }
   ],
   "source": [
    "strs = [\"z\", \"a\", \"ac\", \"b\", \"ba\", \"c\"]\n",
    "strs = [\"b\", \"ba\"]\n",
    "solution = LowestLexicography()\n",
    "solution.lowestString(strs)"
   ]
  },
  {
   "cell_type": "code",
   "execution_count": null,
   "metadata": {},
   "outputs": [],
   "source": []
  }
 ],
 "metadata": {
  "interpreter": {
   "hash": "85c51a4259275393737ca8d3e0cd6fa489554cf4913552085d5553b62ac22de5"
  },
  "kernelspec": {
   "display_name": "Python 3.8.6 ('tensorflow2')",
   "language": "python",
   "name": "python3"
  },
  "language_info": {
   "codemirror_mode": {
    "name": "ipython",
    "version": 3
   },
   "file_extension": ".py",
   "mimetype": "text/x-python",
   "name": "python",
   "nbconvert_exporter": "python",
   "pygments_lexer": "ipython3",
   "version": "3.8.6"
  },
  "orig_nbformat": 4
 },
 "nbformat": 4,
 "nbformat_minor": 2
}
