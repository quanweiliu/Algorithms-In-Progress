{
 "cells": [
  {
   "cell_type": "code",
   "execution_count": 34,
   "metadata": {},
   "outputs": [],
   "source": [
    "class Solution:\n",
    "    def countPrimes(self, n: int) -> int:\n",
    "        res = 0\n",
    "        for i in range(2, n):\n",
    "            if self.isPrime(i):\n",
    "                print(i)\n",
    "                res += 1\n",
    "        return res\n",
    "        \n",
    "    def isPrime(self, num):\n",
    "        for i in range(2, num):\n",
    "            if num % i == 0:\n",
    "                \n",
    "                return False\n",
    "        return True"
   ]
  },
  {
   "cell_type": "code",
   "execution_count": 35,
   "metadata": {},
   "outputs": [
    {
     "name": "stdout",
     "output_type": "stream",
     "text": [
      "2\n",
      "3\n",
      "5\n",
      "7\n"
     ]
    },
    {
     "data": {
      "text/plain": [
       "4"
      ]
     },
     "execution_count": 35,
     "metadata": {},
     "output_type": "execute_result"
    }
   ],
   "source": [
    "s = Solution()\n",
    "s.countPrimes(10)"
   ]
  },
  {
   "cell_type": "markdown",
   "metadata": {},
   "source": [
    "# 改进"
   ]
  },
  {
   "cell_type": "code",
   "execution_count": 96,
   "metadata": {},
   "outputs": [],
   "source": [
    "class Solution:\n",
    "    def countPrimes(self, n: int) -> int:\n",
    "        res = 0\n",
    "        for i in range(2, n):\n",
    "            if self.isPrime(i):\n",
    "                print(i)\n",
    "                res += 1\n",
    "        return res\n",
    "        \n",
    "    def isPrime(self, num):\n",
    "        for i in range(2, num):\n",
    "            if i**2 > num:\n",
    "                break\n",
    "            if num % i == 0:\n",
    "                return False\n",
    "            \n",
    "        return True"
   ]
  },
  {
   "cell_type": "code",
   "execution_count": 97,
   "metadata": {},
   "outputs": [
    {
     "name": "stdout",
     "output_type": "stream",
     "text": [
      "2\n",
      "3\n",
      "5\n",
      "7\n"
     ]
    },
    {
     "data": {
      "text/plain": [
       "4"
      ]
     },
     "execution_count": 97,
     "metadata": {},
     "output_type": "execute_result"
    }
   ],
   "source": [
    "s = Solution()\n",
    "s.countPrimes(10)"
   ]
  },
  {
   "cell_type": "markdown",
   "metadata": {},
   "source": [
    "# 重大修订\n",
    "- 首先从 2 开始，我们知道 2 是一个素数，那么 2 × 2 = 4, 3 × 2 = 6, 4 × 2 = 8… 都不可能是素数了。\n",
    "\n",
    "- 然后我们发现 3 也是素数，那么 3 × 2 = 6, 3 × 3 = 9, 3 × 4 = 12… 也都不可能是素数了。\n",
    "\n",
    "- 这个思路又叫做「筛选法」"
   ]
  },
  {
   "cell_type": "code",
   "execution_count": 89,
   "metadata": {},
   "outputs": [],
   "source": [
    "class Solution:\n",
    "    def countPrimes(self, n: int) -> int:\n",
    "        # 将数组都初始化为 true\n",
    "        isPrime = [True]*n\n",
    "        print(isPrime)\n",
    "\n",
    "        for i in range(2, n):\n",
    "            j = 2\n",
    "            while i*j < n:\n",
    "                # print(i*j)\n",
    "                isPrime[i*j] = False\n",
    "                j += 1\n",
    "                \n",
    "        print(isPrime)\n",
    "        count = 0\n",
    "        for i in range(2, n):\n",
    "            if isPrime[i]:\n",
    "                count += 1\n",
    "        return count"
   ]
  },
  {
   "cell_type": "code",
   "execution_count": 90,
   "metadata": {},
   "outputs": [
    {
     "name": "stdout",
     "output_type": "stream",
     "text": [
      "[True, True, True, True, True, True, True, True, True, True]\n",
      "[True, True, True, True, False, True, False, True, False, False]\n"
     ]
    },
    {
     "data": {
      "text/plain": [
       "4"
      ]
     },
     "execution_count": 90,
     "metadata": {},
     "output_type": "execute_result"
    }
   ],
   "source": [
    "s = Solution()\n",
    "s.countPrimes(10)"
   ]
  },
  {
   "cell_type": "markdown",
   "metadata": {},
   "source": [
    "# 重大修订改进\n",
    "- Sieve of Eratosthenes"
   ]
  },
  {
   "cell_type": "code",
   "execution_count": null,
   "metadata": {},
   "outputs": [],
   "source": [
    "class Solution:\n",
    "    def countPrimes(self, n: int) -> int:\n",
    "        # 将数组都初始化为 true\n",
    "        isPrime = [True]*n\n",
    "\n",
    "        for i in range(2, n):\n",
    "            if i**2 > n:\n",
    "                break\n",
    "            j = 2\n",
    "            while (i*j) < n:\n",
    "                isPrime[i*j] = False\n",
    "                j += 1\n",
    "                \n",
    "        count = 0\n",
    "        for i in range(2, n):\n",
    "            if isPrime[i]:\n",
    "                count += 1\n",
    "        return count"
   ]
  },
  {
   "cell_type": "markdown",
   "metadata": {},
   "source": [
    "# 最终改进"
   ]
  },
  {
   "cell_type": "code",
   "execution_count": 120,
   "metadata": {},
   "outputs": [],
   "source": [
    "class Solution:\n",
    "    def countPrimes(self, n: int) -> int:\n",
    "        # 将数组都初始化为 true\n",
    "        isPrime = [True]*n\n",
    "\n",
    "        for i in range(2, n):\n",
    "            if i**2 > n:\n",
    "                break\n",
    "\n",
    "            # 为什么？   这里会重复进入吗？\n",
    "            if isPrime[i]:\n",
    "                j = 2\n",
    "                while (i*j) < n:\n",
    "                    isPrime[i*j] = False\n",
    "                    j += 1\n",
    "                \n",
    "        count = 0\n",
    "        for i in range(2, n):\n",
    "            if isPrime[i]:\n",
    "                count += 1\n",
    "        return count"
   ]
  },
  {
   "cell_type": "code",
   "execution_count": 121,
   "metadata": {},
   "outputs": [
    {
     "data": {
      "text/plain": [
       "348513"
      ]
     },
     "execution_count": 121,
     "metadata": {},
     "output_type": "execute_result"
    }
   ],
   "source": [
    "s = Solution()\n",
    "s.countPrimes(5000000)"
   ]
  },
  {
   "cell_type": "code",
   "execution_count": null,
   "metadata": {},
   "outputs": [],
   "source": [
    "# 619738\n",
    "# 5000000"
   ]
  },
  {
   "cell_type": "code",
   "execution_count": null,
   "metadata": {},
   "outputs": [],
   "source": []
  },
  {
   "cell_type": "code",
   "execution_count": null,
   "metadata": {},
   "outputs": [],
   "source": []
  }
 ],
 "metadata": {
  "interpreter": {
   "hash": "85c51a4259275393737ca8d3e0cd6fa489554cf4913552085d5553b62ac22de5"
  },
  "kernelspec": {
   "display_name": "Python 3.8.6 ('tensorflow2')",
   "language": "python",
   "name": "python3"
  },
  "language_info": {
   "codemirror_mode": {
    "name": "ipython",
    "version": 3
   },
   "file_extension": ".py",
   "mimetype": "text/x-python",
   "name": "python",
   "nbconvert_exporter": "python",
   "pygments_lexer": "ipython3",
   "version": "3.8.6"
  },
  "orig_nbformat": 4
 },
 "nbformat": 4,
 "nbformat_minor": 2
}
