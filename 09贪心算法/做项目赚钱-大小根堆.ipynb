{
 "cells": [
  {
   "cell_type": "markdown",
   "metadata": {},
   "source": [
    "# 问题出初-左程云\n",
    "- https://www.bilibili.com/video/BV13g41157hK?p=10&share_source=copy_web\n",
    "\n",
    "# 大根堆\n",
    "- https://blog.csdn.net/weixin_39331401/article/details/107953164"
   ]
  },
  {
   "cell_type": "code",
   "execution_count": 2,
   "metadata": {},
   "outputs": [],
   "source": [
    "import heapq"
   ]
  },
  {
   "cell_type": "markdown",
   "metadata": {},
   "source": [
    "# 用模拟的结构"
   ]
  },
  {
   "cell_type": "code",
   "execution_count": 122,
   "metadata": {},
   "outputs": [
    {
     "name": "stdout",
     "output_type": "stream",
     "text": [
      "[(1, 3), (2, 4), (3, 5), (5, 6), (9, 10)]\n"
     ]
    }
   ],
   "source": [
    "# 模拟小根堆\n",
    "project1 = [(5,6),(2,4),(1,3),(3,5),(9,10)]\n",
    "project1.sort(reverse=False, key= lambda x: x[0])\n",
    "print(project1)\n",
    "\n",
    "\n",
    "def findMaximizedCaptal(W, k, project1):\n",
    "    profit = []\n",
    "\n",
    "    for i in range(k):\n",
    "        # print(profit, W)\n",
    "        # print(project1.pop()[0])\n",
    "        print(\"*********\")\n",
    "        while len(project1) > 0 and project1[0][0] <= W:   # 4, 3; 3, 2\n",
    "\n",
    "            # 模拟大根堆\n",
    "            profit.append(project1.pop(0)[1])\n",
    "            profit.sort(reverse=True)\n",
    "        \n",
    "            # print(profit, len(project1), project1[0][0])\n",
    "\n",
    "        if len(profit) == 0:\n",
    "            return W\n",
    "\n",
    "        print(\"W\", W, profit)\n",
    "        W += profit.pop(0)\n",
    "        print(\"W\",W)\n",
    "\n",
    "    return W"
   ]
  },
  {
   "cell_type": "code",
   "execution_count": 123,
   "metadata": {},
   "outputs": [
    {
     "name": "stdout",
     "output_type": "stream",
     "text": [
      "*********\n",
      "W 1 [3]\n",
      "W 4\n",
      "*********\n",
      "W 4 [5, 4]\n",
      "W 9\n",
      "*********\n",
      "W 9 [10, 6, 4]\n",
      "W 19\n"
     ]
    },
    {
     "data": {
      "text/plain": [
       "19"
      ]
     },
     "execution_count": 123,
     "metadata": {},
     "output_type": "execute_result"
    }
   ],
   "source": [
    "k = 3\n",
    "W = 1\n",
    "# 初始资金，做的项目数，项目信息\n",
    "# W, k, project\n",
    "findMaximizedCaptal(W, k, project1)"
   ]
  },
  {
   "cell_type": "markdown",
   "metadata": {},
   "source": [
    "# 用真实的结构"
   ]
  },
  {
   "cell_type": "code",
   "execution_count": 125,
   "metadata": {},
   "outputs": [],
   "source": [
    "class Maxheap(object):\n",
    "    def __init__(self, maxsize):\n",
    "        self.maxsize = maxsize         #堆的大小\n",
    "        self._elements = [0] * maxsize #初始化堆\n",
    "        self._count = 0                #索引\n",
    " \n",
    "    def add(self, value):\n",
    "        if self._count >= self.maxsize:\n",
    "            raise Exception('full')\n",
    "        self._elements[self._count] = value #放到末尾\n",
    "        self._count += 1                    #索引加一，这是当前的下一个索引\n",
    "        self._siftup(self._count - 1)       #siftup将当前索引值维护到堆的位置\n",
    " \n",
    "    def extract(self):\n",
    "        if self._count <= 0:\n",
    "            raise Exception('empty')\n",
    "        value = self._elements[0]          #记录堆顶值\n",
    "        self._count-=1 \n",
    "        self._elements[0] = self._elements[self._count] #末尾移到堆顶\n",
    "        self._siftdown(0)                  #从上到下维护堆\n",
    "        return value\n",
    " \n",
    "    def _siftup(self, index):\n",
    "        if index > 0:\n",
    "            parent = (index - 1) // 2    #当前索引的父索引\n",
    "            if self._elements[index] > self._elements[parent]: #当前值大于父，需要替换\n",
    "                self._elements[index], self._elements[parent] = self._elements[parent], self._elements[index]\n",
    "                self._siftup(parent)     #加入的值换到了父索引位置，继续向上看是不是比上一层的父更大\n",
    " \n",
    "    def _siftdown(self, index):\n",
    "        left = index * 2 + 1        #左子树索引\n",
    "        right = index * 2 + 2       #右子树索引\n",
    "        new_index = index           #用一个新索引，后面观察需不需要换\n",
    "        if right < self._count:     #有左右子树的情况\n",
    "            if self._elements[left] <= self._elements[index] and self._elements[right] <= self._elements[index]:  #当前比左右都大，不用操作\n",
    "                pass\n",
    "            else:\n",
    "                if self._elements[left] >= self._elements[right]:\n",
    "                    new_index = left     #左边更大，且左边大于当前，准备用左边跟当前索引换\n",
    "                else:\n",
    "                    new_index = right\n",
    "        elif left < self._count:         #只有左子树\n",
    "            if self._elements[left] >= self._elements[index]:\n",
    "                new_index = left\n",
    "        if new_index != index:           #需要换\n",
    "            self._elements[new_index], self._elements[index] = self._elements[index], self._elements[new_index]\n",
    "            self._siftdown(new_index)"
   ]
  },
  {
   "cell_type": "code",
   "execution_count": 151,
   "metadata": {},
   "outputs": [],
   "source": [
    "# 模拟小根堆\n",
    "def findMaximizedCaptal(W, k, cost, profit):\n",
    "    minCost = []\n",
    "    \n",
    "    for i in range(len(cost)):\n",
    "        heapq.heappush(minCost, (cost[i], profit[i]))\n",
    "    \n",
    "    profit = Maxheap(len(cost)+1)\n",
    "\n",
    "    for i in range(k):\n",
    "        # print(\"*********\")\n",
    "        # temp_num = heapq.heappop(minCost)\n",
    "        # while len(minCost) > 0 and temp_num[0] <= W: \n",
    "        \n",
    "        while len(minCost) > 0:\n",
    "            temp_num = heapq.heappop(minCost)\n",
    "            # print(\"temp_num\", temp_num[0])         # 2, 4\n",
    "            if temp_num[0] <= W:\n",
    "                # 模拟大根堆\n",
    "                profit.add(temp_num)\n",
    "            else:\n",
    "                heapq.heappush(minCost, temp_num)\n",
    "                break\n",
    "        # print(minCost)\n",
    "        # print(profit._elements)\n",
    "        # print(profit._elements[0][0])\n",
    "        if profit._elements[0][0] == 0:\n",
    "            return W\n",
    "\n",
    "        W += profit.extract()[1]\n",
    "    return W"
   ]
  },
  {
   "cell_type": "code",
   "execution_count": 152,
   "metadata": {},
   "outputs": [
    {
     "data": {
      "text/plain": [
       "19"
      ]
     },
     "execution_count": 152,
     "metadata": {},
     "output_type": "execute_result"
    }
   ],
   "source": [
    "k = 3\n",
    "W = 1\n",
    "\n",
    "cost = [5,2,1,3,9]\n",
    "profit = [6,4,3,5,10]\n",
    "\n",
    "findMaximizedCaptal(W, k, cost, profit)"
   ]
  },
  {
   "cell_type": "code",
   "execution_count": 57,
   "metadata": {},
   "outputs": [
    {
     "data": {
      "text/plain": [
       "[(1, 2), (3, 4), (2, 3)]"
      ]
     },
     "execution_count": 57,
     "metadata": {},
     "output_type": "execute_result"
    }
   ],
   "source": [
    "test = [(1,2),(3,4),(2,3)]\n",
    "# test = [(5,6),(2,4),(1,3),(3,5),(9,10)]\n",
    "heapq.heapify(test)\n",
    "test"
   ]
  },
  {
   "cell_type": "code",
   "execution_count": 60,
   "metadata": {},
   "outputs": [
    {
     "data": {
      "text/plain": [
       "(3, 4)"
      ]
     },
     "execution_count": 60,
     "metadata": {},
     "output_type": "execute_result"
    }
   ],
   "source": [
    "heapq.heappop(test)"
   ]
  },
  {
   "cell_type": "code",
   "execution_count": 113,
   "metadata": {},
   "outputs": [],
   "source": [
    "# test = [(1,2),(3,4),(2,3)]\n",
    "test = Maxheap(3)\n",
    "test.add((1,2))\n",
    "test.add((3,4))\n",
    "test.add((2,3))"
   ]
  },
  {
   "cell_type": "code",
   "execution_count": 117,
   "metadata": {},
   "outputs": [
    {
     "data": {
      "text/plain": [
       "2"
      ]
     },
     "execution_count": 117,
     "metadata": {},
     "output_type": "execute_result"
    }
   ],
   "source": [
    "len(test._elements[0])"
   ]
  },
  {
   "cell_type": "code",
   "execution_count": 109,
   "metadata": {},
   "outputs": [
    {
     "data": {
      "text/plain": [
       "(3, 4)"
      ]
     },
     "execution_count": 109,
     "metadata": {},
     "output_type": "execute_result"
    }
   ],
   "source": [
    "test.extract()"
   ]
  },
  {
   "cell_type": "code",
   "execution_count": 35,
   "metadata": {},
   "outputs": [
    {
     "data": {
      "text/plain": [
       "<zip at 0x1fa55573700>"
      ]
     },
     "execution_count": 35,
     "metadata": {},
     "output_type": "execute_result"
    }
   ],
   "source": [
    "cost = [5,2,1,3,9]\n",
    "profit = [6,4,3,5,10]\n",
    "zip_num = zip(cost, profit)\n",
    "zip_num"
   ]
  },
  {
   "cell_type": "code",
   "execution_count": 36,
   "metadata": {},
   "outputs": [
    {
     "name": "stdout",
     "output_type": "stream",
     "text": [
      "(5, 6)\n",
      "(2, 4)\n",
      "(1, 3)\n",
      "(3, 5)\n",
      "(9, 10)\n"
     ]
    }
   ],
   "source": [
    "for i in zip_num:\n",
    "    print(i)"
   ]
  },
  {
   "cell_type": "code",
   "execution_count": 39,
   "metadata": {},
   "outputs": [
    {
     "data": {
      "text/plain": [
       "zip"
      ]
     },
     "execution_count": 39,
     "metadata": {},
     "output_type": "execute_result"
    }
   ],
   "source": [
    "type(zip_num)"
   ]
  }
 ],
 "metadata": {
  "interpreter": {
   "hash": "85c51a4259275393737ca8d3e0cd6fa489554cf4913552085d5553b62ac22de5"
  },
  "kernelspec": {
   "display_name": "Python 3.8.6 ('tensorflow2')",
   "language": "python",
   "name": "python3"
  },
  "language_info": {
   "codemirror_mode": {
    "name": "ipython",
    "version": 3
   },
   "file_extension": ".py",
   "mimetype": "text/x-python",
   "name": "python",
   "nbconvert_exporter": "python",
   "pygments_lexer": "ipython3",
   "version": "3.8.6"
  },
  "orig_nbformat": 4
 },
 "nbformat": 4,
 "nbformat_minor": 2
}
