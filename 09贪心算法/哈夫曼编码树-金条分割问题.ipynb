{
 "cells": [
  {
   "cell_type": "markdown",
   "metadata": {},
   "source": [
    "# 题目：\n",
    "- 一块金条切成两半，是需要花费和长度数值一样的铜板的。比如长度为20的金条，不管切成长度多大的两半，都要花费20个铜板。\n",
    "- 一群人想整分整块金条，怎么分最省铜板?\n",
    "- 输入一个数组，返回分割的最小代价。"
   ]
  },
  {
   "cell_type": "markdown",
   "metadata": {},
   "source": [
    "# 堆基础知识"
   ]
  },
  {
   "cell_type": "code",
   "execution_count": 1,
   "metadata": {},
   "outputs": [],
   "source": [
    "import heapq\n",
    "\n",
    "# heapq有两种方式创建堆， 一种是使用一个空列表，然后使用 heapq.heappush()函数把值加入堆中，\n",
    "# 另外一种就是使用 heap.heapify(list) 转换列表成为堆结构"
   ]
  },
  {
   "cell_type": "code",
   "execution_count": null,
   "metadata": {},
   "outputs": [],
   "source": [
    "nums = [2, 3, 5, 1, 54, 23, 132]\n",
    "heap = []\n",
    "for num in nums:\n",
    "    heapq.heappush(heap, num)  # 加入堆\n",
    "\n",
    "print(heap[0])  # 如果只是想获取最小值而不是弹出，使用heap[0]\n",
    "print([heapq.heappop(heap) for _ in range(len(nums))])  # 堆排序结果\n",
    "# out: [1, 2, 3, 5, 23, 54, 132]"
   ]
  },
  {
   "cell_type": "code",
   "execution_count": null,
   "metadata": {},
   "outputs": [],
   "source": [
    "# 第二种\n",
    "nums = [2, 3, 5, 1, 54, 23, 132]\n",
    "heapq.heapify(nums)\n",
    "print([heapq.heappop(nums) for _ in range(len(nums))])  # 堆排序结果\n",
    "# out: [1, 2, 3, 5, 23, 54, 132]"
   ]
  },
  {
   "cell_type": "markdown",
   "metadata": {},
   "source": [
    "# 哈夫曼编码\n",
    "- 把数据放到小根堆中\n",
    "- 然后两两结合，结合的数再放到小根堆中\n",
    "- 依此类推\n",
    "- https://blog.csdn.net/kxbdys/article/details/124517423"
   ]
  },
  {
   "cell_type": "code",
   "execution_count": 16,
   "metadata": {},
   "outputs": [],
   "source": [
    "def lessMoney(arr):\n",
    "    heap = []\n",
    "\n",
    "    # 把数据放到小根堆中\n",
    "    for i in arr:\n",
    "        heapq.heappush(heap, i)\n",
    "    # print(len(heap))\n",
    "\n",
    "    sum = 0\n",
    "    cur = 0\n",
    "    while len(heap) > 1:\n",
    "        # 然后两两结合\n",
    "        cur = heapq.heappop(heap) + heapq.heappop(heap)\n",
    "        # print(\"cur\", cur)\n",
    "        sum += cur\n",
    "        # 结合的数再放到小根堆中\n",
    "        heapq.heappush(heap, cur)\n",
    "    # 沿途所有代价返回\n",
    "    return sum"
   ]
  },
  {
   "cell_type": "code",
   "execution_count": 20,
   "metadata": {},
   "outputs": [
    {
     "name": "stdout",
     "output_type": "stream",
     "text": [
      "cur 4\n",
      "cur 10\n",
      "cur 15\n",
      "cur 25\n",
      "cur 41\n"
     ]
    },
    {
     "data": {
      "text/plain": [
       "95"
      ]
     },
     "execution_count": 20,
     "metadata": {},
     "output_type": "execute_result"
    }
   ],
   "source": [
    "arr = [10,20,30]\n",
    "arr = [2,3,4,7,9,2]\n",
    "# arr = [2,3,4,5,6]\n",
    "arr = [1, 3, 6, 6, 9, 16]\n",
    "\n",
    "# 问题描述：整块金条长度 2+3+4+5 = 14，\n",
    "# 求把长度为 14 的金条切分成这样四段的长度的最小花费？\n",
    "\n",
    "lessMoney(arr)"
   ]
  },
  {
   "cell_type": "code",
   "execution_count": 7,
   "metadata": {},
   "outputs": [],
   "source": [
    "# 9\n",
    "# 4，5\n",
    "# 2，3"
   ]
  },
  {
   "cell_type": "code",
   "execution_count": null,
   "metadata": {},
   "outputs": [],
   "source": []
  },
  {
   "cell_type": "code",
   "execution_count": null,
   "metadata": {},
   "outputs": [],
   "source": []
  },
  {
   "cell_type": "code",
   "execution_count": null,
   "metadata": {},
   "outputs": [],
   "source": []
  },
  {
   "cell_type": "code",
   "execution_count": null,
   "metadata": {},
   "outputs": [],
   "source": []
  }
 ],
 "metadata": {
  "interpreter": {
   "hash": "85c51a4259275393737ca8d3e0cd6fa489554cf4913552085d5553b62ac22de5"
  },
  "kernelspec": {
   "display_name": "Python 3.8.6 ('tensorflow2')",
   "language": "python",
   "name": "python3"
  },
  "language_info": {
   "codemirror_mode": {
    "name": "ipython",
    "version": 3
   },
   "file_extension": ".py",
   "mimetype": "text/x-python",
   "name": "python",
   "nbconvert_exporter": "python",
   "pygments_lexer": "ipython3",
   "version": "3.8.6"
  },
  "orig_nbformat": 4
 },
 "nbformat": 4,
 "nbformat_minor": 2
}
