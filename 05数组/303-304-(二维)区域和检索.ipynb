{
 "cells": [
  {
   "cell_type": "markdown",
   "metadata": {},
   "source": [
    "## 一维数组中的前缀和\n",
    "- 初始化一次、检索多次的题目的秘诀：在初始化的时候做预处理。\n",
    "- https://leetcode-cn.com/problems/range-sum-query-immutable/solution/tu-jie-guan-fang-tui-jian-ti-jie-qu-yu-h-b1fy/\n"
   ]
  },
  {
   "cell_type": "code",
   "execution_count": null,
   "metadata": {},
   "outputs": [],
   "source": [
    "class NumArray:\n",
    "    def __init__(self, nums):\n",
    "        self.nums = nums\n",
    "        self.sum = 0\n",
    "\n",
    "    def sumRange(self, left: int, right: int):\n",
    "        self.sum = 0\n",
    "        for i in range(left, right+1):\n",
    "            self.sum += self.nums[i]\n",
    "            # print(self.sum)\n",
    "        return self.sum"
   ]
  },
  {
   "cell_type": "code",
   "execution_count": null,
   "metadata": {},
   "outputs": [],
   "source": [
    "s = NumArray([-2, 0, 3, -5, 2, -1])\n",
    "s.sumRange(2,5)"
   ]
  },
  {
   "cell_type": "code",
   "execution_count": null,
   "metadata": {},
   "outputs": [],
   "source": [
    "# s.sumRange(0, 2)"
   ]
  },
  {
   "cell_type": "code",
   "execution_count": null,
   "metadata": {},
   "outputs": [],
   "source": [
    "s.sumRange(0, 5)"
   ]
  },
  {
   "cell_type": "markdown",
   "metadata": {},
   "source": [
    "## 代码优化\n",
    "- 前缀和数组\n",
    "- 以空间换时间"
   ]
  },
  {
   "cell_type": "code",
   "execution_count": 21,
   "metadata": {},
   "outputs": [],
   "source": [
    "class NumArray:\n",
    "    def __init__(self, nums):\n",
    "        self.sums = [0]\n",
    "        _sums = self.sums\n",
    "        # 前缀和数组 sums 的长度设为 n+1 的目的是为了方便计算 sumRange(i,j)，\n",
    "        # 不需要对 i=0 的情况特殊处理\n",
    "\n",
    "        for num in nums:\n",
    "            _sums.append(_sums[-1] + num)\n",
    "            print(_sums)\n",
    "\n",
    "    def sumRange(self, i: int, j: int) -> int:\n",
    "        _sums = self.sums\n",
    "        return _sums[j + 1] - _sums[i]"
   ]
  },
  {
   "cell_type": "code",
   "execution_count": 23,
   "metadata": {},
   "outputs": [
    {
     "name": "stdout",
     "output_type": "stream",
     "text": [
      "[0, -2]\n",
      "[0, -2, -2]\n",
      "[0, -2, -2, 1]\n",
      "[0, -2, -2, 1, -4]\n",
      "[0, -2, -2, 1, -4, -2]\n",
      "[0, -2, -2, 1, -4, -2, -3]\n"
     ]
    },
    {
     "data": {
      "text/plain": [
       "(-2, -1, -3)"
      ]
     },
     "execution_count": 23,
     "metadata": {},
     "output_type": "execute_result"
    }
   ],
   "source": [
    "s = NumArray([-2, 0, 3, -5, 2, -1])\n",
    "# print(len([-2, 0, 3, -5, 2, -1]))   # 6\n",
    "s.sumRange(0,0),s.sumRange(2, 5),s.sumRange(0, 5)"
   ]
  },
  {
   "cell_type": "markdown",
   "metadata": {},
   "source": [
    "## 二维区域和\n",
    "- 暴力求解（超时）\n",
    "- 对每一行计算一维前缀和\n",
    "- 对整个矩阵计算二维前缀和"
   ]
  },
  {
   "cell_type": "code",
   "execution_count": null,
   "metadata": {},
   "outputs": [],
   "source": [
    "class NumMatrix:\n",
    "    def __init__(self, matrix):\n",
    "        self.matrix = matrix\n",
    "        self.sum = 0\n",
    "\n",
    "    def sumRegion(self, row1: int, col1: int, row2: int, col2: int):\n",
    "        for i in range(row1, row2+1):\n",
    "            # print(row1, row2)\n",
    "            for j in range(col1, col2+1):\n",
    "                self.sum = self.sum + self.matrix[i][j]\n",
    "        return self.sum"
   ]
  },
  {
   "cell_type": "code",
   "execution_count": null,
   "metadata": {},
   "outputs": [],
   "source": [
    "matrix = [[3,0,1,4,2],\n",
    "            [5,6,3,2,1],\n",
    "            [1,2,0,1,5],\n",
    "            [4,1,0,1,7],\n",
    "            [1,0,3,0,5]]\n",
    "s = NumMatrix(matrix)\n",
    "s.sumRegion(2, 1, 4, 3)\n",
    "# s.sumRegion(1, 1, 2, 2)"
   ]
  },
  {
   "cell_type": "code",
   "execution_count": null,
   "metadata": {},
   "outputs": [],
   "source": [
    "matrix[2]"
   ]
  },
  {
   "cell_type": "markdown",
   "metadata": {},
   "source": [
    "## 优化\n",
    "- 前缀和\n",
    "- 对每一行计算一维前缀和\n",
    "- 检索的时间复杂度是 O(m)"
   ]
  },
  {
   "cell_type": "code",
   "execution_count": null,
   "metadata": {},
   "outputs": [],
   "source": [
    "class NumMatrix:\n",
    "    def __init__(self, matrix):\n",
    "        # 将 sums 的列数设为 n+1 的目的是为了方便计算每一行的子数组和，\n",
    "        # 不需要对 col 1 = 0 的情况特殊处理。\n",
    "        m, n = len(matrix), (len(matrix[0]) if matrix else 0)\n",
    "        self.sums = [[0] * (n + 1) for _ in range(m)]\n",
    "        # print(self.sums)\n",
    "        _sums = self.sums\n",
    "\n",
    "        for i in range(m):\n",
    "            for j in range(n):\n",
    "                # print(_sums)\n",
    "                _sums[i][j + 1] = _sums[i][j] + matrix[i][j]\n",
    "        # print(_sums)\n",
    "\n",
    "    def sumRegion(self, row1: int, col1: int, row2: int, col2: int) -> int:\n",
    "        _sums = self.sums\n",
    "\n",
    "        total = sum(_sums[i][col2 + 1] - _sums[i][col1] for i in range(row1, row2 + 1))\n",
    "        return total"
   ]
  },
  {
   "cell_type": "code",
   "execution_count": 24,
   "metadata": {},
   "outputs": [
    {
     "name": "stdout",
     "output_type": "stream",
     "text": [
      "[[3, 0, 1, 4, 2], [5, 6, 3, 2, 1], [1, 2, 0, 1, 5], [4, 1, 0, 1, 7], [1, 0, 3, 0, 5]]\n",
      "[[0, 0, 0, 0, 0, 0], [0, 0, 0, 0, 0, 0], [0, 0, 0, 0, 0, 0], [0, 0, 0, 0, 0, 0], [0, 0, 0, 0, 0, 0], [0, 0, 0, 0, 0, 0]]\n"
     ]
    }
   ],
   "source": [
    "matrix = [[3,0,1,4,2],\n",
    "            [5,6,3,2,1],\n",
    "            [1,2,0,1,5],\n",
    "            [4,1,0,1,7],\n",
    "            [1,0,3,0,5]]\n",
    "print(matrix)\n",
    "\n",
    "# matrix = [[-4,-5]]\n",
    "# matrix = [[0,0,0,0],\n",
    "#         [0,0,0,1],\n",
    "#         [0,1,0,1]]\n",
    "\n",
    "s = NumMatrix(matrix)\n",
    "# row1, col1, row2, col2"
   ]
  },
  {
   "cell_type": "code",
   "execution_count": null,
   "metadata": {},
   "outputs": [],
   "source": [
    "s.sumRegion(2, 1, 4, 3)"
   ]
  },
  {
   "cell_type": "code",
   "execution_count": null,
   "metadata": {},
   "outputs": [],
   "source": [
    "s.sumRegion(1, 1, 2, 2)"
   ]
  },
  {
   "cell_type": "markdown",
   "metadata": {},
   "source": [
    "## 优化\n",
    "- 对整个矩阵计算二维前缀和\n",
    "- 每次检索 O(1)\n",
    "- 我们可以维护一个二维 preSum 数组，专门记录以原点为顶点的矩阵的元素之和，就可以用几次加减运算算出任何一个子矩阵的元素和：\n",
    "- https://leetcode-cn.com/problems/range-sum-query-2d-immutable/solution/python-qian-zhui-he-by-kelg-x5rr/"
   ]
  },
  {
   "cell_type": "code",
   "execution_count": 25,
   "metadata": {},
   "outputs": [],
   "source": [
    "class NumMatrix:\n",
    "和重点二重复\n",
    "    def __init__(self, matrix):\n",
    "        rows, cols = len(matrix), len(matrix[0])\n",
    "        # pre_sum[i][j] 代表从(0, 0)到(i-1, j-1)所有数的总和. \n",
    "        self.pre_sum = [[0 for _ in range(cols + 1)] for _ in range(rows + 1)]\n",
    "        \n",
    "        if rows == 0 or cols == 0: \n",
    "            return \n",
    "        \n",
    "        for row in range(1, rows + 1): \n",
    "            for col in range(1, cols + 1): \n",
    "                self.pre_sum[row][col] = self.pre_sum[row - 1][col] + self.pre_sum[row][col - 1] \\\n",
    "                                            - self.pre_sum[row - 1][col - 1] + matrix[row - 1][col - 1] \n",
    "\n",
    "    def sumRegion(self, row1: int, col1: int, row2: int, col2: int) -> int:\n",
    "        return self.pre_sum[row2 + 1][col2 + 1] - self.pre_sum[row1][col2 + 1] - self.pre_sum[row2 + 1][col1] + self.pre_sum[row1][col1]"
   ]
  },
  {
   "cell_type": "code",
   "execution_count": 26,
   "metadata": {},
   "outputs": [
    {
     "data": {
      "text/plain": [
       "8"
      ]
     },
     "execution_count": 26,
     "metadata": {},
     "output_type": "execute_result"
    }
   ],
   "source": [
    "matrix = [[3,0,1,4,2],\n",
    "            [5,6,3,2,1],\n",
    "            [1,2,0,1,5],\n",
    "            [4,1,0,1,7],\n",
    "            [1,0,3,0,5]]\n",
    "\n",
    "\n",
    "s = NumMatrix(matrix)\n",
    "s.sumRegion(2, 1, 4, 3)"
   ]
  },
  {
   "cell_type": "code",
   "execution_count": null,
   "metadata": {},
   "outputs": [],
   "source": []
  },
  {
   "cell_type": "code",
   "execution_count": null,
   "metadata": {},
   "outputs": [],
   "source": []
  }
 ],
 "metadata": {
  "interpreter": {
   "hash": "9ecbc95d31df1b277e5ec566a835865c3a9a253da4266404bdbc6ee7e31406f4"
  },
  "kernelspec": {
   "display_name": "Python 3.8.6 ('tensorflow2')",
   "language": "python",
   "name": "python3"
  },
  "language_info": {
   "codemirror_mode": {
    "name": "ipython",
    "version": 3
   },
   "file_extension": ".py",
   "mimetype": "text/x-python",
   "name": "python",
   "nbconvert_exporter": "python",
   "pygments_lexer": "ipython3",
   "version": "3.8.6"
  },
  "orig_nbformat": 4
 },
 "nbformat": 4,
 "nbformat_minor": 2
}
