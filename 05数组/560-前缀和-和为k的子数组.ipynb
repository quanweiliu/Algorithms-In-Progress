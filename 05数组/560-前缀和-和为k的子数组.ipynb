{
 "cells": [
  {
   "cell_type": "markdown",
   "metadata": {},
   "source": [
    "# 连续子数组\n",
    "- 超时写法\n",
    "- 链接：https://leetcode-cn.com/problems/subarray-sum-equals-k/solution/560-he-wei-k-de-zi-shu-zu-python-qian-zh-agqr/"
   ]
  },
  {
   "cell_type": "code",
   "execution_count": 28,
   "metadata": {},
   "outputs": [],
   "source": [
    "class Solution:\n",
    "    # 1. 暴力解法\n",
    "    def subarraySum(self, nums, k: int) -> int:\n",
    "        res = 0\n",
    "        for i in range(len(nums)):\n",
    "            sum = nums[i]\n",
    "            if sum == k:\n",
    "                res +=1\n",
    "            for j in range(i+1, len(nums)):\n",
    "                sum += nums[j]\n",
    "                if sum == k:\n",
    "                    res +=1\n",
    "        return res"
   ]
  },
  {
   "cell_type": "code",
   "execution_count": 29,
   "metadata": {},
   "outputs": [
    {
     "data": {
      "text/plain": [
       "2"
      ]
     },
     "execution_count": 29,
     "metadata": {},
     "output_type": "execute_result"
    }
   ],
   "source": [
    "nums = [1,1,1]\n",
    "# nums = [1,2,3]\n",
    "s = Solution()\n",
    "s.subarraySum(nums, 2)"
   ]
  },
  {
   "cell_type": "markdown",
   "metadata": {},
   "source": [
    "## 优化"
   ]
  },
  {
   "cell_type": "code",
   "execution_count": 30,
   "metadata": {},
   "outputs": [],
   "source": [
    "class Solution:\n",
    "    # 2. 前缀和数组\n",
    "    def subarraySum(self, nums, k: int) -> int:\n",
    "        pre_sum = [0]\n",
    "        for num in nums:\n",
    "            pre_sum.append(pre_sum[-1]+num)\n",
    "            \n",
    "        res = 0\n",
    "        for i in range(len(nums)):\n",
    "            if nums[i] == k:\n",
    "                res += 1\n",
    "            for j in range(i+1, len(nums)):\n",
    "                if pre_sum[j+1]-pre_sum[i] == k:\n",
    "                    res += 1\n",
    "        return res"
   ]
  },
  {
   "cell_type": "markdown",
   "metadata": {},
   "source": [
    "## 优化"
   ]
  },
  {
   "cell_type": "code",
   "execution_count": 75,
   "metadata": {},
   "outputs": [],
   "source": [
    "import collections\n",
    "class Solution:\n",
    "    # 3. 前缀和+字典\n",
    "    def subarraySum(self, nums, k: int) -> int:\n",
    "\n",
    "        # num_times 存储某“前缀和”出现的次数\n",
    "        # 用于产生一个带有默认值的dict。主要针对 key 不存在的情况下，也希望有返回值的情况\n",
    "        sum_times = collections.defaultdict(int)\n",
    "        # print(sum_times)\n",
    "        sum_times[0] = 1  # 先给定一个初始值，代表前缀和为 0 的出现了一次\n",
    "        # print(sum_times)\n",
    "        cur_sum = 0       # 记录到当前位置的前缀和\n",
    "        res = 0\n",
    "\n",
    "        for num in nums:\n",
    "            cur_sum += num  # 计算当前前缀和\n",
    "            # 非常重要，重点理解, 这里面的 in\n",
    "            # 如果前缀和减去目标值 k 所得到的值在字典中出现，\n",
    "            # 说明存在一个子数组的和为 k\n",
    "            if cur_sum - k in sum_times: \n",
    "                res += sum_times[cur_sum - k]\n",
    "            print(sum_times)\n",
    "                \n",
    "            sum_times[cur_sum] += 1\n",
    "        return res"
   ]
  },
  {
   "cell_type": "code",
   "execution_count": 77,
   "metadata": {},
   "outputs": [
    {
     "name": "stdout",
     "output_type": "stream",
     "text": [
      "defaultdict(<class 'int'>, {0: 1})\n",
      "defaultdict(<class 'int'>, {0: 1, 1: 1})\n",
      "defaultdict(<class 'int'>, {0: 1, 1: 1, 2: 1})\n",
      "defaultdict(<class 'int'>, {0: 1, 1: 1, 2: 1, 3: 1})\n",
      "defaultdict(<class 'int'>, {0: 1, 1: 1, 2: 1, 3: 1, 8: 1})\n",
      "defaultdict(<class 'int'>, {0: 1, 1: 1, 2: 1, 3: 1, 8: 1, 9: 1})\n",
      "defaultdict(<class 'int'>, {0: 1, 1: 1, 2: 1, 3: 1, 8: 1, 9: 1, 11: 1})\n",
      "defaultdict(<class 'int'>, {0: 1, 1: 1, 2: 1, 3: 1, 8: 1, 9: 1, 11: 1, 17: 1})\n",
      "defaultdict(<class 'int'>, {0: 1, 1: 1, 2: 1, 3: 1, 8: 1, 9: 1, 11: 1, 17: 1, 18: 1})\n",
      "defaultdict(<class 'int'>, {0: 1, 1: 1, 2: 1, 3: 1, 8: 1, 9: 1, 11: 1, 17: 1, 18: 1, 19: 1})\n"
     ]
    },
    {
     "data": {
      "text/plain": [
       "5"
      ]
     },
     "execution_count": 77,
     "metadata": {},
     "output_type": "execute_result"
    }
   ],
   "source": [
    "nums = [1,1,1,5,1,2,6,1,1,1]\n",
    "# nums = [1,2,3]\n",
    "s = Solution()\n",
    "s.subarraySum(nums, 2)"
   ]
  },
  {
   "cell_type": "code",
   "execution_count": 70,
   "metadata": {},
   "outputs": [
    {
     "data": {
      "text/plain": [
       "{0: 2}"
      ]
     },
     "execution_count": 70,
     "metadata": {},
     "output_type": "execute_result"
    }
   ],
   "source": [
    "a = dict()\n",
    "a[0] = 1\n",
    "a[0] += 1\n",
    "a"
   ]
  },
  {
   "cell_type": "code",
   "execution_count": 41,
   "metadata": {},
   "outputs": [
    {
     "data": {
      "text/plain": [
       "0"
      ]
     },
     "execution_count": 41,
     "metadata": {},
     "output_type": "execute_result"
    }
   ],
   "source": [
    "# 对于普通的dict，key不存在就报错。\n",
    "# 但是对于defaultdict，key不存在就会返回默认值。\n",
    "# a['k2']\n",
    "\n",
    "a = collections.defaultdict(int)\n",
    "a['k2']"
   ]
  },
  {
   "cell_type": "code",
   "execution_count": 48,
   "metadata": {},
   "outputs": [
    {
     "data": {
      "text/plain": [
       "''"
      ]
     },
     "execution_count": 48,
     "metadata": {},
     "output_type": "execute_result"
    }
   ],
   "source": [
    "a = collections.defaultdict(str)\n",
    "a['k2']"
   ]
  },
  {
   "cell_type": "markdown",
   "metadata": {},
   "source": [
    "# 总结\n",
    "- 前缀和主要适用的场景是原始数组不会被修改的情况下，频繁查询某个区间的累加和"
   ]
  },
  {
   "cell_type": "code",
   "execution_count": null,
   "metadata": {},
   "outputs": [],
   "source": []
  },
  {
   "cell_type": "code",
   "execution_count": null,
   "metadata": {},
   "outputs": [],
   "source": []
  },
  {
   "cell_type": "code",
   "execution_count": null,
   "metadata": {},
   "outputs": [],
   "source": []
  }
 ],
 "metadata": {
  "kernelspec": {
   "display_name": "Python 3.8.6 ('tensorflow2')",
   "language": "python",
   "name": "python3"
  },
  "language_info": {
   "codemirror_mode": {
    "name": "ipython",
    "version": 3
   },
   "file_extension": ".py",
   "mimetype": "text/x-python",
   "name": "python",
   "nbconvert_exporter": "python",
   "pygments_lexer": "ipython3",
   "version": "3.8.6"
  },
  "orig_nbformat": 4,
  "vscode": {
   "interpreter": {
    "hash": "85c51a4259275393737ca8d3e0cd6fa489554cf4913552085d5553b62ac22de5"
   }
  }
 },
 "nbformat": 4,
 "nbformat_minor": 2
}
