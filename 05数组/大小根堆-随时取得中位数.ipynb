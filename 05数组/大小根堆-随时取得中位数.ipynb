{
 "cells": [
  {
   "cell_type": "code",
   "execution_count": 1,
   "metadata": {},
   "outputs": [],
   "source": [
    "import heapq\n",
    "import random"
   ]
  },
  {
   "cell_type": "markdown",
   "metadata": {},
   "source": [
    "# # 大根堆的实现一"
   ]
  },
  {
   "cell_type": "code",
   "execution_count": 4,
   "metadata": {},
   "outputs": [],
   "source": [
    "class Maxheap(object):\n",
    "    def __init__(self, maxsize):\n",
    "        self.maxsize = maxsize         #堆的大小\n",
    "        self._elements = [0] * maxsize #初始化堆\n",
    "        self._count = 0                #索引\n",
    " \n",
    "    def add(self, value):\n",
    "        if self._count >= self.maxsize:\n",
    "            raise Exception('full')\n",
    "        self._elements[self._count] = value #放到末尾\n",
    "        self._count += 1                    #索引加一，这是当前的下一个索引\n",
    "        self._siftup(self._count - 1)       #siftup将当前索引值维护到堆的位置\n",
    " \n",
    "    def extract(self):\n",
    "        if self._count <= 0:\n",
    "            raise Exception('empty')\n",
    "        value = self._elements[0]          #记录堆顶值\n",
    "        self._count-=1 \n",
    "        self._elements[0] = self._elements[self._count] #末尾移到堆顶\n",
    "        self._siftdown(0)                  #从上到下维护堆\n",
    "        return value\n",
    " \n",
    "    def _siftup(self, index):\n",
    "        if index > 0:\n",
    "            parent = (index - 1) // 2    #当前索引的父索引\n",
    "            if self._elements[index] > self._elements[parent]: #当前值大于父，需要替换\n",
    "                self._elements[index], self._elements[parent] = self._elements[parent], self._elements[index]\n",
    "                self._siftup(parent)     #加入的值换到了父索引位置，继续向上看是不是比上一层的父更大\n",
    " \n",
    "    def _siftdown(self, index):\n",
    "        left = index * 2 + 1        #左子树索引\n",
    "        right = index * 2 + 2       #右子树索引\n",
    "        new_index = index           #用一个新索引，后面观察需不需要换\n",
    "        if right < self._count:     #有左右子树的情况\n",
    "            if self._elements[left] <= self._elements[index] and self._elements[right] <= self._elements[index]:  #当前比左右都大，不用操作\n",
    "                pass\n",
    "            else:\n",
    "                if self._elements[left] >= self._elements[right]:\n",
    "                    new_index = left     #左边更大，且左边大于当前，准备用左边跟当前索引换\n",
    "                else:\n",
    "                    new_index = right\n",
    "        elif left < self._count:         #只有左子树\n",
    "            if self._elements[left] >= self._elements[index]:\n",
    "                new_index = left\n",
    "        if new_index != index:           #需要换\n",
    "            self._elements[new_index], self._elements[index] = self._elements[index], self._elements[new_index]\n",
    "            self._siftdown(new_index)"
   ]
  },
  {
   "cell_type": "code",
   "execution_count": 7,
   "metadata": {},
   "outputs": [
    {
     "data": {
      "text/plain": [
       "[9, 8, 7, 6, 5, 4, 3, 2, 1, 0]"
      ]
     },
     "execution_count": 7,
     "metadata": {},
     "output_type": "execute_result"
    }
   ],
   "source": [
    "# 测试代码\n",
    "seq = list(range(10))\n",
    "random.shuffle(seq)\n",
    "\n",
    "heap = Maxheap(len(seq))\n",
    "for i in seq:\n",
    "    heap.add(i)\n",
    " \n",
    "res = []\n",
    "for i in range(10):\n",
    "    res.append(heap.extract())\n",
    "res"
   ]
  },
  {
   "cell_type": "markdown",
   "metadata": {},
   "source": [
    "# 大根堆的实现二"
   ]
  },
  {
   "cell_type": "code",
   "execution_count": 8,
   "metadata": {},
   "outputs": [
    {
     "name": "stdout",
     "output_type": "stream",
     "text": [
      "[1, 4, 2, 3, 5] 原始数组\n",
      "[1, 3, 2, 4, 5] 小根堆\n",
      "[(0, 1), (-1, 3), (-2, 2), (-3, 4), (-4, 5)] 插入负数后的小根堆\n",
      "[5, 4, 2, 3, 1] 输出的大根堆\n"
     ]
    }
   ],
   "source": [
    "ll=[1,4,2,3,5]\n",
    "print(ll,'原始数组')\n",
    "heapq.heapify(ll)\n",
    "print(ll,'小根堆')\n",
    "# 此时若想得到大顶堆\n",
    "newl = [(-i, ll[i]) for i in range(len(ll))]\n",
    "print(newl,'插入负数后的小根堆')\n",
    "heapq.heapify(newl) #以插入的负数做小根堆，越大的数字插入的负数就越小，所以这样就相当于做了大根堆\n",
    "# 此时已经按照第一个值变成了小顶堆，即变成了逆序\n",
    "max_heap = list()\n",
    "while newl:\n",
    "    _, s = heapq.heappop(newl) #删除并返回 newl中的最小元素\n",
    "    max_heap.append(s)\n",
    "print(max_heap,'输出的大根堆')"
   ]
  },
  {
   "cell_type": "code",
   "execution_count": null,
   "metadata": {},
   "outputs": [],
   "source": []
  },
  {
   "cell_type": "markdown",
   "metadata": {},
   "source": [
    "# 随时取得中位数"
   ]
  },
  {
   "cell_type": "code",
   "execution_count": null,
   "metadata": {},
   "outputs": [],
   "source": []
  },
  {
   "cell_type": "code",
   "execution_count": null,
   "metadata": {},
   "outputs": [],
   "source": []
  },
  {
   "cell_type": "code",
   "execution_count": null,
   "metadata": {},
   "outputs": [],
   "source": []
  }
 ],
 "metadata": {
  "interpreter": {
   "hash": "85c51a4259275393737ca8d3e0cd6fa489554cf4913552085d5553b62ac22de5"
  },
  "kernelspec": {
   "display_name": "Python 3.8.6 ('tensorflow2')",
   "language": "python",
   "name": "python3"
  },
  "language_info": {
   "codemirror_mode": {
    "name": "ipython",
    "version": 3
   },
   "file_extension": ".py",
   "mimetype": "text/x-python",
   "name": "python",
   "nbconvert_exporter": "python",
   "pygments_lexer": "ipython3",
   "version": "3.8.6"
  },
  "orig_nbformat": 4
 },
 "nbformat": 4,
 "nbformat_minor": 2
}
