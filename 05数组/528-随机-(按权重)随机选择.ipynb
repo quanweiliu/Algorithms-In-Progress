{
 "cells": [
  {
   "cell_type": "markdown",
   "metadata": {},
   "source": [
    "528-按权重随机选择\n",
    "- 解题思路\n",
    "    - 前缀和技巧\n",
    "    - 二分搜索\n",
    "\n",
    "- 步骤\n",
    "1. 根据权重数组 w 生成前缀和数组 preSum。\n",
    "2. 生成一个取值在 preSum 之内的随机数，用二分搜索算法寻找大于等于这个随机数的最小元素索引。\n",
    "3. 最后对这个索引减一（因为前缀和数组有一位索引偏移），就可以作为权重数组的索引，即最终答案\n",
    "\n",
    "- 难点\n",
    "1. 开闭区间\n",
    "2. 索引偏移\n",
    "3. 二分搜索的题目\n",
    "\n",
    "- 需要你对算法的细节把控非常精确，否则会出各种难以排查的 bug。"
   ]
  },
  {
   "cell_type": "code",
   "execution_count": 2,
   "metadata": {},
   "outputs": [],
   "source": [
    "import random\n",
    "class Solution:\n",
    "    def __init__(self, w):\n",
    "        self.preSum = []\n",
    "        n = len(w)\n",
    "        self.preSum.append(0)\n",
    "        # TODO\n",
    "        for i in range(1, n+1):\n",
    "            self.preSum.append(self.preSum[i-1] + w[i-1])\n",
    "        \n",
    "    def pickIndex(self) -> int:\n",
    "        n = len(self.preSum)\n",
    "        # 在闭区间 [1, preSum[n - 1]] 中随机选择一个数字\n",
    "        # TODO\n",
    "        target = random.randint(1, self.preSum[n - 1])\n",
    "        \n",
    "        return self.left_bound(self.preSum, target) - 1\n",
    "    \n",
    "    def left_bound(self, nums, target):\n",
    "        left = 0\n",
    "        right = len(nums)  # 注意,初始化 right = nums.length 而不是 nums.length - 1\n",
    "\n",
    "        # while 循环的终止条件是 left == right\n",
    "        while(left < right):   # 注意:「搜索区间」是 [left, right) 左闭右开。\n",
    "            # 这里求得 mid \n",
    "            mid = (right + left) // 2\n",
    "            # print(mid)\n",
    "\n",
    "            if nums[mid] == target:\n",
    "                right = mid\n",
    "\n",
    "            elif nums[mid] < target:\n",
    "                left = mid + 1    # 注意\n",
    "\n",
    "            elif (nums[mid] > target):\n",
    "                right = mid       # 注意\n",
    "        # 如果不存在要找的值，那么返回值小于所要找的值个数\n",
    "        return left"
   ]
  },
  {
   "cell_type": "code",
   "execution_count": 3,
   "metadata": {},
   "outputs": [
    {
     "data": {
      "text/plain": [
       "2"
      ]
     },
     "execution_count": 3,
     "metadata": {},
     "output_type": "execute_result"
    }
   ],
   "source": [
    "w = [1]\n",
    "w = [1, 3]\n",
    "w = [10,7,8,10]\n",
    "# w = []\n",
    "s = Solution(w)\n",
    "s.pickIndex()"
   ]
  },
  {
   "cell_type": "markdown",
   "metadata": {},
   "source": [
    "398随机数索引"
   ]
  },
  {
   "cell_type": "code",
   "execution_count": 49,
   "metadata": {},
   "outputs": [],
   "source": [
    "import random\n",
    "class Solution:\n",
    "\n",
    "    def __init__(self, nums):\n",
    "        self.nums = nums\n",
    "    def pick(self, target: int) -> int:\n",
    "        index = 0\n",
    "        res = []\n",
    "        for i in self.nums:\n",
    "            if i == target:\n",
    "                res.append(index)\n",
    "            index +=1\n",
    "        return random.choice(res)"
   ]
  },
  {
   "cell_type": "code",
   "execution_count": 56,
   "metadata": {},
   "outputs": [
    {
     "data": {
      "text/plain": [
       "2"
      ]
     },
     "execution_count": 56,
     "metadata": {},
     "output_type": "execute_result"
    }
   ],
   "source": [
    "# w = [10,7,8,10]\n",
    "w = [1,2,3,3,3]\n",
    "# w = []\n",
    "s = Solution(w)\n",
    "s.pick(3)"
   ]
  },
  {
   "cell_type": "code",
   "execution_count": null,
   "metadata": {},
   "outputs": [],
   "source": []
  },
  {
   "cell_type": "code",
   "execution_count": null,
   "metadata": {},
   "outputs": [],
   "source": []
  }
 ],
 "metadata": {
  "interpreter": {
   "hash": "9ecbc95d31df1b277e5ec566a835865c3a9a253da4266404bdbc6ee7e31406f4"
  },
  "kernelspec": {
   "display_name": "Python 3.8.6 ('tensorflow2')",
   "language": "python",
   "name": "python3"
  },
  "language_info": {
   "codemirror_mode": {
    "name": "ipython",
    "version": 3
   },
   "file_extension": ".py",
   "mimetype": "text/x-python",
   "name": "python",
   "nbconvert_exporter": "python",
   "pygments_lexer": "ipython3",
   "version": "3.8.6"
  },
  "orig_nbformat": 4
 },
 "nbformat": 4,
 "nbformat_minor": 2
}
