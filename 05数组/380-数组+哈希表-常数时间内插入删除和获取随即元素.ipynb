{
 "cells": [
  {
   "cell_type": "markdown",
   "metadata": {},
   "source": [
    "## 暴力解法"
   ]
  },
  {
   "cell_type": "code",
   "execution_count": 32,
   "metadata": {},
   "outputs": [],
   "source": [
    "import random\n",
    "class RandomizedSet:\n",
    "    def __init__(self):\n",
    "        self.ls = []\n",
    "\n",
    "\n",
    "    def insert(self, val: int) -> bool:\n",
    "        for i in range(len(self.ls)):\n",
    "            if self.ls[i] == val:\n",
    "                return False\n",
    "        else:\n",
    "            self.ls.append(val)\n",
    "            return True\n",
    "\n",
    "    def remove(self, val: int) -> bool:\n",
    "        for i in range(len(self.ls)):\n",
    "            if self.ls[i] == val:\n",
    "                del self.ls[i]\n",
    "                return True\n",
    "        else:\n",
    "            return False\n",
    "\n",
    "\n",
    "    def getRandom(self) -> int:\n",
    "        random.shuffle(self.ls)\n",
    "        return self.ls[0]"
   ]
  },
  {
   "cell_type": "code",
   "execution_count": 33,
   "metadata": {},
   "outputs": [
    {
     "data": {
      "text/plain": [
       "[1]"
      ]
     },
     "execution_count": 33,
     "metadata": {},
     "output_type": "execute_result"
    }
   ],
   "source": [
    "# Your RandomizedSet object will be instantiated and called as such:\n",
    "\n",
    "val = 1\n",
    "obj = RandomizedSet()\n",
    "param_1 = obj.insert(val)\n",
    "obj.ls"
   ]
  },
  {
   "cell_type": "code",
   "execution_count": 34,
   "metadata": {},
   "outputs": [
    {
     "name": "stdout",
     "output_type": "stream",
     "text": [
      "[1]\n"
     ]
    }
   ],
   "source": [
    "val = 2\n",
    "obj.remove(val)\n",
    "print(obj.ls)"
   ]
  },
  {
   "cell_type": "code",
   "execution_count": 35,
   "metadata": {},
   "outputs": [
    {
     "data": {
      "text/plain": [
       "True"
      ]
     },
     "execution_count": 35,
     "metadata": {},
     "output_type": "execute_result"
    }
   ],
   "source": [
    "obj.insert(val)"
   ]
  },
  {
   "cell_type": "code",
   "execution_count": 46,
   "metadata": {},
   "outputs": [
    {
     "data": {
      "text/plain": [
       "2"
      ]
     },
     "execution_count": 46,
     "metadata": {},
     "output_type": "execute_result"
    }
   ],
   "source": [
    "param_3 = obj.getRandom()\n",
    "param_3"
   ]
  },
  {
   "cell_type": "markdown",
   "metadata": {},
   "source": [
    "## O(1) 解法\n",
    "- 对数组尾部进行插入和删除操作不会涉及数据搬移，时间复杂度是 O(1)。\n",
    "- 如果我们想在 O(1) 的时间删除数组中的某一个元素 val，可以先把这个元素交换到数组的尾部，然后再 pop 掉。\n",
    "- 交换两个元素必须通过索引进行交换对吧，那么我们需要一个哈希表 valToIndex 来记录每个元素值对应的索引。"
   ]
  },
  {
   "cell_type": "code",
   "execution_count": 20,
   "metadata": {},
   "outputs": [],
   "source": [
    "import random\n",
    "class RandomizedSet:\n",
    "    def __init__(self):\n",
    "        # 存储元素的值\n",
    "        self.ls = []\n",
    "        # 记录每个元素对应在 nums 中的索引\n",
    "        self.dict = {}\n",
    "\n",
    "\n",
    "    def insert(self, val: int) -> bool:\n",
    "        # 若 val 已存在，不用再插入\n",
    "        if self.dict.__contains__(val):\n",
    "            return False\n",
    "        # 若 val 不存在，插入到 nums 尾部\n",
    "        # 并记录 val 对应的索引值\n",
    "        self.dict[val] = len(self.ls)\n",
    "        self.ls.append(val)\n",
    "        return True\n",
    "\n",
    "    def remove(self, val: int) -> bool:\n",
    "        #  若 val 不存在，不用再删除\n",
    "        if not self.dict.__contains__(val):\n",
    "            return False\n",
    "        # 先拿到 val 的索引\n",
    "        index = self.dict[val]\n",
    "        # 将最后一个元素对应的索引修改为 index\n",
    "        self.dict[self.ls[-1]] = index\n",
    "        # 交换 val 和最后一个元素\n",
    "        self.swap(self.ls, index, len(self.ls)-1)\n",
    "        # 在数组中删除元素 val\n",
    "        self.ls.pop()\n",
    "        # 删除元素 val 对应的索引\n",
    "        del self.dict[val]\n",
    "        return True\n",
    "    \n",
    "    def swap(self, arr, i, j):\n",
    "        temp = arr[i]\n",
    "        arr[i] = arr[j]\n",
    "        arr[j] = temp\n",
    "    \n",
    "    def getRandom(self) -> int:\n",
    "        random.shuffle(self.ls)\n",
    "        return self.ls[0]"
   ]
  },
  {
   "cell_type": "code",
   "execution_count": 21,
   "metadata": {},
   "outputs": [
    {
     "data": {
      "text/plain": [
       "([1], {1: 0})"
      ]
     },
     "execution_count": 21,
     "metadata": {},
     "output_type": "execute_result"
    }
   ],
   "source": [
    "val = 1\n",
    "obj = RandomizedSet()\n",
    "param_1 = obj.insert(val)\n",
    "obj.ls, obj.dict"
   ]
  },
  {
   "cell_type": "code",
   "execution_count": 22,
   "metadata": {},
   "outputs": [
    {
     "name": "stdout",
     "output_type": "stream",
     "text": [
      "[1]\n"
     ]
    },
    {
     "data": {
      "text/plain": [
       "(False, None)"
      ]
     },
     "execution_count": 22,
     "metadata": {},
     "output_type": "execute_result"
    }
   ],
   "source": [
    "val = 2\n",
    "obj.remove(val), print(obj.ls)"
   ]
  },
  {
   "cell_type": "code",
   "execution_count": 23,
   "metadata": {},
   "outputs": [
    {
     "data": {
      "text/plain": [
       "(True, [1, 2])"
      ]
     },
     "execution_count": 23,
     "metadata": {},
     "output_type": "execute_result"
    }
   ],
   "source": [
    "obj.insert(val), obj.ls"
   ]
  },
  {
   "cell_type": "code",
   "execution_count": 24,
   "metadata": {},
   "outputs": [
    {
     "data": {
      "text/plain": [
       "(True, [1, 2, 3])"
      ]
     },
     "execution_count": 24,
     "metadata": {},
     "output_type": "execute_result"
    }
   ],
   "source": [
    "val = 3\n",
    "obj.insert(val), obj.ls"
   ]
  },
  {
   "cell_type": "code",
   "execution_count": 25,
   "metadata": {},
   "outputs": [
    {
     "data": {
      "text/plain": [
       "(True, [1, 2])"
      ]
     },
     "execution_count": 25,
     "metadata": {},
     "output_type": "execute_result"
    }
   ],
   "source": [
    "obj.remove(3), obj.ls"
   ]
  },
  {
   "cell_type": "code",
   "execution_count": 31,
   "metadata": {},
   "outputs": [
    {
     "data": {
      "text/plain": [
       "1"
      ]
     },
     "execution_count": 31,
     "metadata": {},
     "output_type": "execute_result"
    }
   ],
   "source": [
    "obj.getRandom()"
   ]
  },
  {
   "cell_type": "markdown",
   "metadata": {},
   "source": [
    "## 有什么不同吗？"
   ]
  },
  {
   "cell_type": "code",
   "execution_count": 32,
   "metadata": {},
   "outputs": [],
   "source": [
    "from random import choice\n",
    "class RandomizedSet:\n",
    "    def __init__(self):\n",
    "        # 存储元素的值\n",
    "        self.ls = []\n",
    "        # 记录每个元素对应在 nums 中的索引\n",
    "        self.dict = {}\n",
    "\n",
    "\n",
    "    def insert(self, val: int) -> bool:\n",
    "        # 若 val 已存在，不用再插入\n",
    "        if self.dict.__contains__(val):\n",
    "            return False\n",
    "        # 若 val 不存在，插入到 nums 尾部\n",
    "        # 并记录 val 对应的索引值\n",
    "        self.dict[val] = len(self.ls)\n",
    "        self.ls.append(val)\n",
    "        return True\n",
    "\n",
    "    def remove(self, val: int) -> bool:\n",
    "        #  若 val 不存在，不用再删除\n",
    "        if not self.dict.__contains__(val):\n",
    "            return False\n",
    "        # 先拿到 val 的索引\n",
    "        index = self.dict[val]\n",
    "        # 将最后一个元素对应的索引修改为 index\n",
    "        self.dict[self.ls[-1]] = index\n",
    "        # 交换 val 和最后一个元素\n",
    "        self.swap(self.ls, index, len(self.ls)-1)\n",
    "        # 在数组中删除元素 val\n",
    "        self.ls.pop()\n",
    "        # 删除元素 val 对应的索引\n",
    "        del self.dict[val]\n",
    "        return True\n",
    "    \n",
    "    def swap(self, arr, i, j):\n",
    "        temp = arr[i]\n",
    "        arr[i] = arr[j]\n",
    "        arr[j] = temp\n",
    "    \n",
    "    def getRandom(self) -> int:\n",
    "        # random.shuffle(self.ls)\n",
    "        return choice(self.ls)"
   ]
  },
  {
   "cell_type": "code",
   "execution_count": null,
   "metadata": {},
   "outputs": [],
   "source": []
  }
 ],
 "metadata": {
  "interpreter": {
   "hash": "9ecbc95d31df1b277e5ec566a835865c3a9a253da4266404bdbc6ee7e31406f4"
  },
  "kernelspec": {
   "display_name": "Python 3.8.6 ('tensorflow2')",
   "language": "python",
   "name": "python3"
  },
  "language_info": {
   "codemirror_mode": {
    "name": "ipython",
    "version": 3
   },
   "file_extension": ".py",
   "mimetype": "text/x-python",
   "name": "python",
   "nbconvert_exporter": "python",
   "pygments_lexer": "ipython3",
   "version": "3.8.6"
  },
  "orig_nbformat": 4
 },
 "nbformat": 4,
 "nbformat_minor": 2
}
