{
 "cells": [
  {
   "cell_type": "markdown",
   "metadata": {},
   "source": [
    "方法1：列表中，只有正序的数值才会作为连续，如1，2，3。逆序的则不会做为连续，如3，2，1"
   ]
  },
  {
   "cell_type": "markdown",
   "metadata": {},
   "source": [
    "# 找出列表中所有连续数字"
   ]
  },
  {
   "cell_type": "code",
   "execution_count": 15,
   "metadata": {},
   "outputs": [
    {
     "name": "stdout",
     "output_type": "stream",
     "text": [
      "[1]\n",
      "[1, 2]\n",
      "[1, 2, 3]\n",
      "[1, 2, 3, 4]\n",
      "[1, 2, 3, 4, 5]\n",
      "[7, 8]\n",
      "[7, 8, 9]\n",
      "[88, 89]\n",
      "[88, 89, 90]\n",
      "[222, 223]\n",
      "[222, 223, 224]\n",
      "[222, 223, 224, 225]\n",
      "5\n"
     ]
    }
   ],
   "source": [
    "# 方法1, 正向排序才作为连续数字获取， 如果是 3 2 1 这种逆序的则不会作为连续获取\n",
    "a = [1, 2, 3, 4, 5, 7, 8, 9, 13, 45, 67, 88, 89, 90, 100, 111, 222, 223, 224, 225]  # 定义一个列表\n",
    "s = []                   # 定义一个空列表\n",
    "\n",
    "maxlenth = 0\n",
    "lenth = 0\n",
    "\n",
    "for i in a:\n",
    "    if len(s) == 0 or s[-1] + 1 == i:  # 判断，如果是空列表或者列表中最后一个值加 1等于当前值\n",
    "        s.append(i)      # 写入列表\n",
    "        print(s)\n",
    "        lenth += 1\n",
    "        if lenth > maxlenth:\n",
    "            maxlenth = lenth\n",
    "    else:                # 不满足以上条件\n",
    "        # if len(s) >= 2:  # 判断长度是否大于2， 大于2则打印出来\n",
    "        #     print(s)\n",
    "        s = [i]          # 给 s 重新复制为 i\n",
    "        lenth = 1\n",
    "        \n",
    "print(maxlenth)"
   ]
  },
  {
   "cell_type": "markdown",
   "metadata": {},
   "source": [
    "方法1：列表中，正序和逆序的连续数字均会作为连续数字获取"
   ]
  },
  {
   "cell_type": "code",
   "execution_count": 16,
   "metadata": {},
   "outputs": [
    {
     "name": "stdout",
     "output_type": "stream",
     "text": [
      "[1, 2]\n",
      "[4, 5]\n",
      "[88, 89, 90]\n",
      "[222, 223, 224, 225]\n",
      "[899, 900]\n"
     ]
    }
   ],
   "source": [
    "# 方法2, sorted(set(a1))进行了一个排序，即使出现 3 2 1 这种的，依旧会作为连续数字获取出来\n",
    "a1 = [1, 2, 4, 5, 7, 9, 13, 45, 67, 88, 89, 90, 100, 111, 222, 223, 224, 225, 900, 899]  # 定义一个列表\n",
    "s1 = []   # 定义一个空列表\n",
    "for x in sorted(set(a1)):\n",
    "    s1.append(x)\n",
    "    if x+1 not in a1:\n",
    "        if len(s1) != 1:\n",
    "            print(s1)\n",
    "        s1 = []"
   ]
  },
  {
   "cell_type": "code",
   "execution_count": null,
   "metadata": {},
   "outputs": [],
   "source": []
  }
 ],
 "metadata": {
  "kernelspec": {
   "display_name": "Python 3.8.6 ('tensorflow2')",
   "language": "python",
   "name": "python3"
  },
  "language_info": {
   "codemirror_mode": {
    "name": "ipython",
    "version": 3
   },
   "file_extension": ".py",
   "mimetype": "text/x-python",
   "name": "python",
   "nbconvert_exporter": "python",
   "pygments_lexer": "ipython3",
   "version": "3.8.6"
  },
  "orig_nbformat": 4,
  "vscode": {
   "interpreter": {
    "hash": "85c51a4259275393737ca8d3e0cd6fa489554cf4913552085d5553b62ac22de5"
   }
  }
 },
 "nbformat": 4,
 "nbformat_minor": 2
}
