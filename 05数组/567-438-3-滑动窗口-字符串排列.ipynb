{
 "cells": [
  {
   "cell_type": "markdown",
   "metadata": {},
   "source": [
    "# 滑动窗口\n",
    "- https://leetcode-cn.com/problems/permutation-in-string/solution/zhu-shi-chao-xiang-xi-de-hua-dong-chuang-rc7d/"
   ]
  },
  {
   "cell_type": "code",
   "execution_count": 8,
   "metadata": {},
   "outputs": [
    {
     "name": "stdout",
     "output_type": "stream",
     "text": [
      "a\n",
      "c\n"
     ]
    }
   ],
   "source": [
    "# 预备知识\n",
    "import collections\n",
    "st = \"acbbc\"\n",
    "print(st[0:1])\n",
    "print(st[1])\n",
    "# collections.Counter(\"aabbc\")"
   ]
  },
  {
   "cell_type": "markdown",
   "metadata": {},
   "source": [
    "## 567-字符串排列\n",
    "## 解法1"
   ]
  },
  {
   "cell_type": "code",
   "execution_count": 4,
   "metadata": {},
   "outputs": [],
   "source": [
    "import collections\n",
    "class Solution(object):\n",
    "    def checkInclusion(self, s1, s2):\n",
    "        # 统计 s1 中每个字符出现的次数, counter1 单纯的是一个字典\n",
    "        counter1 = collections.Counter(s1)\n",
    "        print(\"counter1\", counter1)\n",
    "        N = len(s2)\n",
    "        # 定义滑动窗口的范围是 [left, right]，闭区间，长度与s1相等\n",
    "        left = 0\n",
    "        right = len(s1) - 1\n",
    "\n",
    "        # 统计窗口 s2 [left, right - 1]内的元素出现的次数\n",
    "        counter2 = collections.Counter(s2[0:right])\n",
    "        print(\"counter2\", counter2)\n",
    "\n",
    "        while right < N:\n",
    "            # 把 right 位置的元素放到 counter2 中\n",
    "            counter2[s2[right]] += 1\n",
    "            \n",
    "            # 如果滑动窗口内各个元素出现的次数跟 s1 的元素出现次数完全一致，返回 True\n",
    "            if counter1 == counter2:\n",
    "                return True\n",
    "            \n",
    "            # 窗口向右移动前，把当前 left 位置的元素出现次数 - 1\n",
    "            counter2[s2[left]] -= 1\n",
    "            \n",
    "            # 如果当前 left 位置的元素出现次数为 0, 需要从字典中删除，\n",
    "            # 否则这个出现次数为 0 的元素会影响两 counter 之间的比较\n",
    "            if counter2[s2[left]] == 0:\n",
    "                del counter2[s2[left]]\n",
    "            # 窗口向右移动\n",
    "            left += 1\n",
    "            right += 1\n",
    "        return False"
   ]
  },
  {
   "cell_type": "code",
   "execution_count": 5,
   "metadata": {},
   "outputs": [
    {
     "name": "stdout",
     "output_type": "stream",
     "text": [
      "counter1 Counter({'a': 1, 'b': 1})\n",
      "counter2 Counter({'e': 1})\n"
     ]
    },
    {
     "data": {
      "text/plain": [
       "True"
      ]
     },
     "execution_count": 5,
     "metadata": {},
     "output_type": "execute_result"
    }
   ],
   "source": [
    "s1 = \"ab\" \n",
    "s2 = \"eidbaooo\"\n",
    "s = Solution()\n",
    "s.checkInclusion(s1, s2)"
   ]
  },
  {
   "cell_type": "code",
   "execution_count": 7,
   "metadata": {},
   "outputs": [
    {
     "data": {
      "text/plain": [
       "False"
      ]
     },
     "execution_count": 7,
     "metadata": {},
     "output_type": "execute_result"
    }
   ],
   "source": [
    "s1 = \"ab\" \n",
    "s2 = \"eidboaoo\"\n",
    "s = Solution()\n",
    "s.checkInclusion(s1, s2)"
   ]
  },
  {
   "cell_type": "markdown",
   "metadata": {},
   "source": [
    "## 解法2\n",
    "- 建议背诵。"
   ]
  },
  {
   "cell_type": "code",
   "execution_count": 43,
   "metadata": {},
   "outputs": [
    {
     "data": {
      "text/plain": [
       "True"
      ]
     },
     "execution_count": 43,
     "metadata": {},
     "output_type": "execute_result"
    }
   ],
   "source": [
    "# 预备知识\n",
    "s1 = \"ab\" \n",
    "dictionary_need = defaultdict(int)\n",
    "for c in s1:\n",
    "    # print(s)\n",
    "    dictionary_need[c] += 1\n",
    "len(dictionary_need)\n",
    "dictionary_need.__contains__('a')"
   ]
  },
  {
   "cell_type": "code",
   "execution_count": 138,
   "metadata": {},
   "outputs": [],
   "source": [
    "# 没有完全按照模板中的代码\n",
    "\n",
    "from collections import defaultdict\n",
    "\n",
    "class Solution():\n",
    "    # 判断 s 中是否存在 t 的排列\n",
    "    def checkInclusion(self, t, s):\n",
    "        # T 中「字符」出现次数\n",
    "        dictionary_need = defaultdict(int)\n",
    "        # 「窗口」中的相应字符的出现次数。\n",
    "        dictionary_window = defaultdict(int)\n",
    "        for c in t:\n",
    "            # print(s)\n",
    "            dictionary_need[c] += 1\n",
    "        # print(\"dictionary_need\", dictionary_need)\n",
    "        left = right = match = 0\n",
    "\n",
    "        while right < len(s):\n",
    "            # 右边界的那个字符\n",
    "            charRight = s[right]\n",
    "            # print(charRight)\n",
    "            right += 1\n",
    "\n",
    "            # 进行窗口内数据的一系列更新\n",
    "            if dictionary_need.__contains__(charRight):\n",
    "                dictionary_window[charRight] += 1\n",
    "                match += 1\n",
    "\n",
    "            # 判断左侧窗口是否要收缩, 从 right 走到 3 的时候已经开始收缩了\n",
    "            while right - left >= len(t):\n",
    "                # print(dictionary_window, match, len(t))\n",
    "\n",
    "                # 没有按照模板中给出的代码\n",
    "                if dictionary_window == dictionary_need:\n",
    "                    return True\n",
    "                # 在这里判断是否找到了合法的子串\n",
    "                # if match == len(t):\n",
    "                #     return True\n",
    "                \n",
    "                # 进行窗口内数据的一系列更新\n",
    "                charLeft = s[left]\n",
    "                # print(charLeft)\n",
    "                # 如果恰好移出了需要匹配的一个字符，那么这里 dictionary[charLeft] > 0, \n",
    "                # 也就是还要匹配字符 charLeft，此时 match--\n",
    "                if dictionary_need.__contains__(charLeft):\n",
    "                    # print(dictionary_window[charLeft], dictionary_need[charLeft])\n",
    "                    if dictionary_window[charLeft] == dictionary_need[charLeft]:\n",
    "                        # print(\"match\", match)\n",
    "                        match -= 1\n",
    "                    dictionary_window[charLeft] -= 1\n",
    "                # 右移窗口\n",
    "                left += 1\n",
    "\n",
    "        # 未找到符合条件的子串\n",
    "        return False"
   ]
  },
  {
   "cell_type": "code",
   "execution_count": 139,
   "metadata": {},
   "outputs": [
    {
     "data": {
      "text/plain": [
       "False"
      ]
     },
     "execution_count": 139,
     "metadata": {},
     "output_type": "execute_result"
    }
   ],
   "source": [
    "t = \"abc\" \n",
    "s = \"ccccbbbbaaaa\"\n",
    "\n",
    "so = Solution()\n",
    "so.checkInclusion(t, s)"
   ]
  },
  {
   "cell_type": "code",
   "execution_count": 140,
   "metadata": {},
   "outputs": [
    {
     "data": {
      "text/plain": [
       "True"
      ]
     },
     "execution_count": 140,
     "metadata": {},
     "output_type": "execute_result"
    }
   ],
   "source": [
    "t = \"abcdxabcde\"\n",
    "s = \"abcdeabcdx\"\n",
    "so = Solution()\n",
    "so.checkInclusion(t, s)"
   ]
  },
  {
   "cell_type": "code",
   "execution_count": 141,
   "metadata": {},
   "outputs": [
    {
     "data": {
      "text/plain": [
       "True"
      ]
     },
     "execution_count": 141,
     "metadata": {},
     "output_type": "execute_result"
    }
   ],
   "source": [
    "t = \"ab\"\n",
    "s = \"eidbaooo\"\n",
    "so = Solution()\n",
    "so.checkInclusion(t, s)"
   ]
  },
  {
   "cell_type": "markdown",
   "metadata": {},
   "source": [
    "## 438 找到字符串中所有字母异位词"
   ]
  },
  {
   "cell_type": "code",
   "execution_count": 6,
   "metadata": {},
   "outputs": [],
   "source": [
    "# 没有完全按照模板中的代码\n",
    "\n",
    "# 参考576\n",
    "from collections import defaultdict\n",
    "\n",
    "class Solution():\n",
    "    # 判断 s 中是否存在 t 的排列\n",
    "    def findAnagrams(self, t, s):\n",
    "        # T 中「字符」出现次数\n",
    "        dictionary_need = defaultdict(int)\n",
    "        # 「窗口」中的相应字符的出现次数。\n",
    "        dictionary_window = defaultdict(int)\n",
    "        for c in t:\n",
    "            # print(s)\n",
    "            dictionary_need[c] += 1\n",
    "        # print(\"dictionary_need\", dictionary_need)\n",
    "        left = right = match = 0\n",
    "        res = []\n",
    "\n",
    "        while right < len(s):\n",
    "            # 右边界的那个字符\n",
    "            charRight = s[right]\n",
    "            # print(charRight)\n",
    "            right += 1\n",
    "\n",
    "            # 进行窗口内数据的一系列更新\n",
    "            if dictionary_need.__contains__(charRight):\n",
    "                dictionary_window[charRight] += 1\n",
    "                match += 1\n",
    "\n",
    "            # 判断左侧窗口是否要收缩, 从 right 走到 3 的时候已经开始收缩了\n",
    "            while right - left >= len(t):\n",
    "                # print(dictionary_window, match, len(t))\n",
    "\n",
    "                if dictionary_window == dictionary_need:\n",
    "                    res.append(left)\n",
    "\n",
    "                # 进行窗口内数据的一系列更新\n",
    "                charLeft = s[left]\n",
    "                # print(charLeft)\n",
    "                # 如果恰好移出了需要匹配的一个字符，那么这里 dictionary[charLeft] > 0, \n",
    "                # 也就是还要匹配字符 charLeft，此时 match--\n",
    "                if dictionary_need.__contains__(charLeft):\n",
    "                    # print(dictionary_window[charLeft], dictionary_need[charLeft])\n",
    "                    if dictionary_window[charLeft] == dictionary_need[charLeft]:\n",
    "                        # print(\"match\", match)\n",
    "                        match -= 1\n",
    "                    dictionary_window[charLeft] -= 1\n",
    "                # 右移窗口\n",
    "                left += 1\n",
    "\n",
    "        # 未找到符合条件的子串\n",
    "        return res"
   ]
  },
  {
   "cell_type": "code",
   "execution_count": 8,
   "metadata": {},
   "outputs": [
    {
     "data": {
      "text/plain": [
       "[0, 1, 2]"
      ]
     },
     "execution_count": 8,
     "metadata": {},
     "output_type": "execute_result"
    }
   ],
   "source": [
    "\n",
    "p = \"abc\"\n",
    "s = \"cbaebabacd\"\n",
    "\n",
    "p = \"ab\"\n",
    "s = \"abab\"\n",
    "\n",
    "so = Solution()\n",
    "so.findAnagrams(p, s)"
   ]
  },
  {
   "cell_type": "markdown",
   "metadata": {},
   "source": [
    "## 3-无重复字符的最长子串"
   ]
  },
  {
   "cell_type": "code",
   "execution_count": 31,
   "metadata": {},
   "outputs": [],
   "source": [
    "from collections import defaultdict\n",
    "\n",
    "class Solution:\n",
    "    def lengthOfLongestSubstring(self, s: str) -> int:\n",
    "        dictionary_window = defaultdict(int)\n",
    "        left = right = 0\n",
    "        res = 0\n",
    "\n",
    "        while right < len(s): \n",
    "            c = s[right]\n",
    "            right += 1\n",
    "\n",
    "            # 进行窗口内数据的一系列更新            \n",
    "            dictionary_window[c] += 1\n",
    "            # print(\"1\", dictionary_window)\n",
    "\n",
    "            # 判断左侧窗口是否要收缩\n",
    "            while dictionary_window[c] > 1:\n",
    "                # print(dictionary_window)\n",
    "                d = s[left]\n",
    "                left +=1\n",
    "\n",
    "                # 进行窗口内数据的一系列更新\n",
    "                dictionary_window[d] -= 1\n",
    "            \n",
    "            # 在这里更新答案\n",
    "            print(right, left)\n",
    "            res = max(res, right - left)\n",
    "            # return \n",
    "        return res"
   ]
  },
  {
   "cell_type": "code",
   "execution_count": 32,
   "metadata": {},
   "outputs": [
    {
     "name": "stdout",
     "output_type": "stream",
     "text": [
      "1 0\n",
      "2 0\n",
      "3 2\n",
      "4 2\n",
      "5 2\n",
      "6 3\n",
      "7 3\n",
      "8 3\n",
      "9 7\n",
      "10 9\n"
     ]
    },
    {
     "data": {
      "text/plain": [
       "5"
      ]
     },
     "execution_count": 32,
     "metadata": {},
     "output_type": "execute_result"
    }
   ],
   "source": [
    "# s = \"abcabcbb\"\n",
    "# s = \"bbbbb\"\n",
    "s = \"pwwkewabaa\"\n",
    "so = Solution()\n",
    "so.lengthOfLongestSubstring(s)"
   ]
  },
  {
   "cell_type": "code",
   "execution_count": null,
   "metadata": {},
   "outputs": [],
   "source": []
  },
  {
   "cell_type": "code",
   "execution_count": null,
   "metadata": {},
   "outputs": [],
   "source": []
  }
 ],
 "metadata": {
  "kernelspec": {
   "display_name": "Python 3.8.6 ('tensorflow2')",
   "language": "python",
   "name": "python3"
  },
  "language_info": {
   "codemirror_mode": {
    "name": "ipython",
    "version": 3
   },
   "file_extension": ".py",
   "mimetype": "text/x-python",
   "name": "python",
   "nbconvert_exporter": "python",
   "pygments_lexer": "ipython3",
   "version": "3.8.6"
  },
  "orig_nbformat": 4,
  "vscode": {
   "interpreter": {
    "hash": "85c51a4259275393737ca8d3e0cd6fa489554cf4913552085d5553b62ac22de5"
   }
  }
 },
 "nbformat": 4,
 "nbformat_minor": 2
}
