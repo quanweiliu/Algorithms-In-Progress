{
 "cells": [
  {
   "cell_type": "markdown",
   "metadata": {},
   "source": [
    "# 「差分数组」\n",
    "- 差分数组的主要适用场景是频繁对原始数组的某个区间的元素进行增减。\n",
    "\n",
    "- 这是怎么做到减少计算复杂度的？"
   ]
  },
  {
   "cell_type": "code",
   "execution_count": 280,
   "metadata": {},
   "outputs": [],
   "source": [
    "class Difference():\n",
    "    # 输入一个初始数组，区间操作将在这个数组上进行\n",
    "    def __init__(self, nums):\n",
    "        self.res = []\n",
    "        self.lenth = len(nums)\n",
    "        # print(self.lenth)\n",
    "        assert self.lenth > 0\n",
    "\n",
    "        self.diff = [0]*self.lenth\n",
    "        self.diff[0] = nums[0]\n",
    "\n",
    "        for i in range(1, self.lenth):\n",
    "            self.diff[i] = nums[i] - nums[i-1]\n",
    "        # print(\"检查一\", self.diff)\n",
    "    \n",
    "    # 给闭区间 [i,j] 增加 val（可以是负数）\n",
    "    def increment(self, i, j, val):\n",
    "        self.diff[i] += val\n",
    "        # 当 j+1 >= diff.length 时，说明是对 nums[i] 及以后的整个数组都进行修改，\n",
    "        # 那么就不需要再给 diff 数组减 val 了。\n",
    "        if j+1 < self.lenth:\n",
    "            self.diff[j+1] -= val\n",
    "    \n",
    "    # 返回结果数组\n",
    "    def result(self):\n",
    "        self.res.append(self.diff[0])\n",
    "        for i in range(1, self.lenth):\n",
    "            self.res.append(self.diff[i] + self.res[i-1])\n",
    "            print(self.res)\n",
    "        return self.res"
   ]
  },
  {
   "cell_type": "code",
   "execution_count": 255,
   "metadata": {},
   "outputs": [
    {
     "data": {
      "text/plain": [
       "[108, 102, 106, 3, 1]"
      ]
     },
     "execution_count": 255,
     "metadata": {},
     "output_type": "execute_result"
    }
   ],
   "source": [
    "array = [8,2,6,3,1,]\n",
    "s = Difference(array)\n",
    "s.increment(0, 2, 100)\n",
    "array2 = s.result()\n",
    "array2"
   ]
  },
  {
   "cell_type": "markdown",
   "metadata": {},
   "source": [
    "## 370 题「 区间加法」"
   ]
  },
  {
   "cell_type": "code",
   "execution_count": 256,
   "metadata": {},
   "outputs": [
    {
     "data": {
      "text/plain": [
       "[-2, 0, 3, 5, 3]"
      ]
     },
     "execution_count": 256,
     "metadata": {},
     "output_type": "execute_result"
    }
   ],
   "source": [
    "origin = [0,0,0,0,0]\n",
    "s = Difference(origin)\n",
    "s.increment(1, 3, 2)\n",
    "s.increment(2, 4, 3)\n",
    "s.increment(0, 2, -2)\n",
    "origin = s.result()\n",
    "origin"
   ]
  },
  {
   "cell_type": "markdown",
   "metadata": {},
   "source": [
    "## 1109 航班预订统计\n",
    "- 暴力解法"
   ]
  },
  {
   "cell_type": "code",
   "execution_count": 257,
   "metadata": {},
   "outputs": [],
   "source": [
    "class Solution:\n",
    "    def corpFlightBookings(self, bookings, n: int):\n",
    "        answer = [0]*n\n",
    "\n",
    "        # 两个循环。。。\n",
    "        for i in range(len(bookings)):\n",
    "            for j in range(bookings[i][0]-1, bookings[i][1]):\n",
    "                answer[j] += bookings[i][2]\n",
    "                # answer.append(bookings[i][2])\n",
    "\n",
    "        print(answer)"
   ]
  },
  {
   "cell_type": "code",
   "execution_count": 258,
   "metadata": {},
   "outputs": [
    {
     "name": "stdout",
     "output_type": "stream",
     "text": [
      "[10, 55, 45, 25, 25]\n"
     ]
    }
   ],
   "source": [
    "bookings = [[1,2,10],[2,3,20],[2,5,25]]\n",
    "n = 5\n",
    "s = Solution()\n",
    "s.corpFlightBookings(bookings,n)"
   ]
  },
  {
   "cell_type": "code",
   "execution_count": 259,
   "metadata": {},
   "outputs": [
    {
     "name": "stdout",
     "output_type": "stream",
     "text": [
      "[10, 25]\n"
     ]
    }
   ],
   "source": [
    "bookings = [[1,2,10],[2,2,15]]\n",
    "n = 2\n",
    "s = Solution()\n",
    "s.corpFlightBookings(bookings,n)"
   ]
  },
  {
   "cell_type": "markdown",
   "metadata": {},
   "source": [
    "## 差分数组"
   ]
  },
  {
   "cell_type": "code",
   "execution_count": 260,
   "metadata": {},
   "outputs": [],
   "source": [
    "class Solution:\n",
    "    def corpFlightBookings(self, bookings, n: int):\n",
    "        answer = [0]*n\n",
    "        df = Difference(answer)\n",
    "        # print(df.result())\n",
    "\n",
    "        for booking in bookings:\n",
    "            i = booking[0] - 1\n",
    "            j = booking[1] - 1\n",
    "            val = booking[2]\n",
    "            df.increment(i, j, val)\n",
    "            \n",
    "        return df.result()"
   ]
  },
  {
   "cell_type": "code",
   "execution_count": 261,
   "metadata": {},
   "outputs": [
    {
     "data": {
      "text/plain": [
       "[10, 25]"
      ]
     },
     "execution_count": 261,
     "metadata": {},
     "output_type": "execute_result"
    }
   ],
   "source": [
    "bookings = [[1,2,10],[2,2,15]]\n",
    "n = 2\n",
    "s = Solution()\n",
    "s.corpFlightBookings(bookings,n)"
   ]
  },
  {
   "cell_type": "code",
   "execution_count": 262,
   "metadata": {},
   "outputs": [
    {
     "data": {
      "text/plain": [
       "[10, 55, 45, 25, 25]"
      ]
     },
     "execution_count": 262,
     "metadata": {},
     "output_type": "execute_result"
    }
   ],
   "source": [
    "bookings = [[1,2,10],[2,3,20],[2,5,25]]\n",
    "n = 5\n",
    "s = Solution()\n",
    "s.corpFlightBookings(bookings,n)"
   ]
  },
  {
   "cell_type": "markdown",
   "metadata": {},
   "source": [
    "## 1094拼车"
   ]
  },
  {
   "cell_type": "code",
   "execution_count": 263,
   "metadata": {},
   "outputs": [],
   "source": [
    "# class Difference():\n",
    "#     # 输入一个初始数组，区间操作将在这个数组上进行\n",
    "#     def __init__(self, nums):\n",
    "#         self.res = []\n",
    "#         self.lenth = len(nums)\n",
    "#         assert self.lenth > 0\n",
    "\n",
    "#         self.diff = [0]*self.lenth\n",
    "#         self.diff[0] = nums[0]\n",
    "\n",
    "#         for i in range(1, self.lenth):\n",
    "#             self.diff[i] = nums[i] - nums[i-1]\n",
    "#         # print(\"检查一\", self.diff)\n",
    "    \n",
    "#     # 给闭区间 [i,j] 增加 val（可以是负数）\n",
    "#     def increment(self, i, j, val):\n",
    "#         self.diff[i] += val\n",
    "#         # 当 j+1 >= diff.length 时，说明是对 nums[i] 及以后的整个数组都进行修改，\n",
    "#         # 那么就不需要再给 diff 数组减 val 了。\n",
    "#         if j+1 < self.lenth:\n",
    "#             self.diff[j+1] -= val\n",
    "    \n",
    "#     # 返回结果数组\n",
    "#     def result(self):\n",
    "#         self.res = [0] * self.lenth\n",
    "#         self.res[0] = self.diff[0]\n",
    "        \n",
    "#         # 根据差分数组构造结果数组\n",
    "#         for i in range(1, self.lenth):\n",
    "#             self.res[i] = self.res[i-1] + self.diff[i]\n",
    "#             # self.res.append(self.diff[i] + self.res[i-1])\n",
    "#         return self.res"
   ]
  },
  {
   "cell_type": "code",
   "execution_count": 303,
   "metadata": {},
   "outputs": [],
   "source": [
    "class Solution:\n",
    "    def carPooling(self, trips, capacity: int) -> bool:\n",
    "        answer = [0]*7\n",
    "        # answer = [0]*1001\n",
    "        df = Difference(answer)\n",
    "        # print(answer)\n",
    "    \n",
    "        for trip in trips:\n",
    "            cap = trip[0]\n",
    "            i = trip[1]\n",
    "            # 即乘客在车上的区间是 [trip[1], trip[2] - 1]\n",
    "            j = trip[2] - 1\n",
    "            \n",
    "            df.increment(i, j, cap)\n",
    "\n",
    "        result = df.result()\n",
    "        # 这个东西有记忆功能，多次调用会混淆\n",
    "        print(\"result\", df.result(), len(result))\n",
    "        \n",
    "        for val in result:\n",
    "            if capacity < val:\n",
    "                return False\n",
    "        return True"
   ]
  },
  {
   "cell_type": "code",
   "execution_count": 304,
   "metadata": {},
   "outputs": [
    {
     "name": "stdout",
     "output_type": "stream",
     "text": [
      "[0, 2]\n",
      "[0, 2, 2]\n",
      "[0, 2, 2, 5]\n",
      "[0, 2, 2, 5, 5]\n",
      "[0, 2, 2, 5, 5, 3]\n",
      "[0, 2, 2, 5, 5, 3, 3]\n",
      "[0, 2, 2, 5, 5, 3, 3, 0, 2]\n",
      "[0, 2, 2, 5, 5, 3, 3, 0, 2, 2]\n",
      "[0, 2, 2, 5, 5, 3, 3, 0, 2, 2, 5]\n",
      "[0, 2, 2, 5, 5, 3, 3, 0, 2, 2, 5, 5]\n",
      "[0, 2, 2, 5, 5, 3, 3, 0, 2, 2, 5, 5, 3]\n",
      "[0, 2, 2, 5, 5, 3, 3, 0, 2, 2, 5, 5, 3, 3]\n",
      "result [0, 2, 2, 5, 5, 3, 3, 0, 2, 2, 5, 5, 3, 3] 14\n"
     ]
    },
    {
     "data": {
      "text/plain": [
       "False"
      ]
     },
     "execution_count": 304,
     "metadata": {},
     "output_type": "execute_result"
    }
   ],
   "source": [
    "trips = [[2,1,5],[3,3,7]]\n",
    "capacity = 4\n",
    "s = Solution()\n",
    "s.carPooling(trips, capacity)"
   ]
  },
  {
   "cell_type": "code",
   "execution_count": 305,
   "metadata": {},
   "outputs": [
    {
     "name": "stdout",
     "output_type": "stream",
     "text": [
      "[0, 2]\n",
      "[0, 2, 2]\n",
      "[0, 2, 2, 5]\n",
      "[0, 2, 2, 5, 5]\n",
      "[0, 2, 2, 5, 5, 3]\n",
      "[0, 2, 2, 5, 5, 3, 3]\n",
      "[0, 2, 2, 5, 5, 3, 3, 0, 2]\n",
      "[0, 2, 2, 5, 5, 3, 3, 0, 2, 2]\n",
      "[0, 2, 2, 5, 5, 3, 3, 0, 2, 2, 5]\n",
      "[0, 2, 2, 5, 5, 3, 3, 0, 2, 2, 5, 5]\n",
      "[0, 2, 2, 5, 5, 3, 3, 0, 2, 2, 5, 5, 3]\n",
      "[0, 2, 2, 5, 5, 3, 3, 0, 2, 2, 5, 5, 3, 3]\n",
      "result [0, 2, 2, 5, 5, 3, 3, 0, 2, 2, 5, 5, 3, 3] 14\n"
     ]
    },
    {
     "data": {
      "text/plain": [
       "True"
      ]
     },
     "execution_count": 305,
     "metadata": {},
     "output_type": "execute_result"
    }
   ],
   "source": [
    "trips = [[2,1,5],[3,3,7]]\n",
    "capacity = 5\n",
    "s = Solution()\n",
    "s.carPooling(trips, capacity)"
   ]
  },
  {
   "cell_type": "code",
   "execution_count": 299,
   "metadata": {},
   "outputs": [
    {
     "name": "stdout",
     "output_type": "stream",
     "text": [
      "[0, 2]\n",
      "[0, 2, 2]\n",
      "[0, 2, 2, 2]\n",
      "[0, 2, 2, 2, 2]\n",
      "[0, 2, 2, 2, 2, 3]\n",
      "[0, 2, 2, 2, 2, 3, 3]\n"
     ]
    },
    {
     "data": {
      "text/plain": [
       "True"
      ]
     },
     "execution_count": 299,
     "metadata": {},
     "output_type": "execute_result"
    }
   ],
   "source": [
    "trips = [[2,1,5],[3,5,7]]\n",
    "capacity = 3\n",
    "s = Solution()\n",
    "s.carPooling(trips, capacity)"
   ]
  },
  {
   "cell_type": "code",
   "execution_count": 300,
   "metadata": {},
   "outputs": [
    {
     "ename": "IndexError",
     "evalue": "list index out of range",
     "output_type": "error",
     "traceback": [
      "\u001b[1;31m---------------------------------------------------------------------------\u001b[0m",
      "\u001b[1;31mIndexError\u001b[0m                                Traceback (most recent call last)",
      "\u001b[1;32m<ipython-input-300-ec062738bae9>\u001b[0m in \u001b[0;36m<module>\u001b[1;34m\u001b[0m\n\u001b[0;32m      2\u001b[0m \u001b[0mcapacity\u001b[0m \u001b[1;33m=\u001b[0m \u001b[1;36m16\u001b[0m\u001b[1;33m\u001b[0m\u001b[1;33m\u001b[0m\u001b[0m\n\u001b[0;32m      3\u001b[0m \u001b[0ms\u001b[0m \u001b[1;33m=\u001b[0m \u001b[0mSolution\u001b[0m\u001b[1;33m(\u001b[0m\u001b[1;33m)\u001b[0m\u001b[1;33m\u001b[0m\u001b[1;33m\u001b[0m\u001b[0m\n\u001b[1;32m----> 4\u001b[1;33m \u001b[0ms\u001b[0m\u001b[1;33m.\u001b[0m\u001b[0mcarPooling\u001b[0m\u001b[1;33m(\u001b[0m\u001b[0mtrips\u001b[0m\u001b[1;33m,\u001b[0m \u001b[0mcapacity\u001b[0m\u001b[1;33m)\u001b[0m\u001b[1;33m\u001b[0m\u001b[1;33m\u001b[0m\u001b[0m\n\u001b[0m",
      "\u001b[1;32m<ipython-input-296-cbb7ad51b200>\u001b[0m in \u001b[0;36mcarPooling\u001b[1;34m(self, trips, capacity)\u001b[0m\n\u001b[0;32m     11\u001b[0m             \u001b[0mj\u001b[0m \u001b[1;33m=\u001b[0m \u001b[0mtrip\u001b[0m\u001b[1;33m[\u001b[0m\u001b[1;36m2\u001b[0m\u001b[1;33m]\u001b[0m \u001b[1;33m-\u001b[0m \u001b[1;36m1\u001b[0m\u001b[1;33m\u001b[0m\u001b[1;33m\u001b[0m\u001b[0m\n\u001b[0;32m     12\u001b[0m \u001b[1;33m\u001b[0m\u001b[0m\n\u001b[1;32m---> 13\u001b[1;33m             \u001b[0mdf\u001b[0m\u001b[1;33m.\u001b[0m\u001b[0mincrement\u001b[0m\u001b[1;33m(\u001b[0m\u001b[0mi\u001b[0m\u001b[1;33m,\u001b[0m \u001b[0mj\u001b[0m\u001b[1;33m,\u001b[0m \u001b[0mcap\u001b[0m\u001b[1;33m)\u001b[0m\u001b[1;33m\u001b[0m\u001b[1;33m\u001b[0m\u001b[0m\n\u001b[0m\u001b[0;32m     14\u001b[0m \u001b[1;33m\u001b[0m\u001b[0m\n\u001b[0;32m     15\u001b[0m         \u001b[0mresult\u001b[0m \u001b[1;33m=\u001b[0m \u001b[0mdf\u001b[0m\u001b[1;33m.\u001b[0m\u001b[0mresult\u001b[0m\u001b[1;33m(\u001b[0m\u001b[1;33m)\u001b[0m\u001b[1;33m\u001b[0m\u001b[1;33m\u001b[0m\u001b[0m\n",
      "\u001b[1;32m<ipython-input-280-0b54cc8a2a5a>\u001b[0m in \u001b[0;36mincrement\u001b[1;34m(self, i, j, val)\u001b[0m\n\u001b[0;32m     16\u001b[0m     \u001b[1;31m# 给闭区间 [i,j] 增加 val（可以是负数）\u001b[0m\u001b[1;33m\u001b[0m\u001b[1;33m\u001b[0m\u001b[1;33m\u001b[0m\u001b[0m\n\u001b[0;32m     17\u001b[0m     \u001b[1;32mdef\u001b[0m \u001b[0mincrement\u001b[0m\u001b[1;33m(\u001b[0m\u001b[0mself\u001b[0m\u001b[1;33m,\u001b[0m \u001b[0mi\u001b[0m\u001b[1;33m,\u001b[0m \u001b[0mj\u001b[0m\u001b[1;33m,\u001b[0m \u001b[0mval\u001b[0m\u001b[1;33m)\u001b[0m\u001b[1;33m:\u001b[0m\u001b[1;33m\u001b[0m\u001b[1;33m\u001b[0m\u001b[0m\n\u001b[1;32m---> 18\u001b[1;33m         \u001b[0mself\u001b[0m\u001b[1;33m.\u001b[0m\u001b[0mdiff\u001b[0m\u001b[1;33m[\u001b[0m\u001b[0mi\u001b[0m\u001b[1;33m]\u001b[0m \u001b[1;33m+=\u001b[0m \u001b[0mval\u001b[0m\u001b[1;33m\u001b[0m\u001b[1;33m\u001b[0m\u001b[0m\n\u001b[0m\u001b[0;32m     19\u001b[0m         \u001b[1;31m# 当 j+1 >= diff.length 时，说明是对 nums[i] 及以后的整个数组都进行修改，\u001b[0m\u001b[1;33m\u001b[0m\u001b[1;33m\u001b[0m\u001b[1;33m\u001b[0m\u001b[0m\n\u001b[0;32m     20\u001b[0m         \u001b[1;31m# 那么就不需要再给 diff 数组减 val 了。\u001b[0m\u001b[1;33m\u001b[0m\u001b[1;33m\u001b[0m\u001b[1;33m\u001b[0m\u001b[0m\n",
      "\u001b[1;31mIndexError\u001b[0m: list index out of range"
     ]
    }
   ],
   "source": [
    "trips = [[7,5,6],[6,7,8],[10,1,6]]\n",
    "capacity = 16\n",
    "s = Solution()\n",
    "s.carPooling(trips, capacity)"
   ]
  },
  {
   "cell_type": "code",
   "execution_count": null,
   "metadata": {},
   "outputs": [],
   "source": []
  },
  {
   "cell_type": "code",
   "execution_count": null,
   "metadata": {},
   "outputs": [],
   "source": []
  }
 ],
 "metadata": {
  "interpreter": {
   "hash": "9ecbc95d31df1b277e5ec566a835865c3a9a253da4266404bdbc6ee7e31406f4"
  },
  "kernelspec": {
   "display_name": "Python 3.8.6 ('tensorflow2')",
   "language": "python",
   "name": "python3"
  },
  "language_info": {
   "codemirror_mode": {
    "name": "ipython",
    "version": 3
   },
   "file_extension": ".py",
   "mimetype": "text/x-python",
   "name": "python",
   "nbconvert_exporter": "python",
   "pygments_lexer": "ipython3",
   "version": "3.8.6"
  },
  "orig_nbformat": 4
 },
 "nbformat": 4,
 "nbformat_minor": 2
}
