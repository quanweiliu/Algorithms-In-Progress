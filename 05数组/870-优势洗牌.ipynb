{
 "cells": [
  {
   "cell_type": "markdown",
   "metadata": {},
   "source": [
    "870优势洗牌\n",
    "- 直接思路"
   ]
  },
  {
   "cell_type": "code",
   "execution_count": 5,
   "metadata": {},
   "outputs": [],
   "source": [
    "class Solution:\n",
    "    def advantageCount(self, nums1, nums2) -> list:\n",
    "        # 返回 A 的任意排列，使其相对于 B 的优势最大化。\n",
    "        a = 0\n",
    "        b = 0\n",
    "        count = -1\n",
    "        nums1.sort(reverse=True)\n",
    "        nums2.sort(reverse=True)\n",
    "        while a < len(nums1):\n",
    "        # for i in range(len(nums1)):\n",
    "            if nums1[a] > nums2[b]:\n",
    "                a += 1\n",
    "                b += 1\n",
    "            else:\n",
    "                nums1.insert(a, nums1.pop())\n",
    "                a += 1\n",
    "                b += 1\n",
    "        return nums1"
   ]
  },
  {
   "cell_type": "code",
   "execution_count": 6,
   "metadata": {},
   "outputs": [
    {
     "data": {
      "text/plain": [
       "[15, 11, 7, 2]"
      ]
     },
     "execution_count": 6,
     "metadata": {},
     "output_type": "execute_result"
    }
   ],
   "source": [
    "A = [2,7,11,15]\n",
    "B = [1,10,4,11]\n",
    "val = 3\n",
    "s = Solution()\n",
    "s.advantageCount(A, B)\n",
    "A"
   ]
  },
  {
   "cell_type": "markdown",
   "metadata": {},
   "source": [
    "但是 nums2 中元素的顺序不能改变,所以我们需要额外的数据结构\n",
    "- 链接：https://leetcode-cn.com/problems/advantage-shuffle/solution/you-shi-xi-pai-by-leetcode/"
   ]
  },
  {
   "cell_type": "code",
   "execution_count": 7,
   "metadata": {},
   "outputs": [],
   "source": [
    "class Solution(object):\n",
    "    def advantageCount(self, A, B):\n",
    "        sortedA = sorted(A)\n",
    "        sortedB = sorted(B)\n",
    "\n",
    "        # assigned[b] = list of a that are assigned to beat b\n",
    "        # remaining = list of a that are not assigned to any b\n",
    "        assigned = {b: [] for b in B}\n",
    "        remaining = []\n",
    "        # print(assigned) {1: [], 10: [], 4: [], 11: []}\n",
    "\n",
    "        # populate (assigned, remaining) appropriately\n",
    "        # sortedB[j] is always the smallest unassigned element in B\n",
    "        j = 0\n",
    "        for a in sortedA:\n",
    "            if a > sortedB[j]:\n",
    "                # print(a, sortedB)\n",
    "                # 字典的对应位置加入好马\n",
    "                assigned[sortedB[j]].append(a)\n",
    "                j += 1\n",
    "                print(\"assigned\", assigned, \"remaining\", remaining)\n",
    "            else:\n",
    "                # 否则应用最差的马\n",
    "                remaining.append(a)\n",
    "                # print(\"assigned\", assigned, \"remaining\", remaining)\n",
    "        \n",
    "        # Reconstruct the answer from annotations (assigned, remaining)\n",
    "        return [assigned[b].pop() if assigned[b] else remaining.pop() for b in B]"
   ]
  },
  {
   "cell_type": "code",
   "execution_count": 8,
   "metadata": {},
   "outputs": [
    {
     "name": "stdout",
     "output_type": "stream",
     "text": [
      "assigned {13: [], 25: [], 32: [], 11: [12]} remaining [8]\n",
      "assigned {13: [24], 25: [], 32: [], 11: [12]} remaining [8]\n",
      "assigned {13: [24], 25: [32], 32: [], 11: [12]} remaining [8]\n"
     ]
    },
    {
     "data": {
      "text/plain": [
       "[12, 24, 8, 32]"
      ]
     },
     "execution_count": 8,
     "metadata": {},
     "output_type": "execute_result"
    }
   ],
   "source": [
    "A = [2,7,11,15]\n",
    "B = [1,10,4,11]\n",
    "\n",
    "A = [12,24,8,32]\n",
    "B = [13,25,32,11]\n",
    "s = Solution()\n",
    "s.advantageCount(A, B)\n",
    "A"
   ]
  }
 ],
 "metadata": {
  "interpreter": {
   "hash": "9ecbc95d31df1b277e5ec566a835865c3a9a253da4266404bdbc6ee7e31406f4"
  },
  "kernelspec": {
   "display_name": "Python 3.8.6 ('tensorflow2')",
   "language": "python",
   "name": "python3"
  },
  "language_info": {
   "codemirror_mode": {
    "name": "ipython",
    "version": 3
   },
   "file_extension": ".py",
   "mimetype": "text/x-python",
   "name": "python",
   "nbconvert_exporter": "python",
   "pygments_lexer": "ipython3",
   "version": "3.8.6"
  },
  "orig_nbformat": 4
 },
 "nbformat": 4,
 "nbformat_minor": 2
}
