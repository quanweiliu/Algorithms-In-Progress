{
 "cells": [
  {
   "cell_type": "code",
   "execution_count": 39,
   "metadata": {},
   "outputs": [],
   "source": [
    "# 0 - n-1\n",
    "class Solution:\n",
    "    def findErrorNums(self, nums):\n",
    "        n = len(nums)\n",
    "        dup = -1\n",
    "        \n",
    "        for i in range(n):\n",
    "            # 第一次访问的时候，索引必为正\n",
    "            # 第二次访问的时候，索引必为负\n",
    "            index = abs(nums[i]) - 1\n",
    "            print(index)\n",
    "\n",
    "            if nums[index] < 0:\n",
    "                dup = abs(nums[i])\n",
    "            else:\n",
    "                nums[index] *= -1\n",
    "        \n",
    "        # print(nums)\n",
    "        \n",
    "        missing = -1\n",
    "        for i in range(n):\n",
    "            # nums[i] 大于 0 则说明没有访问\n",
    "            if nums[i] > 0:\n",
    "                # 将索引转换成元素\n",
    "                missing = i + 1\n",
    "        \n",
    "        return dup, missing"
   ]
  },
  {
   "cell_type": "code",
   "execution_count": 40,
   "metadata": {},
   "outputs": [
    {
     "name": "stdout",
     "output_type": "stream",
     "text": [
      "1\n",
      "2\n",
      "1\n"
     ]
    },
    {
     "data": {
      "text/plain": [
       "(2, 1)"
      ]
     },
     "execution_count": 40,
     "metadata": {},
     "output_type": "execute_result"
    }
   ],
   "source": [
    "ls = [4,1,4,2]\n",
    "ls = [2,3,2]\n",
    "s = Solution()\n",
    "s.findErrorNums(ls)\n",
    "# 找出重复出现的整数，再找到丢失的整数"
   ]
  },
  {
   "cell_type": "code",
   "execution_count": null,
   "metadata": {},
   "outputs": [],
   "source": []
  },
  {
   "cell_type": "code",
   "execution_count": null,
   "metadata": {},
   "outputs": [],
   "source": []
  }
 ],
 "metadata": {
  "interpreter": {
   "hash": "9ecbc95d31df1b277e5ec566a835865c3a9a253da4266404bdbc6ee7e31406f4"
  },
  "kernelspec": {
   "display_name": "Python 3.8.6 ('tensorflow2')",
   "language": "python",
   "name": "python3"
  },
  "language_info": {
   "codemirror_mode": {
    "name": "ipython",
    "version": 3
   },
   "file_extension": ".py",
   "mimetype": "text/x-python",
   "name": "python",
   "nbconvert_exporter": "python",
   "pygments_lexer": "ipython3",
   "version": "3.8.6"
  },
  "orig_nbformat": 4
 },
 "nbformat": 4,
 "nbformat_minor": 2
}
