{
 "cells": [
  {
   "cell_type": "markdown",
   "metadata": {},
   "source": [
    "# 「差分数组」\n",
    "- 差分数组的主要适用场景是频繁对原始数组的某个区间的元素进行增减。"
   ]
  },
  {
   "cell_type": "code",
   "execution_count": 12,
   "metadata": {},
   "outputs": [],
   "source": [
    "class Difference():\n",
    "    # 输入一个初始数组，区间操作将在这个数组上进行\n",
    "    def __init__(self, nums):\n",
    "        self.res = []\n",
    "        self.lenth = len(nums)\n",
    "        assert self.lenth > 0\n",
    "\n",
    "        self.diff = [0]*self.lenth\n",
    "        self.diff[0] = nums[0]\n",
    "\n",
    "        for i in range(1, self.lenth):\n",
    "            self.diff[i] = nums[i] - nums[i-1]\n",
    "        print(\"检查一\", self.diff)\n",
    "    \n",
    "    # 给闭区间 [i,j] 增加 val（可以是负数）\n",
    "    def increment(self, i, j, val):\n",
    "        self.diff[i] += val\n",
    "        if j+1 < self.lenth:\n",
    "            self.diff[j+1] -= val\n",
    "    \n",
    "    # 返回结果数组\n",
    "    def result(self):\n",
    "        self.res.append(self.diff[0])\n",
    "        for i in range(1, self.lenth):\n",
    "            self.res.append(self.diff[i] + self.res[i-1])\n",
    "        return self.res"
   ]
  },
  {
   "cell_type": "code",
   "execution_count": 15,
   "metadata": {},
   "outputs": [
    {
     "name": "stdout",
     "output_type": "stream",
     "text": [
      "检查一 [8, -6, 4, -3, -2]\n"
     ]
    },
    {
     "data": {
      "text/plain": [
       "[108, 102, 106, 3, 1]"
      ]
     },
     "execution_count": 15,
     "metadata": {},
     "output_type": "execute_result"
    }
   ],
   "source": [
    "array = [8,2,6,3,1,]\n",
    "s = Difference(array)\n",
    "s.increment(0, 2, 100)\n",
    "array2 = s.result()\n",
    "array2"
   ]
  },
  {
   "cell_type": "markdown",
   "metadata": {},
   "source": [
    "## 370 题「 区间加法」"
   ]
  },
  {
   "cell_type": "code",
   "execution_count": null,
   "metadata": {},
   "outputs": [],
   "source": []
  }
 ],
 "metadata": {
  "interpreter": {
   "hash": "9ecbc95d31df1b277e5ec566a835865c3a9a253da4266404bdbc6ee7e31406f4"
  },
  "kernelspec": {
   "display_name": "Python 3.8.6 ('tensorflow2')",
   "language": "python",
   "name": "python3"
  },
  "language_info": {
   "codemirror_mode": {
    "name": "ipython",
    "version": 3
   },
   "file_extension": ".py",
   "mimetype": "text/x-python",
   "name": "python",
   "nbconvert_exporter": "python",
   "pygments_lexer": "ipython3",
   "version": "3.8.6"
  },
  "orig_nbformat": 4
 },
 "nbformat": 4,
 "nbformat_minor": 2
}
