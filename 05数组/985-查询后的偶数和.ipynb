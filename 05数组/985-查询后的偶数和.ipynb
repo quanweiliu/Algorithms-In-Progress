{
 "cells": [
  {
   "cell_type": "code",
   "execution_count": 10,
   "metadata": {},
   "outputs": [],
   "source": [
    "class Solution:\n",
    "    def sumEvenAfterQueries(self, nums, queries):\n",
    "        sum = 0\n",
    "        nums[queries[1]] = nums[queries[1]] + queries[0]\n",
    "        for n in nums:\n",
    "            if n % 2 == 0:\n",
    "                sum += n\n",
    "        return sum"
   ]
  },
  {
   "cell_type": "code",
   "execution_count": 11,
   "metadata": {},
   "outputs": [
    {
     "data": {
      "text/plain": [
       "8"
      ]
     },
     "execution_count": 11,
     "metadata": {},
     "output_type": "execute_result"
    }
   ],
   "source": [
    "A = [1,2,3,4]\n",
    "# queries = [[1,0],[-3,1],[-4,0],[2,3]]\n",
    "queries = [1,0]\n",
    "s = Solution()\n",
    "s.sumEvenAfterQueries(A, queries)"
   ]
  },
  {
   "cell_type": "markdown",
   "metadata": {},
   "source": [
    "# 超出时间限制"
   ]
  },
  {
   "cell_type": "code",
   "execution_count": 18,
   "metadata": {},
   "outputs": [],
   "source": [
    "class Solution:\n",
    "    def sumEvenAfterQueries(self, nums, queries):\n",
    "        res = []\n",
    "        for i in queries:\n",
    "            nums[i[1]] = nums[i[1]] + i[0]\n",
    "            sum = 0\n",
    "            for n in nums:\n",
    "                if n % 2 == 0:\n",
    "                    sum += n\n",
    "            res.append(sum)\n",
    "            # print(nums)\n",
    "        return res"
   ]
  },
  {
   "cell_type": "code",
   "execution_count": 19,
   "metadata": {},
   "outputs": [
    {
     "name": "stdout",
     "output_type": "stream",
     "text": [
      "[2, 2, 3, 4]\n",
      "[2, -1, 3, 4]\n",
      "[-2, -1, 3, 4]\n",
      "[-2, -1, 3, 6]\n"
     ]
    },
    {
     "data": {
      "text/plain": [
       "[8, 6, 2, 4]"
      ]
     },
     "execution_count": 19,
     "metadata": {},
     "output_type": "execute_result"
    }
   ],
   "source": [
    "A = [1,2,3,4]\n",
    "queries = [[1,0],[-3,1],[-4,0],[2,3]]\n",
    "# queries = [1,0]\n",
    "s = Solution()\n",
    "s.sumEvenAfterQueries(A, queries)"
   ]
  },
  {
   "cell_type": "markdown",
   "metadata": {},
   "source": [
    "# 空间换时间"
   ]
  },
  {
   "cell_type": "code",
   "execution_count": 32,
   "metadata": {},
   "outputs": [],
   "source": [
    "import copy\n",
    "class Solution:\n",
    "    def sumEvenAfterQueries(self, nums, queries):\n",
    "        res = []\n",
    "        temp = []\n",
    "        for i in queries:\n",
    "            nums[i[1]] = nums[i[1]] + i[0]\n",
    "            # print(nums)\n",
    "            temp.append(copy.deepcopy(nums))\n",
    "        # print(temp)\n",
    "\n",
    "        for n in temp:\n",
    "            sum = 0\n",
    "            for j in n:\n",
    "                if j % 2 == 0:\n",
    "                    sum += j\n",
    "            res.append(sum)\n",
    "        # print(nums)\n",
    "        return res"
   ]
  },
  {
   "cell_type": "code",
   "execution_count": 33,
   "metadata": {},
   "outputs": [
    {
     "data": {
      "text/plain": [
       "[8, 6, 2, 4]"
      ]
     },
     "execution_count": 33,
     "metadata": {},
     "output_type": "execute_result"
    }
   ],
   "source": [
    "A = [1,2,3,4]\n",
    "queries = [[1,0],[-3,1],[-4,0],[2,3]]\n",
    "# queries = [1,0]\n",
    "s = Solution()\n",
    "s.sumEvenAfterQueries(A, queries)"
   ]
  },
  {
   "cell_type": "markdown",
   "metadata": {},
   "source": [
    "# 答案如此简单？"
   ]
  },
  {
   "cell_type": "code",
   "execution_count": 38,
   "metadata": {},
   "outputs": [],
   "source": [
    "class Solution(object):\n",
    "    def sumEvenAfterQueries(self, A, queries):\n",
    "        # 先提取出偶数和\n",
    "        S = sum(x for x in A if x % 2 == 0)\n",
    "        \n",
    "        # print(S)\n",
    "        ans = []\n",
    "\n",
    "        for x, k in queries:\n",
    "            if A[k] % 2 == 0: \n",
    "                S -= A[k]\n",
    "\n",
    "            A[k] += x\n",
    "\n",
    "            if A[k] % 2 == 0: \n",
    "                S += A[k]\n",
    "                \n",
    "            ans.append(S)\n",
    "        return ans\n",
    "\n",
    "# 链接：https://leetcode.cn/problems/sum-of-even-numbers-after-queries/solution/cha-xun-hou-de-ou-shu-he-by-leetcode/\n"
   ]
  },
  {
   "cell_type": "code",
   "execution_count": 39,
   "metadata": {},
   "outputs": [
    {
     "data": {
      "text/plain": [
       "[8, 6, 2, 4]"
      ]
     },
     "execution_count": 39,
     "metadata": {},
     "output_type": "execute_result"
    }
   ],
   "source": [
    "A = [1,2,3,4]\n",
    "queries = [[1,0],[-3,1],[-4,0],[2,3]]\n",
    "# queries = [1,0]\n",
    "s = Solution()\n",
    "s.sumEvenAfterQueries(A, queries)"
   ]
  },
  {
   "cell_type": "code",
   "execution_count": null,
   "metadata": {},
   "outputs": [],
   "source": []
  },
  {
   "cell_type": "code",
   "execution_count": null,
   "metadata": {},
   "outputs": [],
   "source": []
  }
 ],
 "metadata": {
  "interpreter": {
   "hash": "85c51a4259275393737ca8d3e0cd6fa489554cf4913552085d5553b62ac22de5"
  },
  "kernelspec": {
   "display_name": "Python 3.8.6 ('tensorflow2')",
   "language": "python",
   "name": "python3"
  },
  "language_info": {
   "codemirror_mode": {
    "name": "ipython",
    "version": 3
   },
   "file_extension": ".py",
   "mimetype": "text/x-python",
   "name": "python",
   "nbconvert_exporter": "python",
   "pygments_lexer": "ipython3",
   "version": "3.8.6"
  },
  "orig_nbformat": 4
 },
 "nbformat": 4,
 "nbformat_minor": 2
}
