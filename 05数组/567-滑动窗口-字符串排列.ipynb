{
 "cells": [
  {
   "cell_type": "markdown",
   "metadata": {},
   "source": [
    "# 滑动窗口\n",
    "- https://leetcode-cn.com/problems/permutation-in-string/solution/zhu-shi-chao-xiang-xi-de-hua-dong-chuang-rc7d/"
   ]
  },
  {
   "cell_type": "code",
   "execution_count": 10,
   "metadata": {},
   "outputs": [],
   "source": [
    "import collections\n",
    "class Solution(object):\n",
    "    def checkInclusion(self, s1, s2):\n",
    "        # 统计 s1 中每个字符出现的次数\n",
    "        counter1 = collections.Counter(s1)\n",
    "        N = len(s2)\n",
    "        # 定义滑动窗口的范围是 [left, right]，闭区间，长度与s1相等\n",
    "        left = 0\n",
    "        right = len(s1) - 1\n",
    "\n",
    "        # 统计窗口 s2 [left, right - 1]内的元素出现的次数\n",
    "        counter2 = collections.Counter(s2[0:right])\n",
    "        print(counter2)\n",
    "\n",
    "        while right < N:\n",
    "            print(counter2)\n",
    "            # 把 right 位置的元素放到 counter2 中\n",
    "            counter2[s2[right]] += 1\n",
    "            # 如果滑动窗口内各个元素出现的次数跟 s1 的元素出现次数完全一致，返回 True\n",
    "            if counter1 == counter2:\n",
    "                return True\n",
    "            # 窗口向右移动前，把当前 left 位置的元素出现次数 - 1\n",
    "            counter2[s2[left]] -= 1\n",
    "            # 如果当前 left 位置的元素出现次数为 0， 需要从字典中删除，\n",
    "            # 否则这个出现次数为 0 的元素会影响两 counter 之间的比较\n",
    "            if counter2[s2[left]] == 0:\n",
    "                del counter2[s2[left]]\n",
    "            # 窗口向右移动\n",
    "            left += 1\n",
    "            right += 1\n",
    "        return False"
   ]
  },
  {
   "cell_type": "code",
   "execution_count": 11,
   "metadata": {},
   "outputs": [
    {
     "name": "stdout",
     "output_type": "stream",
     "text": [
      "Counter({'e': 1})\n",
      "Counter({'e': 1})\n",
      "Counter({'i': 1})\n",
      "Counter({'d': 1})\n",
      "Counter({'b': 1})\n"
     ]
    },
    {
     "data": {
      "text/plain": [
       "True"
      ]
     },
     "execution_count": 11,
     "metadata": {},
     "output_type": "execute_result"
    }
   ],
   "source": [
    "s1 = \"ab\" \n",
    "s2 = \"eidbaooo\"\n",
    "s = Solution()\n",
    "s.checkInclusion(s1, s2)"
   ]
  },
  {
   "cell_type": "code",
   "execution_count": 7,
   "metadata": {},
   "outputs": [
    {
     "data": {
      "text/plain": [
       "False"
      ]
     },
     "execution_count": 7,
     "metadata": {},
     "output_type": "execute_result"
    }
   ],
   "source": [
    "s1 = \"ab\" \n",
    "s2 = \"eidboaoo\"\n",
    "s = Solution()\n",
    "s.checkInclusion(s1, s2)"
   ]
  },
  {
   "cell_type": "code",
   "execution_count": null,
   "metadata": {},
   "outputs": [],
   "source": []
  },
  {
   "cell_type": "code",
   "execution_count": null,
   "metadata": {},
   "outputs": [],
   "source": []
  },
  {
   "cell_type": "code",
   "execution_count": null,
   "metadata": {},
   "outputs": [],
   "source": []
  }
 ],
 "metadata": {
  "interpreter": {
   "hash": "9ecbc95d31df1b277e5ec566a835865c3a9a253da4266404bdbc6ee7e31406f4"
  },
  "kernelspec": {
   "display_name": "Python 3.8.6 ('tensorflow2')",
   "language": "python",
   "name": "python3"
  },
  "language_info": {
   "codemirror_mode": {
    "name": "ipython",
    "version": 3
   },
   "file_extension": ".py",
   "mimetype": "text/x-python",
   "name": "python",
   "nbconvert_exporter": "python",
   "pygments_lexer": "ipython3",
   "version": "3.8.6"
  },
  "orig_nbformat": 4
 },
 "nbformat": 4,
 "nbformat_minor": 2
}
