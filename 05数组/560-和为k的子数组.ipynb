{
 "cells": [
  {
   "cell_type": "markdown",
   "metadata": {},
   "source": [
    "链接：https://leetcode-cn.com/problems/subarray-sum-equals-k/solution/560-he-wei-k-de-zi-shu-zu-python-qian-zh-agqr/\n"
   ]
  },
  {
   "cell_type": "markdown",
   "metadata": {},
   "source": [
    "## 连续子数组\n",
    "- 超时写法"
   ]
  },
  {
   "cell_type": "code",
   "execution_count": 47,
   "metadata": {},
   "outputs": [],
   "source": [
    "nums = [1,1,1]\n",
    "# nums = [1,2,3]"
   ]
  },
  {
   "cell_type": "code",
   "execution_count": 50,
   "metadata": {},
   "outputs": [],
   "source": [
    "class Solution:\n",
    "    def __init__(self, nums):\n",
    "        self.nums = nums\n",
    "        n = len(nums)\n",
    "        self.sum = [0]*(n+1)\n",
    "\n",
    "\n",
    "        # print(self.sum)\n",
    "        for i in range(len(nums)):\n",
    "            self.sum[i+1] = self.sum[i] + self.nums[i]\n",
    "        print(self.sum)\n",
    "\n",
    "    # 我为什么想不到相减的套路\n",
    "    def subarraySum(self, nums, k):\n",
    "        n = len(nums)\n",
    "        self.res = 0\n",
    "        for i in range(n+1):\n",
    "            for j in range(i):\n",
    "                if self.sum[i] - self.sum[j] == k:\n",
    "                    self.res += 1\n",
    "        return self.res"
   ]
  },
  {
   "cell_type": "code",
   "execution_count": 51,
   "metadata": {},
   "outputs": [
    {
     "name": "stdout",
     "output_type": "stream",
     "text": [
      "[0, 1, 2, 3]\n"
     ]
    },
    {
     "data": {
      "text/plain": [
       "2"
      ]
     },
     "execution_count": 51,
     "metadata": {},
     "output_type": "execute_result"
    }
   ],
   "source": [
    "s = Solution(nums)\n",
    "s.subarraySum(nums, 2)"
   ]
  },
  {
   "cell_type": "markdown",
   "metadata": {},
   "source": [
    "# 优化"
   ]
  },
  {
   "cell_type": "code",
   "execution_count": 71,
   "metadata": {},
   "outputs": [],
   "source": [
    "class Solution:\n",
    "    # 2. 前缀和数组\n",
    "    def subarraySum(self, nums, k: int) -> int:\n",
    "        pre_sum = [0]\n",
    "        for num in nums:\n",
    "            pre_sum.append(pre_sum[-1]+num)\n",
    "            \n",
    "        print(pre_sum)\n",
    "        res = 0\n",
    "\n",
    "        for i in range(len(nums)):\n",
    "            if nums[i] == k:\n",
    "                res += 1\n",
    "            for j in range(i+1, len(nums)):\n",
    "                if pre_sum[j+1]-pre_sum[i] == k:\n",
    "                    res += 1\n",
    "        return res"
   ]
  },
  {
   "cell_type": "code",
   "execution_count": 72,
   "metadata": {},
   "outputs": [
    {
     "name": "stdout",
     "output_type": "stream",
     "text": [
      "[0, 1, 3, 6]\n"
     ]
    },
    {
     "data": {
      "text/plain": [
       "2"
      ]
     },
     "execution_count": 72,
     "metadata": {},
     "output_type": "execute_result"
    }
   ],
   "source": [
    "nums = [1,1,1]\n",
    "nums = [1,2,3]\n",
    "s = Solution()\n",
    "s.subarraySum(nums, 3)"
   ]
  },
  {
   "cell_type": "code",
   "execution_count": null,
   "metadata": {},
   "outputs": [],
   "source": [
    "## 优化"
   ]
  },
  {
   "cell_type": "code",
   "execution_count": 79,
   "metadata": {},
   "outputs": [],
   "source": [
    "import collections\n",
    "class Solution:\n",
    "    # 3. 前缀和+字典\n",
    "    def subarraySum(self, nums, k: int) -> int:\n",
    "        # num_times 存储某“前缀和”出现的次数\n",
    "        # TOOD\n",
    "        sum_times = collections.defaultdict(int)\n",
    "        \n",
    "\n",
    "        sum_times[0] = 1  # 先给定一个初始值，代表前缀和为 0 的出现了一次\n",
    "        cur_sum = 0       # 记录到当前位置的前缀和\n",
    "        res = 0\n",
    "        for num in nums:\n",
    "            cur_sum += num  # 计算当前前缀和\n",
    "            if cur_sum - k in sum_times:  # 如果前缀和减去目标值 k 所得到的值在字典中出现，说明存在一个子数组的和为k\n",
    "                res += sum_times[cur_sum - k]\n",
    "            sum_times[cur_sum] += 1\n",
    "        print(sum_times)\n",
    "        return res"
   ]
  },
  {
   "cell_type": "code",
   "execution_count": 80,
   "metadata": {},
   "outputs": [
    {
     "name": "stdout",
     "output_type": "stream",
     "text": [
      "defaultdict(<class 'int'>, {0: 1, 1: 1, 3: 1, 6: 1})\n"
     ]
    },
    {
     "data": {
      "text/plain": [
       "2"
      ]
     },
     "execution_count": 80,
     "metadata": {},
     "output_type": "execute_result"
    }
   ],
   "source": [
    "nums = [1,1,1]\n",
    "nums = [1,2,3]\n",
    "s = Solution()\n",
    "s.subarraySum(nums, 3)"
   ]
  },
  {
   "cell_type": "code",
   "execution_count": null,
   "metadata": {},
   "outputs": [],
   "source": []
  },
  {
   "cell_type": "code",
   "execution_count": null,
   "metadata": {},
   "outputs": [],
   "source": []
  }
 ],
 "metadata": {
  "interpreter": {
   "hash": "9ecbc95d31df1b277e5ec566a835865c3a9a253da4266404bdbc6ee7e31406f4"
  },
  "kernelspec": {
   "display_name": "Python 3.8.6 ('tensorflow2')",
   "language": "python",
   "name": "python3"
  },
  "language_info": {
   "codemirror_mode": {
    "name": "ipython",
    "version": 3
   },
   "file_extension": ".py",
   "mimetype": "text/x-python",
   "name": "python",
   "nbconvert_exporter": "python",
   "pygments_lexer": "ipython3",
   "version": "3.8.6"
  },
  "orig_nbformat": 4
 },
 "nbformat": 4,
 "nbformat_minor": 2
}
