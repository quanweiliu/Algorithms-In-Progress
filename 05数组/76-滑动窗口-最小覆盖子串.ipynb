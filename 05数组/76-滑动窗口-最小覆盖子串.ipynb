{
 "cells": [
  {
   "cell_type": "markdown",
   "metadata": {},
   "source": [
    "# 滑动窗口算法框架\n",
    "- https://blog.csdn.net/dadongwudi/article/details/106308310\n",
    "\n",
    "- 思路（思路确实不是很难，但是为什么是难题呢?）\n",
    "- 1.在字符串 S 中使用双指针中的左右指针技巧，初始化 left = right = 0，把索引左闭右开区间 [left, right) 称为一个「窗口」。\n",
    "    - ps:深入理解左闭右开的原因\n",
    "\n",
    "- 2.我们先不断地增加 right 指针扩大窗口 [left, right)，直到窗口中的字符串符合要求（包含了 T 中的所有字符）。\n",
    "\n",
    "- 3.此时，我们停止增加 right，转而不断增加 left 指针缩小窗口 [left, right)，直到窗口中的字符串不再符合要求（不包含 T 中的所有字符了）。同时，每次增加 left，我们都要更新一轮结果。\n",
    "\n",
    "- 4.重复第 2 和第 3 步，直到 right 到达字符串 S 的尽头。"
   ]
  },
  {
   "cell_type": "markdown",
   "metadata": {},
   "source": [
    "## 解法一"
   ]
  },
  {
   "cell_type": "code",
   "execution_count": 1,
   "metadata": {},
   "outputs": [],
   "source": [
    "from collections import defaultdict\n",
    "\n",
    "class Solution():\n",
    "    def minWindow(self, s, t):\n",
    "        if s == None or t == None or len(s) == 0 or len(t) == 0:\n",
    "            return \"\"\n",
    "        # 定义一个数字，用来记录字符串 t 中出现字符的频率，\n",
    "        # 也就是窗口内需要匹配的字符和相应的频率\n",
    "        dictionary = defaultdict(int)\n",
    "        for c in t:\n",
    "            # print(s)\n",
    "            dictionary[c] += 1\n",
    "        # print(dictionary)\n",
    "        left = 0\n",
    "        right = 0\n",
    "        # 匹配字符的个数\n",
    "        match  = 0\n",
    "        # 最大的子串的长度\n",
    "        minLen = len(s) + 1\n",
    "\n",
    "        # 子串的起始位置 子串结束的位置\n",
    "        # (如果不存在这样的子串的话，start，end 都是 0，s.substring 截取就是 “”\n",
    "        start = 0\n",
    "        end = 0\n",
    "\n",
    "        while right < len(s):\n",
    "            # 右边界的那个字符\n",
    "            charRight = s[right]\n",
    "\n",
    "            # 字典，储存，窗口内，需要匹配的字符和相应的频率\n",
    "            # print(\"2\", dictionary)\n",
    "            dictionary[charRight] -= 1\n",
    "            # print(\"3\", dictionary)\n",
    "\n",
    "            # 重点理解：dictionary[charRight] 的取值范围 在 -x - 1之间 ？\n",
    "            # 如果字符 charRight 在 t 中存在，那么经过这一次操作，只要个数大于等于 0，说明匹配了一个\n",
    "            # 若字符 charRight 不在 t 中，那么 dictionary[charRight] < 0, 不进行任何操作\n",
    "            if (dictionary[charRight] >= 0):   \n",
    "                match += 1\n",
    "            right += 1\n",
    "\n",
    "            ##################### debug 输出的位置 #######################################\n",
    "            # print(left, right)\n",
    "            ##################### debug 输出的位置 #######################################\n",
    "            # 只要窗口内匹配的字符达到了要求，右边界固定，左边界收缩\n",
    "            while match == len(t):\n",
    "                size = right - left\n",
    "                if size < minLen:\n",
    "                    minLen = size\n",
    "                    start = left\n",
    "                    end = right\n",
    "\n",
    "                charLeft = s[left]              # left \"AADBCAAA\"\n",
    "                dictionary[charLeft] += 1\n",
    "                # 不在 t 中出现的字符，移出窗口，最终能够达到的最大值 dictionary[charLeft] = 0\n",
    "                # 如果恰好移出了需要匹配的一个字符，那么这里 dictionary[charLeft] > 0, \n",
    "                # 也就是还要匹配字符 charLeft，此时 match--\n",
    "                if dictionary[charLeft] > 0:\n",
    "                    match -= 1\n",
    "                left += 1\n",
    "            # print(start, end)\n",
    "        return s[start : end]"
   ]
  },
  {
   "cell_type": "code",
   "execution_count": 2,
   "metadata": {},
   "outputs": [
    {
     "data": {
      "text/plain": [
       "'BCA'"
      ]
     },
     "execution_count": 2,
     "metadata": {},
     "output_type": "execute_result"
    }
   ],
   "source": [
    "s = \"AADBCAAA\"\n",
    "t = \"ABC\"\n",
    "so = Solution()\n",
    "r = so.minWindow(s, t)\n",
    "r"
   ]
  },
  {
   "cell_type": "code",
   "execution_count": 3,
   "metadata": {},
   "outputs": [
    {
     "name": "stdout",
     "output_type": "stream",
     "text": [
      "A\n",
      "B\n",
      "C\n",
      "defaultdict(<class 'int'>, {'A': 1, 'B': 1, 'C': 1})\n"
     ]
    }
   ],
   "source": [
    "dictionary = defaultdict(int)\n",
    "for c in t:\n",
    "    print(c)\n",
    "    dictionary[c] += 1\n",
    "print(dictionary)"
   ]
  },
  {
   "cell_type": "markdown",
   "metadata": {},
   "source": [
    "## 解法2(背诵)"
   ]
  },
  {
   "cell_type": "code",
   "execution_count": 68,
   "metadata": {},
   "outputs": [],
   "source": [
    "from collections import defaultdict\n",
    "\n",
    "class Solution():\n",
    "    # 判断 s 中是否存在 t 的排列\n",
    "    def minWindow(self, s, t):\n",
    "        if s == None or t == None or len(s) == 0 or len(t) == 0:\n",
    "            return \"\"\n",
    "        # T 中「字符」出现次数,「窗口」中的相应字符的出现次数。\n",
    "        dictionary_need = defaultdict(int)\n",
    "        dictionary_window = defaultdict(int)\n",
    "        for c in t:\n",
    "            # print(s)\n",
    "            dictionary_need[c] += 1\n",
    "        print(\"dictionary_need\", dictionary_need)\n",
    "        left = right = match = 0\n",
    "\n",
    "        start = 0\n",
    "        lenth = float('inf')\n",
    "\n",
    "        while right < len(s):\n",
    "            # 右边界的那个字符\n",
    "            charRight = s[right]\n",
    "            # print(charRight)\n",
    "            right += 1\n",
    "\n",
    "            # 进行窗口内数据的一系列更新\n",
    "            if dictionary_need.__contains__(charRight):\n",
    "                dictionary_window[charRight] += 1\n",
    "                # 为什么这里这个又可以了\n",
    "                # 因为目标 dictionary_need 中字母出现的次数总是小于 2\n",
    "                if dictionary_window[charRight] == dictionary_need[charRight]:\n",
    "                    match += 1\n",
    "\n",
    "            # print(start, lenth)\n",
    "            # print(\"match\", match)\n",
    "            # 判断左侧窗口是否要收缩\n",
    "            while match == len(dictionary_need):\n",
    "                # 在这里更新最小覆盖子串\n",
    "                if right - left < lenth:\n",
    "                    # print(right, left) \n",
    "                    start = left            \n",
    "                    lenth = right - left\n",
    "\n",
    "                # d 是将移出窗口的字符\n",
    "                d = s[left]\n",
    "                # 右移窗口\n",
    "                left += 1\n",
    "                # 进行窗口内数据的一系列更新\n",
    "                if dictionary_need.__contains__(d):\n",
    "                    # print(dictionary_window[charLeft], dictionary_need[charLeft])\n",
    "                    if dictionary_window[d] == dictionary_need[d]:\n",
    "                        match -= 1\n",
    "                    dictionary_window[d] -= 1\n",
    "\n",
    "\n",
    "        # 返回最小覆盖子串\n",
    "        if lenth == float('inf'):\n",
    "            return \"\"\n",
    "        else:\n",
    "            # print(start, lenth)\n",
    "            return s[start : start+lenth]"
   ]
  },
  {
   "cell_type": "code",
   "execution_count": 69,
   "metadata": {},
   "outputs": [
    {
     "name": "stdout",
     "output_type": "stream",
     "text": [
      "dictionary_need defaultdict(<class 'int'>, {'a': 2})\n"
     ]
    },
    {
     "data": {
      "text/plain": [
       "''"
      ]
     },
     "execution_count": 69,
     "metadata": {},
     "output_type": "execute_result"
    }
   ],
   "source": [
    "s = \"ADOBECODEBANC\"\n",
    "t = \"ABC\"\n",
    "\n",
    "s = \"a\"\n",
    "t = \"a\"\n",
    "\n",
    "s = \"a\"\n",
    "t = \"aa\"\n",
    "so = Solution()\n",
    "r = so.minWindow(s, t)\n",
    "r"
   ]
  },
  {
   "cell_type": "code",
   "execution_count": null,
   "metadata": {},
   "outputs": [],
   "source": []
  },
  {
   "cell_type": "code",
   "execution_count": null,
   "metadata": {},
   "outputs": [],
   "source": []
  }
 ],
 "metadata": {
  "interpreter": {
   "hash": "9ecbc95d31df1b277e5ec566a835865c3a9a253da4266404bdbc6ee7e31406f4"
  },
  "kernelspec": {
   "display_name": "Python 3.8.6 ('tensorflow2')",
   "language": "python",
   "name": "python3"
  },
  "language_info": {
   "codemirror_mode": {
    "name": "ipython",
    "version": 3
   },
   "file_extension": ".py",
   "mimetype": "text/x-python",
   "name": "python",
   "nbconvert_exporter": "python",
   "pygments_lexer": "ipython3",
   "version": "3.8.6"
  },
  "orig_nbformat": 4
 },
 "nbformat": 4,
 "nbformat_minor": 2
}
