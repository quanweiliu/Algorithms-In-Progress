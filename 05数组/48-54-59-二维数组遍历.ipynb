{
 "cells": [
  {
   "cell_type": "markdown",
   "metadata": {},
   "source": [
    "## 48 旋转图像\n",
    "- 热身体：原地反转所有单词的顺序\n"
   ]
  },
  {
   "cell_type": "code",
   "execution_count": 57,
   "metadata": {},
   "outputs": [
    {
     "name": "stdout",
     "output_type": "stream",
     "text": [
      "['labuladong', 'world', 'hello']\n"
     ]
    },
    {
     "data": {
      "text/plain": [
       "'labuladong world hello'"
      ]
     },
     "execution_count": 57,
     "metadata": {},
     "output_type": "execute_result"
    }
   ],
   "source": [
    "s = \"hello world labuladong\"\n",
    "\n",
    "\n",
    "str = s.split()\n",
    "# str.sort()\n",
    "str.reverse()\n",
    "print(str)\n",
    "\n",
    "# 常规做法1\n",
    "ss = ''\n",
    "for i in str:\n",
    "    # print(i)\n",
    "    ss += i + ' '\n",
    "\n",
    "# 常规做法2\n",
    "s1 = ' '\n",
    "s1.join(str)\n",
    "\n",
    "# or\n",
    "' '.join(str)"
   ]
  },
  {
   "cell_type": "code",
   "execution_count": 59,
   "metadata": {},
   "outputs": [
    {
     "data": {
      "text/plain": [
       "'gnodalubal dlrow olleh'"
      ]
     },
     "execution_count": 59,
     "metadata": {},
     "output_type": "execute_result"
    }
   ],
   "source": [
    "# 原地反转\n",
    "result = s[::-1]\n",
    "for i in result:\n",
    "    i[::-1]\n",
    "result"
   ]
  },
  {
   "cell_type": "code",
   "execution_count": 60,
   "metadata": {},
   "outputs": [
    {
     "data": {
      "text/plain": [
       "'321'"
      ]
     },
     "execution_count": 60,
     "metadata": {},
     "output_type": "execute_result"
    }
   ],
   "source": [
    "# 字符串反转\n",
    "s = '123'\n",
    "s[::-1]"
   ]
  },
  {
   "cell_type": "markdown",
   "metadata": {},
   "source": [
    "## 正式解"
   ]
  },
  {
   "cell_type": "code",
   "execution_count": 123,
   "metadata": {},
   "outputs": [],
   "source": [
    "# 复杂度 O(1) 反转数组\n",
    "class Solution:\n",
    "    def rotate(self, matrix) -> None:\n",
    "        lenth = len(matrix)\n",
    "        # print(lenth)\n",
    "        # 先沿对角线镜像对称二维矩阵\n",
    "        for i in range(lenth):\n",
    "            for j in range(i, lenth):\n",
    "                temp = matrix[i][j]\n",
    "                matrix[i][j] = matrix[j][i]\n",
    "                matrix[j][i] = temp\n",
    "        # print(\"1\", matrix)\n",
    "\n",
    "        # 然后反转二维矩阵的每一行\n",
    "        for i in range(lenth):\n",
    "            matrix[i] = matrix[i][::-1]\n",
    "        # print(\"2\", matrix)\n"
   ]
  },
  {
   "cell_type": "code",
   "execution_count": 124,
   "metadata": {},
   "outputs": [
    {
     "name": "stdout",
     "output_type": "stream",
     "text": [
      "1 [[5, 2, 13, 15], [1, 4, 3, 14], [9, 8, 6, 12], [11, 10, 7, 16]]\n",
      "2 [[15, 13, 2, 5], [14, 3, 4, 1], [12, 6, 8, 9], [16, 7, 10, 11]]\n"
     ]
    }
   ],
   "source": [
    "matrix = [[1,2,3],\n",
    "        [4,5,6],\n",
    "        [7,8,9]]\n",
    "        \n",
    "matrix = [[5,1,9,11],[2,4,8,10],[13,3,6,7],[15,14,12,16]]\n",
    "s = Solution()\n",
    "s.rotate(matrix)"
   ]
  },
  {
   "cell_type": "markdown",
   "metadata": {},
   "source": [
    "## 反转一维数组\n",
    "- 双指针"
   ]
  },
  {
   "cell_type": "code",
   "execution_count": 127,
   "metadata": {},
   "outputs": [
    {
     "data": {
      "text/plain": [
       "[3, 2, 1]"
      ]
     },
     "execution_count": 127,
     "metadata": {},
     "output_type": "execute_result"
    }
   ],
   "source": [
    "array = [1,2,3]\n",
    "\n",
    "def reverse(array):\n",
    "    j = len(array)\n",
    "    for i in range(len(array)):\n",
    "        if i <= j:\n",
    "            temp = array[j-1]\n",
    "            array[j-1] = array[i]\n",
    "            array[i] = temp\n",
    "            i += 1\n",
    "            j -= 1\n",
    "reverse(array)\n",
    "array\n"
   ]
  },
  {
   "cell_type": "markdown",
   "metadata": {},
   "source": [
    "## 矩阵的螺旋遍历\n",
    "- 核心思路是按照右、下、左、上的顺序遍历数组，并使用四个变量圈定未遍历元素的边界：\n",
    "- 四个变量"
   ]
  },
  {
   "cell_type": "code",
   "execution_count": 27,
   "metadata": {},
   "outputs": [],
   "source": [
    "class Solution:\n",
    "    def spiralOrder(self, matrix):\n",
    "        m, n = len(matrix), len(matrix[0])\n",
    "        upper_bound = 0\n",
    "        lower_bound = m -1\n",
    "        left_bound = 0\n",
    "        right_bound = n -1\n",
    "        res = []\n",
    "\n",
    "        # while 的用法这时候体现的淋漓尽致\n",
    "        while len(res) < m*n:\n",
    "            if upper_bound <= lower_bound:\n",
    "                # 在顶部从左向右遍历\n",
    "                for j in range(left_bound, right_bound+1):\n",
    "                    res.append(matrix[upper_bound][j])\n",
    "                # 上边界下移\n",
    "                upper_bound += 1\n",
    "            \n",
    "            \n",
    "            if left_bound <= right_bound:\n",
    "                for i in range(upper_bound, lower_bound+1):\n",
    "                    # print(i)\n",
    "                    res.append(matrix[i][right_bound])\n",
    "                    # print(res)\n",
    "                right_bound -= 1\n",
    "            \n",
    "            if upper_bound <= lower_bound:\n",
    "                # 在底部从右向左遍历\n",
    "                for j in range(right_bound, left_bound-1, -1):\n",
    "                    res.append(matrix[lower_bound][j])\n",
    "                # 下边界上移\n",
    "                lower_bound -= 1\n",
    "            \n",
    "            if left_bound <= right_bound:\n",
    "                for i in range(lower_bound, upper_bound-1, -1):\n",
    "                    res.append(matrix[i][left_bound])\n",
    "                left_bound += 1\n",
    "        return res"
   ]
  },
  {
   "cell_type": "code",
   "execution_count": 28,
   "metadata": {},
   "outputs": [
    {
     "data": {
      "text/plain": [
       "[1, 2, 3, 4, 8, 12, 11, 10, 9, 5, 6, 7]"
      ]
     },
     "execution_count": 28,
     "metadata": {},
     "output_type": "execute_result"
    }
   ],
   "source": [
    "# matrix = [[1,2,3],\n",
    "#         [4,5,6],\n",
    "#         [7,8,9]]\n",
    "\n",
    "matrix = [[1,2,3,4],\n",
    "        [5,6,7,8],\n",
    "        [9,10,11,12]]\n",
    "s = Solution()\n",
    "s.spiralOrder(matrix)"
   ]
  },
  {
   "cell_type": "code",
   "execution_count": 24,
   "metadata": {},
   "outputs": [
    {
     "data": {
      "text/plain": [
       "3"
      ]
     },
     "execution_count": 24,
     "metadata": {},
     "output_type": "execute_result"
    }
   ],
   "source": [
    "# len(matrix[0]), \n",
    "len(matrix)"
   ]
  },
  {
   "cell_type": "markdown",
   "metadata": {},
   "source": [
    "## 59.螺旋数组生成"
   ]
  },
  {
   "cell_type": "code",
   "execution_count": 53,
   "metadata": {},
   "outputs": [],
   "source": [
    "class Solution:\n",
    "    def generateMatrix(self, n):\n",
    "        upper_bound = 0\n",
    "        lower_bound = n -1\n",
    "        left_bound = 0\n",
    "        right_bound = n -1\n",
    "        res = [[0 for i in range(n)] for j in range(n)]\n",
    "        intial = 0\n",
    "\n",
    "        # while 的用法这时候体现的淋漓尽致\n",
    "        while intial < n**2:\n",
    "            if upper_bound <= lower_bound:\n",
    "                # 在顶部从左向右遍历\n",
    "                for j in range(left_bound, right_bound+1):\n",
    "                    intial += 1\n",
    "                    res[upper_bound][j] = intial\n",
    "                    \n",
    "                # 上边界下移\n",
    "                upper_bound += 1\n",
    "            \n",
    "            if left_bound <= right_bound:\n",
    "                for i in range(upper_bound, lower_bound+1):\n",
    "                    # print(i)\n",
    "                    intial += 1\n",
    "                    res[i][right_bound] = intial\n",
    "                    \n",
    "                    # print(res)\n",
    "                right_bound -= 1\n",
    "            \n",
    "            if upper_bound <= lower_bound:\n",
    "                # 在底部从右向左遍历\n",
    "                for j in range(right_bound, left_bound-1, -1):\n",
    "                    intial += 1\n",
    "                    res[lower_bound][j] = intial\n",
    "                    \n",
    "                # 下边界上移\n",
    "                lower_bound -= 1\n",
    "            \n",
    "            if left_bound <= right_bound:\n",
    "                for i in range(lower_bound, upper_bound-1, -1):\n",
    "                    intial += 1\n",
    "                    res[i][left_bound] = intial\n",
    "                    \n",
    "                left_bound += 1\n",
    "        return res"
   ]
  },
  {
   "cell_type": "code",
   "execution_count": 57,
   "metadata": {},
   "outputs": [
    {
     "data": {
      "text/plain": [
       "[[1, 2, 3, 4], [12, 13, 14, 5], [11, 16, 15, 6], [10, 9, 8, 7]]"
      ]
     },
     "execution_count": 57,
     "metadata": {},
     "output_type": "execute_result"
    }
   ],
   "source": [
    "n = 4\n",
    "s = Solution()\n",
    "s.generateMatrix(n)"
   ]
  },
  {
   "cell_type": "code",
   "execution_count": null,
   "metadata": {},
   "outputs": [],
   "source": [
    "[[1, 2, 3, 4], \n",
    "[12, 13, 14, 5], \n",
    "[11, 16, 15, 6], \n",
    "[10, 9, 8, 7]]"
   ]
  },
  {
   "cell_type": "code",
   "execution_count": null,
   "metadata": {},
   "outputs": [],
   "source": [
    "[[1, 2, 3], \n",
    "[8, 0, 4], \n",
    "[7, 6, 5]]"
   ]
  },
  {
   "cell_type": "code",
   "execution_count": null,
   "metadata": {},
   "outputs": [],
   "source": [
    "class Solution:\n",
    "    def generateMatrix(self, n):\n",
    "        upper_bound = 0\n",
    "        lower_bound = n -1\n",
    "        left_bound = 0\n",
    "        right_bound = n -1\n",
    "        res = [[0 for i in range(n)] for j in range(n)]\n",
    "        intial = 1\n",
    "\n",
    "        # while 的用法这时候体现的淋漓尽致\n",
    "        while intial <= n**2:\n",
    "            if upper_bound <= lower_bound:\n",
    "                # 在顶部从左向右遍历\n",
    "                for j in range(left_bound, right_bound+1):\n",
    "                    res[upper_bound][j] = intial\n",
    "                    intial += 1\n",
    "                    \n",
    "                # 上边界下移\n",
    "                upper_bound += 1\n",
    "            \n",
    "            if left_bound <= right_bound:\n",
    "                for i in range(upper_bound, lower_bound+1):\n",
    "                    # print(i) \n",
    "                    res[i][right_bound] = intial\n",
    "                    intial += 1\n",
    "                    \n",
    "                    # print(res)\n",
    "                right_bound -= 1\n",
    "            \n",
    "            if upper_bound <= lower_bound:\n",
    "                # 在底部从右向左遍历\n",
    "                for j in range(right_bound, left_bound-1, -1):         \n",
    "                    res[lower_bound][j] = intial\n",
    "                    intial += 1\n",
    "                    \n",
    "                # 下边界上移\n",
    "                lower_bound -= 1\n",
    "            \n",
    "            if left_bound <= right_bound:\n",
    "                for i in range(lower_bound, upper_bound-1, -1):\n",
    "                    res[i][left_bound] = intial\n",
    "                    intial += 1\n",
    "                    \n",
    "                left_bound += 1\n",
    "        return res"
   ]
  }
 ],
 "metadata": {
  "interpreter": {
   "hash": "9ecbc95d31df1b277e5ec566a835865c3a9a253da4266404bdbc6ee7e31406f4"
  },
  "kernelspec": {
   "display_name": "Python 3.8.6 ('tensorflow2')",
   "language": "python",
   "name": "python3"
  },
  "language_info": {
   "codemirror_mode": {
    "name": "ipython",
    "version": 3
   },
   "file_extension": ".py",
   "mimetype": "text/x-python",
   "name": "python",
   "nbconvert_exporter": "python",
   "pygments_lexer": "ipython3",
   "version": "3.8.6"
  },
  "orig_nbformat": 4
 },
 "nbformat": 4,
 "nbformat_minor": 2
}
