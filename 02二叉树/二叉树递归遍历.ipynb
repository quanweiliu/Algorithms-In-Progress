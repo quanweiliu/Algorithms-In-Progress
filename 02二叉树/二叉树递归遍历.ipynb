{
 "cells": [
  {
   "cell_type": "markdown",
   "metadata": {},
   "source": [
    "# 前中后序遍历\n",
    "- https://labuladong.gitee.io/algo/2/18/21/\n",
    "- 二叉树的遍历主要有三种：\n",
    "\n",
    "（1）先(根)序遍历（根左右）\n",
    "\n",
    "（2）中(根)序遍历（左根右）\n",
    "\n",
    "（3）后(根)序遍历（左右根）"
   ]
  },
  {
   "cell_type": "code",
   "execution_count": 1,
   "metadata": {},
   "outputs": [],
   "source": [
    "# Definition for a binary tree node.\n",
    "class TreeNode:\n",
    "    def __init__(self, val=0, left=None, right=None):\n",
    "        self.val = val\n",
    "        self.left = left\n",
    "        self.right = right"
   ]
  },
  {
   "cell_type": "code",
   "execution_count": 2,
   "metadata": {},
   "outputs": [],
   "source": [
    "# #  Definition for singly-linked list.\n",
    "# class ListNode:\n",
    "#     def __init__(self, val=0, next=None):\n",
    "#         self.val = val\n",
    "#         self.next = next\n",
    "    \n",
    "#     def add(self, ListN, val):\n",
    "#         ListN.next = val\n",
    "#         ListN = ListN.next\n",
    "#         # return ls"
   ]
  },
  {
   "cell_type": "code",
   "execution_count": 3,
   "metadata": {},
   "outputs": [],
   "source": [
    "T = TreeNode(1)\n",
    "T.left = TreeNode(2)\n",
    "T.right = TreeNode(3)\n",
    "T.left.left = TreeNode(4)\n",
    "T.left.right  = TreeNode(5)\n",
    "# T.right.right  = TreeNode(5)"
   ]
  },
  {
   "cell_type": "markdown",
   "metadata": {},
   "source": [
    "- 二叉树结构\n",
    "```\n",
    "    1\n",
    "  2    3\n",
    "4   5\n",
    "\n",
    "```"
   ]
  },
  {
   "cell_type": "markdown",
   "metadata": {},
   "source": [
    "## 遍历解\n",
    "- 外部变量记录整个树\n",
    "- 前序遍历位置"
   ]
  },
  {
   "cell_type": "code",
   "execution_count": 4,
   "metadata": {},
   "outputs": [],
   "source": [
    "\n",
    "class Solution():\n",
    "    def __init__(self):\n",
    "        self.ls = []\n",
    "\n",
    "    def preorderTraverse(self, root):\n",
    "        if root == None:\n",
    "            # print(self.ls)\n",
    "            return \"#\"\n",
    "        # print(root.val)\n",
    "        # self.ls.append(root.val)\n",
    "        # print(self.ls)\n",
    "        left = self.preorderTraverse(root.left)\n",
    "        right = self.preorderTraverse(root.right)\n",
    "\n",
    "        # 这是后续遍历\n",
    "        # return print(root.val)\n",
    "\n",
    "        # 这是前续遍历\n",
    "        # ss = str(root.val) + left + right\n",
    "        # return ss\n",
    "\n",
    "        # 这是后续遍历\n",
    "        ss = left + right + str(root.val)\n",
    "        return ss\n",
    "\n",
    "        # 递归需要两个返回函数，第一个是递归的结束条件，第二才是递归的返回值\n",
    "        return self.ls"
   ]
  },
  {
   "cell_type": "code",
   "execution_count": 5,
   "metadata": {},
   "outputs": [
    {
     "name": "stdout",
     "output_type": "stream",
     "text": [
      "##4##52##31\n"
     ]
    }
   ],
   "source": [
    "s = Solution()\n",
    "ls = s.preorderTraverse(T)\n",
    "print(ls)\n",
    "\n",
    "# [1, 2, 4, 5, 3]"
   ]
  },
  {
   "cell_type": "markdown",
   "metadata": {},
   "source": [
    "## 中序遍历位置"
   ]
  },
  {
   "cell_type": "code",
   "execution_count": null,
   "metadata": {},
   "outputs": [],
   "source": [
    "\n",
    "class Solution():\n",
    "    def __init__(self):\n",
    "        self.ls = []\n",
    "\n",
    "    def preorderTraverse(self, root):\n",
    "        if root == None:\n",
    "            # print(self.ls)\n",
    "            return self.ls\n",
    "        self.preorderTraverse(root.left)\n",
    "        # print(root.val)\n",
    "        self.ls.append(root.val)\n",
    "        # print(self.ls)\n",
    "        self.preorderTraverse(root.right)\n",
    "\n",
    "        # 递归需要两个返回函数，第一个是递归的结束条件，第二才是递归的返回值\n",
    "        return self.ls"
   ]
  },
  {
   "cell_type": "markdown",
   "metadata": {},
   "source": [
    "## 后序遍历位置"
   ]
  },
  {
   "cell_type": "code",
   "execution_count": null,
   "metadata": {},
   "outputs": [],
   "source": [
    "class Solution():\n",
    "    def __init__(self):\n",
    "        self.ls = []\n",
    "\n",
    "    def preorderTraverse(self, root):\n",
    "        if root == None:\n",
    "            # print(self.ls)\n",
    "            return self.ls\n",
    "\n",
    "        self.preorderTraverse(root.left)\n",
    "        self.preorderTraverse(root.right)\n",
    "        # print(root.val)\n",
    "        self.ls.append(root.val)\n",
    "        # print(self.ls)\n",
    "        # 递归需要两个返回函数，第一个是递归的结束条件，第二才是递归的返回值\n",
    "        return self.ls"
   ]
  },
  {
   "cell_type": "code",
   "execution_count": null,
   "metadata": {},
   "outputs": [],
   "source": [
    "s = Solution()\n",
    "ls = s.preorderTraverse(T)\n",
    "print(ls)\n",
    "\n",
    "# 前序： [1, 2, 4, 5, 3]\n",
    "# 中序: [4, 2, 5, 1, 3]\n",
    "# 后序: [4, 5, 2, 3, 1]"
   ]
  },
  {
   "cell_type": "markdown",
   "metadata": {},
   "source": [
    "## 分解解\n",
    "- 「分解问题」的思路，来计算前序遍历的结果？\n",
    "- 换句话说，不要用像 traverse 这样的辅助函数和任何外部变量，单纯用题目给的 preorderTraverse 函数递归解题\n",
    "- 思路：一棵二叉树的前序遍历分解成了根节点和左右子树的前序遍历结果。"
   ]
  },
  {
   "cell_type": "code",
   "execution_count": null,
   "metadata": {},
   "outputs": [],
   "source": [
    "# 不会"
   ]
  }
 ],
 "metadata": {
  "kernelspec": {
   "display_name": "Python 3.8.6 ('tensorflow2')",
   "language": "python",
   "name": "python3"
  },
  "language_info": {
   "codemirror_mode": {
    "name": "ipython",
    "version": 3
   },
   "file_extension": ".py",
   "mimetype": "text/x-python",
   "name": "python",
   "nbconvert_exporter": "python",
   "pygments_lexer": "ipython3",
   "version": "3.8.6"
  },
  "orig_nbformat": 4,
  "vscode": {
   "interpreter": {
    "hash": "85c51a4259275393737ca8d3e0cd6fa489554cf4913552085d5553b62ac22de5"
   }
  }
 },
 "nbformat": 4,
 "nbformat_minor": 2
}
