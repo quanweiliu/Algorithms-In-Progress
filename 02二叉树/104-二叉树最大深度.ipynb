{
 "cells": [
  {
   "cell_type": "markdown",
   "metadata": {},
   "source": [
    "# 两种解题思路\n",
    "- 第一类是遍历一遍二叉树得出答案，\n",
    "- 第二类是通过分解问题计算出答案，\n",
    "- 这两类思路分别对应着 回溯算法核心框架 和 动态规划核心框架。"
   ]
  },
  {
   "cell_type": "code",
   "execution_count": 1,
   "metadata": {},
   "outputs": [],
   "source": [
    "# Definition for a binary tree node.\n",
    "class TreeNode:\n",
    "    def __init__(self, val=0, left=None, right=None):\n",
    "        self.val = val\n",
    "        self.left = left\n",
    "        self.right = right"
   ]
  },
  {
   "cell_type": "code",
   "execution_count": 2,
   "metadata": {},
   "outputs": [],
   "source": [
    "def traverse(root):\n",
    "    if (root == None):\n",
    "        return \n",
    "    \n",
    "    # 前序位置\n",
    "    traverse(root.left)\n",
    "    # 中序位置\n",
    "    traverse(root.right)\n",
    "    # 后序位置"
   ]
  },
  {
   "cell_type": "markdown",
   "metadata": {},
   "source": [
    "## 遍历解\n",
    "- 遍历一遍二叉树，用一个**外部变量**记录每个节点所在的深度，**取最大值**就可以得到最大深度，这就是遍历二叉树计算答案的思路。"
   ]
  },
  {
   "cell_type": "code",
   "execution_count": 3,
   "metadata": {},
   "outputs": [],
   "source": [
    "class Solution:\n",
    "    def __init__(self):\n",
    "        self.depth = 0\n",
    "        self.res = 0\n",
    "\n",
    "    def maxDepth(self, root) -> int:\n",
    "        # 遍历一遍二叉树，并记录最大深度\n",
    "        self.traverse(root)\n",
    "        return self.res\n",
    "\n",
    "    # 二叉树遍历框架\n",
    "    def traverse(self, root):\n",
    "        # 到达叶子节点，更新最大深度\n",
    "        if root == None:\n",
    "            self.res = max(self.res, self.depth)\n",
    "            return self.res\n",
    "\n",
    "        # 前序位置\n",
    "        # 为什么需要在前序位置增加 depth，在后序位置减小 depth？\n",
    "        # 因为前面说了，前序位置是进入一个节点的时候，后序位置是离开一个节点的时候，\n",
    "        # depth 记录**当前节点**递归到的节点深度，所以要这样维护。\n",
    "        self.depth += 1\n",
    "\n",
    "        self.traverse(root.left)\n",
    "        self.traverse(root.right)\n",
    "        # 后序位置\n",
    "        self.depth -= 1"
   ]
  },
  {
   "cell_type": "code",
   "execution_count": 4,
   "metadata": {},
   "outputs": [
    {
     "data": {
      "text/plain": [
       "3"
      ]
     },
     "execution_count": 4,
     "metadata": {},
     "output_type": "execute_result"
    }
   ],
   "source": [
    "T = TreeNode(0)\n",
    "T.left = TreeNode(1)\n",
    "T.right = TreeNode(2)\n",
    "T.left.left = TreeNode(3)\n",
    "\n",
    "s = Solution()\n",
    "s.maxDepth(T)"
   ]
  },
  {
   "cell_type": "markdown",
   "metadata": {},
   "source": [
    "## 分解解\n",
    "- 一棵二叉树的最大深度可以通过**子树**的最大高度推导出来，这就是分解问题计算答案的思路。"
   ]
  },
  {
   "cell_type": "code",
   "execution_count": 5,
   "metadata": {},
   "outputs": [],
   "source": [
    "class Solution:\n",
    "    def __init__(self):\n",
    "        self.depth = 0\n",
    "        self.res = 0\n",
    "\n",
    "    def maxDepth(self, root) -> int:\n",
    "        if root == None:\n",
    "            return 0\n",
    "        \n",
    "        # 利用**定义**，计算左右子树的最大深度\n",
    "        leftMax = self.maxDepth(root.left)\n",
    "        print(\"leftMax\", leftMax)\n",
    "        rightMax = self.maxDepth(root.right)\n",
    "\n",
    "        # 整棵树的最大深度等于左右子树的最大深度取最大值，\n",
    "        # 然后再加上根节点自己\n",
    "        self.res = max(leftMax, rightMax) + 1\n",
    "        return self.res\n"
   ]
  },
  {
   "cell_type": "code",
   "execution_count": 6,
   "metadata": {},
   "outputs": [
    {
     "name": "stdout",
     "output_type": "stream",
     "text": [
      "leftMax 0\n",
      "leftMax 1\n",
      "leftMax 2\n",
      "leftMax 0\n"
     ]
    },
    {
     "data": {
      "text/plain": [
       "3"
      ]
     },
     "execution_count": 6,
     "metadata": {},
     "output_type": "execute_result"
    }
   ],
   "source": [
    "T = TreeNode(0)\n",
    "T.left = TreeNode(1)\n",
    "T.right = TreeNode(2)\n",
    "T.left.left = TreeNode(3)\n",
    "\n",
    "s = Solution()\n",
    "s.maxDepth(T)"
   ]
  },
  {
   "cell_type": "code",
   "execution_count": null,
   "metadata": {},
   "outputs": [],
   "source": []
  }
 ],
 "metadata": {
  "interpreter": {
   "hash": "9ecbc95d31df1b277e5ec566a835865c3a9a253da4266404bdbc6ee7e31406f4"
  },
  "kernelspec": {
   "display_name": "Python 3.8.6 ('tensorflow2')",
   "language": "python",
   "name": "python3"
  },
  "language_info": {
   "codemirror_mode": {
    "name": "ipython",
    "version": 3
   },
   "file_extension": ".py",
   "mimetype": "text/x-python",
   "name": "python",
   "nbconvert_exporter": "python",
   "pygments_lexer": "ipython3",
   "version": "3.8.6"
  },
  "orig_nbformat": 4
 },
 "nbformat": 4,
 "nbformat_minor": 2
}
