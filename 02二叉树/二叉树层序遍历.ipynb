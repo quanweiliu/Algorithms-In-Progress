{
 "cells": [
  {
   "cell_type": "markdown",
   "metadata": {},
   "source": [
    "## 层序遍历\n",
    "1. 先将root节点加入队列\n",
    "2. 队列不为空时取队列首节点\n",
    "3. 打印节点的值，然后将该节点的左、右子节点先后加入队尾（核心步骤，广度优先体现在这）\n",
    "4. 回到2，直到队列为空\n",
    "\n",
    "- https://blog.csdn.net/qq_20011607/article/details/89142173"
   ]
  },
  {
   "cell_type": "code",
   "execution_count": 1,
   "metadata": {},
   "outputs": [],
   "source": [
    "# Definition for a binary tree node.\n",
    "class TreeNode:\n",
    "    def __init__(self, val=0, left=None, right=None):\n",
    "        self.val = val\n",
    "        self.left = left\n",
    "        self.right = right"
   ]
  },
  {
   "cell_type": "code",
   "execution_count": 2,
   "metadata": {},
   "outputs": [],
   "source": [
    "# 层级遍历二叉树的代码框架，必背！！\n",
    "def print_in_one_line(root):\n",
    "    ''' 1. 简单版： 打印在一行内，不换行\n",
    "        迭代法\n",
    "    \n",
    "     '''\n",
    "    if not root:\n",
    "        return \n",
    "    # 初始化队列，将 root 加入队列\n",
    "    queue = []\n",
    "    queue.append(root)\n",
    "\n",
    "    while len(queue) > 0:\n",
    "        node = queue.pop(0)\n",
    "        print(node.val, end = \" \") # end属性默认为“\\n”，所以print()函数默认会换行。此处设为空格“ ”，防止自动换行\n",
    "        \n",
    "        if node.left:\n",
    "            queue.append(node.left) # 将本节点的左子节点入队\n",
    "        if node.right:\n",
    "            queue.append(node.right) # 将本节点的右子节点入队\n"
   ]
  },
  {
   "cell_type": "code",
   "execution_count": 3,
   "metadata": {},
   "outputs": [
    {
     "name": "stdout",
     "output_type": "stream",
     "text": [
      "0 1 2 3 "
     ]
    }
   ],
   "source": [
    "T = TreeNode(0)\n",
    "T.left = TreeNode(1)\n",
    "T.right = TreeNode(2)\n",
    "T.left.left = TreeNode(3)\n",
    "print_in_one_line(T)"
   ]
  },
  {
   "cell_type": "code",
   "execution_count": null,
   "metadata": {},
   "outputs": [],
   "source": [
    "def print_by_layer_1(root):\n",
    "    ''' \n",
    "    2. 逐行打印——初级版：\n",
    "    用line/current_line 控制换行，在入队时候即加入行号信息\n",
    "    '''\n",
    "    if not root:\n",
    "        return \n",
    "    queue = [] #\n",
    "    current_line = 0\n",
    "    queue.append([current_line, root])\n",
    "    while len(queue) > 0:\n",
    "        line, node = queue.pop(0)\n",
    "        # 核心判断：是否换行\n",
    "        if line != current_line:\n",
    "            print()  # 不同时换行，print()函数默认end=“\\n”\n",
    "            current_line = line\n",
    "        print(node.val, end = \" \")\n",
    "        if node.left:\n",
    "            queue.append([line+1, node.left])  # 将本节点的行号和左子节点入队\n",
    "        if node.right:\n",
    "            queue.append([line+1, node.right]) # 将本节点的行号和右子节点入队\n"
   ]
  },
  {
   "cell_type": "code",
   "execution_count": null,
   "metadata": {},
   "outputs": [],
   "source": [
    "T = TreeNode(0)\n",
    "T.left = TreeNode(1)\n",
    "T.right = TreeNode(2)\n",
    "T.left.left = TreeNode(3)\n",
    "print_by_layer_1(T)"
   ]
  },
  {
   "cell_type": "code",
   "execution_count": 2,
   "metadata": {},
   "outputs": [],
   "source": [
    "def print_by_layer_2(root):\n",
    "    ''' \n",
    "    3. 终极版\n",
    "    无line/current_line,在入队时候加入换行标记信息，注意边界条件，防止陷入死循环\n",
    "    '''\n",
    "    if not root:\n",
    "        return \n",
    "    queue = [\"r\"] # 一开始塞入一个换行标记，作为队首,任何非TreeNode对象都行。\n",
    "    queue.append(root)\n",
    "    while len(queue) > 0:\n",
    "        node = queue.pop(0)\n",
    "        if isinstance(node,TreeNode):\n",
    "            print(node.val, end = \" \")\n",
    "            if node.left:\n",
    "                queue.append(node.left)\n",
    "            if node.right:\n",
    "                queue.append(node.right)\n",
    "        else:\n",
    "            # 边界条件\n",
    "            if len(queue) > 0:\n",
    "                queue.append(\"r\") # 对尾添加换行标记\n",
    "                print()  # 换行\n"
   ]
  },
  {
   "cell_type": "code",
   "execution_count": 3,
   "metadata": {},
   "outputs": [
    {
     "ename": "UnboundLocalError",
     "evalue": "local variable 'queue' referenced before assignment",
     "output_type": "error",
     "traceback": [
      "\u001b[1;31m---------------------------------------------------------------------------\u001b[0m",
      "\u001b[1;31mUnboundLocalError\u001b[0m                         Traceback (most recent call last)",
      "\u001b[1;32m<ipython-input-3-6a4182eca939>\u001b[0m in \u001b[0;36m<module>\u001b[1;34m\u001b[0m\n\u001b[0;32m      3\u001b[0m \u001b[0mT\u001b[0m\u001b[1;33m.\u001b[0m\u001b[0mright\u001b[0m \u001b[1;33m=\u001b[0m \u001b[0mTreeNode\u001b[0m\u001b[1;33m(\u001b[0m\u001b[1;36m2\u001b[0m\u001b[1;33m)\u001b[0m\u001b[1;33m\u001b[0m\u001b[1;33m\u001b[0m\u001b[0m\n\u001b[0;32m      4\u001b[0m \u001b[0mT\u001b[0m\u001b[1;33m.\u001b[0m\u001b[0mleft\u001b[0m\u001b[1;33m.\u001b[0m\u001b[0mleft\u001b[0m \u001b[1;33m=\u001b[0m \u001b[0mTreeNode\u001b[0m\u001b[1;33m(\u001b[0m\u001b[1;36m3\u001b[0m\u001b[1;33m)\u001b[0m\u001b[1;33m\u001b[0m\u001b[1;33m\u001b[0m\u001b[0m\n\u001b[1;32m----> 5\u001b[1;33m \u001b[0mprint_by_layer_2\u001b[0m\u001b[1;33m(\u001b[0m\u001b[0mT\u001b[0m\u001b[1;33m)\u001b[0m\u001b[1;33m\u001b[0m\u001b[1;33m\u001b[0m\u001b[0m\n\u001b[0m",
      "\u001b[1;32m<ipython-input-2-4bcbbfb54d24>\u001b[0m in \u001b[0;36mprint_by_layer_2\u001b[1;34m(root)\u001b[0m\n\u001b[0;32m      7\u001b[0m         \u001b[1;32mreturn\u001b[0m\u001b[1;33m\u001b[0m\u001b[1;33m\u001b[0m\u001b[0m\n\u001b[0;32m      8\u001b[0m \u001b[1;33m\u001b[0m\u001b[0m\n\u001b[1;32m----> 9\u001b[1;33m     \u001b[0mqueue\u001b[0m\u001b[1;33m.\u001b[0m\u001b[0mappend\u001b[0m\u001b[1;33m(\u001b[0m\u001b[0mroot\u001b[0m\u001b[1;33m)\u001b[0m\u001b[1;33m\u001b[0m\u001b[1;33m\u001b[0m\u001b[0m\n\u001b[0m\u001b[0;32m     10\u001b[0m     \u001b[0mqueue\u001b[0m \u001b[1;33m=\u001b[0m \u001b[1;33m[\u001b[0m\u001b[1;34m\"r\"\u001b[0m\u001b[1;33m]\u001b[0m \u001b[1;31m# 一开始塞入一个换行标记，作为队首,任何非TreeNode对象都行。\u001b[0m\u001b[1;33m\u001b[0m\u001b[1;33m\u001b[0m\u001b[0m\n\u001b[0;32m     11\u001b[0m     \u001b[1;32mwhile\u001b[0m \u001b[0mlen\u001b[0m\u001b[1;33m(\u001b[0m\u001b[0mqueue\u001b[0m\u001b[1;33m)\u001b[0m \u001b[1;33m>\u001b[0m \u001b[1;36m0\u001b[0m\u001b[1;33m:\u001b[0m\u001b[1;33m\u001b[0m\u001b[1;33m\u001b[0m\u001b[0m\n",
      "\u001b[1;31mUnboundLocalError\u001b[0m: local variable 'queue' referenced before assignment"
     ]
    }
   ],
   "source": [
    "T = TreeNode(0)\n",
    "T.left = TreeNode(1)\n",
    "T.right = TreeNode(2)\n",
    "T.left.left = TreeNode(3)\n",
    "print_by_layer_2(T)"
   ]
  },
  {
   "cell_type": "code",
   "execution_count": null,
   "metadata": {},
   "outputs": [],
   "source": []
  },
  {
   "cell_type": "code",
   "execution_count": null,
   "metadata": {},
   "outputs": [],
   "source": [
    "if __name__ == \"__main__\":\n",
    "\n",
    "    # 新建节点 \n",
    "    node1 = TreeNode(1)\n",
    "    node2 = TreeNode(2)\n",
    "    node3 = TreeNode(3)\n",
    "    node4 = TreeNode(4)\n",
    "    node5 = TreeNode(5)\n",
    "    node6 = TreeNode(6)\n",
    "    node7 = TreeNode(7)\n",
    "    node8 = TreeNode(8)\n",
    "    node9 = TreeNode(9)\n",
    "    node10 = TreeNode(10)\n",
    "    node11 = TreeNode(11)\n",
    "\n",
    "    # 构建二叉树\n",
    "    node1.left, node1.right = node2, node3\n",
    "    node2.left, node2.right = node4, node5\n",
    "    node3.left, node3.right = node6, node7\n",
    "    node4.left, node4.right = node8, node9\n",
    "    node5.left, node5.right = node10, node11\n",
    "\n",
    "    # 指定 node1 为root节点\n",
    "    root = node1\n",
    "\n",
    "    # 打印\n",
    "    print(\"\\nprint in one line:\")\n",
    "    print_in_one_line(root)\n",
    "\n",
    "    print(\"\\n\\nprint by layer 1:\")\n",
    "    print_by_layer_1(root)\n",
    "    \n",
    "    print(\"\\n\\nprint by layer 2:\")\n",
    "    print_by_layer_2(root)"
   ]
  }
 ],
 "metadata": {
  "interpreter": {
   "hash": "9ecbc95d31df1b277e5ec566a835865c3a9a253da4266404bdbc6ee7e31406f4"
  },
  "kernelspec": {
   "display_name": "Python 3.8.6 ('tensorflow2')",
   "language": "python",
   "name": "python3"
  },
  "language_info": {
   "codemirror_mode": {
    "name": "ipython",
    "version": 3
   },
   "file_extension": ".py",
   "mimetype": "text/x-python",
   "name": "python",
   "nbconvert_exporter": "python",
   "pygments_lexer": "ipython3",
   "version": "3.8.6"
  },
  "orig_nbformat": 4
 },
 "nbformat": 4,
 "nbformat_minor": 2
}
