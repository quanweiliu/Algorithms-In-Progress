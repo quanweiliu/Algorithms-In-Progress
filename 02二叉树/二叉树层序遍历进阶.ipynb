{
 "cells": [
  {
   "cell_type": "markdown",
   "metadata": {},
   "source": [
    "## 层序遍历\n",
    "1. 先将root节点加入队列\n",
    "2. 队列不为空时取队列首节点\n",
    "3. 打印节点的值，然后将该节点的左、右子节点先后加入队尾（核心步骤，广度优先体现在这）\n",
    "4. 回到2，直到队列为空\n",
    "\n",
    "- https://blog.csdn.net/qq_20011607/article/details/89142173"
   ]
  },
  {
   "cell_type": "markdown",
   "metadata": {},
   "source": [
    "## print_in_one_line"
   ]
  },
  {
   "cell_type": "code",
   "execution_count": 2,
   "metadata": {},
   "outputs": [],
   "source": [
    "# Definition for a binary tree node.\n",
    "class TreeNode:\n",
    "    def __init__(self, val=0, left=None, right=None):\n",
    "        self.val = val\n",
    "        self.left = left\n",
    "        self.right = right"
   ]
  },
  {
   "cell_type": "code",
   "execution_count": 2,
   "metadata": {},
   "outputs": [],
   "source": [
    "# 层级遍历二叉树的代码框架，必背！！\n",
    "def print_in_one_line(root):\n",
    "    ''' 1. 简单版： 打印在一行内，不换行\n",
    "     '''\n",
    "    if not root:\n",
    "        return \n",
    "    # 初始化队列，将 root 加入队列\n",
    "    queue = []\n",
    "    queue.append(root)\n",
    "\n",
    "    while len(queue) > 0:\n",
    "        node = queue.pop(0)\n",
    "        print(node.val, end = \" \") # end属性默认为“\\n”，所以print()函数默认会换行。此处设为空格“ ”，防止自动换行\n",
    "        \n",
    "        if node.left:\n",
    "            queue.append(node.left) # 将本节点的左子节点入队\n",
    "        if node.right:\n",
    "            queue.append(node.right) # 将本节点的右子节点入队\n"
   ]
  },
  {
   "cell_type": "code",
   "execution_count": 7,
   "metadata": {},
   "outputs": [],
   "source": [
    "class Solution:\n",
    "    def levelOrder(self , root: TreeNode):\n",
    "        # write code here\n",
    "        if not root:\n",
    "            return \n",
    "        stack = [root]\n",
    "        res = []\n",
    "        \n",
    "        while len(stack) > 0:\n",
    "            node = stack.pop(0)\n",
    "            \n",
    "            res.append(node.val)\n",
    "            \n",
    "            if node.left:\n",
    "                stack.append(node.left)\n",
    "            if node.right:\n",
    "                stack.append(node.right)\n",
    "\n",
    "        return res"
   ]
  },
  {
   "cell_type": "code",
   "execution_count": 8,
   "metadata": {},
   "outputs": [
    {
     "data": {
      "text/plain": [
       "[0, 1, 2, 3]"
      ]
     },
     "execution_count": 8,
     "metadata": {},
     "output_type": "execute_result"
    }
   ],
   "source": [
    "T = TreeNode(0)\n",
    "T.left = TreeNode(1)\n",
    "T.right = TreeNode(2)\n",
    "T.left.left = TreeNode(3) \n",
    "s = Solution()\n",
    "s.levelOrder(T)"
   ]
  },
  {
   "cell_type": "code",
   "execution_count": 3,
   "metadata": {},
   "outputs": [
    {
     "name": "stdout",
     "output_type": "stream",
     "text": [
      "0 1 2 3 "
     ]
    }
   ],
   "source": [
    "T = TreeNode(0)\n",
    "T.left = TreeNode(1)\n",
    "T.right = TreeNode(2)\n",
    "T.left.left = TreeNode(3)\n",
    "print_in_one_line(T)"
   ]
  },
  {
   "cell_type": "markdown",
   "metadata": {},
   "source": [
    "## print_by_layer_1"
   ]
  },
  {
   "cell_type": "code",
   "execution_count": 34,
   "metadata": {},
   "outputs": [],
   "source": [
    "def print_by_layer_1(root):\n",
    "    ''' \n",
    "    2. 逐行打印——初级版：\n",
    "    用line/current_line 控制换行，在入队时候即加入行号信息\n",
    "    '''\n",
    "    if not root:\n",
    "        return \n",
    "    queue = [] #\n",
    "    current_line = 0\n",
    "    queue.append([current_line, root])\n",
    "    res = []\n",
    "\n",
    "    while len(queue) > 0:\n",
    "        line, node = queue.pop(0)\n",
    "        # 核心判断：是否换行\n",
    "        if line != current_line:\n",
    "            print()               # 不同时换行，print()函数默认end=“\\n”\n",
    "            res = [res[current_line:]]\n",
    "            current_line = line\n",
    "        print(node.val, end = \" \")\n",
    "        res.append(node.val)\n",
    "        if node.left:\n",
    "            queue.append([line+1, node.left])  # 将本节点的行号和左子节点入队\n",
    "        if node.right:\n",
    "            queue.append([line+1, node.right]) # 将本节点的行号和右子节点入队\n",
    "    return res\n"
   ]
  },
  {
   "cell_type": "code",
   "execution_count": 35,
   "metadata": {},
   "outputs": [
    {
     "name": "stdout",
     "output_type": "stream",
     "text": [
      "0 \n",
      "1 2 \n",
      "3 "
     ]
    },
    {
     "data": {
      "text/plain": [
       "[0, 1, 2, 3]"
      ]
     },
     "execution_count": 35,
     "metadata": {},
     "output_type": "execute_result"
    }
   ],
   "source": [
    "T = TreeNode(0)\n",
    "T.left = TreeNode(1)\n",
    "T.right = TreeNode(2)\n",
    "T.left.left = TreeNode(3)\n",
    "print_by_layer_1(T)"
   ]
  },
  {
   "cell_type": "markdown",
   "metadata": {},
   "source": [
    "## print_by_layer_2"
   ]
  },
  {
   "cell_type": "code",
   "execution_count": 6,
   "metadata": {},
   "outputs": [],
   "source": [
    "def print_by_layer_2(root):\n",
    "    ''' \n",
    "    3. 终极版\n",
    "    无line/current_line,在入队时候加入换行标记信息，注意边界条件，防止陷入死循环\n",
    "    '''\n",
    "    if not root:\n",
    "        return \n",
    "    queue = [\"r\"]          # 一开始塞入一个换行标记，作为队首,任何非 TreeNode 对象都行。\n",
    "    queue.append(root)\n",
    "    while len(queue) > 0:\n",
    "        node = queue.pop(0)\n",
    "        if isinstance(node, TreeNode):\n",
    "            print(node.val, end = \" \")\n",
    "            if node.left:\n",
    "                queue.append(node.left)\n",
    "            if node.right:\n",
    "                queue.append(node.right)\n",
    "        else:\n",
    "            # 边界条件\n",
    "            if len(queue) > 0:\n",
    "                queue.append(\"r\") # 对尾添加换行标记\n",
    "                print()  # 换行\n"
   ]
  },
  {
   "cell_type": "code",
   "execution_count": 7,
   "metadata": {},
   "outputs": [
    {
     "name": "stdout",
     "output_type": "stream",
     "text": [
      "\n",
      "0 \n",
      "1 2 \n",
      "3 "
     ]
    }
   ],
   "source": [
    "T = TreeNode(0)\n",
    "T.left = TreeNode(1)\n",
    "T.right = TreeNode(2)\n",
    "T.left.left = TreeNode(3)\n",
    "print_by_layer_2(T)"
   ]
  },
  {
   "cell_type": "code",
   "execution_count": 8,
   "metadata": {},
   "outputs": [
    {
     "name": "stdout",
     "output_type": "stream",
     "text": [
      "\n",
      "print in one line:\n",
      "1 2 3 4 5 6 7 8 9 10 11 \n",
      "\n",
      "print by layer 1:\n",
      "1 \n",
      "2 3 \n",
      "4 5 6 7 \n",
      "8 9 10 11 \n",
      "\n",
      "print by layer 2:\n",
      "\n",
      "1 \n",
      "2 3 \n",
      "4 5 6 7 \n",
      "8 9 10 11 "
     ]
    }
   ],
   "source": [
    "if __name__ == \"__main__\":\n",
    "\n",
    "    # 新建节点 \n",
    "    node1 = TreeNode(1)\n",
    "    node2 = TreeNode(2)\n",
    "    node3 = TreeNode(3)\n",
    "    node4 = TreeNode(4)\n",
    "    node5 = TreeNode(5)\n",
    "    node6 = TreeNode(6)\n",
    "    node7 = TreeNode(7)\n",
    "    node8 = TreeNode(8)\n",
    "    node9 = TreeNode(9)\n",
    "    node10 = TreeNode(10)\n",
    "    node11 = TreeNode(11)\n",
    "\n",
    "    # 构建二叉树\n",
    "    node1.left, node1.right = node2, node3\n",
    "    node2.left, node2.right = node4, node5\n",
    "    node3.left, node3.right = node6, node7\n",
    "    node4.left, node4.right = node8, node9\n",
    "    node5.left, node5.right = node10, node11\n",
    "\n",
    "    # 指定 node1 为root节点\n",
    "    root = node1\n",
    "\n",
    "    # 打印\n",
    "    print(\"\\nprint in one line:\")\n",
    "    print_in_one_line(root)\n",
    "\n",
    "    print(\"\\n\\nprint by layer 1:\")\n",
    "    print_by_layer_1(root)\n",
    "    \n",
    "    print(\"\\n\\nprint by layer 2:\")\n",
    "    print_by_layer_2(root)"
   ]
  },
  {
   "cell_type": "markdown",
   "metadata": {},
   "source": [
    "## 本质\n",
    "- 层序遍历不一定非要队列，只要向后添加节点并遍历即可。"
   ]
  },
  {
   "cell_type": "code",
   "execution_count": 20,
   "metadata": {},
   "outputs": [],
   "source": [
    "T = TreeNode(0)\n",
    "T.left = TreeNode(1)\n",
    "T.right = TreeNode(2)\n",
    "T.left.left = TreeNode(3)\n",
    "T.left.right = TreeNode(4)\n",
    "\n",
    "T.right.left = TreeNode(5)\n",
    "T.right.right = TreeNode(6)"
   ]
  },
  {
   "cell_type": "code",
   "execution_count": 23,
   "metadata": {},
   "outputs": [],
   "source": [
    "def layerTraverse(root):\n",
    "\n",
    "    ls = [root]\n",
    "    for i in ls:\n",
    "        if i.left:\n",
    "            ls.append(i.left)\n",
    "        if i.right:\n",
    "            ls.append(i.right)\n",
    "    return [i.val for i in ls]"
   ]
  },
  {
   "cell_type": "code",
   "execution_count": 24,
   "metadata": {},
   "outputs": [
    {
     "data": {
      "text/plain": [
       "[0, 1, 2, 3, 4, 5, 6]"
      ]
     },
     "execution_count": 24,
     "metadata": {},
     "output_type": "execute_result"
    }
   ],
   "source": [
    "layerTraverse(T)"
   ]
  },
  {
   "cell_type": "code",
   "execution_count": null,
   "metadata": {},
   "outputs": [],
   "source": []
  },
  {
   "cell_type": "code",
   "execution_count": null,
   "metadata": {},
   "outputs": [],
   "source": []
  },
  {
   "cell_type": "code",
   "execution_count": null,
   "metadata": {},
   "outputs": [],
   "source": []
  }
 ],
 "metadata": {
  "interpreter": {
   "hash": "85c51a4259275393737ca8d3e0cd6fa489554cf4913552085d5553b62ac22de5"
  },
  "kernelspec": {
   "display_name": "Python 3.8.6 ('tensorflow2')",
   "language": "python",
   "name": "python3"
  },
  "language_info": {
   "codemirror_mode": {
    "name": "ipython",
    "version": 3
   },
   "file_extension": ".py",
   "mimetype": "text/x-python",
   "name": "python",
   "nbconvert_exporter": "python",
   "pygments_lexer": "ipython3",
   "version": "3.8.6"
  },
  "orig_nbformat": 4
 },
 "nbformat": 4,
 "nbformat_minor": 2
}
