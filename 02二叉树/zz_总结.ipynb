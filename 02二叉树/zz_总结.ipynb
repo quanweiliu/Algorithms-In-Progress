{
 "cells": [
  {
   "cell_type": "code",
   "execution_count": null,
   "metadata": {},
   "outputs": [],
   "source": []
  },
  {
   "cell_type": "markdown",
   "metadata": {},
   "source": [
    "二叉树的递归框架\n",
    "```java\n",
    "void traverse(TreeNode root) {\n",
    "    if (root == null) return;\n",
    "    /* 前序遍历代码位置 */\n",
    "    traverse(root.left);\n",
    "    /* 中序遍历代码位置 */\n",
    "    traverse(root.right);\n",
    "    /* 后序遍历代码位置 */\n",
    "}\n",
    "```"
   ]
  },
  {
   "cell_type": "markdown",
   "metadata": {},
   "source": [
    "前中后序遍历位置就是几个特殊的时间点：\n",
    "- 前序遍历位置的代码，会在刚遍历到当前节点 root，遍历 root 的左右子树之前执行；\n",
    "- 中序遍历位置的代码，会在在遍历完当前节点 root 的左子树，即将开始遍历 root 的右子树的时候执行；\n",
    "- 后序遍历位置的代码，会在遍历完以当前节点 root 为根的整棵子树之后执行。"
   ]
  },
  {
   "cell_type": "code",
   "execution_count": null,
   "metadata": {},
   "outputs": [],
   "source": []
  },
  {
   "cell_type": "markdown",
   "metadata": {},
   "source": [
    "迭代框架\n",
    "- 如果我们想将递归算法改为迭代算法，就不能从框架上理解算法的逻辑，\n",
    "- 而要深入细节，思考计算机是如何进行递归的。\n",
    "```java\n",
    "void traverse(TreeNode root) {\n",
    "    while (...) {\n",
    "        if (...) {\n",
    "          /* 前序遍历代码位置 */\n",
    "        }\n",
    "        if (...) {\n",
    "          /* 中序遍历代码位置 */\n",
    "        }\n",
    "        if (...) {\n",
    "          /* 后序遍历代码位置 */\n",
    "        }\n",
    "    }\n",
    "}\n",
    "\n",
    "```"
   ]
  },
  {
   "cell_type": "markdown",
   "metadata": {},
   "source": []
  },
  {
   "cell_type": "code",
   "execution_count": null,
   "metadata": {},
   "outputs": [],
   "source": []
  },
  {
   "cell_type": "code",
   "execution_count": null,
   "metadata": {},
   "outputs": [],
   "source": []
  },
  {
   "cell_type": "code",
   "execution_count": null,
   "metadata": {},
   "outputs": [],
   "source": []
  }
 ],
 "metadata": {
  "language_info": {
   "name": "python"
  },
  "orig_nbformat": 4
 },
 "nbformat": 4,
 "nbformat_minor": 2
}
