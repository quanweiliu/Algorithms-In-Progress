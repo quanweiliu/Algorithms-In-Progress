{
 "cells": [
  {
   "cell_type": "code",
   "execution_count": 13,
   "metadata": {},
   "outputs": [],
   "source": [
    "# Definition for a binary tree node.\n",
    "class TreeNode:\n",
    "    def __init__(self, val=0, left=None, right=None):\n",
    "        self.val = val\n",
    "        self.left = left\n",
    "        self.right = right"
   ]
  },
  {
   "cell_type": "code",
   "execution_count": 14,
   "metadata": {},
   "outputs": [],
   "source": [
    "T = TreeNode(1)\n",
    "T.left = TreeNode(2)\n",
    "T.right = TreeNode(3)\n",
    "T.left.left = TreeNode(4)\n",
    "T.left.right = TreeNode(5)\n",
    "T.right.left = TreeNode(6)\n",
    "T.right.right = TreeNode(7)"
   ]
  },
  {
   "cell_type": "markdown",
   "metadata": {},
   "source": [
    "# 结构\n",
    "```\n",
    "      1 \n",
    "   2     3\n",
    " 4   5  6  7\n",
    "```"
   ]
  },
  {
   "cell_type": "markdown",
   "metadata": {},
   "source": [
    "# 递归解"
   ]
  },
  {
   "cell_type": "code",
   "execution_count": 15,
   "metadata": {},
   "outputs": [],
   "source": [
    "class Solution:\n",
    "    def __init__(self):\n",
    "        self.ls = []\n",
    "    def preorderTraversal(self , root: TreeNode):\n",
    "        # write code here\n",
    "        if root == None:\n",
    "            return \n",
    "        self.ls.append(root.val)\n",
    "        left = self.preorderTraversal(root.left)\n",
    "        right = self.preorderTraversal(root.right)\n",
    "\n",
    "        return self.ls"
   ]
  },
  {
   "cell_type": "code",
   "execution_count": 16,
   "metadata": {},
   "outputs": [],
   "source": [
    "# s = Solution()\n",
    "# s.preorderTraversal(T)"
   ]
  },
  {
   "cell_type": "markdown",
   "metadata": {},
   "source": [
    "# 迭代解"
   ]
  },
  {
   "cell_type": "code",
   "execution_count": 17,
   "metadata": {},
   "outputs": [],
   "source": [
    "# class TreeNode:\n",
    "#     def __init__(self, x):\n",
    "#         self.val = x\n",
    "#         self.left = None\n",
    "#         self.right = None\n",
    "#\n",
    "# 代码中的类名、方法名、参数名已经指定，请勿修改，直接返回方法规定的值即可\n",
    "#\n",
    "# \n",
    "# @param root TreeNode类 \n",
    "# @return int整型一维数组\n",
    "#\n",
    "class Solution:\n",
    "    # 层序\n",
    "    def level_order(self, root, res):\n",
    "        if not root:\n",
    "            return\n",
    "        stack = [root]\n",
    "\n",
    "        while stack:\n",
    "            # 和前序遍历差了两个点，一个是这里从头开始\n",
    "            top = stack.pop(0)\n",
    "            res.append(top.val)\n",
    "\n",
    "            # 一个是这里先左后右\n",
    "            if top.left:\n",
    "                stack.append(top.left)\n",
    "\n",
    "            if top.right:\n",
    "                stack.append(top.right)\n",
    "\n",
    "        return res\n",
    "\n",
    "    def levelOrder2(self , root: TreeNode):\n",
    "        # write code here\n",
    "        if not root:\n",
    "            return \n",
    "        stack = [root]\n",
    "        res = []\n",
    "        \n",
    "        while stack:\n",
    "            node = stack.pop(0)\n",
    "#             print(node.val)\n",
    "            res.append(node.val)\n",
    "            \n",
    "            if node.left:\n",
    "                stack.append(node.left)\n",
    "            if node.right:\n",
    "                stack.append(node.right)\n",
    "\n",
    "        return res\n",
    "\n",
    "    # 前序\n",
    "    def pre_order(self, root, res):\n",
    "        if not root :\n",
    "            return\n",
    "        stack = [root]\n",
    "        while stack:\n",
    "            top = stack.pop()\n",
    "            res.append(top.val)\n",
    "\n",
    "            if top.right:\n",
    "                stack.append(top.right)\n",
    "            if top.left:\n",
    "                stack.append(top.left)\n",
    "        return res\n",
    "\n",
    "    def preorderTraversal(self , root: TreeNode):\n",
    "        # write code here\n",
    "        res = []\n",
    "        \n",
    "        if root == None:\n",
    "            return res\n",
    "        st = [root]\n",
    "        \n",
    "        while st:\n",
    "            node = st.pop()\n",
    "            res.append(node.val)\n",
    "            \n",
    "            # 优先加入右节点\n",
    "            if node.right:\n",
    "                st.append(node.right)\n",
    "            if node.left:\n",
    "                st.append(node.left)\n",
    "        return res\n",
    "\n",
    "    # 中序         \n",
    "    def in_order(self, root, res):\n",
    "        stack = []\n",
    "        while root:\n",
    "            stack.append(root)\n",
    "            root = root.left\n",
    "\n",
    "        while stack:\n",
    "            top = stack.pop()\n",
    "            res.append(top.val)\n",
    "            right = top.right\n",
    "            while right:\n",
    "                stack.append(right)\n",
    "                right = right.left\n",
    "        return res\n",
    "    \n",
    "    # 中序2：好难\n",
    "    def inorderTraversal(self , root: TreeNode):\n",
    "        # s是辅助栈\n",
    "        res, s = [], [] \n",
    "\n",
    "        # 当树节点不为空或栈中有节点时\n",
    "        while root or s: \n",
    "            # 每次找到最左节点\n",
    "            while root: \n",
    "                s.append(root)\n",
    "                root = root.left\n",
    "\n",
    "            # 访问该节点\n",
    "            node = s.pop() \n",
    "            res.append(node.val)\n",
    "            # 进入右节点\n",
    "            root = node.right \n",
    "        return res\n",
    "\n",
    "    # 后续\n",
    "    def post_order(self, root, res):\n",
    "        if not root:\n",
    "            return\n",
    "        stack = [root]\n",
    "        pre_node = None\n",
    "        while stack:\n",
    "            top = stack[-1]\n",
    "            if (not top.left and not top.right) or \\\n",
    "               (top.right and pre_node == top.right) or \\\n",
    "               (not top.right and pre_node==top.left):\n",
    "\n",
    "                stack.pop()\n",
    "                pre_node = top\n",
    "                res.append(top.val)\n",
    "            else:\n",
    "                if top.right:\n",
    "                    stack.append(top.right)\n",
    "                if top.left:\n",
    "                    stack.append(top.left)\n",
    "        return res"
   ]
  },
  {
   "cell_type": "code",
   "execution_count": 18,
   "metadata": {},
   "outputs": [
    {
     "name": "stdout",
     "output_type": "stream",
     "text": [
      "[1, 2, 3, 4, 5, 6, 7]\n"
     ]
    },
    {
     "data": {
      "text/plain": [
       "[1, 2, 3, 4, 5, 6, 7]"
      ]
     },
     "execution_count": 18,
     "metadata": {},
     "output_type": "execute_result"
    }
   ],
   "source": [
    "s = Solution()\n",
    "res = []\n",
    "# res = s.pre_order(T, res)\n",
    "# res = s.preorderTraversal(T)\n",
    "# res = s.in_order(T, res)\n",
    "# res = s.post_order(T, res)\n",
    "res = s.level_order(T, res)\n",
    "print(res)\n",
    "res = s.levelOrder2(T)\n",
    "res"
   ]
  },
  {
   "cell_type": "code",
   "execution_count": null,
   "metadata": {},
   "outputs": [],
   "source": []
  },
  {
   "cell_type": "code",
   "execution_count": null,
   "metadata": {},
   "outputs": [],
   "source": []
  }
 ],
 "metadata": {
  "kernelspec": {
   "display_name": "Python 3.8.6 ('tensorflow2')",
   "language": "python",
   "name": "python3"
  },
  "language_info": {
   "codemirror_mode": {
    "name": "ipython",
    "version": 3
   },
   "file_extension": ".py",
   "mimetype": "text/x-python",
   "name": "python",
   "nbconvert_exporter": "python",
   "pygments_lexer": "ipython3",
   "version": "3.8.6"
  },
  "orig_nbformat": 4,
  "vscode": {
   "interpreter": {
    "hash": "85c51a4259275393737ca8d3e0cd6fa489554cf4913552085d5553b62ac22de5"
   }
  }
 },
 "nbformat": 4,
 "nbformat_minor": 2
}
