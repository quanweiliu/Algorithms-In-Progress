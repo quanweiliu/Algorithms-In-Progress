{
 "cells": [
  {
   "cell_type": "markdown",
   "metadata": {},
   "source": [
    "# 宽度遍历用队列"
   ]
  },
  {
   "cell_type": "code",
   "execution_count": 32,
   "metadata": {},
   "outputs": [
    {
     "name": "stdout",
     "output_type": "stream",
     "text": [
      "[1, 3, 1]\n",
      "[1, 3, 1, 1]\n",
      "[1, 3, 1, 1, 1]\n"
     ]
    }
   ],
   "source": [
    "lenth = [1, 3]\n",
    "count = 0\n",
    "for i in lenth:\n",
    "    if len(lenth) < 5:\n",
    "        lenth.append(1)\n",
    "        count += 1\n",
    "        print(lenth)"
   ]
  },
  {
   "cell_type": "code",
   "execution_count": 2,
   "metadata": {},
   "outputs": [],
   "source": [
    "# Definition for a binary tree node.\n",
    "class TreeNode:\n",
    "    def __init__(self, val=0, left=None, right=None):\n",
    "        self.val = val\n",
    "        self.left = left\n",
    "        self.right = right"
   ]
  },
  {
   "cell_type": "code",
   "execution_count": 3,
   "metadata": {},
   "outputs": [],
   "source": [
    "T = TreeNode(0)\n",
    "T.left = TreeNode(1)\n",
    "T.right = TreeNode(2)\n",
    "T.left.left = TreeNode(3)\n",
    "T.left.right = TreeNode(4)\n",
    "\n",
    "T.right.left = TreeNode(5)\n",
    "T.right.right = TreeNode(6)\n",
    "T.right.right.right = TreeNode(6)\n",
    "T.right.right.left = TreeNode(6)"
   ]
  },
  {
   "cell_type": "markdown",
   "metadata": {},
   "source": [
    "# 层级遍历二叉树的代码框架，必背！！"
   ]
  },
  {
   "cell_type": "code",
   "execution_count": 4,
   "metadata": {},
   "outputs": [],
   "source": [
    "def maxWidth(root):\n",
    "    if not root:\n",
    "        return \n",
    "\n",
    "    # 初始化队列，将 root 加入队列\n",
    "    queue = []\n",
    "    queue.append(root)\n",
    "\n",
    "    # 记录层数等一些附加信息\n",
    "    levelmap = {}\n",
    "    levelmap[root] = 1\n",
    "\n",
    "    # 当前的层和当前节点的层\n",
    "    curLevel = 1\n",
    "    curLevelNodes = 0\n",
    "    # 全局最大值\n",
    "    Max = -1\n",
    "\n",
    "    while len(queue) > 0:\n",
    "        node = queue.pop(0)\n",
    "\n",
    "        # 得到当前节点的层数\n",
    "        curNodeLevel = levelmap[node]\n",
    "\n",
    "        # 还在当前层，当前层++\n",
    "        print(curNodeLevel, curLevel)\n",
    "        if curNodeLevel == curLevel:\n",
    "            curLevelNodes += 1\n",
    "        else:\n",
    "            # 在一个层遍历结束，就会更新全局最小值\n",
    "            Max = max(Max, curLevelNodes)\n",
    "            curLevel += 1\n",
    "            curLevelNodes = 1\n",
    "\n",
    "        # print(node.val, end = \" \") # end属性默认为“\\n”，所以print()函数默认会换行。此处设为空格“ ”，防止自动换行\n",
    "        \n",
    "        if node.left:\n",
    "            # 在进栈的时候记录当前节点的层数\n",
    "            levelmap[node.left] = curNodeLevel + 1\n",
    "            queue.append(node.left) # 将本节点的左子节点入队\n",
    "\n",
    "        if node.right:\n",
    "            levelmap[node.right] = curNodeLevel + 1\n",
    "            queue.append(node.right) # 将本节点的右子节点入队\n",
    "\n",
    "    # 怎么修改代码才能让返回 Max 就是最终结果？ \n",
    "    return max(Max, curLevelNodes)"
   ]
  },
  {
   "cell_type": "code",
   "execution_count": 5,
   "metadata": {},
   "outputs": [
    {
     "name": "stdout",
     "output_type": "stream",
     "text": [
      "1 1\n",
      "2 1\n",
      "2 2\n",
      "3 2\n",
      "3 3\n",
      "3 3\n",
      "3 3\n",
      "4 3\n",
      "4 4\n"
     ]
    },
    {
     "data": {
      "text/plain": [
       "4"
      ]
     },
     "execution_count": 5,
     "metadata": {},
     "output_type": "execute_result"
    }
   ],
   "source": [
    "maxWidth(T)"
   ]
  },
  {
   "cell_type": "code",
   "execution_count": 16,
   "metadata": {},
   "outputs": [],
   "source": [
    "T = TreeNode(0)\n",
    "T.left = TreeNode(1)\n",
    "T.right = TreeNode(2)\n",
    "T.left.left = TreeNode(3)\n",
    "T.left.right = TreeNode(4)\n",
    "\n",
    "T.right.left = TreeNode(5)\n",
    "T.right.right = TreeNode(6)\n",
    "# T.right.right.right = TreeNode(6)\n",
    "# T.right.right.left = TreeNode(6)"
   ]
  },
  {
   "cell_type": "markdown",
   "metadata": {},
   "source": [
    "# 662. Maximum Width of Binary Tree\n",
    "- https://leetcode-cn.com/problems/maximum-width-of-binary-tree/solution/er-cha-shu-zui-da-kuan-du-by-leetcode/\n",
    "\n",
    "- 这个代码太优秀了，要好好掰扯掰扯"
   ]
  },
  {
   "cell_type": "code",
   "execution_count": 29,
   "metadata": {},
   "outputs": [],
   "source": [
    "# 宽度优先搜索 [Accepted]    -> 非递归\n",
    "class Solution(object):\n",
    "    def widthOfBinaryTree(self, root):\n",
    "        # 定义这种数据结构\n",
    "        queue = [(root, 0, 0)]\n",
    "        cur_depth = left = ans = 0\n",
    "\n",
    "        for node, depth, pos in queue:\n",
    "            print(len(queue))\n",
    "            if node:\n",
    "                queue.append((node.left, depth+1, pos*2))\n",
    "                queue.append((node.right, depth+1, pos*2 + 1))\n",
    "                if cur_depth != depth:\n",
    "                    cur_depth = depth\n",
    "                    left = pos\n",
    "                ans = max(pos - left + 1, ans)\n",
    "        return ans"
   ]
  },
  {
   "cell_type": "code",
   "execution_count": 30,
   "metadata": {},
   "outputs": [
    {
     "name": "stdout",
     "output_type": "stream",
     "text": [
      "1\n",
      "3\n",
      "5\n",
      "7\n",
      "9\n",
      "11\n",
      "13\n",
      "15\n",
      "15\n",
      "15\n",
      "15\n",
      "15\n",
      "15\n",
      "15\n",
      "15\n"
     ]
    },
    {
     "data": {
      "text/plain": [
       "4"
      ]
     },
     "execution_count": 30,
     "metadata": {},
     "output_type": "execute_result"
    }
   ],
   "source": [
    "s = Solution()\n",
    "s.widthOfBinaryTree(T)"
   ]
  },
  {
   "cell_type": "code",
   "execution_count": 23,
   "metadata": {},
   "outputs": [],
   "source": [
    "# 方法 2：深度优先搜索 [Accepted]    ->    非递归\n",
    "class Solution(object):\n",
    "    def widthOfBinaryTree(self, root):\n",
    "        self.ans = 0\n",
    "        left = {}\n",
    "        def dfs(node, depth = 0, pos = 0):\n",
    "            if node:\n",
    "                left.setdefault(depth, pos)\n",
    "                self.ans = max(self.ans, pos - left[depth] + 1)\n",
    "                dfs(node.left, depth + 1, pos * 2)\n",
    "                dfs(node.right, depth + 1, pos * 2 + 1)\n",
    "        dfs(root)\n",
    "        return self.ans"
   ]
  },
  {
   "cell_type": "code",
   "execution_count": 24,
   "metadata": {},
   "outputs": [
    {
     "data": {
      "text/plain": [
       "4"
      ]
     },
     "execution_count": 24,
     "metadata": {},
     "output_type": "execute_result"
    }
   ],
   "source": [
    "s = Solution()\n",
    "s.widthOfBinaryTree(T)"
   ]
  },
  {
   "cell_type": "code",
   "execution_count": null,
   "metadata": {},
   "outputs": [],
   "source": []
  }
 ],
 "metadata": {
  "interpreter": {
   "hash": "85c51a4259275393737ca8d3e0cd6fa489554cf4913552085d5553b62ac22de5"
  },
  "kernelspec": {
   "display_name": "Python 3.8.6 ('tensorflow2')",
   "language": "python",
   "name": "python3"
  },
  "language_info": {
   "codemirror_mode": {
    "name": "ipython",
    "version": 3
   },
   "file_extension": ".py",
   "mimetype": "text/x-python",
   "name": "python",
   "nbconvert_exporter": "python",
   "pygments_lexer": "ipython3",
   "version": "3.8.6"
  },
  "orig_nbformat": 4
 },
 "nbformat": 4,
 "nbformat_minor": 2
}
