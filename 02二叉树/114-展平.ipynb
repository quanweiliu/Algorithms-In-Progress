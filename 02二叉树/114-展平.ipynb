{
 "cells": [
  {
   "cell_type": "code",
   "execution_count": 40,
   "metadata": {},
   "outputs": [],
   "source": [
    "# Definition for a binary tree node.\n",
    "class TreeNode:\n",
    "    def __init__(self, val=0, left=None, right=None):\n",
    "        self.val = val\n",
    "        self.left = left\n",
    "        self.right = right"
   ]
  },
  {
   "cell_type": "code",
   "execution_count": 53,
   "metadata": {},
   "outputs": [],
   "source": [
    "T = TreeNode(2)\n",
    "T.left = TreeNode(1)\n",
    "T.left.left = TreeNode(0)\n",
    "T.right = TreeNode(4)\n",
    "T.right.left = TreeNode(3)\n",
    "T.right.right = TreeNode(5)"
   ]
  },
  {
   "cell_type": "markdown",
   "metadata": {},
   "source": [
    "### 二叉树\n",
    "```\n",
    "        2\n",
    "    1       4\n",
    "0   Na   3     5\n",
    "        Na Na Na Na \n",
    "\n",
    "```"
   ]
  },
  {
   "cell_type": "code",
   "execution_count": 54,
   "metadata": {},
   "outputs": [],
   "source": [
    "class Solution:\n",
    "    def preOrder(self, root):\n",
    "        if root == None:\n",
    "            return\n",
    "\n",
    "        # 不需要递归\n",
    "        self.preOrder(root.left)\n",
    "        self.preOrder(root.right)\n",
    "\n",
    "        # 后续遍历位置\n",
    "        # 两个前序遍历的树, 递归的树\n",
    "        # 不需要知道他们具体是什么,后续位置就是对节点进行操作就行了\n",
    "        # #################################################\n",
    "        # 经过一段世间的思考,整体来看,在后续遍历位置,只需关注一个三个节点的子树\n",
    "        # 在干什么就行了,不需要循环套循环,一直纠结全部,这样是不行的 .\n",
    "        # 下面的代码就是递归过程的中的一个三个节点的子树的运算过程,如果实再不明白,就和镜像二叉树一起看!!\n",
    "        # #################################################\n",
    "        right = root.right\n",
    "        left = root.left\n",
    "        root.left = None\n",
    "        # 将左子树作为右子树\n",
    "        root.right = left\n",
    "\n",
    "        # 将原先的右子树接到当前右子树的末端\n",
    "        p = root\n",
    "        while (p.right != None):\n",
    "            p = p.right\n",
    "\n",
    "        p.right = right\n",
    "        \n",
    "        # return left, right"
   ]
  },
  {
   "cell_type": "code",
   "execution_count": 55,
   "metadata": {},
   "outputs": [
    {
     "name": "stdout",
     "output_type": "stream",
     "text": [
      "2\n",
      "1\n",
      "0\n",
      "4\n",
      "3\n",
      "5\n"
     ]
    }
   ],
   "source": [
    "s = Solution()\n",
    "s.preOrder(T)\n",
    "\n",
    "while T:\n",
    "    print(T.val)\n",
    "    T = T.right\n",
    "# T.val, T.right.val, T.right.right.val, T.right.right.right.val, \n",
    "# T.left"
   ]
  },
  {
   "cell_type": "markdown",
   "metadata": {},
   "source": [
    "## 探讨 left, right"
   ]
  },
  {
   "cell_type": "code",
   "execution_count": 44,
   "metadata": {},
   "outputs": [],
   "source": [
    "T = TreeNode(2)\n",
    "T.left = TreeNode(1)\n",
    "T.left.left = TreeNode(0)\n",
    "T.right = TreeNode(4)\n",
    "T.right.left = TreeNode(3)\n",
    "T.right.right = TreeNode(5)"
   ]
  },
  {
   "cell_type": "code",
   "execution_count": 45,
   "metadata": {},
   "outputs": [],
   "source": [
    "class Solution:\n",
    "    def preOrder(self, root):\n",
    "        if root == None:\n",
    "            return\n",
    "\n",
    "        self.preOrder(root.left)\n",
    "        self.preOrder(root.right)\n",
    "\n",
    "        # 两个前序遍历的树\n",
    "        left = root.left\n",
    "        right = root.right\n",
    "\n",
    "        # # 将左子树作为右子树\n",
    "        # root.left = None\n",
    "        # root.right = left\n",
    "\n",
    "        # # 将原先的右子树接到当前右子树的末端\n",
    "        # p = root\n",
    "        # while (p.right != None):\n",
    "        #     p = p.right\n",
    "\n",
    "        # p.right = right\n",
    "        \n",
    "        return left, right"
   ]
  },
  {
   "cell_type": "code",
   "execution_count": 46,
   "metadata": {},
   "outputs": [],
   "source": [
    "s = Solution()\n",
    "left, right = s.preOrder(T)"
   ]
  },
  {
   "cell_type": "code",
   "execution_count": 47,
   "metadata": {},
   "outputs": [
    {
     "data": {
      "text/plain": [
       "(1, 0)"
      ]
     },
     "execution_count": 47,
     "metadata": {},
     "output_type": "execute_result"
    }
   ],
   "source": [
    "left.val, left.left.val"
   ]
  },
  {
   "cell_type": "code",
   "execution_count": 48,
   "metadata": {},
   "outputs": [
    {
     "data": {
      "text/plain": [
       "(4, 3, 5)"
      ]
     },
     "execution_count": 48,
     "metadata": {},
     "output_type": "execute_result"
    }
   ],
   "source": [
    "right.val, right.left.val, right.right.val"
   ]
  },
  {
   "cell_type": "code",
   "execution_count": null,
   "metadata": {},
   "outputs": [],
   "source": []
  },
  {
   "cell_type": "code",
   "execution_count": null,
   "metadata": {},
   "outputs": [],
   "source": []
  }
 ],
 "metadata": {
  "kernelspec": {
   "display_name": "Python 3.8.6 ('tensorflow2')",
   "language": "python",
   "name": "python3"
  },
  "language_info": {
   "codemirror_mode": {
    "name": "ipython",
    "version": 3
   },
   "file_extension": ".py",
   "mimetype": "text/x-python",
   "name": "python",
   "nbconvert_exporter": "python",
   "pygments_lexer": "ipython3",
   "version": "3.8.6"
  },
  "orig_nbformat": 4,
  "vscode": {
   "interpreter": {
    "hash": "85c51a4259275393737ca8d3e0cd6fa489554cf4913552085d5553b62ac22de5"
   }
  }
 },
 "nbformat": 4,
 "nbformat_minor": 2
}
