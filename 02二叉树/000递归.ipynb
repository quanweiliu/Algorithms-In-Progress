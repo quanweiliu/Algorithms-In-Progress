{
 "cells": [
  {
   "cell_type": "markdown",
   "metadata": {},
   "source": [
    "# 递归\n",
    "- https://www.bilibili.com/video/BV1xJ411S7cY?spm_id_from=333.999.0.0\n",
    "\n",
    "- 递归是不是总可以写成\n",
    "\n",
    "\n",
    "-    f = {0, n=1;\n",
    "-         n*(n-1), n > 1}\n",
    "\n",
    "- 这种形式"
   ]
  },
  {
   "cell_type": "code",
   "execution_count": 4,
   "metadata": {},
   "outputs": [
    {
     "data": {
      "text/plain": [
       "1"
      ]
     },
     "execution_count": 4,
     "metadata": {},
     "output_type": "execute_result"
    }
   ],
   "source": [
    "def factorial(n):\n",
    "    if n==1:\n",
    "        return 1\n",
    "    else:\n",
    "        return n*factorial(n-1)\n",
    "factorial(1)"
   ]
  },
  {
   "cell_type": "code",
   "execution_count": 5,
   "metadata": {},
   "outputs": [
    {
     "data": {
      "text/plain": [
       "2"
      ]
     },
     "execution_count": 5,
     "metadata": {},
     "output_type": "execute_result"
    }
   ],
   "source": [
    "factorial(2)"
   ]
  },
  {
   "cell_type": "code",
   "execution_count": 6,
   "metadata": {},
   "outputs": [
    {
     "data": {
      "text/plain": [
       "120"
      ]
     },
     "execution_count": 6,
     "metadata": {},
     "output_type": "execute_result"
    }
   ],
   "source": [
    "factorial(5)"
   ]
  },
  {
   "cell_type": "markdown",
   "metadata": {},
   "source": [
    "# 递归过程\n",
    "- 递归次序 ->\n",
    "- n! -> (n-1)! -> (n-2)! ->  ... ->  0! -> 1\n",
    "- 返回次序 <-\n",
    "\n",
    "<br>\n",
    "- 我们应该重点关注递归的返回次序"
   ]
  },
  {
   "cell_type": "markdown",
   "metadata": {},
   "source": [
    "- **刚学**递归的时候建议还是**跟一下**递归，比如二叉树的遍历，你至少需要画一个只有3个节点的二叉树，自己跟一下函数调用的整个过程（可以去B站上找一下相关的学习视频比如我之前看的懒猫老师的递归视频，把每一步都分解开），一旦你跟过递归的过程，会对整个递归有一个完整的理解。但是一旦跟过之后，**接下来**就要**忘记它**，慢慢用全局的思维模式来想问题，但是一开始还是有必要把细节理清楚的！"
   ]
  },
  {
   "cell_type": "code",
   "execution_count": null,
   "metadata": {},
   "outputs": [],
   "source": []
  },
  {
   "cell_type": "markdown",
   "metadata": {},
   "source": [
    "# 二叉树的递归\n",
    "- https://bbs.csdn.net/topics/340080118"
   ]
  },
  {
   "cell_type": "code",
   "execution_count": null,
   "metadata": {},
   "outputs": [],
   "source": [
    "# 前序遍历位置\n",
    "class Solution():\n",
    "    def __init__(self):\n",
    "        self.ls = []\n",
    "\n",
    "    def InOrder(self, root):\n",
    "        if root == None: return\n",
    "        \n",
    "        self.InOrder(root.left)\n",
    "        print(root.val)\n",
    "        self.InOrder(root.right)\n",
    "\n",
    "        return self.ls\n",
    "# [D, B, E, A, C]"
   ]
  },
  {
   "cell_type": "markdown",
   "metadata": {},
   "source": [
    "```\n",
    "      A \n",
    "   B     C\n",
    " D   E\n",
    "\n",
    "以上一棵简单的树，用InOrder简单模拟：\n",
    "\n",
    "\n",
    "InOrder(A)\n",
    "  --InOrder(B)\n",
    "    --InOrder(D)\n",
    "      --InOrder(NULL), 返回到上一层调用。\n",
    "    --继续执行后面的printf(\"%c\",T->data);，打印D。\n",
    "    --继续执行后面的InOrder(T->rchild);\n",
    "      --D的右子节点为空，InOrder(NULL);，返回到上一层调用。\n",
    "    --本层递归调用完成，返回到上一层\n",
    "\n",
    "  --继续执行后面的printf(\"%c\",T->data);，打印B。\n",
    "  --继续执行后面的InOrder(T->rchild);\n",
    "    --InOrder(E)\n",
    "      --InOrder(NULL),返回到上一层调用。\n",
    "    --继续执行后面的printf(\"%c\",T->data);，打印E。\n",
    "    --继续执行后面的InOrder(T->rchild);\n",
    "      --E的右子节点为空，InOrder(NULL);，返回到上一层调用。\n",
    "    --本层递归调用完成，返回到上一层\n",
    "  --本层调用完成，返回上一层调用。\n",
    "\n",
    "--继续执行后面的printf(\"%c\",T->data);，打印A。\n",
    "--继续执行后面的InOrder(T->rchild);\n",
    "  --InOrder(C)\n",
    "    --InOrder(NULL), 返回到上一层调用。\n",
    "  --继续执行后面的printf(\"%c\",T->data);，打印C。\n",
    "  --继续执行后面的InOrder(T->rchild);\n",
    "    --C的右子节点为空，InOrder(NULL);，返回到上一层调用。 \n",
    "  --本层递归调用完成，返回到上一层。\n",
    "  \n",
    "InOrder(A)执行完毕! \n",
    "```"
   ]
  },
  {
   "cell_type": "markdown",
   "metadata": {},
   "source": [
    "**以后**就要**忘记它**，慢慢用全局的思维模式来想问题！"
   ]
  }
 ],
 "metadata": {
  "interpreter": {
   "hash": "9ecbc95d31df1b277e5ec566a835865c3a9a253da4266404bdbc6ee7e31406f4"
  },
  "kernelspec": {
   "display_name": "Python 3.8.6 ('tensorflow2')",
   "language": "python",
   "name": "python3"
  },
  "language_info": {
   "codemirror_mode": {
    "name": "ipython",
    "version": 3
   },
   "file_extension": ".py",
   "mimetype": "text/x-python",
   "name": "python",
   "nbconvert_exporter": "python",
   "pygments_lexer": "ipython3",
   "version": "3.8.6"
  },
  "orig_nbformat": 4
 },
 "nbformat": 4,
 "nbformat_minor": 2
}
