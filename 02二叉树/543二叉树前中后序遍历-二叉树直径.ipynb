{
 "cells": [
  {
   "cell_type": "markdown",
   "metadata": {},
   "source": [
    "# 前中后序遍历\n",
    "- https://labuladong.gitee.io/algo/2/18/21/"
   ]
  },
  {
   "cell_type": "code",
   "execution_count": 1,
   "metadata": {},
   "outputs": [],
   "source": [
    "# Definition for a binary tree node.\n",
    "class TreeNode:\n",
    "    def __init__(self, val=0, left=None, right=None):\n",
    "        self.val = val\n",
    "        self.left = left\n",
    "        self.right = right"
   ]
  },
  {
   "cell_type": "code",
   "execution_count": 2,
   "metadata": {},
   "outputs": [],
   "source": [
    "# #  Definition for singly-linked list.\n",
    "# class ListNode:\n",
    "#     def __init__(self, val=0, next=None):\n",
    "#         self.val = val\n",
    "#         self.next = next\n",
    "    \n",
    "#     def add(self, ListN, val):\n",
    "#         ListN.next = val\n",
    "#         ListN = ListN.next\n",
    "#         # return ls"
   ]
  },
  {
   "cell_type": "code",
   "execution_count": 3,
   "metadata": {},
   "outputs": [],
   "source": [
    "T = TreeNode(1)\n",
    "T.left = TreeNode(2)\n",
    "T.right = TreeNode(3)\n",
    "T.left.left = TreeNode(4)\n",
    "T.left.right  = TreeNode(5)\n",
    "# T.right.right  = TreeNode(5)"
   ]
  },
  {
   "cell_type": "markdown",
   "metadata": {},
   "source": [
    "## 遍历解\n",
    "- 外部变量记录整个树"
   ]
  },
  {
   "cell_type": "code",
   "execution_count": 4,
   "metadata": {},
   "outputs": [],
   "source": [
    "# 前序遍历位置\n",
    "class Solution():\n",
    "    def __init__(self):\n",
    "        self.ls = []\n",
    "\n",
    "    def preorderTraverse(self, root):\n",
    "        if root == None:\n",
    "            # print(self.ls)\n",
    "            return self.ls\n",
    "        # print(root.val)\n",
    "        self.ls.append(root.val)\n",
    "        # print(self.ls)\n",
    "        self.preorderTraverse(root.left)\n",
    "        self.preorderTraverse(root.right)\n",
    "\n",
    "        # 递归需要两个返回函数，第一个是递归的结束条件，第二才是递归的返回值\n",
    "        return self.ls"
   ]
  },
  {
   "cell_type": "code",
   "execution_count": 5,
   "metadata": {},
   "outputs": [],
   "source": [
    "# 中序遍历位置\n",
    "class Solution():\n",
    "    def __init__(self):\n",
    "        self.ls = []\n",
    "\n",
    "    def preorderTraverse(self, root):\n",
    "        if root == None:\n",
    "            # print(self.ls)\n",
    "            return self.ls\n",
    "        self.preorderTraverse(root.left)\n",
    "        # print(root.val)\n",
    "        self.ls.append(root.val)\n",
    "        # print(self.ls)\n",
    "        self.preorderTraverse(root.right)\n",
    "\n",
    "        # 递归需要两个返回函数，第一个是递归的结束条件，第二才是递归的返回值\n",
    "        return self.ls"
   ]
  },
  {
   "cell_type": "code",
   "execution_count": 6,
   "metadata": {},
   "outputs": [],
   "source": [
    "# 后序遍历位置\n",
    "class Solution():\n",
    "    def __init__(self):\n",
    "        self.ls = []\n",
    "\n",
    "    def preorderTraverse(self, root):\n",
    "        if root == None:\n",
    "            # print(self.ls)\n",
    "            return self.ls\n",
    "\n",
    "        self.preorderTraverse(root.left)\n",
    "        self.preorderTraverse(root.right)\n",
    "        # print(root.val)\n",
    "        self.ls.append(root.val)\n",
    "        # print(self.ls)\n",
    "        # 递归需要两个返回函数，第一个是递归的结束条件，第二才是递归的返回值\n",
    "        return self.ls"
   ]
  },
  {
   "cell_type": "code",
   "execution_count": 7,
   "metadata": {},
   "outputs": [],
   "source": [
    "s = Solution()\n",
    "ls = s.preorderTraverse(T)"
   ]
  },
  {
   "cell_type": "code",
   "execution_count": 8,
   "metadata": {},
   "outputs": [
    {
     "name": "stdout",
     "output_type": "stream",
     "text": [
      "[4, 5, 2, 3, 1]\n"
     ]
    }
   ],
   "source": [
    "print(ls)\n",
    "# 前序： [1, 2, 4, 5, 3]\n",
    "# 中序: [4, 2, 5, 1, 3]\n",
    "# 后序: [4, 5, 2, 3, 1]"
   ]
  },
  {
   "cell_type": "markdown",
   "metadata": {},
   "source": [
    "## 分解解\n",
    "- 「分解问题」的思路，来计算前序遍历的结果？\n",
    "- 换句话说，不要用像 traverse 这样的辅助函数和任何外部变量，单纯用题目给的 preorderTraverse 函数递归解题\n",
    "- 思路：一棵二叉树的前序遍历分解成了根节点和左右子树的前序遍历结果。"
   ]
  },
  {
   "cell_type": "code",
   "execution_count": null,
   "metadata": {},
   "outputs": [],
   "source": [
    "# 不会"
   ]
  },
  {
   "cell_type": "markdown",
   "metadata": {},
   "source": [
    "# 后序遍历\n",
    "- 前序位置的代码只能从函数参数中获取父节点传递来的数据，\n",
    "- 而后序位置的代码不仅可以获取参数数据，还可以获取到子树通过**函数返回值**传递回来的数据。"
   ]
  },
  {
   "cell_type": "markdown",
   "metadata": {},
   "source": [
    "## 打印出每一个节点所在的层数\n",
    "- 前序"
   ]
  },
  {
   "cell_type": "code",
   "execution_count": null,
   "metadata": {},
   "outputs": [],
   "source": [
    "class Solution():\n",
    "    def traverse(self, root, level):\n",
    "        if root == None:\n",
    "            return\n",
    "\n",
    "        print(\"节点 {} 在 {} 层\".format(root.val, level))\n",
    "        self.traverse(root.left, level+1)\n",
    "        self.traverse(root.right, level+1)"
   ]
  },
  {
   "cell_type": "code",
   "execution_count": null,
   "metadata": {},
   "outputs": [],
   "source": [
    "T = TreeNode(0)\n",
    "T.left = TreeNode(1)\n",
    "T.right = TreeNode(2)\n",
    "T.left.left = TreeNode(3)"
   ]
  },
  {
   "cell_type": "code",
   "execution_count": null,
   "metadata": {},
   "outputs": [],
   "source": [
    "s = Solution()\n",
    "s.traverse(T, level=0)"
   ]
  },
  {
   "cell_type": "markdown",
   "metadata": {},
   "source": [
    "## 如何打印出每个节点的左右子树各有多少节点？\n",
    "- 后序遍历位置才能通过返回值获取子树的信息。\n",
    "- 换句话说，一旦你发现题目和子树有关，那大概率要给函数设置合理的定义和返回值，在后序位置写代码了。"
   ]
  },
  {
   "cell_type": "code",
   "execution_count": null,
   "metadata": {},
   "outputs": [],
   "source": [
    "class Solution():\n",
    "    def __init__(self):\n",
    "        self.leftCount = 0\n",
    "        self.rightCount = 0\n",
    "\n",
    "    def traverse(self, root):\n",
    "        if root == None:\n",
    "            return\n",
    "        \n",
    "        if self.traverse(root.left):\n",
    "            self.leftCount += 1\n",
    "        \n",
    "        if self.traverse(root.right):\n",
    "            self.rightCount += 1         \n",
    "        print(\"节点 {} 在 左{} 右{}\".format(root.val, self.leftCount, self.rightCount))\n",
    "        \n",
    "        return self.leftCount + self.rightCount + 1;"
   ]
  },
  {
   "cell_type": "code",
   "execution_count": null,
   "metadata": {},
   "outputs": [],
   "source": [
    "T = TreeNode(0)\n",
    "T.left = TreeNode(1)\n",
    "T.right = TreeNode(2)\n",
    "T.left.left = TreeNode(3)"
   ]
  },
  {
   "cell_type": "code",
   "execution_count": null,
   "metadata": {},
   "outputs": [],
   "source": [
    "s = Solution()\n",
    "total = s.traverse(T)\n",
    "print(\"总的节点个数\", total)"
   ]
  },
  {
   "cell_type": "code",
   "execution_count": null,
   "metadata": {},
   "outputs": [],
   "source": [
    "total"
   ]
  },
  {
   "cell_type": "markdown",
   "metadata": {},
   "source": [
    "# 二叉树直径\n",
    "- 二叉树的「直径」长度，就是任意两个结点之间的路径长度。最长「直径」并不一定要穿过根结点\n",
    "- 每一条二叉树的「直径」长度，就是一个节点的左右子树的最大深度之和\n",
    "- O(N^2)"
   ]
  },
  {
   "cell_type": "code",
   "execution_count": null,
   "metadata": {},
   "outputs": [],
   "source": [
    "class Solution:\n",
    "\n",
    "    def __init__(self):\n",
    "        self.depth = 0\n",
    "        self.res = 0\n",
    "        self.myDiameter = 0\n",
    "        self.maxDiameter = 0\n",
    "\n",
    "    # 解法是正确的，但是运行时间很长，原因也很明显，diameterOfBinaryTree 遍历每个节点的时候还会\n",
    "    # 调用递归函数 maxDepth，而 maxDepth 是要遍历子树的所有节点的，所以最坏时间复杂度是 O(N^2)。\n",
    "    def diameterOfBinaryTree(self, root: TreeNode) -> int:\n",
    "        if root == None:\n",
    "            return\n",
    "\n",
    "        # 求最大深度\n",
    "        leftMax = self.maxDepth(root.left)\n",
    "        rightMax = self.maxDepth(root.right)\n",
    "        self.myDiameter = leftMax + rightMax\n",
    "\n",
    "        self.maxDiameter = max(self.maxDiameter, self.myDiameter)\n",
    "        \n",
    "        # 遍历所有节点\n",
    "        self.diameterOfBinaryTree(root.left)\n",
    "        self.diameterOfBinaryTree(root.right)\n",
    "        return self.maxDiameter\n",
    "\n",
    "    def maxDepth(self, root) -> int:\n",
    "        if root == None:\n",
    "            return 0\n",
    "        \n",
    "        # 利用**定义**，计算左右子树的最大深度\n",
    "        leftMax = self.maxDepth(root.left)\n",
    "        rightMax = self.maxDepth(root.right)\n",
    "\n",
    "        # 整棵树的最大深度等于左右子树的最大深度取最大值，\n",
    "        # 然后再加上根节点自己\n",
    "        self.res = max(leftMax, rightMax) + 1\n",
    "        return self.res"
   ]
  },
  {
   "cell_type": "markdown",
   "metadata": {},
   "source": [
    "## 改进\n",
    "- - O(N)"
   ]
  },
  {
   "cell_type": "code",
   "execution_count": null,
   "metadata": {},
   "outputs": [],
   "source": [
    "class Solution:\n",
    "    def __init__(self):\n",
    "        self.res = 0\n",
    "        self.myDiameter = 0\n",
    "        self.maxDiameter = 0\n",
    "\n",
    "    # 解法是正确的，但是运行时间很长，原因也很明显，diameterOfBinaryTree 遍历每个节点的时候还会\n",
    "    # 调用递归函数 maxDepth，而 maxDepth 是要遍历子树的所有节点的，所以最坏时间复杂度是 O(N^2)。\n",
    "    def diameterOfBinaryTree(self, root: TreeNode) -> int:    \n",
    "        # 遍历所有节点\n",
    "        # self.maxDiameter = self.maxDepth(root)\n",
    "        self.maxDepth(root)\n",
    "        return self.maxDiameter\n",
    "\n",
    "    def maxDepth(self, root) -> int:\n",
    "        if root == None:\n",
    "            return 0\n",
    "        \n",
    "        # 利用**定义**，计算左右子树的最大深度\n",
    "        leftMax = self.maxDepth(root.left)\n",
    "        rightMax = self.maxDepth(root.right)\n",
    "\n",
    "        # 后序位置顺便计算最大直径\n",
    "        self.myDiameter = leftMax + rightMax\n",
    "        self.maxDiameter = max(self.maxDiameter, self.myDiameter)\n",
    "        self.res = max(leftMax, rightMax) + 1\n",
    "        return self.res"
   ]
  },
  {
   "cell_type": "code",
   "execution_count": null,
   "metadata": {},
   "outputs": [],
   "source": [
    "T = TreeNode(1)\n",
    "T.left = TreeNode(2)\n",
    "T.right = TreeNode(3)\n",
    "T.left.left = TreeNode(4)\n",
    "T.right.right  = TreeNode(5)\n",
    "# T.right.right  = TreeNode(5)"
   ]
  },
  {
   "cell_type": "code",
   "execution_count": null,
   "metadata": {},
   "outputs": [],
   "source": [
    "s = Solution()\n",
    "s.maxDepth(T)"
   ]
  },
  {
   "cell_type": "markdown",
   "metadata": {},
   "source": [
    "# 总结\n",
    "- 遇到子树问题，首先想到的是给函数设置返回值，然后在**后序位置**做文章。\n",
    "\n",
    "- 反过来，如果你写出了类似一开始的那种递归套递归的解法，大概率也需要反思是不是可以通过后序遍历优化了。"
   ]
  },
  {
   "cell_type": "markdown",
   "metadata": {},
   "source": [
    "# 二叉树层序遍历\n",
    "- 二叉树题型主要是用来培养递归思维的，而层序遍历属于迭代遍历"
   ]
  },
  {
   "cell_type": "code",
   "execution_count": null,
   "metadata": {},
   "outputs": [],
   "source": [
    "class Solution:\n",
    "    def __init__(self):\n",
    "        self.res = 0\n",
    "        self.myDiameter = 0\n",
    "        self.maxDiameter = 0\n",
    "\n",
    "    # 解法是正确的，但是运行时间很长，原因也很明显，diameterOfBinaryTree 遍历每个节点的时候还会\n",
    "    # 调用递归函数 maxDepth，而 maxDepth 是要遍历子树的所有节点的，所以最坏时间复杂度是 O(N^2)。\n",
    "    def levelTraverse(self, root: TreeNode) -> int:    \n",
    "        \n",
    "        pass\n"
   ]
  },
  {
   "cell_type": "code",
   "execution_count": null,
   "metadata": {},
   "outputs": [],
   "source": [
    "T = TreeNode(1)\n",
    "T.left = TreeNode(2)\n",
    "T.right = TreeNode(3)\n",
    "T.left.left = TreeNode(4)\n",
    "T.right.right  = TreeNode(5)\n",
    "# T.right.right  = TreeNode(5)"
   ]
  }
 ],
 "metadata": {
  "interpreter": {
   "hash": "9ecbc95d31df1b277e5ec566a835865c3a9a253da4266404bdbc6ee7e31406f4"
  },
  "kernelspec": {
   "display_name": "Python 3.8.6 ('tensorflow2')",
   "language": "python",
   "name": "python3"
  },
  "language_info": {
   "codemirror_mode": {
    "name": "ipython",
    "version": 3
   },
   "file_extension": ".py",
   "mimetype": "text/x-python",
   "name": "python",
   "nbconvert_exporter": "python",
   "pygments_lexer": "ipython3",
   "version": "3.8.6"
  },
  "orig_nbformat": 4
 },
 "nbformat": 4,
 "nbformat_minor": 2
}
