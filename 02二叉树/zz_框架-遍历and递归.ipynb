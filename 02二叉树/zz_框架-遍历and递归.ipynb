{
 "cells": [
  {
   "cell_type": "markdown",
   "metadata": {},
   "source": [
    "# 二叉树的递归框架\n",
    "```java\n",
    "void traverse(TreeNode root) {\n",
    "    if (root == null) return;\n",
    "    /* 前序遍历代码位置 */\n",
    "    traverse(root.left);\n",
    "    /* 中序遍历代码位置 */\n",
    "    traverse(root.right);\n",
    "    /* 后序遍历代码位置 */\n",
    "}\n",
    "```"
   ]
  },
  {
   "cell_type": "markdown",
   "metadata": {},
   "source": [
    "## 前中后序遍历位置就是几个特殊的时间点\n",
    "- 前序遍历位置的代码，会在刚遍历到当前节点 root，遍历 root 的左右子树之前执行；\n",
    "- 中序遍历位置的代码，会在在遍历完当前节点 root 的左子树，即将开始遍历 root 的右子树的时候执行；\n",
    "- 后序遍历位置的代码，会在遍历完以当前节点 root 为根的整棵子树之后执行。"
   ]
  },
  {
   "cell_type": "markdown",
   "metadata": {},
   "source": [
    "# 迭代框架\n",
    "- 如果我们想将递归算法改为迭代算法，就不能从框架上理解算法的逻辑，\n",
    "- 而要深入细节，思考计算机是如何进行递归的。\n",
    "```java\n",
    "void traverse(TreeNode root) {\n",
    "    while (...) {\n",
    "        if (...) {\n",
    "          /* 前序遍历代码位置 */\n",
    "        }\n",
    "        if (...) {\n",
    "          /* 中序遍历代码位置 */\n",
    "        }\n",
    "        if (...) {\n",
    "          /* 后序遍历代码位置 */\n",
    "        }\n",
    "    }\n",
    "}\n",
    "\n",
    "```"
   ]
  },
  {
   "cell_type": "markdown",
   "metadata": {},
   "source": [
    "## 计算机堆栈的调用：\n",
    "\n",
    "进栈\n",
    "- 假设计算机运行函数 A，就会把 A 放到调用栈里面，如果 A 又调用了函数 B，则把 B 压在 A 上面，如果 B 又调用了 C，那就再把 C 压到 B 上面……\n",
    "\n",
    "出栈\n",
    "- 当 C 执行结束后，C 出栈，返回值传给 B，B 执行完后出栈，返回值传给 A，最后等 A 执行完，返回结果并出栈，此时调用栈为空，整个函数调用链结束。"
   ]
  },
  {
   "cell_type": "code",
   "execution_count": 94,
   "metadata": {},
   "outputs": [],
   "source": [
    "# Definition for a binary tree node.\n",
    "class TreeNode:\n",
    "    def __init__(self, val=0, left=None, right=None):\n",
    "        self.val = val\n",
    "        self.left = left\n",
    "        self.right = right"
   ]
  },
  {
   "cell_type": "code",
   "execution_count": 95,
   "metadata": {},
   "outputs": [],
   "source": [
    "T = TreeNode(2)\n",
    "T.left = TreeNode(1)\n",
    "# T.left.left = TreeNode(0)\n",
    "# T.left.right = TreeNode(6)\n",
    "\n",
    "T.right = TreeNode(4)\n",
    "T.right.left = TreeNode(3)\n",
    "T.right.right = TreeNode(5)"
   ]
  },
  {
   "cell_type": "markdown",
   "metadata": {},
   "source": [
    "```\n",
    "        2\n",
    "    1       4\n",
    "#    #   3     5\n",
    "\n",
    "```"
   ]
  },
  {
   "cell_type": "markdown",
   "metadata": {},
   "source": [
    "## 模拟计算机调用栈\n",
    "1. 拿到一个节点，就一路向左遍历（因为 traverse(root.left) 排在前面），把路上的节点都压到栈里。\n",
    "2. 往左走到头之后就开始退栈，看看栈顶节点的右指针，非空的话就重复第 1 步。\n"
   ]
  },
  {
   "cell_type": "code",
   "execution_count": 96,
   "metadata": {},
   "outputs": [
    {
     "name": "stdout",
     "output_type": "stream",
     "text": [
      "input 2\n",
      "input 1\n",
      "output 1\n",
      "input 4\n",
      "input 3\n",
      "output 3\n",
      "input 5\n",
      "output 5\n",
      "output 4\n",
      "output 2\n"
     ]
    }
   ],
   "source": [
    "stack = []\n",
    "\n",
    "def traverse(root):\n",
    "    if root == None:\n",
    "        return\n",
    "    print(\"input\", root.val)\n",
    "    stack.append(root.val)\n",
    "    traverse(root.left)\n",
    "    traverse(root.right)\n",
    "    print(\"output\", stack.pop())\n",
    "\n",
    "    return stack\n",
    "stack = traverse(T)"
   ]
  },
  {
   "cell_type": "markdown",
   "metadata": {},
   "source": [
    "## 递归改成迭代的完整代码！\n",
    "- 当我从栈中拿出一个节点 p，我应该想办法搞清楚这个节点 p 左右子树的遍历情况。\n",
    "- 如果 p 的左右子树都没有被遍历，那么现在对 p 进行操作就属于前序遍历代码。\n",
    "- 如果 p 的左子树被遍历过了，而右子树没有被遍历过，那么现在对 p 进行操作就属于中序遍历代码。\n",
    "- 如果 p 的左右子树都被遍历过了，那么现在对 p 进行操作就属于后序遍历代码。\n",
    "\n",
    "```java\n",
    "// 模拟函数调用栈\n",
    "private Stack<TreeNode> stk = new Stack<>();\n",
    "// 左侧树枝一撸到底\n",
    "private void pushLeftBranch(TreeNode p) {\n",
    "    while (p != null) {\n",
    "        /*******************/\n",
    "        /** 前序遍历代码位置 **/\n",
    "        /*******************/\n",
    "        stk.push(p);\n",
    "        p = p.left;\n",
    "    }\n",
    "}\n",
    "\n",
    "public List<Integer> traverse(TreeNode root) {\n",
    "    // 指向上一次遍历完的子树根节点\n",
    "    TreeNode visited = new TreeNode(-1);\n",
    "    // 开始遍历整棵树\n",
    "    pushLeftBranch(root);\n",
    "\n",
    "    while (!stk.isEmpty()) {\n",
    "        // java 里 Stack 的 peek 方法是返回栈顶的元素但不移除它。\n",
    "        // 但 Stack 的 pop 方法是会移除的。\n",
    "        TreeNode p = stk.peek();\n",
    "        // p 的左子树被遍历完了，且右子树没有被遍历过\n",
    "        if ((p.left == null || p.left == visited) \n",
    "          && p.right != visited) {\n",
    "            /*******************/\n",
    "            /** 中序遍历代码位置 **/\n",
    "            /*******************/\n",
    "            // 去遍历 p 的右子树\n",
    "            pushLeftBranch(p.right);\n",
    "        }\n",
    "        // p 的右子树被遍历完了\n",
    "        if (p.right == null || p.right == visited) {\n",
    "            /*******************/\n",
    "            /** 后序遍历代码位置 **/\n",
    "            /*******************/\n",
    "            // 以 p 为根的子树被遍历完了，出栈\n",
    "            // visited 指针指向 p\n",
    "            visited = stk.pop();\n",
    "        }\n",
    "    }\n",
    "}\n",
    "```"
   ]
  },
  {
   "cell_type": "code",
   "execution_count": 115,
   "metadata": {},
   "outputs": [],
   "source": [
    "T = TreeNode(2)\n",
    "T.left = TreeNode(1)\n",
    "# T.left.left = TreeNode(0)\n",
    "# T.left.right = TreeNode(6)\n",
    "\n",
    "T.right = TreeNode(4)\n",
    "T.right.left = TreeNode(3)\n",
    "T.right.right = TreeNode(5)"
   ]
  },
  {
   "cell_type": "markdown",
   "metadata": {},
   "source": [
    "## 看懂了，但我怎么把他记住？？？\n",
    "- 多看几遍吧！"
   ]
  },
  {
   "cell_type": "code",
   "execution_count": 124,
   "metadata": {},
   "outputs": [],
   "source": [
    "# 后序遍历迭代代码\n",
    "# import copy\n",
    "stack = []\n",
    "\n",
    "# 左侧树枝一撸到底\n",
    "def pushLeftBranch(p):\n",
    "    while (p != None):\n",
    "        # 前序遍历代码位置\n",
    "        ################\n",
    "\n",
    "        ################\n",
    "        stack.append(p)\n",
    "        p = p.left\n",
    "\n",
    "\n",
    "def postOrderTraversal(root):\n",
    "    postorder = []\n",
    "\n",
    "    # 指向上一次遍历完的子树根节点\n",
    "    visited = TreeNode(-1)\n",
    "\n",
    "    # 开始遍历整棵树\n",
    "    pushLeftBranch(root)\n",
    "\n",
    "    while (len(stack) > 0):\n",
    "        print(stack[0].val)    # 2, 1\n",
    "\n",
    "        p = stack[-1]          # 1\n",
    "        # print(\"p\", p.val)\n",
    "        # p 的左子树被遍历完了，且右子树没有被遍历过\n",
    "        if (p.left == None or p.left == visited) and p.right != visited:\n",
    "            # 中序遍历代码位置\n",
    "            #############\n",
    "            # print(\"center\", p.right == None)\n",
    "            #############\n",
    "            pushLeftBranch(p.right)\n",
    "\n",
    "        # p 的左右子树被遍历完了\n",
    "        if p.right == None or p.right == visited:\n",
    "            # 后序遍历代码位置\n",
    "            ####################\n",
    "            postorder.append(p.val)\n",
    "            ####################\n",
    "            # stack 的最后一个值，也就是上面的 p 被弹出\n",
    "            # visited 一直等于最近被弹出的值\n",
    "            visited = stack.pop()\n",
    "\n",
    "    return postorder"
   ]
  },
  {
   "cell_type": "markdown",
   "metadata": {},
   "source": [
    "## 树的结构图\n",
    "```\n",
    "        2\n",
    "    1       4\n",
    "#     #   3    5\n",
    "```\n",
    "\n",
    "第一轮：\n",
    "- stack  2， 1\n",
    "- p      1\n",
    "- p.left == None\n",
    "- stack  2\n",
    "- p      2"
   ]
  },
  {
   "cell_type": "code",
   "execution_count": 125,
   "metadata": {},
   "outputs": [
    {
     "name": "stdout",
     "output_type": "stream",
     "text": [
      "2\n",
      "center True\n",
      "2\n",
      "center False\n",
      "2\n",
      "center True\n",
      "2\n",
      "center False\n",
      "2\n",
      "center True\n",
      "2\n",
      "2\n"
     ]
    },
    {
     "data": {
      "text/plain": [
       "[1, 3, 5, 4, 2]"
      ]
     },
     "execution_count": 125,
     "metadata": {},
     "output_type": "execute_result"
    }
   ],
   "source": [
    "order = postOrderTraversal(T)\n",
    "order"
   ]
  },
  {
   "cell_type": "code",
   "execution_count": null,
   "metadata": {},
   "outputs": [],
   "source": []
  },
  {
   "cell_type": "code",
   "execution_count": null,
   "metadata": {},
   "outputs": [],
   "source": []
  }
 ],
 "metadata": {
  "interpreter": {
   "hash": "9ecbc95d31df1b277e5ec566a835865c3a9a253da4266404bdbc6ee7e31406f4"
  },
  "kernelspec": {
   "display_name": "Python 3.8.6 ('tensorflow2')",
   "language": "python",
   "name": "python3"
  },
  "language_info": {
   "codemirror_mode": {
    "name": "ipython",
    "version": 3
   },
   "file_extension": ".py",
   "mimetype": "text/x-python",
   "name": "python",
   "nbconvert_exporter": "python",
   "pygments_lexer": "ipython3",
   "version": "3.8.6"
  },
  "orig_nbformat": 4
 },
 "nbformat": 4,
 "nbformat_minor": 2
}
