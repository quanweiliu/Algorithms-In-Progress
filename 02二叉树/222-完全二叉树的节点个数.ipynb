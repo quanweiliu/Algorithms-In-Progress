{
 "cells": [
  {
   "cell_type": "markdown",
   "metadata": {},
   "source": [
    "https://labuladong.gitee.io/algo/2/19/33/"
   ]
  },
  {
   "cell_type": "code",
   "execution_count": 1,
   "metadata": {},
   "outputs": [],
   "source": [
    "# Definition for a binary tree node.\n",
    "class TreeNode:\n",
    "    def __init__(self, val=0, left=None, right=None):\n",
    "        self.val = val\n",
    "        self.left = left\n",
    "        self.right = right"
   ]
  },
  {
   "cell_type": "code",
   "execution_count": 2,
   "metadata": {},
   "outputs": [],
   "source": [
    "T = TreeNode(2)\n",
    "T.left = TreeNode(1)\n",
    "# T.left.left = TreeNode(0)\n",
    "# T.left.right = TreeNode(6)\n",
    "\n",
    "T.right = TreeNode(4)\n",
    "T.right.left = TreeNode(3)\n",
    "T.right.right = TreeNode(5)"
   ]
  },
  {
   "cell_type": "markdown",
   "metadata": {},
   "source": [
    "```\n",
    "        2\n",
    "    1       4\n",
    "0    6   3     5\n",
    "\n",
    "```"
   ]
  },
  {
   "cell_type": "code",
   "execution_count": 10,
   "metadata": {},
   "outputs": [],
   "source": [
    "class Solution():\n",
    "    def countN(self, root):\n",
    "        l = root\n",
    "        r = root\n",
    "\n",
    "        # 记录左、右子树的高度\n",
    "        hl = 0\n",
    "        hr = 0\n",
    "\n",
    "        while (l!= None):\n",
    "            l = l.left\n",
    "            hl += 1\n",
    "        \n",
    "        while (r!= None):\n",
    "            r = r.right\n",
    "            hr += 1\n",
    "\n",
    "        # 如果左右子树的高度相同，则是一棵满二叉树\n",
    "        # print(hl, hr)\n",
    "        if hl == hr:\n",
    "            # print(2**hl - 1)\n",
    "            return 2**hl - 1\n",
    "\n",
    "        \n",
    "        # 如果左右高度不同，则按照普通二叉树的逻辑计算\n",
    "        # 前序遍历位置会返回数值,每个分支的节点总数\n",
    "        # numsL = self.countN(root.left)      # 1\n",
    "        # numsR = self.countN(root.right)     # 3\n",
    "        nums =  1 + self.countN(root.left) + self.countN(root.right)\n",
    "        # return nums, numsL, numsR/\n",
    "        return nums"
   ]
  },
  {
   "cell_type": "code",
   "execution_count": 11,
   "metadata": {},
   "outputs": [
    {
     "data": {
      "text/plain": [
       "5"
      ]
     },
     "execution_count": 11,
     "metadata": {},
     "output_type": "execute_result"
    }
   ],
   "source": [
    "s = Solution()\n",
    "s.countN(T)"
   ]
  },
  {
   "cell_type": "code",
   "execution_count": null,
   "metadata": {},
   "outputs": [],
   "source": []
  },
  {
   "cell_type": "code",
   "execution_count": null,
   "metadata": {},
   "outputs": [],
   "source": []
  }
 ],
 "metadata": {
  "interpreter": {
   "hash": "9ecbc95d31df1b277e5ec566a835865c3a9a253da4266404bdbc6ee7e31406f4"
  },
  "kernelspec": {
   "display_name": "Python 3.8.6 ('tensorflow2')",
   "language": "python",
   "name": "python3"
  },
  "language_info": {
   "codemirror_mode": {
    "name": "ipython",
    "version": 3
   },
   "file_extension": ".py",
   "mimetype": "text/x-python",
   "name": "python",
   "nbconvert_exporter": "python",
   "pygments_lexer": "ipython3",
   "version": "3.8.6"
  },
  "orig_nbformat": 4
 },
 "nbformat": 4,
 "nbformat_minor": 2
}
