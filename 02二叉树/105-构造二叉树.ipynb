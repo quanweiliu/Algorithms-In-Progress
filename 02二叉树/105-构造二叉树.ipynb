{
 "cells": [
  {
   "cell_type": "markdown",
   "metadata": {},
   "source": [
    "# 力扣 105\n",
    "- 通过前序和中序遍历结果构造二叉树"
   ]
  },
  {
   "cell_type": "code",
   "execution_count": 6,
   "metadata": {},
   "outputs": [],
   "source": [
    "# Definition for a binary tree node.\n",
    "class TreeNode:\n",
    "    def __init__(self, val=0, left=None, right=None):\n",
    "        self.val = val\n",
    "        self.left = left\n",
    "        self.right = right"
   ]
  },
  {
   "cell_type": "markdown",
   "metadata": {},
   "source": [
    "### 首先思考\n",
    "- 根节点应该做什么。\n",
    "- 我们肯定要想办法确定根节点的值，把根节点做出来，然后递归构造左右子树即可。\n",
    "- 如何找到左右子树的具体位置?\n",
    "#### 画图!!"
   ]
  },
  {
   "cell_type": "code",
   "execution_count": 30,
   "metadata": {},
   "outputs": [],
   "source": [
    "'''\n",
    "   若前序遍历数组为 preorder[preStart..preEnd]，\n",
    "   中序遍历数组为 inorder[inStart..inEnd]，\n",
    "   构造二叉树，返回该二叉树的根节点 \n",
    "'''\n",
    "class Solution:\n",
    "    def __init__(self):\n",
    "        self.count = 0\n",
    "\n",
    "    def buildTree(self, preorder, inorder):\n",
    "        return self.build(preorder, 0, len(preorder) - 1, inorder, 0, len(inorder) - 1)\n",
    "\n",
    "    def build(self, preorder, preStart, preEnd, inorder, inStart, inEnd):\n",
    "        if preStart > preEnd:\n",
    "            return None\n",
    "        \n",
    "        # 用前序遍历的值找到中序遍历根节点的索引\n",
    "        # root 节点对应的值就是前序遍历数组的第一个元素\n",
    "        \n",
    "        rootVal = preorder[preStart]\n",
    "        # rootVal 在中序遍历数组中的索引\n",
    "        index = 0\n",
    "\n",
    "        # 这里 +1 必须有,没有就会报错\n",
    "        for i in range(inStart, inEnd+1):\n",
    "            if inorder[i] == rootVal:\n",
    "                index = i\n",
    "                break\n",
    "        \n",
    "        ## *****************************\n",
    "        leftSize = index - inStart\n",
    "        root = TreeNode(rootVal)\n",
    "        # 递归构造左右子树\n",
    "        root.left = self.build(preorder, preStart + 1, preStart + leftSize,\n",
    "                                 inorder, inStart, index - 1)\n",
    "        root.right = self.build(preorder, preStart + leftSize + 1, preEnd,\n",
    "                                inorder, index + 1, inEnd)\n",
    "        ## *****************************\n",
    "\n",
    "        ## 学习用\n",
    "        self.count += 1\n",
    "        print(\"'\", self.count, \"'\", end=\"\")\n",
    "        traversal(root)\n",
    "\n",
    "        \n",
    "        return root"
   ]
  },
  {
   "cell_type": "code",
   "execution_count": 31,
   "metadata": {},
   "outputs": [
    {
     "name": "stdout",
     "output_type": "stream",
     "text": [
      "' 1 '9\n",
      "' 2 '15\n",
      "' 3 '7\n",
      "' 4 '20\n",
      "15\n",
      "7\n",
      "' 5 '3\n",
      "9\n",
      "20\n",
      "15\n",
      "7\n"
     ]
    }
   ],
   "source": [
    "preorder = [3,9,20,15,7]\n",
    "inorder = [9,3,15,20,7]\n",
    "s = Solution()\n",
    "constT = s.buildTree(preorder, inorder)"
   ]
  },
  {
   "cell_type": "code",
   "execution_count": 29,
   "metadata": {},
   "outputs": [
    {
     "name": "stdout",
     "output_type": "stream",
     "text": [
      "3\n",
      "9\n",
      "20\n",
      "15\n",
      "7\n"
     ]
    }
   ],
   "source": [
    "def traversal(root):\n",
    "    if root == None:\n",
    "        return\n",
    "    print(root.val)\n",
    "    traversal(root.left)\n",
    "    traversal(root.right)\n",
    "traversal(constT)"
   ]
  },
  {
   "cell_type": "markdown",
   "metadata": {},
   "source": [
    "## 思路\n",
    "-  我们的主函数只要调用 build 函数即可，你看着函数这么多参数，解法这么多代码，似乎比我们上面讲的那道题难很多，让人望而生畏，实际上呢，这些参数无非就是控制数组起止位置的，画个图就能解决了。\n",
    "- 画图"
   ]
  },
  {
   "cell_type": "code",
   "execution_count": null,
   "metadata": {},
   "outputs": [],
   "source": []
  },
  {
   "cell_type": "markdown",
   "metadata": {},
   "source": [
    "# 力扣889 \n",
    "- 通过后序和前序遍历结果构造二叉树\n",
    "- 本质的区别：\n",
    "\n",
    "    - 通过前序中序，或者后序中序遍历结果可以确定一棵原始二叉树，但是通过前序后序遍历结果无法确定原始二叉树。"
   ]
  },
  {
   "cell_type": "code",
   "execution_count": null,
   "metadata": {},
   "outputs": [],
   "source": []
  },
  {
   "cell_type": "code",
   "execution_count": null,
   "metadata": {},
   "outputs": [],
   "source": []
  },
  {
   "cell_type": "markdown",
   "metadata": {},
   "source": [
    "# 呼应下前文\n",
    "- 做二叉树的问题，关键是把题目的要求细化，搞清楚根节点应该做什么，然后剩下的事情抛给前/中/后序的遍历框架就行了。"
   ]
  },
  {
   "cell_type": "code",
   "execution_count": null,
   "metadata": {},
   "outputs": [],
   "source": []
  },
  {
   "cell_type": "code",
   "execution_count": null,
   "metadata": {},
   "outputs": [],
   "source": []
  }
 ],
 "metadata": {
  "kernelspec": {
   "display_name": "Python 3.8.6 ('tensorflow2')",
   "language": "python",
   "name": "python3"
  },
  "language_info": {
   "codemirror_mode": {
    "name": "ipython",
    "version": 3
   },
   "file_extension": ".py",
   "mimetype": "text/x-python",
   "name": "python",
   "nbconvert_exporter": "python",
   "pygments_lexer": "ipython3",
   "version": "3.8.6"
  },
  "orig_nbformat": 4,
  "vscode": {
   "interpreter": {
    "hash": "85c51a4259275393737ca8d3e0cd6fa489554cf4913552085d5553b62ac22de5"
   }
  }
 },
 "nbformat": 4,
 "nbformat_minor": 2
}
