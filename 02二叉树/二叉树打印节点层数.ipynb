{
 "cells": [
  {
   "cell_type": "code",
   "execution_count": 11,
   "metadata": {},
   "outputs": [],
   "source": [
    "# Definition for a binary tree node.\n",
    "class TreeNode:\n",
    "    def __init__(self, val=0, left=None, right=None):\n",
    "        self.val = val\n",
    "        self.left = left\n",
    "        self.right = right"
   ]
  },
  {
   "cell_type": "code",
   "execution_count": 12,
   "metadata": {},
   "outputs": [],
   "source": [
    "# #  Definition for singly-linked list.\n",
    "# class ListNode:\n",
    "#     def __init__(self, val=0, next=None):\n",
    "#         self.val = val\n",
    "#         self.next = next\n",
    "    \n",
    "#     def add(self, ListN, val):\n",
    "#         ListN.next = val\n",
    "#         ListN = ListN.next\n",
    "#         # return ls"
   ]
  },
  {
   "cell_type": "code",
   "execution_count": 13,
   "metadata": {},
   "outputs": [],
   "source": [
    "T = TreeNode(1)\n",
    "T.left = TreeNode(2)\n",
    "T.right = TreeNode(3)\n",
    "T.left.left = TreeNode(4)\n",
    "T.left.right  = TreeNode(5)\n",
    "# T.right.right  = TreeNode(5)"
   ]
  },
  {
   "cell_type": "markdown",
   "metadata": {},
   "source": [
    "- 二叉树结构\n",
    "```\n",
    "    1\n",
    "  2    3\n",
    "4   5\n",
    "\n",
    "```"
   ]
  },
  {
   "cell_type": "markdown",
   "metadata": {},
   "source": [
    "# 打印出每一个节点所在的层数\n",
    "- 前序"
   ]
  },
  {
   "cell_type": "code",
   "execution_count": 14,
   "metadata": {},
   "outputs": [],
   "source": [
    "class Solution():\n",
    "    def traverse(self, root, level):\n",
    "        if root == None:\n",
    "            return\n",
    "\n",
    "        print(\"节点 {} 在 {} 层\".format(root.val, level))\n",
    "        self.traverse(root.left, level+1)\n",
    "        self.traverse(root.right, level+1)"
   ]
  },
  {
   "cell_type": "code",
   "execution_count": 15,
   "metadata": {},
   "outputs": [
    {
     "name": "stdout",
     "output_type": "stream",
     "text": [
      "节点 1 在 0 层\n",
      "节点 2 在 1 层\n",
      "节点 4 在 2 层\n",
      "节点 5 在 2 层\n",
      "节点 3 在 1 层\n"
     ]
    }
   ],
   "source": [
    "s = Solution()\n",
    "s.traverse(T, level=0)"
   ]
  },
  {
   "cell_type": "markdown",
   "metadata": {},
   "source": [
    "# 如何打印出每个节点的左右子树各有多少节点？\n",
    "- 后序遍历位置才能通过返回值获取子树的信息。\n",
    "- 换句话说，一旦你发现题目和子树有关，那大概率要给函数设置合理的定义和返回值，在后序位置写代码了。"
   ]
  },
  {
   "cell_type": "code",
   "execution_count": 16,
   "metadata": {},
   "outputs": [],
   "source": [
    "class Solution():\n",
    "    def __init__(self):\n",
    "        self.leftCount = 0\n",
    "        self.rightCount = 0\n",
    "\n",
    "    def traverse(self, root):\n",
    "        if root == None:\n",
    "            return\n",
    "        \n",
    "        if self.traverse(root.left):\n",
    "            self.leftCount += 1\n",
    "        \n",
    "        if self.traverse(root.right):\n",
    "            self.rightCount += 1        \n",
    "             \n",
    "        print(\"节点 {} 左{} 右{}\".format(root.val, self.leftCount, self.rightCount))\n",
    "        \n",
    "        return self.leftCount + self.rightCount + 1;"
   ]
  },
  {
   "cell_type": "code",
   "execution_count": 21,
   "metadata": {},
   "outputs": [],
   "source": [
    "T = TreeNode(1)\n",
    "T.left = TreeNode(2)\n",
    "T.right = TreeNode(3)\n",
    "T.left.left = TreeNode(4)\n",
    "T.left.right  = TreeNode(5)\n",
    "# T.right.right  = TreeNode(5)"
   ]
  },
  {
   "cell_type": "code",
   "execution_count": 22,
   "metadata": {},
   "outputs": [
    {
     "name": "stdout",
     "output_type": "stream",
     "text": [
      "节点 4 左0 右0\n",
      "节点 5 左1 右0\n",
      "节点 2 左1 右1\n",
      "节点 3 左2 右1\n",
      "节点 1 左2 右2\n",
      "总的节点个数 5\n"
     ]
    }
   ],
   "source": [
    "s = Solution()\n",
    "total = s.traverse(T)\n",
    "print(\"总的节点个数\", total)"
   ]
  },
  {
   "cell_type": "code",
   "execution_count": 23,
   "metadata": {},
   "outputs": [
    {
     "data": {
      "text/plain": [
       "5"
      ]
     },
     "execution_count": 23,
     "metadata": {},
     "output_type": "execute_result"
    }
   ],
   "source": [
    "total"
   ]
  },
  {
   "cell_type": "markdown",
   "metadata": {},
   "source": [
    "# 总结\n",
    "- 遇到子树问题，首先想到的是给函数设置返回值，然后在**后序位置**做文章。\n",
    "\n",
    "- 反过来，如果你写出了类似一开始的那种递归套递归的解法，大概率也需要反思是不是可以通过后序遍历优化了。"
   ]
  }
 ],
 "metadata": {
  "kernelspec": {
   "display_name": "Python 3.8.6 ('tensorflow2')",
   "language": "python",
   "name": "python3"
  },
  "language_info": {
   "codemirror_mode": {
    "name": "ipython",
    "version": 3
   },
   "file_extension": ".py",
   "mimetype": "text/x-python",
   "name": "python",
   "nbconvert_exporter": "python",
   "pygments_lexer": "ipython3",
   "version": "3.8.6"
  },
  "orig_nbformat": 4,
  "vscode": {
   "interpreter": {
    "hash": "85c51a4259275393737ca8d3e0cd6fa489554cf4913552085d5553b62ac22de5"
   }
  }
 },
 "nbformat": 4,
 "nbformat_minor": 2
}
