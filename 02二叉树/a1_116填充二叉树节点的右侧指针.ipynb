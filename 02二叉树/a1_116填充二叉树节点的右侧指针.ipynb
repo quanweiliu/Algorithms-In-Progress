{
 "cells": [
  {
   "cell_type": "markdown",
   "metadata": {},
   "source": [
    "# 递归算法的秘诀\n",
    "- https://labuladong.gitee.io/algo/2/19/23/\n",
    "\n",
    "- 写树相关的算法，简单说就是，\n",
    "    - 先搞清楚当前 **root 节点**「该做什么」以及「什么时候做」，\n",
    "    - 然后根据函数定义递归调用子节点，递归调用会让孩子节点做相同的事情。\n",
    "\n",
    "    - 所谓「该做什么」就是让你想清楚写什么代码能够实现题目想要的效果，\n",
    "    - 所谓「什么时候做」，就是让你思考这段代码到底应该写在前序、中序还是后序遍历的代码位置上。"
   ]
  },
  {
   "cell_type": "code",
   "execution_count": 9,
   "metadata": {},
   "outputs": [],
   "source": [
    "class TreeNode:\n",
    "    def __init__(self, val=None, left=None, right=None, next=None):\n",
    "        self.val = val\n",
    "        self.left = left\n",
    "        self.right = right\n",
    "        self.next = next"
   ]
  },
  {
   "cell_type": "code",
   "execution_count": 10,
   "metadata": {},
   "outputs": [],
   "source": [
    "T = TreeNode(1)\n",
    "T.left = TreeNode(2)\n",
    "T.right = TreeNode(3)\n",
    "T.left.left = TreeNode(4)\n",
    "T.left.right  = TreeNode(5)\n",
    "T.right.left  = TreeNode(6)\n",
    "T.right.right  = TreeNode(7)"
   ]
  },
  {
   "cell_type": "code",
   "execution_count": 11,
   "metadata": {},
   "outputs": [],
   "source": [
    "class Solution:\n",
    "    def connect(self, root):\n",
    "        # 二叉树的问题难点在于，如何把题目的要求细化成每个节点需要做的事情\n",
    "        # 如果只依赖一个节点的话，肯定是没办法连接「跨父节点」的两个相邻节点的。\n",
    "\n",
    "        # 一个个节点做不到，我们就给他安排两个节点\n",
    "        # 「将每一层二叉树节点连接起来」可以细化成「将每两个相邻节点都连接起来」\n",
    "        if root == None :\n",
    "            return \n",
    "\n",
    "        self.connectTwoNode(root.left, root.right)\n",
    "        return root\n",
    "\n",
    "    def connectTwoNode(self, node1, node2):\n",
    "        if node1 == None or node2 == None:\n",
    "            return\n",
    "\n",
    "        # /**** 前序遍历位置 ****/\n",
    "        # 将传入的两个节点连接\n",
    "        node1.next = node2\n",
    "\n",
    "        # 连接相同父节点的两个子节点\n",
    "        self.connectTwoNode(node1.left, node1.right)\n",
    "        self.connectTwoNode(node2.left, node2.right)\n",
    "        # 连接跨越父节点的两个子节点\n",
    "        self.connectTwoNode(node1.right, node2.left)"
   ]
  },
  {
   "cell_type": "code",
   "execution_count": 12,
   "metadata": {},
   "outputs": [
    {
     "data": {
      "text/plain": [
       "<__main__.TreeNode at 0x25ef1692040>"
      ]
     },
     "execution_count": 12,
     "metadata": {},
     "output_type": "execute_result"
    }
   ],
   "source": [
    "s = Solution()\n",
    "s.connect(T)"
   ]
  },
  {
   "cell_type": "code",
   "execution_count": null,
   "metadata": {},
   "outputs": [],
   "source": []
  },
  {
   "cell_type": "code",
   "execution_count": null,
   "metadata": {},
   "outputs": [],
   "source": []
  },
  {
   "cell_type": "code",
   "execution_count": null,
   "metadata": {},
   "outputs": [],
   "source": []
  }
 ],
 "metadata": {
  "interpreter": {
   "hash": "9ecbc95d31df1b277e5ec566a835865c3a9a253da4266404bdbc6ee7e31406f4"
  },
  "kernelspec": {
   "display_name": "Python 3.8.6 ('tensorflow2')",
   "language": "python",
   "name": "python3"
  },
  "language_info": {
   "codemirror_mode": {
    "name": "ipython",
    "version": 3
   },
   "file_extension": ".py",
   "mimetype": "text/x-python",
   "name": "python",
   "nbconvert_exporter": "python",
   "pygments_lexer": "ipython3",
   "version": "3.8.6"
  },
  "orig_nbformat": 4
 },
 "nbformat": 4,
 "nbformat_minor": 2
}
