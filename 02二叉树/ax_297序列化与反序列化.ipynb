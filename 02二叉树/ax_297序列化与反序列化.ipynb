{
 "cells": [
  {
   "cell_type": "markdown",
   "metadata": {},
   "source": [
    "## 序列化与反序列化\n",
    "- 二叉树 -> 字符串\n",
    "- 字符串 -> 二叉树\n",
    "- https://mp.weixin.qq.com/s/DVX2A1ha4xSecEXLxW_UsA\n",
    "- https://leetcode-cn.com/problems/serialize-and-deserialize-binary-tree/solution/shou-hui-tu-jie-gei-chu-dfshe-bfsliang-chong-jie-f/"
   ]
  },
  {
   "cell_type": "code",
   "execution_count": 1,
   "metadata": {},
   "outputs": [],
   "source": [
    "# Definition for a binary tree node.\n",
    "class TreeNode:\n",
    "    def __init__(self, val=0, left=None, right=None):\n",
    "        self.val = val\n",
    "        self.left = left\n",
    "        self.right = right"
   ]
  },
  {
   "cell_type": "code",
   "execution_count": 2,
   "metadata": {},
   "outputs": [],
   "source": [
    "T = TreeNode(1)\n",
    "T.left = TreeNode(2)\n",
    "T.right = TreeNode(3)\n",
    "T.right.left = TreeNode(4)\n",
    "T.right.right = TreeNode(5)\n",
    "T.left.left = None\n",
    "T.left.right  = None\n",
    "# T.left.right.left  = TreeNode(-1)\n",
    "# T.left.right.right  = TreeNode(-1)"
   ]
  },
  {
   "cell_type": "markdown",
   "metadata": {},
   "source": [
    "```\n",
    "        1\n",
    "    2       3\n",
    "Na   Na   4   5\n",
    "        Na Na Na Na \n",
    "\n",
    "```\n",
    "- 特点：完美二叉树，每个有数的后面，都有节点接收"
   ]
  },
  {
   "cell_type": "markdown",
   "metadata": {},
   "source": [
    "### 递归-序列化\n",
    "- DFS（递归）\n",
    "    - 前序遍历位置\n",
    "    - 将二叉树构建成字符串"
   ]
  },
  {
   "cell_type": "code",
   "execution_count": 3,
   "metadata": {},
   "outputs": [],
   "source": [
    "class Solution():\n",
    "    # def __init__(self):\n",
    "    #     # self.ls = []\n",
    "    #     self.s = \"\"\n",
    "\n",
    "    def serialize(self, root):\n",
    "        \"\"\"Encodes a tree to a single string.\n",
    "        \n",
    "        :type root: TreeNode\n",
    "        :rtype: str\n",
    "        \"\"\"\n",
    "        if root == None: \n",
    "            return 'X,'\n",
    "        leftserilized = self.serialize(root.left)\n",
    "        rightserilized = self.serialize(root.right)\n",
    "\n",
    "        # '1,2,X,X,3,4,X,X,5,X,X,'\n",
    "        subTree = str(root.val) + ',' + leftserilized + rightserilized\n",
    "        return subTree\n",
    "\n",
    "        # 这样写相当于前序遍历\n",
    "        # '1,2,X,X,3,4,X,X,5,X,X,'\n",
    "        return str(root.val) + ',' + leftserilized + rightserilized"
   ]
  },
  {
   "cell_type": "code",
   "execution_count": 4,
   "metadata": {},
   "outputs": [
    {
     "data": {
      "text/plain": [
       "'1,2,X,X,3,4,X,X,5,X,X,'"
      ]
     },
     "execution_count": 4,
     "metadata": {},
     "output_type": "execute_result"
    }
   ],
   "source": [
    "s = Solution()\n",
    "ls = s.serialize(T)\n",
    "ls"
   ]
  },
  {
   "cell_type": "markdown",
   "metadata": {},
   "source": [
    "### 递归-反序列化\n",
    "- DFS（递归）\n",
    "    - 如果弹出的字符为 \"X\"，则返回 null 节点。\n",
    "    - 如果弹出的字符是数值，则创建root节点，并递归构建root的左右子树，\n",
    "    - 最后返回root。"
   ]
  },
  {
   "cell_type": "code",
   "execution_count": 16,
   "metadata": {},
   "outputs": [],
   "source": [
    "s = '1,2,X,X,3,4,X,X,5,X,X,'\n",
    "nodes = s.split(\",\")"
   ]
  },
  {
   "cell_type": "markdown",
   "metadata": {},
   "source": [
    "```\n",
    "        1\n",
    "    2       3\n",
    "Na   Na   4   5\n",
    "        Na Na Na Na \n",
    "\n",
    "```"
   ]
  },
  {
   "cell_type": "code",
   "execution_count": 17,
   "metadata": {},
   "outputs": [],
   "source": [
    "class Solution():\n",
    "    def deserialize(self, data):\n",
    "        \"\"\"Decodes your encoded data to tree.\n",
    "        \n",
    "        :type data: str\n",
    "        :rtype: TreeNode\n",
    "        \"\"\"\n",
    "        # data = data.split(',')\n",
    "        root = self.buildTree(data)\n",
    "        return root \n",
    "    \n",
    "    def buildTree(self, data):\n",
    "        # 第一个元素是跟节点\n",
    "        val = data.pop(0)\n",
    "        if val == 'X': \n",
    "            return None\n",
    "        node = TreeNode(val)\n",
    "\n",
    "        # 为什么这里传入的是整个剩余的 字符串？？\n",
    "        # 大局观，只要上面确定好根节点再做什么\n",
    "        # 下面递归调用，就是对子树的重复构建\n",
    "        node.left = self.buildTree(data)\n",
    "        node.right = self.buildTree(data)\n",
    "        return node"
   ]
  },
  {
   "cell_type": "code",
   "execution_count": 18,
   "metadata": {},
   "outputs": [],
   "source": [
    "s = Solution()\n",
    "ls = s.deserialize(nodes)\n",
    "# ['1', '2', '4', '3']"
   ]
  },
  {
   "cell_type": "markdown",
   "metadata": {},
   "source": [
    "### 如何使用递归的后序遍历方法序列化和反序列化二叉树"
   ]
  },
  {
   "cell_type": "code",
   "execution_count": 40,
   "metadata": {},
   "outputs": [],
   "source": [
    "class Solution():\n",
    "    def __init__(self):\n",
    "        # self.ls = []\n",
    "        self.s = \"\"\n",
    "\n",
    "    def serialize(self, root):\n",
    "        \"\"\"Encodes a tree to a single string.\n",
    "        \n",
    "        :type root: TreeNode\n",
    "        :rtype: str\n",
    "        \"\"\"\n",
    "        if root == None: \n",
    "            self.s += 'X,'\n",
    "            return \n",
    "\n",
    "        leftserilized = self.serialize(root.left)\n",
    "        rightserilized = self.serialize(root.right)\n",
    "        self.s += str(root.val)+\",\"\n",
    "\n",
    "        # 这样写相当于前序遍历\n",
    "        return self.s\n",
    "    \n",
    "    def deserialize(self, data):\n",
    "        \"\"\"Decodes your encoded data to tree.\n",
    "        \n",
    "        :type data: str\n",
    "        :rtype: TreeNode\n",
    "        \"\"\"\n",
    "        data = data.split(',')\n",
    "        data.pop()\n",
    "        root = self.buildTree(data)\n",
    "        return root \n",
    "    \n",
    "    def buildTree(self, data):\n",
    "        if len(data) == 0:\n",
    "            return None\n",
    "\n",
    "        # 第一个元素是根节点\n",
    "        val = data.pop()\n",
    "        if val == 'X': \n",
    "            return None\n",
    "        node = TreeNode(val)\n",
    "\n",
    "        #  为什么这里传入的是整个剩余的 字符串？？\n",
    "        # 大局观，只要上面确定好根节点再做什么\n",
    "        # 下面递归调用，就是对子树的重复构建\n",
    "        node.right = self.buildTree(data)\n",
    "        node.left = self.buildTree(data)\n",
    "        \n",
    "        return node"
   ]
  },
  {
   "cell_type": "code",
   "execution_count": 41,
   "metadata": {},
   "outputs": [],
   "source": [
    "# s = Solution()\n",
    "# s.serialize(T)"
   ]
  },
  {
   "cell_type": "code",
   "execution_count": 42,
   "metadata": {},
   "outputs": [],
   "source": [
    "s = Solution()\n",
    "ls = s.deserialize(s.serialize(T))"
   ]
  },
  {
   "cell_type": "code",
   "execution_count": null,
   "metadata": {},
   "outputs": [],
   "source": []
  },
  {
   "cell_type": "markdown",
   "metadata": {},
   "source": [
    "### 遍历-序列化\n",
    "- BFS\n",
    "\n",
    "- 维护一个队列，初始让根节点入列，考察出列节点：\n",
    "    - 如果出列的节点是 null，将符号 'X' 推入 res 数组。\n",
    "    - 如果出列的节点是数值，将节点值推入数组 res，并将它的左右子节点入列。\n",
    "- 入列、出列…直到队列为空，就遍历完所有节点，res构建完毕，转成字符串就好。\n"
   ]
  },
  {
   "cell_type": "code",
   "execution_count": 26,
   "metadata": {},
   "outputs": [],
   "source": [
    "class Solution():\n",
    "    def __init__(self):\n",
    "        self.ls = []\n",
    "        self.q = []\n",
    "\n",
    "    def serialize(self, root):\n",
    "        if not root:\n",
    "            # print(self.ls)\n",
    "            return []\n",
    "\n",
    "        self.q.append(root)\n",
    "        res = ''\n",
    "        while self.q:\n",
    "            node = self.q.pop(0)\n",
    "            if node != None:\n",
    "                res += str(node.val) + \",\"\n",
    "                self.q.append(node.left)\n",
    "                self.q.append(node.right)\n",
    "            else:\n",
    "                res += \"X,\"\n",
    "        return res\n"
   ]
  },
  {
   "cell_type": "code",
   "execution_count": 27,
   "metadata": {},
   "outputs": [
    {
     "data": {
      "text/plain": [
       "'1,2,3,X,X,4,5,X,X,X,X,'"
      ]
     },
     "execution_count": 27,
     "metadata": {},
     "output_type": "execute_result"
    }
   ],
   "source": [
    "s = Solution()\n",
    "s.serialize(T)"
   ]
  },
  {
   "cell_type": "code",
   "execution_count": 28,
   "metadata": {},
   "outputs": [],
   "source": [
    "nodes = '1,2,3,X,X,4,5,X,X,X,X,'"
   ]
  },
  {
   "cell_type": "markdown",
   "metadata": {},
   "source": [
    "### 遍历-反序列化\n",
    "- 依然先转成list数组，用一个指针 cursor 从第二项开始扫描。\n",
    "- 起初，用list[0]构建根节点，并让根节点入列。\n",
    "- 节点出列，此时 cursor 指向它的左子节点值，cursor+1 指向它的右子节点值。\n",
    "    - 如果子节点值是数值，则创建节点，并认出列的父亲，同时自己也是父亲，入列。\n",
    "    - 如果子节点值为 'X'，什么都不用做，因为出列的父亲的 left 和 right 本来就是 null\n",
    "- 可见，所有的真实节点都会在队列里走一遍，出列就带出儿子入列\n"
   ]
  },
  {
   "cell_type": "code",
   "execution_count": 30,
   "metadata": {},
   "outputs": [],
   "source": [
    "class Solution:\n",
    "    def deserialize(self, data):\n",
    "        \"\"\"Decodes your encoded data to tree.\n",
    "        \n",
    "        :type data: str\n",
    "        :rtype: TreeNode\n",
    "        \"\"\"\n",
    "        if not data: \n",
    "            return None\n",
    "        \n",
    "        # 初始化队列，将 root 加入队列\n",
    "        data = data.split(',')\n",
    "        root = TreeNode(data.pop(0))\n",
    "        q = [root]\n",
    "\n",
    "        \n",
    "        while q:\n",
    "            node = q.pop(0)\n",
    "            if data:\n",
    "                val = data.pop(0)\n",
    "                if val != 'X':\n",
    "                    node.left = TreeNode(val)\n",
    "                    q.append(node.left)\n",
    "            if data:\n",
    "                val = data.pop(0)\n",
    "                if val != 'X':\n",
    "                    node.right = TreeNode(val)\n",
    "                    q.append(node.right)\n",
    "        return root"
   ]
  },
  {
   "cell_type": "code",
   "execution_count": 32,
   "metadata": {},
   "outputs": [],
   "source": [
    "s = Solution()\n",
    "ls = s.deserialize(nodes)"
   ]
  },
  {
   "cell_type": "code",
   "execution_count": null,
   "metadata": {},
   "outputs": [],
   "source": []
  },
  {
   "cell_type": "code",
   "execution_count": null,
   "metadata": {},
   "outputs": [],
   "source": []
  },
  {
   "cell_type": "code",
   "execution_count": null,
   "metadata": {},
   "outputs": [],
   "source": []
  }
 ],
 "metadata": {
  "interpreter": {
   "hash": "9ecbc95d31df1b277e5ec566a835865c3a9a253da4266404bdbc6ee7e31406f4"
  },
  "kernelspec": {
   "display_name": "Python 3.8.6 ('tensorflow2')",
   "language": "python",
   "name": "python3"
  },
  "language_info": {
   "codemirror_mode": {
    "name": "ipython",
    "version": 3
   },
   "file_extension": ".py",
   "mimetype": "text/x-python",
   "name": "python",
   "nbconvert_exporter": "python",
   "pygments_lexer": "ipython3",
   "version": "3.8.6"
  },
  "orig_nbformat": 4
 },
 "nbformat": 4,
 "nbformat_minor": 2
}
