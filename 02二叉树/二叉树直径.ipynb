{
 "cells": [
  {
   "cell_type": "code",
   "execution_count": null,
   "metadata": {},
   "outputs": [],
   "source": [
    "# Definition for a binary tree node.\n",
    "class TreeNode:\n",
    "    def __init__(self, val=0, left=None, right=None):\n",
    "        self.val = val\n",
    "        self.left = left\n",
    "        self.right = right"
   ]
  },
  {
   "cell_type": "markdown",
   "metadata": {},
   "source": [
    "# 二叉树直径\n",
    "- 二叉树的「直径」长度，就是任意两个结点之间的路径长度。最长「直径」并不一定要穿过根结点\n",
    "- 每一条二叉树的「直径」长度，就是一个节点的左右子树的最大深度之和\n",
    "- O(N^2)"
   ]
  },
  {
   "cell_type": "code",
   "execution_count": null,
   "metadata": {},
   "outputs": [],
   "source": [
    "class Solution:\n",
    "\n",
    "    def __init__(self):\n",
    "        self.depth = 0\n",
    "        self.res = 0\n",
    "        self.myDiameter = 0\n",
    "        self.maxDiameter = 0\n",
    "\n",
    "    # 解法是正确的，但是运行时间很长，原因也很明显，diameterOfBinaryTree 遍历每个节点的时候还会\n",
    "    # 调用递归函数 maxDepth，而 maxDepth 是要遍历子树的所有节点的，所以最坏时间复杂度是 O(N^2)。\n",
    "    def diameterOfBinaryTree(self, root: TreeNode) -> int:\n",
    "        if root == None:\n",
    "            return\n",
    "\n",
    "        # 求最大深度\n",
    "        leftMax = self.maxDepth(root.left)\n",
    "        rightMax = self.maxDepth(root.right)\n",
    "        self.myDiameter = leftMax + rightMax\n",
    "\n",
    "        self.maxDiameter = max(self.maxDiameter, self.myDiameter)\n",
    "        \n",
    "        # 遍历所有节点\n",
    "        self.diameterOfBinaryTree(root.left)\n",
    "        self.diameterOfBinaryTree(root.right)\n",
    "        return self.maxDiameter\n",
    "\n",
    "    def maxDepth(self, root) -> int:\n",
    "        if root == None:\n",
    "            return 0\n",
    "        \n",
    "        # 利用**定义**，计算左右子树的最大深度\n",
    "        leftMax = self.maxDepth(root.left)\n",
    "        rightMax = self.maxDepth(root.right)\n",
    "\n",
    "        # 整棵树的最大深度等于左右子树的最大深度取最大值，\n",
    "        # 然后再加上根节点自己\n",
    "        self.res = max(leftMax, rightMax) + 1\n",
    "        return self.res"
   ]
  },
  {
   "cell_type": "markdown",
   "metadata": {},
   "source": [
    "## 改进\n",
    "- - O(N)"
   ]
  },
  {
   "cell_type": "code",
   "execution_count": null,
   "metadata": {},
   "outputs": [],
   "source": [
    "class Solution:\n",
    "    def __init__(self):\n",
    "        self.res = 0\n",
    "        self.myDiameter = 0\n",
    "        self.maxDiameter = 0\n",
    "\n",
    "    # 解法是正确的，但是运行时间很长，原因也很明显，diameterOfBinaryTree 遍历每个节点的时候还会\n",
    "    # 调用递归函数 maxDepth，而 maxDepth 是要遍历子树的所有节点的，所以最坏时间复杂度是 O(N^2)。\n",
    "    def diameterOfBinaryTree(self, root: TreeNode) -> int:    \n",
    "        # 遍历所有节点\n",
    "        # self.maxDiameter = self.maxDepth(root)\n",
    "        self.maxDepth(root)\n",
    "        return self.maxDiameter\n",
    "\n",
    "    def maxDepth(self, root) -> int:\n",
    "        if root == None:\n",
    "            return 0\n",
    "        \n",
    "        # 利用**定义**，计算左右子树的最大深度\n",
    "        leftMax = self.maxDepth(root.left)\n",
    "        rightMax = self.maxDepth(root.right)\n",
    "\n",
    "        # 后序位置顺便计算最大直径\n",
    "        self.myDiameter = leftMax + rightMax\n",
    "        self.maxDiameter = max(self.maxDiameter, self.myDiameter)\n",
    "        self.res = max(leftMax, rightMax) + 1\n",
    "        return self.res"
   ]
  },
  {
   "cell_type": "code",
   "execution_count": null,
   "metadata": {},
   "outputs": [],
   "source": [
    "T = TreeNode(1)\n",
    "T.left = TreeNode(2)\n",
    "T.right = TreeNode(3)\n",
    "T.left.left = TreeNode(4)\n",
    "T.right.right  = TreeNode(5)\n",
    "# T.right.right  = TreeNode(5)"
   ]
  },
  {
   "cell_type": "code",
   "execution_count": null,
   "metadata": {},
   "outputs": [],
   "source": [
    "s = Solution()\n",
    "s.maxDepth(T)"
   ]
  },
  {
   "cell_type": "markdown",
   "metadata": {},
   "source": [
    "# 总结\n",
    "- 遇到子树问题，首先想到的是给函数设置返回值，然后在**后序位置**做文章。\n",
    "\n",
    "- 反过来，如果你写出了类似一开始的那种递归套递归的解法，大概率也需要反思是不是可以通过后序遍历优化了。"
   ]
  }
 ],
 "metadata": {
  "kernelspec": {
   "display_name": "Python 3.8.6 ('tensorflow2')",
   "language": "python",
   "name": "python3"
  },
  "language_info": {
   "codemirror_mode": {
    "name": "ipython",
    "version": 3
   },
   "file_extension": ".py",
   "mimetype": "text/x-python",
   "name": "python",
   "nbconvert_exporter": "python",
   "pygments_lexer": "ipython3",
   "version": "3.8.6"
  },
  "orig_nbformat": 4,
  "vscode": {
   "interpreter": {
    "hash": "85c51a4259275393737ca8d3e0cd6fa489554cf4913552085d5553b62ac22de5"
   }
  }
 },
 "nbformat": 4,
 "nbformat_minor": 2
}
