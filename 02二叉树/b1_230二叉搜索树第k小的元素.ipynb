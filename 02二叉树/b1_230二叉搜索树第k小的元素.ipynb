{
 "cells": [
  {
   "cell_type": "markdown",
   "metadata": {},
   "source": [
    "# 二叉搜索树\n",
    "- BST 的特性大家应该都很熟悉了：\n",
    "\n",
    "1、对于 BST 的每一个节点 node，左子树节点的值都比 node 的值要小，右子树节点的值都比 node 的值大。\n",
    "\n",
    "2、对于 BST 的每一个节点 node，它的左侧子树和右侧子树都是 BST。\n",
    "\n",
    "- 作用上：半壁江山，直接基于 BST 的数据结构有 AVL 树，红黑树等等，拥有了自平衡性质，可以提供 logN 级别的增删查改效率；还有 B+ 树，线段树等结构都是基于 BST 的思想来设计的。\n",
    "- 从做算法题的角度来看 BST，除了它的定义，还有一个重要的性质：BST 的中序遍历结果是有序的（升序）。"
   ]
  },
  {
   "cell_type": "code",
   "execution_count": 1,
   "metadata": {},
   "outputs": [],
   "source": [
    "# Definition for a binary tree node.\n",
    "class TreeNode:\n",
    "    def __init__(self, val=0, left=None, right=None):\n",
    "        self.val = val\n",
    "        self.left = left\n",
    "        self.right = right"
   ]
  },
  {
   "cell_type": "code",
   "execution_count": 7,
   "metadata": {},
   "outputs": [],
   "source": [
    "T = TreeNode(2)\n",
    "T.left = TreeNode(1)\n",
    "T.right = TreeNode(4)\n",
    "T.right.left = TreeNode(3)\n",
    "T.right.right = TreeNode(5)\n",
    "T.left.left = None\n",
    "T.left.right  = None\n",
    "# T.left.right.left  = TreeNode(-1)\n",
    "# T.left.right.right  = TreeNode(-1)"
   ]
  },
  {
   "cell_type": "markdown",
   "metadata": {},
   "source": [
    "#### 二叉搜索树\n",
    "```\n",
    "        2\n",
    "    1       4\n",
    "Na   Na   3   5\n",
    "        Na Na Na Na \n",
    "\n",
    "```"
   ]
  },
  {
   "cell_type": "code",
   "execution_count": 8,
   "metadata": {},
   "outputs": [],
   "source": [
    "class Solution:\n",
    "    def preOrder(self, root):\n",
    "        if root == None:\n",
    "            return\n",
    "\n",
    "        self.preOrder(root.left)\n",
    "        print(root.val)\n",
    "        self.preOrder(root.right)"
   ]
  },
  {
   "cell_type": "code",
   "execution_count": 9,
   "metadata": {},
   "outputs": [],
   "source": [
    "# s = Solution()\n",
    "# s.preOrder(T)"
   ]
  },
  {
   "cell_type": "markdown",
   "metadata": {},
   "source": [
    "### 一个直接的思路\n",
    "- 升序排序，然后找第 k 个元素"
   ]
  },
  {
   "cell_type": "code",
   "execution_count": 10,
   "metadata": {},
   "outputs": [],
   "source": [
    "class Solution:\n",
    "    def __init__(self):\n",
    "        self.ls = []\n",
    "\n",
    "    def kthSmallest(self, root, k: int):\n",
    "        self.Traverse(root)\n",
    "        print(self.ls)\n",
    "        return self.ls[k-1]\n",
    "\n",
    "\n",
    "    def Traverse(self, root):\n",
    "        if root == None:\n",
    "            return\n",
    "        self.Traverse(root.left)\n",
    "        # if root.val != None:\n",
    "        self.ls.append(root.val)\n",
    "        self.Traverse(root.right)"
   ]
  },
  {
   "cell_type": "code",
   "execution_count": 11,
   "metadata": {},
   "outputs": [
    {
     "name": "stdout",
     "output_type": "stream",
     "text": [
      "[1, 2, 3, 4, 5]\n"
     ]
    },
    {
     "data": {
      "text/plain": [
       "2"
      ]
     },
     "execution_count": 11,
     "metadata": {},
     "output_type": "execute_result"
    }
   ],
   "source": [
    "s = Solution()\n",
    "index_val = s.kthSmallest(T, 2)\n",
    "index_val"
   ]
  },
  {
   "cell_type": "code",
   "execution_count": 13,
   "metadata": {},
   "outputs": [],
   "source": [
    "# 优化\n",
    "class Solution:\n",
    "    def __init__(self):\n",
    "        self.ls = []\n",
    "        self.count = 0\n",
    "\n",
    "    def kthSmallest(self, root, k: int):\n",
    "        if root == None:\n",
    "            return\n",
    "\n",
    "        self.kthSmallest(root.left, k)\n",
    "\n",
    "        self.count += 1\n",
    "        if self.count == k:\n",
    "            print(root.val)\n",
    "            return\n",
    "\n",
    "        self.kthSmallest(root.right, k)\n",
    "        "
   ]
  },
  {
   "cell_type": "code",
   "execution_count": 14,
   "metadata": {},
   "outputs": [
    {
     "name": "stdout",
     "output_type": "stream",
     "text": [
      "2\n"
     ]
    }
   ],
   "source": [
    "s = Solution()\n",
    "index_val = s.kthSmallest(T, 2)\n",
    "index_val"
   ]
  },
  {
   "cell_type": "markdown",
   "metadata": {},
   "source": [
    "### 二叉搜索树的特性\n",
    "- BST 性质是非常牛逼的，像红黑树这种改良的自平衡 BST，增删查改都是 O(logN) 的复杂度，\n",
    "- 让你算一个第 k 小元素，时间复杂度竟然要 O(N)，有点低效了。(对比产生美)\n",
    "- 实现对数级别的时效，需要在二叉树节点中维护额外信息。每个节点需要记录，以自己为根的这棵二叉树有多少个节点。"
   ]
  },
  {
   "cell_type": "code",
   "execution_count": null,
   "metadata": {},
   "outputs": [],
   "source": [
    "# Definition for a binary tree node.\n",
    "class TreeNode:\n",
    "    def __init__(self, val=0, size=0, left=None, right=None):\n",
    "        self.val = val\n",
    "\n",
    "        # size 字段需要在增删元素的时候需要被正确维护\n",
    "        self.size = size\n",
    "        self.left = left\n",
    "        self.right = right "
   ]
  },
  {
   "cell_type": "code",
   "execution_count": null,
   "metadata": {},
   "outputs": [],
   "source": []
  },
  {
   "cell_type": "markdown",
   "metadata": {},
   "source": [
    "### 总结\n",
    "- BST 相关的问题，要么利用 BST 左小右大的特性提升算法效率，\n",
    "- 要么利用中序遍历的特性满足题目的要求，也就这么些事儿吧。"
   ]
  }
 ],
 "metadata": {
  "interpreter": {
   "hash": "9ecbc95d31df1b277e5ec566a835865c3a9a253da4266404bdbc6ee7e31406f4"
  },
  "kernelspec": {
   "display_name": "Python 3.8.6 ('tensorflow2')",
   "language": "python",
   "name": "python3"
  },
  "language_info": {
   "codemirror_mode": {
    "name": "ipython",
    "version": 3
   },
   "file_extension": ".py",
   "mimetype": "text/x-python",
   "name": "python",
   "nbconvert_exporter": "python",
   "pygments_lexer": "ipython3",
   "version": "3.8.6"
  },
  "orig_nbformat": 4
 },
 "nbformat": 4,
 "nbformat_minor": 2
}
