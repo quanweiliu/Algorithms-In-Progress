{
 "cells": [
  {
   "cell_type": "code",
   "execution_count": 1,
   "metadata": {},
   "outputs": [],
   "source": [
    "# Definition for a binary tree node.\n",
    "class TreeNode:\n",
    "    def __init__(self, val=0, left=None, right=None):\n",
    "        self.val = val\n",
    "        self.left = left\n",
    "        self.right = right"
   ]
  },
  {
   "cell_type": "code",
   "execution_count": 2,
   "metadata": {},
   "outputs": [],
   "source": [
    "T = TreeNode(2)\n",
    "T.left = TreeNode(1)\n",
    "T.right = TreeNode(4)\n",
    "T.right.left = TreeNode(3)\n",
    "T.right.right = TreeNode(5)\n",
    "T.left.left = None\n",
    "T.left.right  = None\n",
    "# T.left.right.left  = TreeNode(-1)\n",
    "# T.left.right.right  = TreeNode(-1)"
   ]
  },
  {
   "cell_type": "markdown",
   "metadata": {},
   "source": [
    "#### 二叉搜索树\n",
    "```\n",
    "        2\n",
    "    1       4\n",
    "Na   Na   3   5\n",
    "        Na Na Na Na \n",
    "\n",
    "```"
   ]
  },
  {
   "cell_type": "markdown",
   "metadata": {},
   "source": [
    "# 判断二叉搜索树的合法性\n"
   ]
  },
  {
   "cell_type": "markdown",
   "metadata": {},
   "source": [
    "- 错误解法"
   ]
  },
  {
   "cell_type": "code",
   "execution_count": 3,
   "metadata": {},
   "outputs": [],
   "source": [
    "class Solution:\n",
    "    def isValidBST(self, root):\n",
    "        if root == None:\n",
    "            return True\n",
    "        \n",
    "        if root.left != None and root.left.val >= root.val:\n",
    "            return print(\"False\")\n",
    "\n",
    "        if root.right != None and root.right.val <= root.val:\n",
    "            return print(\"False\")\n",
    "\n",
    "        self.isValidBST(root.left)\n",
    "        self.isValidBST(root.right)\n",
    "\n",
    "        # 这个位置是前序还是后序遍历\n",
    "        # return self.isValidBST(root.left) and self.isValidBST(root.right)\n"
   ]
  },
  {
   "cell_type": "code",
   "execution_count": 4,
   "metadata": {},
   "outputs": [],
   "source": [
    "s = Solution()\n",
    "s.isValidBST(T)\n",
    "# print(s.isValidBST(T))"
   ]
  },
  {
   "cell_type": "markdown",
   "metadata": {},
   "source": [
    "- 正确解法\n",
    "- 上面这个算法出现了错误，BST 的每个节点应该要小于右边子树的所有节点\n",
    "- 对于某一个节点 root，他只能管得了自己的左右子节点，**怎么把 root 的约束传递给左右子树**\n",
    "\n",
    "- 使用辅助函数，增加函数参数列表，在参数中携带额外信息，将这种约束传递给子树的所有节点，"
   ]
  },
  {
   "cell_type": "code",
   "execution_count": 5,
   "metadata": {},
   "outputs": [],
   "source": [
    "T = TreeNode(2)\n",
    "T.left = TreeNode(1)\n",
    "T.right = TreeNode(4)\n",
    "T.right.left = TreeNode(3)\n",
    "T.right.right = TreeNode(5)"
   ]
  },
  {
   "cell_type": "code",
   "execution_count": 6,
   "metadata": {},
   "outputs": [],
   "source": [
    "class Solution:\n",
    "    def isValidBST(self, root):\n",
    "        return self.isBST(root, None, None)\n",
    "\n",
    "    # 限定以 root 为根的子树节点必须满足 max.val > root.val > min.val\n",
    "    def isBST(self, root, min, max):\n",
    "        '''\n",
    "        如何理解这一点确实抽象：min 和 max 什么时候赋值的\n",
    "        //关注当前节点与左右孩子的行为\n",
    "        //当前结点root的左孩子root.left\n",
    "        max = root.val；\n",
    "        min = min;//最小值保持不变\n",
    "        //当前结点root的右孩子root.right\n",
    "        min = root.val，\n",
    "        max = max;//最大值保持不变\n",
    "        //左右孩子分别将root的min， max约束传递下来\n",
    "\n",
    "        //min只有从根一直向左传递才会为null\n",
    "        //max只有从根一直向右传递才会为null\n",
    "        //中途只要变过方向约束条件都会变\n",
    "        '''\n",
    "        # base case\n",
    "        if root == None:\n",
    "            return True\n",
    "\n",
    "        # if min:\n",
    "        #     print(min.val)\n",
    "        \n",
    "        # root.val 不符合 max 和 min 的限制，说明不是合法 BST\n",
    "        if min != None and min.val >= root.val:\n",
    "            return print(\"False\")\n",
    "        if max != None and max.val <= root.val:\n",
    "            return print(\"False\")\n",
    "\n",
    "        # 这个位置是前序还是后序遍历: 前序遍历\n",
    "        # 限定左子树的最大值是 root.val，右子树的最小值是 root.val\n",
    "        return self.isBST(root.left, min, root) and self.isBST(root.right, root, max)"
   ]
  },
  {
   "cell_type": "code",
   "execution_count": 7,
   "metadata": {},
   "outputs": [
    {
     "data": {
      "text/plain": [
       "True"
      ]
     },
     "execution_count": 7,
     "metadata": {},
     "output_type": "execute_result"
    }
   ],
   "source": [
    "s = Solution()\n",
    "s.isValidBST(T)\n",
    "# print(s.isValidBST(T))"
   ]
  },
  {
   "cell_type": "markdown",
   "metadata": {},
   "source": [
    "# 增删改查\n",
    "- 遍历框架：查\n",
    "```Java\n",
    "void BST(TreeNode root, int target) {\n",
    "    if (root.val == target)\n",
    "        // 找到目标，做点什么\n",
    "    if (root.val < target) \n",
    "        BST(root.right, target);\n",
    "    if (root.val > target)\n",
    "        BST(root.left, target);\n",
    "}\n",
    "\n",
    "```\n",
    "\n"
   ]
  },
  {
   "cell_type": "markdown",
   "metadata": {},
   "source": [
    "- 改\n",
    "- 一旦涉及「改」，函数就要返回 TreeNode 类型，并且对递归调用的返回值进行接收。\n",
    "```Java\n",
    "TreeNode insertIntoBST(TreeNode root, int val) {\n",
    "    // 找到空位置插入新节点\n",
    "    if (root == null) return new TreeNode(val);\n",
    "    // if (root.val == val)\n",
    "    //     BST 中一般不会插入已存在元素\n",
    "    if (root.val < val) \n",
    "        root.right = insertIntoBST(root.right, val);\n",
    "    if (root.val > val) \n",
    "        root.left = insertIntoBST(root.left, val);\n",
    "    return root;\n",
    "}\n",
    "```"
   ]
  },
  {
   "cell_type": "markdown",
   "metadata": {},
   "source": [
    "- 删除\n",
    "```Java\n",
    "TreeNode deleteNode(TreeNode root, int key) {\n",
    "    if (root == null) return null;\n",
    "    if (root.val == key) {\n",
    "        // 这两个 if 把情况 1 和 2 都正确处理了\n",
    "        if (root.left == null) return root.right;\n",
    "        if (root.right == null) return root.left;\n",
    "        // 处理情况 3\n",
    "        // 获得右子树最小的节点\n",
    "        TreeNode minNode = getMin(root.right);\n",
    "        // 删除右子树最小的节点\n",
    "        root.right = deleteNode(root.right, minNode.val);\n",
    "        // 用右子树最小的节点替换 root 节点\n",
    "        minNode.left = root.left;\n",
    "        minNode.right = root.right;\n",
    "        root = minNode;\n",
    "    } else if (root.val > key) {\n",
    "        root.left = deleteNode(root.left, key);\n",
    "    } else if (root.val < key) {\n",
    "        root.right = deleteNode(root.right, key);\n",
    "    }\n",
    "    return root;\n",
    "}\n",
    "\n",
    "TreeNode getMin(TreeNode node) {\n",
    "    // BST 最左边的就是最小的\n",
    "    while (node.left != null) node = node.left;\n",
    "    return node;\n",
    "}\n",
    "```"
   ]
  },
  {
   "cell_type": "code",
   "execution_count": null,
   "metadata": {},
   "outputs": [],
   "source": []
  },
  {
   "cell_type": "markdown",
   "metadata": {},
   "source": [
    "# 总结：\n",
    "1. 如果当前节点会对下面的子节点有整体影响，可以通过辅助函数增长参数列表，借助参数传递信息。\n",
    "2. 在二叉树递归框架之上，扩展出一套 BST 代码框架：\n",
    "```java\n",
    "void BST(TreeNode root, int target) {\n",
    "    if (root.val == target)\n",
    "        // 找到目标，做点什么\n",
    "    if (root.val < target) \n",
    "        BST(root.right, target);\n",
    "    if (root.val > target)\n",
    "        BST(root.left, target);\n",
    "}\n",
    "```\n",
    "3. 根据代码框架掌握了 BST 的增删查改操作。"
   ]
  }
 ],
 "metadata": {
  "interpreter": {
   "hash": "9ecbc95d31df1b277e5ec566a835865c3a9a253da4266404bdbc6ee7e31406f4"
  },
  "kernelspec": {
   "display_name": "Python 3.8.6 ('tensorflow2')",
   "language": "python",
   "name": "python3"
  },
  "language_info": {
   "codemirror_mode": {
    "name": "ipython",
    "version": 3
   },
   "file_extension": ".py",
   "mimetype": "text/x-python",
   "name": "python",
   "nbconvert_exporter": "python",
   "pygments_lexer": "ipython3",
   "version": "3.8.6"
  },
  "orig_nbformat": 4
 },
 "nbformat": 4,
 "nbformat_minor": 2
}
