{
 "cells": [
  {
   "cell_type": "markdown",
   "metadata": {},
   "source": [
    "\n",
    "https://mp.weixin.qq.com/s/uEmD5YVGG5LHQEmJQ2GSfw\n",
    "\n",
    "https://leetcode-cn.com/problems/flatten-nested-list-iterator/solution/python-iteratorying-wei-zhi-xiang-shu-ju-g5lu/\n",
    "\n",
    "中等的题我还是少碰吧,不会做\n"
   ]
  },
  {
   "cell_type": "code",
   "execution_count": 53,
   "metadata": {},
   "outputs": [],
   "source": [
    "# 尝试写数据结构\n",
    "\n",
    "# \"\"\"\n",
    "# This is the interface that allows for creating nested lists.\n",
    "# You should not implement it, or speculate about its implementation\n",
    "# \"\"\"\n",
    "class NestedInteger(object):\n",
    "    def __init__(self, item=None):\n",
    "        self._integer = None\n",
    "        self._list = None\n",
    "        \n",
    "        if item is not None:\n",
    "            if type(item) == int:\n",
    "                self._integer = item\n",
    "            else:\n",
    "                l = []\n",
    "                for i in item:\n",
    "                    l.append(NestedInteger(i))\n",
    "                self._list = l\n",
    "        # print(self._list)\n",
    "\n",
    "        # if item is not None:\n",
    "        #     l = []\n",
    "        #     for i in item:\n",
    "        #         l.append(NestedInteger(i))\n",
    "        #     self._list = l\n",
    "\n",
    "    def __len__(self):\n",
    "        if self._list:\n",
    "            return len(self._list)\n",
    "    \n",
    "    def __str__(self):\n",
    "        return str(self._integer)\n",
    "\n",
    "    def isInteger(self):\n",
    "        return self._integer is not None\n",
    "\n",
    "    def getInteger(self):\n",
    "        return self._integer\n",
    "\n",
    "    def getList(self):\n",
    "        return self._list\n"
   ]
  },
  {
   "cell_type": "code",
   "execution_count": 54,
   "metadata": {},
   "outputs": [],
   "source": [
    "# Your NestedIterator object will be instantiated and called as such:\n",
    "# change test_input here\n",
    "test_input = [[1,1],2,[1,1]]\n",
    "\n",
    "nestedList = []\n",
    "for item in test_input:\n",
    "    nestedList.append(NestedInteger(item))"
   ]
  },
  {
   "cell_type": "code",
   "execution_count": 69,
   "metadata": {},
   "outputs": [
    {
     "data": {
      "text/plain": [
       "True"
      ]
     },
     "execution_count": 69,
     "metadata": {},
     "output_type": "execute_result"
    }
   ],
   "source": [
    "# print(NestedInteger([10, 20]))\n",
    "# len(NestedInteger([10, 20, [10, 10],30]))\n",
    "s = NestedInteger(10).isInteger()\n",
    "s"
   ]
  },
  {
   "cell_type": "code",
   "execution_count": 11,
   "metadata": {},
   "outputs": [],
   "source": [
    "class NestedIterator(object):\n",
    "\n",
    "    def __init__(self, nestedList):\n",
    "        \"\"\"\n",
    "        Initialize your data structure here.\n",
    "        :type nestedList: List[NestedInteger]\n",
    "        \"\"\"\n",
    "        self.nestedList = nestedList\n",
    "        # pointer to the item in the nestedList\n",
    "        self.iter = -1\n",
    "        # pointer to the item in a list in the nestedList\n",
    "        self.inner = None\n",
    "\n",
    "    def next(self):\n",
    "        \"\"\"\n",
    "        :rtype: int\n",
    "        \"\"\"\n",
    "        # return inner item from list before next item in the nestedList\n",
    "        if self.inner:\n",
    "            return self.inner.next()\n",
    "        return self.nestedList[self.iter].getInteger()\n",
    "\n",
    "    def hasNext(self):\n",
    "        \"\"\"\n",
    "        :rtype: bool\n",
    "        \"\"\"\n",
    "        # There is a inner list currently\n",
    "        if self.inner and self.inner.hasNext():\n",
    "            return True\n",
    "        self.inner = None\n",
    "        # find the next integer or a list contain integer\n",
    "        while self.iter < len(self.nestedList)-1:\n",
    "            self.iter += 1\n",
    "            if self.nestedList[self.iter].isInteger():\n",
    "                return True\n",
    "            self.inner = NestedIterator(self.nestedList[self.iter].getList())\n",
    "            if self.inner.hasNext():\n",
    "                return True\n",
    "            # current list has no integer, we don't know the next list yet, reset to None\n",
    "            self.inner = None\n",
    "        return False"
   ]
  },
  {
   "cell_type": "code",
   "execution_count": 12,
   "metadata": {},
   "outputs": [],
   "source": [
    "# Your NestedIterator object will be instantiated and called as such:\n",
    "# change test_input here\n",
    "test_input = [[1,1],2,[1,1]]\n",
    "\n",
    "nestedList = []\n",
    "for item in test_input:\n",
    "    nestedList.append(NestedInteger(item))\n",
    "# nestedList\n"
   ]
  },
  {
   "cell_type": "code",
   "execution_count": 13,
   "metadata": {},
   "outputs": [
    {
     "name": "stdout",
     "output_type": "stream",
     "text": [
      "[1, 1, 2, 1, 1]\n"
     ]
    }
   ],
   "source": [
    "i, v = NestedIterator(nestedList), []\n",
    "while i.hasNext(): \n",
    "    v.append(i.next())\n",
    "print(v)"
   ]
  },
  {
   "cell_type": "code",
   "execution_count": null,
   "metadata": {},
   "outputs": [],
   "source": []
  },
  {
   "cell_type": "code",
   "execution_count": 4,
   "metadata": {},
   "outputs": [],
   "source": [
    "#  不知道为什么,这里编译不通过,而在力扣上就能编译通过\n",
    "class NestedIterator:\n",
    "    def __init__(self, nestedList: [NestedInteger]):\n",
    "        cur=str(nestedList)\n",
    "        cur=cur.replace('{','')\n",
    "        cur=cur.replace('}','')\n",
    "        tmp=cur.split(',')\n",
    "        self.nestedList=[]\n",
    "        \n",
    "        for i in range(len(tmp)):\n",
    "            if not tmp[i][-1].isdigit():\n",
    "                continue\n",
    "            self.nestedList.append(int(tmp[i].split(':')[-1]))\n",
    "        self.index=0\n",
    "\n",
    "    def next(self) -> int:\n",
    "        if self.hasNext:\n",
    "            tmp=self.nestedList[self.index]\n",
    "            self.index=self.index+1\n",
    "            return tmp\n",
    "        return\n",
    "\n",
    "    def hasNext(self) -> bool:\n",
    "        if self.index>=len(self.nestedList):\n",
    "            return False\n",
    "        else:\n",
    "            return True\n",
    "\n",
    "# 链接：https://leetcode-cn.com/problems/flatten-nested-list-iterator/solution/python-chi-pu-zuo-fa-zhi-zi-fu-chuan-chu-40uf/\n"
   ]
  },
  {
   "cell_type": "code",
   "execution_count": 5,
   "metadata": {},
   "outputs": [
    {
     "name": "stdout",
     "output_type": "stream",
     "text": [
      "[]\n"
     ]
    }
   ],
   "source": [
    "# Your NestedIterator object will be instantiated and called as such:\n",
    "# change test_input here\n",
    "test_input = [[1,1],2,[1,1]]\n",
    "\n",
    "nestedList = []\n",
    "for item in test_input:\n",
    "    nestedList.append(NestedInteger(item))\n",
    "# nestedList\n",
    "\n",
    "i, v = NestedIterator(nestedList), []\n",
    "while i.hasNext(): \n",
    "    v.append(i.next())\n",
    "print(v)"
   ]
  },
  {
   "cell_type": "code",
   "execution_count": null,
   "metadata": {},
   "outputs": [],
   "source": []
  }
 ],
 "metadata": {
  "interpreter": {
   "hash": "9ecbc95d31df1b277e5ec566a835865c3a9a253da4266404bdbc6ee7e31406f4"
  },
  "kernelspec": {
   "display_name": "Python 3.8.6 ('tensorflow2')",
   "language": "python",
   "name": "python3"
  },
  "language_info": {
   "codemirror_mode": {
    "name": "ipython",
    "version": 3
   },
   "file_extension": ".py",
   "mimetype": "text/x-python",
   "name": "python",
   "nbconvert_exporter": "python",
   "pygments_lexer": "ipython3",
   "version": "3.8.6"
  },
  "orig_nbformat": 4
 },
 "nbformat": 4,
 "nbformat_minor": 2
}
