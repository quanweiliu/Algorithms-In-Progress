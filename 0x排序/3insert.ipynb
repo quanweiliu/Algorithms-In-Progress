{
 "cells": [
  {
   "cell_type": "code",
   "execution_count": 7,
   "metadata": {},
   "outputs": [],
   "source": [
    "import random"
   ]
  },
  {
   "cell_type": "markdown",
   "metadata": {},
   "source": [
    "# 重点：记录当前的值，移动，\n",
    "# 我们不知道无序区的数的最大最小值，我们是一个个取数的"
   ]
  },
  {
   "cell_type": "code",
   "execution_count": 8,
   "metadata": {},
   "outputs": [],
   "source": [
    "li = [6,7,8,1,2,3,4,5]"
   ]
  },
  {
   "cell_type": "code",
   "execution_count": 9,
   "metadata": {},
   "outputs": [],
   "source": [
    "# # 错误示范\n",
    "# def ins(li):\n",
    "#     for i in range(0, len(li)):\n",
    "#         if li[i] > li[i+1]:\n",
    "#             pass\n",
    "#         # 如何实现排序插入，有空位等操作？\n",
    "# ins(li)"
   ]
  },
  {
   "cell_type": "code",
   "execution_count": 10,
   "metadata": {},
   "outputs": [],
   "source": [
    "def insertSort(alist):\n",
    "    for index in range(1, len(alist)):\n",
    "\n",
    "        currentvalue = alist[index]\n",
    "        position = index                       # 新项，插入项        ###########\n",
    "\n",
    "        # 从新项开始，倒着往前走\n",
    "        while position > 0 and alist[position-1] > currentvalue:\n",
    "\n",
    "            ### 把后面的值给前面，后面的值就相当于空白了  ###  最关键一步\n",
    "            alist[position] = alist[position-1]      \n",
    "            position = position - 1                      # 比较，移动\n",
    "            print(alist)\n",
    "\n",
    "        alist[position] = currentvalue                   # 插入新项           ###########\n",
    "\n",
    "        ######## 井号位置实现了保留一个位置将之 插入 到有序区\n",
    "        print(alist)\n",
    "        "
   ]
  },
  {
   "cell_type": "code",
   "execution_count": 11,
   "metadata": {},
   "outputs": [
    {
     "name": "stdout",
     "output_type": "stream",
     "text": [
      "[6, 7, 8, 9, 1, 3, 4, 5]\n",
      "[6, 7, 8, 9, 1, 3, 4, 5]\n",
      "[6, 7, 8, 9, 1, 3, 4, 5]\n",
      "[6, 7, 8, 9, 9, 3, 4, 5]\n",
      "[6, 7, 8, 8, 9, 3, 4, 5]\n",
      "[6, 7, 7, 8, 9, 3, 4, 5]\n",
      "[6, 6, 7, 8, 9, 3, 4, 5]\n",
      "[1, 6, 7, 8, 9, 3, 4, 5]\n",
      "[1, 6, 7, 8, 9, 9, 4, 5]\n",
      "[1, 6, 7, 8, 8, 9, 4, 5]\n",
      "[1, 6, 7, 7, 8, 9, 4, 5]\n",
      "[1, 6, 6, 7, 8, 9, 4, 5]\n",
      "[1, 3, 6, 7, 8, 9, 4, 5]\n",
      "[1, 3, 6, 7, 8, 9, 9, 5]\n",
      "[1, 3, 6, 7, 8, 8, 9, 5]\n",
      "[1, 3, 6, 7, 7, 8, 9, 5]\n",
      "[1, 3, 6, 6, 7, 8, 9, 5]\n",
      "[1, 3, 4, 6, 7, 8, 9, 5]\n",
      "[1, 3, 4, 6, 7, 8, 9, 9]\n",
      "[1, 3, 4, 6, 7, 8, 8, 9]\n",
      "[1, 3, 4, 6, 7, 7, 8, 9]\n",
      "[1, 3, 4, 6, 6, 7, 8, 9]\n",
      "[1, 3, 4, 5, 6, 7, 8, 9]\n"
     ]
    }
   ],
   "source": [
    "# 中间的过程需要加倍理解\n",
    "# 想象中的空位，其实在实现的过程中已经有值填充\n",
    "\n",
    "li = [6, 7, 8, 9, 1, 3, 4, 5]\n",
    "insertSort(li)\n",
    "# print(li)"
   ]
  },
  {
   "cell_type": "code",
   "execution_count": null,
   "metadata": {},
   "outputs": [],
   "source": []
  },
  {
   "cell_type": "code",
   "execution_count": 12,
   "metadata": {},
   "outputs": [],
   "source": [
    "# 插入排序, 北大\n",
    "def intert_sort(li):\n",
    "    \n",
    "    # 摸牌，第一张牌放在原位，第二张牌决定放在第一张牌的左边和右边\n",
    "    for i in range(1, len(li)):       # i 表示摸到的牌的下标\n",
    "        # j 指的是手里的牌的下标，手里的牌从 0 开始\n",
    "        j = i - 1\n",
    "        tmp = li[i]                   # 摸到的牌存起来，因为要改变位置\n",
    "        \n",
    "        while j > 0 and li[j] > tmp:\n",
    "            li[j+1] = li[j]           # 数据往右移动的操作\n",
    "            j -= 1\n",
    "            print(li)\n",
    "\n",
    "        li[j+1] = tmp\n",
    "        # print(li)"
   ]
  },
  {
   "cell_type": "code",
   "execution_count": 13,
   "metadata": {},
   "outputs": [
    {
     "name": "stdout",
     "output_type": "stream",
     "text": [
      "[6, 7, 8, 8, 2, 3, 4, 5]\n",
      "[6, 7, 7, 8, 2, 3, 4, 5]\n",
      "[6, 1, 7, 8, 8, 3, 4, 5]\n",
      "[6, 1, 7, 7, 8, 3, 4, 5]\n",
      "[6, 1, 2, 7, 8, 8, 4, 5]\n",
      "[6, 1, 2, 7, 7, 8, 4, 5]\n",
      "[6, 1, 2, 3, 7, 8, 8, 5]\n",
      "[6, 1, 2, 3, 7, 7, 8, 5]\n",
      "[6, 1, 2, 3, 4, 7, 8, 8]\n",
      "[6, 1, 2, 3, 4, 7, 7, 8]\n"
     ]
    }
   ],
   "source": [
    "li = [6,7,8,1,2,3,4,5]\n",
    "intert_sort(li)\n",
    "# print(li)"
   ]
  },
  {
   "cell_type": "code",
   "execution_count": 14,
   "metadata": {},
   "outputs": [],
   "source": [
    "# 复杂度 O(n^2)"
   ]
  },
  {
   "cell_type": "code",
   "execution_count": null,
   "metadata": {},
   "outputs": [],
   "source": []
  }
 ],
 "metadata": {
  "interpreter": {
   "hash": "9ecbc95d31df1b277e5ec566a835865c3a9a253da4266404bdbc6ee7e31406f4"
  },
  "kernelspec": {
   "display_name": "Python 3.8.6 64-bit ('tensorflow2': conda)",
   "name": "python3"
  },
  "language_info": {
   "codemirror_mode": {
    "name": "ipython",
    "version": 3
   },
   "file_extension": ".py",
   "mimetype": "text/x-python",
   "name": "python",
   "nbconvert_exporter": "python",
   "pygments_lexer": "ipython3",
   "version": "3.8.6"
  },
  "orig_nbformat": 4
 },
 "nbformat": 4,
 "nbformat_minor": 2
}
