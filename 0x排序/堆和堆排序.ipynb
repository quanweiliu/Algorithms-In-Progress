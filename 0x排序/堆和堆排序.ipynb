{
 "cells": [
  {
   "cell_type": "code",
   "execution_count": null,
   "metadata": {},
   "outputs": [],
   "source": [
    "import heapq"
   ]
  },
  {
   "cell_type": "markdown",
   "metadata": {},
   "source": [
    "## 堆排序1"
   ]
  },
  {
   "cell_type": "code",
   "execution_count": null,
   "metadata": {},
   "outputs": [],
   "source": [
    "pq = []\n",
    "heapq.heappush(pq, 7)\n",
    "heapq.heappush(pq, 2)\n",
    "heapq.heappush(pq, 5)\n",
    "heapq.heappush(pq, 1)\n",
    "heapq.heappush(pq, 3)\n",
    "heapq.heappush(pq, 0)\n",
    "pq"
   ]
  },
  {
   "cell_type": "code",
   "execution_count": null,
   "metadata": {},
   "outputs": [],
   "source": [
    "# heapq.heappop(pq)"
   ]
  },
  {
   "cell_type": "code",
   "execution_count": null,
   "metadata": {},
   "outputs": [],
   "source": [
    "ls = []\n",
    "def heapqSort(heap):\n",
    "    lenth = len(heap)\n",
    "    for i in range(lenth):\n",
    "        ls.append(heapq.heappop(heap))\n",
    "    print(ls)\n",
    "heapqSort(pq)"
   ]
  },
  {
   "cell_type": "markdown",
   "metadata": {},
   "source": [
    "## 堆排序2"
   ]
  },
  {
   "cell_type": "code",
   "execution_count": null,
   "metadata": {},
   "outputs": [],
   "source": [
    "pq_l = [7,2,5,1,3,0]\n",
    "heapq.heapify(pq_l)\n",
    "pq_l"
   ]
  },
  {
   "cell_type": "code",
   "execution_count": null,
   "metadata": {},
   "outputs": [],
   "source": [
    "ls = []\n",
    "def heapqSort(heap):\n",
    "    lenth = len(heap)\n",
    "    for i in range(lenth):\n",
    "        ls.append(heapq.heappop(heap))\n",
    "    print(ls)\n",
    "heapqSort(pq_l)"
   ]
  },
  {
   "cell_type": "markdown",
   "metadata": {},
   "source": [
    "## 堆排序3"
   ]
  },
  {
   "cell_type": "code",
   "execution_count": 17,
   "metadata": {},
   "outputs": [
    {
     "data": {
      "text/plain": [
       "[(1, 'zhang'), (3, 'liu'), (2, 'sun')]"
      ]
     },
     "execution_count": 17,
     "metadata": {},
     "output_type": "execute_result"
    }
   ],
   "source": [
    "pq_s = []\n",
    "heapq.heappush(pq_s, (3, \"liu\"))\n",
    "heapq.heappush(pq_s, (1, \"zhang\"))\n",
    "heapq.heappush(pq_s, (2, \"sun\"))\n",
    "pq_s"
   ]
  },
  {
   "cell_type": "code",
   "execution_count": 18,
   "metadata": {},
   "outputs": [
    {
     "name": "stdout",
     "output_type": "stream",
     "text": [
      "[(1, 'zhang'), (2, 'sun'), (3, 'liu')]\n"
     ]
    }
   ],
   "source": [
    "ls = []\n",
    "def heapqSort(heap):\n",
    "    lenth = len(heap)\n",
    "    for i in range(lenth):\n",
    "        ls.append(heapq.heappop(heap))\n",
    "    print(ls)\n",
    "heapqSort(pq_s)"
   ]
  },
  {
   "cell_type": "code",
   "execution_count": null,
   "metadata": {},
   "outputs": [],
   "source": [
    "## 堆排序4"
   ]
  },
  {
   "cell_type": "code",
   "execution_count": 27,
   "metadata": {},
   "outputs": [
    {
     "data": {
      "text/plain": [
       "[[2, 'sun', 100], [10, 'zhang', 0], [3, 'liu', 0]]"
      ]
     },
     "execution_count": 27,
     "metadata": {},
     "output_type": "execute_result"
    }
   ],
   "source": [
    "pq_s = []\n",
    "heapq.heappush(pq_s, [3, \"liu\", 0])\n",
    "heapq.heappush(pq_s, [10, \"zhang\", 0])\n",
    "heapq.heappush(pq_s, [2, \"sun\", 100])\n",
    "pq_s"
   ]
  },
  {
   "cell_type": "code",
   "execution_count": 28,
   "metadata": {},
   "outputs": [
    {
     "name": "stdout",
     "output_type": "stream",
     "text": [
      "[[2, 'sun', 100], [3, 'liu', 0], [10, 'zhang', 0]]\n"
     ]
    }
   ],
   "source": [
    "ls = []\n",
    "def heapqSort(heap):\n",
    "    lenth = len(heap)\n",
    "    for i in range(lenth):\n",
    "        ls.append(heapq.heappop(heap))\n",
    "    print(ls)\n",
    "heapqSort(pq_s)"
   ]
  },
  {
   "cell_type": "code",
   "execution_count": null,
   "metadata": {},
   "outputs": [],
   "source": []
  }
 ],
 "metadata": {
  "interpreter": {
   "hash": "9ecbc95d31df1b277e5ec566a835865c3a9a253da4266404bdbc6ee7e31406f4"
  },
  "kernelspec": {
   "display_name": "Python 3.8.6 ('tensorflow2')",
   "language": "python",
   "name": "python3"
  },
  "language_info": {
   "codemirror_mode": {
    "name": "ipython",
    "version": 3
   },
   "file_extension": ".py",
   "mimetype": "text/x-python",
   "name": "python",
   "nbconvert_exporter": "python",
   "pygments_lexer": "ipython3",
   "version": "3.8.6"
  },
  "orig_nbformat": 4
 },
 "nbformat": 4,
 "nbformat_minor": 2
}
