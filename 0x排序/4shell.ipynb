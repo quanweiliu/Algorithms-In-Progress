{
 "cells": [
  {
   "cell_type": "code",
   "execution_count": 1,
   "metadata": {},
   "outputs": [],
   "source": [
    "import random"
   ]
  },
  {
   "cell_type": "markdown",
   "metadata": {},
   "source": [
    "# 怎么分的组"
   ]
  },
  {
   "cell_type": "code",
   "execution_count": 2,
   "metadata": {},
   "outputs": [],
   "source": [
    "def gapInsertionSort(alist, start, gap):\n",
    "    # 从后往前处理\n",
    "    for index in range(start+gap, len(alist), gap):\n",
    "\n",
    "        currentvalue = alist[index]\n",
    "        position = index                       # 新项，插入项        ###########\n",
    "\n",
    "        # 从新项开始，倒着往前走\n",
    "        while position >= gap and alist[position - gap] > currentvalue:\n",
    "\n",
    "            ### 把后面的值给前面，后面的值就相当于空白了  ###  最关键一步\n",
    "            alist[position] = alist[position-gap]      \n",
    "            position = position - gap                      # 比较，移动\n",
    "            # print(alist)\n",
    "\n",
    "        alist[position] = currentvalue                   # 插入新项           ###########\n",
    "\n",
    "        ######## 井号位置实现了保留一个位置将之 插入 到有序区\n",
    "        print(alist)"
   ]
  },
  {
   "cell_type": "code",
   "execution_count": 16,
   "metadata": {},
   "outputs": [
    {
     "name": "stdout",
     "output_type": "stream",
     "text": [
      "[8, 9, 5, 6, 0, 2, 3, 4, 7, 1]\n",
      "**********\n",
      "[2, 9, 5, 6, 0, 8, 3, 4, 7, 1]\n"
     ]
    }
   ],
   "source": [
    "# li = list(range(10))\n",
    "li = [8, 9, 5, 6, 0, 2, 3, 4, 7, 1]\n",
    "# random.shuffle(li)\n",
    "print(li)\n",
    "print(\"*\"*10)\n",
    "# gap 为 5， 10 // 5 = 2， 分成 5 组。\n",
    "gapInsertionSort(li, 0, 5)\n",
    "# print(li)"
   ]
  },
  {
   "cell_type": "code",
   "execution_count": 18,
   "metadata": {},
   "outputs": [
    {
     "name": "stdout",
     "output_type": "stream",
     "text": [
      "[8, 9, 5, 6, 0, 2, 3, 4, 7, 1]\n",
      "**********\n",
      "[2, 9, 5, 6, 0, 8, 3, 4, 7, 1]\n",
      "[2, 3, 5, 6, 0, 8, 9, 4, 7, 1]\n",
      "[2, 3, 4, 6, 0, 8, 9, 5, 7, 1]\n",
      "[2, 3, 4, 6, 0, 8, 9, 5, 7, 1]\n",
      "[2, 3, 4, 6, 0, 8, 9, 5, 7, 1]\n"
     ]
    }
   ],
   "source": [
    "li = [8, 9, 5, 6, 0, 2, 3, 4, 7, 1]\n",
    "print(li)\n",
    "print(\"*\"*10)\n",
    "for startposition in range(5):\n",
    "            gapInsertionSort(li, startposition, 5)"
   ]
  },
  {
   "cell_type": "code",
   "execution_count": null,
   "metadata": {},
   "outputs": [],
   "source": [
    "def gapInsertionSort(alist, start, gap):\n",
    "    for index in range(start+gap, len(alist), gap):\n",
    "\n",
    "        currentvalue = alist[index]\n",
    "        position = index                       # 新项，插入项        ###########\n",
    "\n",
    "        # 从新项开始，倒着往前走\n",
    "        while position >= gap and alist[position - gap] > currentvalue:\n",
    "\n",
    "            ### 把后面的值给前面，后面的值就相当于空白了  ###  最关键一步\n",
    "            alist[position] = alist[position-gap]      \n",
    "            position = position - gap                       # 比较，移动\n",
    "            # print(alist)\n",
    "\n",
    "        alist[position] = currentvalue                      # 插入新项           ###########\n",
    "\n",
    "        ######## 井号位置实现了保留一个位置将之 插入 到有序区\n",
    "        # print(alist)"
   ]
  },
  {
   "cell_type": "code",
   "execution_count": null,
   "metadata": {},
   "outputs": [],
   "source": [
    "def shell(alist):\n",
    "    sublistcount = len(alist) // 2\n",
    "    while sublistcount > 0:\n",
    "        for startposition in range(sublistcount):\n",
    "            gapInsertionSort(alist, startposition, sublistcount)\n",
    "\n",
    "        print(\"after increments of size\", sublistcount, \"this list is\", alist)\n",
    "\n",
    "        sublistcount = sublistcount // 2\n",
    "    return alist"
   ]
  },
  {
   "cell_type": "code",
   "execution_count": null,
   "metadata": {},
   "outputs": [],
   "source": [
    "# li = list(range(10))\n",
    "# random.shuffle(li)\n",
    "print(li)\n",
    "print(\"*\"*10)\n",
    "shell(li)\n",
    "# print(li)"
   ]
  },
  {
   "cell_type": "code",
   "execution_count": null,
   "metadata": {},
   "outputs": [],
   "source": []
  },
  {
   "cell_type": "code",
   "execution_count": null,
   "metadata": {},
   "outputs": [],
   "source": []
  },
  {
   "cell_type": "code",
   "execution_count": null,
   "metadata": {},
   "outputs": [],
   "source": [
    "# 希尔排序\n",
    "def insert_sort_gap(li, gap):\n",
    "    for i in range(gap, len(li)):       # i 表示摸到的牌的下标\n",
    "        # j 指的是手里的牌的下标，手里的牌从0 开始\n",
    "        tmp = li[i]                     # 摸到的牌存起来，因为要改变位置\n",
    "        j = i - gap\n",
    "\n",
    "        while j >=0 and li[j] > tmp:\n",
    "            li[j+gap] = li[j]           # 数据往右移动的操作\n",
    "            j -= gap\n",
    "            print(li)\n",
    "        \n",
    "        li[j+gap] = tmp\n",
    "        # print(li)"
   ]
  },
  {
   "cell_type": "code",
   "execution_count": null,
   "metadata": {},
   "outputs": [],
   "source": [
    "# 希尔排序\n",
    "def shell_sort(li):\n",
    "    # 分组的距离 d -> distance \n",
    "    d = len(li) // 2\n",
    "    # print(type(gap), type(len(li)))\n",
    "    while d >= 1:\n",
    "        insert_sort_gap(li, d)\n",
    "        d //= 2"
   ]
  },
  {
   "cell_type": "code",
   "execution_count": null,
   "metadata": {},
   "outputs": [],
   "source": [
    "li = list(range(10))\n",
    "random.shuffle(li)\n",
    "# print(li)\n",
    "shell_sort(li)\n",
    "print(li)"
   ]
  },
  {
   "cell_type": "markdown",
   "metadata": {},
   "source": [
    "# 讨论\n",
    "- 算法时间复杂度：希尔排序的时间复杂度讨论比较复杂,并且和选取的gap序列有关。\n",
    "- 参考维基百科。"
   ]
  }
 ],
 "metadata": {
  "interpreter": {
   "hash": "c0ba61e0581c20c2ea07775480ef1834cedf3d015b7bfd07402ed1a7b2a65079"
  },
  "kernelspec": {
   "display_name": "Python 3.8.10 64-bit ('tensorflow2.5': conda)",
   "language": "python",
   "name": "python3"
  },
  "language_info": {
   "codemirror_mode": {
    "name": "ipython",
    "version": 3
   },
   "file_extension": ".py",
   "mimetype": "text/x-python",
   "name": "python",
   "nbconvert_exporter": "python",
   "pygments_lexer": "ipython3",
   "version": "3.8.10"
  },
  "orig_nbformat": 4
 },
 "nbformat": 4,
 "nbformat_minor": 2
}
