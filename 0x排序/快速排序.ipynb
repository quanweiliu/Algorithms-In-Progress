{
 "cells": [
  {
   "cell_type": "markdown",
   "metadata": {},
   "source": [
    "- 前序遍历"
   ]
  },
  {
   "cell_type": "markdown",
   "metadata": {},
   "source": [
    "## 版本一"
   ]
  },
  {
   "cell_type": "code",
   "execution_count": 8,
   "metadata": {},
   "outputs": [],
   "source": [
    "class Solution():\n",
    "    def __init__(self):\n",
    "        self.aid = []\n",
    "    def quick_sort(self, data, left, right):\n",
    "        # left = 0\n",
    "        # right = len(data) - 1\n",
    "        if left < right:\n",
    "            mid = self.partition(data, left, right)\n",
    "            # print(mid)\n",
    "\n",
    "            # 递归调用已经分号的两部分\n",
    "            self.quick_sort(data, left, mid-1)\n",
    "            self.quick_sort(data, mid+1, right)\n",
    "\n",
    "        return data\n",
    "\n",
    "    def partition(self, li, left, right):\n",
    "        # 储存刚开始的值\n",
    "        tmp = li[left]                # 选定中值（随机选，默认第一个）\n",
    "        while left < right:\n",
    "            # 从右边找\n",
    "            while  left < right and li[right] >= tmp:   # 找比当前存储的值小的数\n",
    "                right -= 1            # 往左边走一步\n",
    "            li[left] = li[right]      # 把右边的值写到左边的空位\n",
    "\n",
    "            # 从左边找\n",
    "            while left < right and li[left] <= tmp:\n",
    "                left += 1\n",
    "            li[right] = li[left]  \n",
    "            # print(li)  \n",
    "        li[left] = tmp                  # tmp 归为\n",
    "\n",
    "        return left                     # 中值点，也就是分裂点"
   ]
  },
  {
   "cell_type": "code",
   "execution_count": 9,
   "metadata": {},
   "outputs": [
    {
     "name": "stdout",
     "output_type": "stream",
     "text": [
      "8\n"
     ]
    }
   ],
   "source": [
    "arr = [1,3,5,2,4,6,0,9]\n",
    "print(len(arr))"
   ]
  },
  {
   "cell_type": "code",
   "execution_count": 10,
   "metadata": {},
   "outputs": [
    {
     "data": {
      "text/plain": [
       "[0, 1, 2, 3, 4, 5, 6, 9]"
      ]
     },
     "execution_count": 10,
     "metadata": {},
     "output_type": "execute_result"
    }
   ],
   "source": [
    "s = Solution()\n",
    "sorted  = s.quick_sort(arr, 0, len(arr) - 1)\n",
    "sorted"
   ]
  },
  {
   "cell_type": "markdown",
   "metadata": {},
   "source": [
    "## 版本二\n",
    "- 荷兰国旗问题"
   ]
  },
  {
   "cell_type": "code",
   "execution_count": 31,
   "metadata": {},
   "outputs": [],
   "source": [
    "class Solution():\n",
    "    def __init__(self):\n",
    "        self.aid = []\n",
    "    def quick_sort(self, data, left, right):\n",
    "        if left < right:\n",
    "            mid = self.partition(data, left, right)\n",
    "            # print(mid)\n",
    "\n",
    "            # 递归调用已经分号的两部分\n",
    "            self.quick_sort(data, left, mid-1)\n",
    "            self.quick_sort(data, mid+1, right)\n",
    "\n",
    "        return data\n",
    "\n",
    "    def partition(self, li, left, right):\n",
    "        # print(\"0\", li, left, right)\n",
    "        # 储存刚开始的值\n",
    "        tmp = li[left]                # 选定中值（随机选，默认第一个）\n",
    "\n",
    "        # 从右边找\n",
    "        while  left < right and li[right] >= tmp:   # 找比当前存储的值小的数\n",
    "            right -= 1            # 往左边走一步\n",
    "        li[left] = li[right]      # 把右边的值写到左边的空位\n",
    "        # print(\"1\", li, li[right], right)\n",
    "\n",
    "        # 从左边找\n",
    "        while left < right and li[left] <= tmp:\n",
    "            left += 1\n",
    "        li[right] = li[left]  \n",
    "        # print(\"2\", li, left)\n",
    "        # print(li)  \n",
    "        li[left] = tmp                  # tmp 归为\n",
    "        # print(\"3\", li)\n",
    "\n",
    "        return left                     # 中值点，也就是分裂点"
   ]
  },
  {
   "cell_type": "code",
   "execution_count": 32,
   "metadata": {},
   "outputs": [
    {
     "name": "stdout",
     "output_type": "stream",
     "text": [
      "0 [1, 3, 5, 2, 4, 6, 0, 9] 0 7\n",
      "1 [0, 3, 5, 2, 4, 6, 0, 9] 0 6\n",
      "2 [0, 3, 5, 2, 4, 6, 3, 9] 1\n",
      "3 [0, 1, 5, 2, 4, 6, 3, 9]\n",
      "0 [0, 1, 5, 2, 4, 6, 3, 9] 2 7\n",
      "1 [0, 1, 3, 2, 4, 6, 3, 9] 3 6\n",
      "2 [0, 1, 3, 2, 4, 6, 6, 9] 5\n",
      "3 [0, 1, 3, 2, 4, 5, 6, 9]\n",
      "0 [0, 1, 3, 2, 4, 5, 6, 9] 2 4\n",
      "1 [0, 1, 2, 2, 4, 5, 6, 9] 2 3\n",
      "2 [0, 1, 2, 2, 4, 5, 6, 9] 3\n",
      "3 [0, 1, 2, 3, 4, 5, 6, 9]\n",
      "0 [0, 1, 2, 3, 4, 5, 6, 9] 6 7\n",
      "1 [0, 1, 2, 3, 4, 5, 6, 9] 6 6\n",
      "2 [0, 1, 2, 3, 4, 5, 6, 9] 6\n",
      "3 [0, 1, 2, 3, 4, 5, 6, 9]\n"
     ]
    },
    {
     "data": {
      "text/plain": [
       "[0, 1, 2, 3, 4, 5, 6, 9]"
      ]
     },
     "execution_count": 32,
     "metadata": {},
     "output_type": "execute_result"
    }
   ],
   "source": [
    "arr = [1,3,5,2,4,6,0,9]\n",
    "s = Solution()\n",
    "sorted  = s.quick_sort(arr, 0, len(arr) - 1)\n",
    "sorted"
   ]
  },
  {
   "cell_type": "code",
   "execution_count": null,
   "metadata": {},
   "outputs": [],
   "source": []
  },
  {
   "cell_type": "code",
   "execution_count": null,
   "metadata": {},
   "outputs": [],
   "source": []
  }
 ],
 "metadata": {
  "interpreter": {
   "hash": "9ecbc95d31df1b277e5ec566a835865c3a9a253da4266404bdbc6ee7e31406f4"
  },
  "kernelspec": {
   "display_name": "Python 3.8.6 ('tensorflow2')",
   "language": "python",
   "name": "python3"
  },
  "language_info": {
   "codemirror_mode": {
    "name": "ipython",
    "version": 3
   },
   "file_extension": ".py",
   "mimetype": "text/x-python",
   "name": "python",
   "nbconvert_exporter": "python",
   "pygments_lexer": "ipython3",
   "version": "3.8.6"
  },
  "orig_nbformat": 4
 },
 "nbformat": 4,
 "nbformat_minor": 2
}
