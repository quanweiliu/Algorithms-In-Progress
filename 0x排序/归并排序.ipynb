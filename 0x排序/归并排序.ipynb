{
 "cells": [
  {
   "cell_type": "markdown",
   "metadata": {},
   "source": [
    "- 额外空间\n",
    "- 双指针\n",
    "- Java 风格\n",
    "\n",
    "- 后序遍历"
   ]
  },
  {
   "cell_type": "code",
   "execution_count": 1,
   "metadata": {},
   "outputs": [],
   "source": [
    "class Solution():\n",
    "    def __init__(self):\n",
    "        self.aid = []\n",
    "    def mergeSort(self, arr):\n",
    "        if len(arr) < 2 and arr == None:\n",
    "            return\n",
    "        L = 0\n",
    "        R = len(arr) - 1\n",
    "        self.sort(arr, L, R)\n",
    "\n",
    "        for i in range(len(arr)-1):\n",
    "            # print(arr[i])\n",
    "            arr[i] = self.aid[i]\n",
    "        # print(self.aid)\n",
    "        # print(arr)\n",
    "        return arr\n",
    "\n",
    "    \n",
    "    def sort(self, arr, L, R):\n",
    "        if L == R:\n",
    "            return\n",
    "        \n",
    "\n",
    "        mid = (L + R) // 2\n",
    "        self.sort(arr, L, mid)\n",
    "        self.sort(arr, mid + 1, R)\n",
    "        self.merge(arr, L, mid, R)\n",
    "        # print(arr)\n",
    "        \n",
    "    def merge(self, arr, L, M, R):\n",
    "        i = 0\n",
    "        index_i = L\n",
    "        index_j = M+1\n",
    "\n",
    "        #  为什么这里的 aid 每次都能初始化\n",
    "        self.aid = [0]*(R-L+1)\n",
    "\n",
    "        while index_i <= M and index_j <= R:\n",
    "            # print(\"arr[index_j]\", arr[index_j])\n",
    "            # print(\"arr[index_j]\", self.aid)\n",
    "            if arr[index_i] < arr[index_j]:\n",
    "\n",
    "                # 这里好像不能这样写, 这样初始化好像是空的\n",
    "                self.aid[i] = arr[index_i]\n",
    "                index_i += 1\n",
    "                i += 1\n",
    "            else:\n",
    "                self.aid[i] = arr[index_j]\n",
    "                index_j += 1\n",
    "                i += 1\n",
    "\n",
    "        while index_i <= M:\n",
    "            self.aid[i] = arr[index_i]\n",
    "            i += 1\n",
    "            index_i += 1\n",
    "\n",
    "        while index_j <= R:\n",
    "            self.aid[i] = arr[index_j]\n",
    "            i += 1\n",
    "            index_j += 1\n",
    "\n",
    "        # print(\"arr\", arr)\n",
    "        # print(\"aid\", self.aid)\n",
    "        # print(L, R)\n",
    "\n",
    "        # 第一轮的返回值\n",
    "        # arr [1, 3, 5, 2, 4, 6]\n",
    "        # aid [1, 3]\n",
    "        # 这样不对\n",
    "        # for i in range(0, R-L):\n",
    "        #     arr[i] = self.aid[i]\n",
    "        # return self.aid\n",
    "\n",
    "\n",
    "    # def merge(self, li, low, mid, high):\n",
    "    #     \"\"\"\n",
    "    #     low:第一个有序的第一个数\n",
    "    #     mid：第一个有序的最后一个数\n",
    "    #     high：最后一个数\n",
    "    #     \"\"\"\n",
    "    #     i = low\n",
    "    #     j = mid + 1\n",
    "    #     # 这个可以反复的设为 空\n",
    "    #     ltmp = []\n",
    "    #     while i <= mid and j <= high: # 只要左右两边都有数\n",
    "    #         if li[i] < li[j]:\n",
    "    #             ltmp.append(li[i])\n",
    "    #             i += 1\n",
    "    #         else:\n",
    "    #             ltmp.append(li[j])\n",
    "    #             j += 1\n",
    "            \n",
    "    #     # while 执行完，肯定有一部分没数\n",
    "    #     while i <= mid:\n",
    "    #         ltmp.append(li[i])\n",
    "    #         i += 1\n",
    "    #     while j <= high:\n",
    "    #         ltmp.append(li[j])\n",
    "    #         j += 1\n",
    "\n",
    "    #     li[low : high+1] = ltmp\n",
    "        "
   ]
  },
  {
   "cell_type": "code",
   "execution_count": 2,
   "metadata": {},
   "outputs": [
    {
     "name": "stdout",
     "output_type": "stream",
     "text": [
      "6\n"
     ]
    }
   ],
   "source": [
    "arr = [1,3,5,2,4,6]\n",
    "print(len(arr))"
   ]
  },
  {
   "cell_type": "code",
   "execution_count": 3,
   "metadata": {},
   "outputs": [
    {
     "name": "stdout",
     "output_type": "stream",
     "text": [
      "[1, 2, 3, 4, 5, 6]\n",
      "[1, 2, 3, 4, 5, 6]\n"
     ]
    },
    {
     "data": {
      "text/plain": [
       "[1, 2, 3, 4, 5, 6]"
      ]
     },
     "execution_count": 3,
     "metadata": {},
     "output_type": "execute_result"
    }
   ],
   "source": [
    "s = Solution()\n",
    "sorted  = s.mergeSort(arr)\n",
    "sorted"
   ]
  }
 ],
 "metadata": {
  "interpreter": {
   "hash": "9ecbc95d31df1b277e5ec566a835865c3a9a253da4266404bdbc6ee7e31406f4"
  },
  "kernelspec": {
   "display_name": "Python 3.8.6 ('tensorflow2')",
   "language": "python",
   "name": "python3"
  },
  "language_info": {
   "codemirror_mode": {
    "name": "ipython",
    "version": 3
   },
   "file_extension": ".py",
   "mimetype": "text/x-python",
   "name": "python",
   "nbconvert_exporter": "python",
   "pygments_lexer": "ipython3",
   "version": "3.8.6"
  },
  "orig_nbformat": 4
 },
 "nbformat": 4,
 "nbformat_minor": 2
}
